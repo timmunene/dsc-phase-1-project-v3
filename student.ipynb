{
 "cells": [
  {
   "cell_type": "markdown",
   "id": "60407e9c",
   "metadata": {},
   "source": [
    "## Final Project Submission\n",
    "\n",
    "Please fill out:\n",
    "* Student name: Timothy M. Ikiao\n",
    "* Student pace: part time \n",
    "* Scheduled project review date/time: \n",
    "* Instructor name: Brian Chacha\n",
    "* Blog post URL:\n",
    "\n",
    "# Your code here - remember to use markdown cells for comments as well!\n"
   ]
  },
  {
   "cell_type": "code",
   "execution_count": null,
   "id": "b3f4266e",
   "metadata": {},
   "outputs": [],
   "source": []
  },
  {
   "cell_type": "markdown",
   "id": "cd821e6a",
   "metadata": {},
   "source": [
    "# Aircraft Safety \n",
    "We shall use the provided National Transportation Safety Board (1962 - 2023) civil aviation data to achieve our objectives.\n",
    "\n",
    "## Objective\n",
    "- Determine the lowest risk aircraft for a new business endeavor in commercial and private enterprises\n",
    "- Incorporate information on purchasing and operating aircraft for commercial and private enterprises where available\n",
    "- Draft actionable insights for new head of aviation division to decide which aircraft to purchase"
   ]
  },
  {
   "cell_type": "code",
   "execution_count": 1265,
   "id": "afe1ca0d",
   "metadata": {},
   "outputs": [
    {
     "name": "stderr",
     "output_type": "stream",
     "text": [
      "c:\\Users\\adamin\\anaconda3\\envs\\learn-env\\lib\\site-packages\\IPython\\core\\interactiveshell.py:3145: DtypeWarning: Columns (6,7,28) have mixed types.Specify dtype option on import or set low_memory=False.\n",
      "  has_raised = await self.run_ast_nodes(code_ast.body, cell_name,\n"
     ]
    },
    {
     "data": {
      "text/html": [
       "<div>\n",
       "<style scoped>\n",
       "    .dataframe tbody tr th:only-of-type {\n",
       "        vertical-align: middle;\n",
       "    }\n",
       "\n",
       "    .dataframe tbody tr th {\n",
       "        vertical-align: top;\n",
       "    }\n",
       "\n",
       "    .dataframe thead th {\n",
       "        text-align: right;\n",
       "    }\n",
       "</style>\n",
       "<table border=\"1\" class=\"dataframe\">\n",
       "  <thead>\n",
       "    <tr style=\"text-align: right;\">\n",
       "      <th></th>\n",
       "      <th>Event.Id</th>\n",
       "      <th>Investigation.Type</th>\n",
       "      <th>Accident.Number</th>\n",
       "      <th>Event.Date</th>\n",
       "      <th>Location</th>\n",
       "      <th>Country</th>\n",
       "      <th>Latitude</th>\n",
       "      <th>Longitude</th>\n",
       "      <th>Airport.Code</th>\n",
       "      <th>Airport.Name</th>\n",
       "      <th>...</th>\n",
       "      <th>Purpose.of.flight</th>\n",
       "      <th>Air.carrier</th>\n",
       "      <th>Total.Fatal.Injuries</th>\n",
       "      <th>Total.Serious.Injuries</th>\n",
       "      <th>Total.Minor.Injuries</th>\n",
       "      <th>Total.Uninjured</th>\n",
       "      <th>Weather.Condition</th>\n",
       "      <th>Broad.phase.of.flight</th>\n",
       "      <th>Report.Status</th>\n",
       "      <th>Publication.Date</th>\n",
       "    </tr>\n",
       "  </thead>\n",
       "  <tbody>\n",
       "    <tr>\n",
       "      <th>0</th>\n",
       "      <td>20001218X45444</td>\n",
       "      <td>Accident</td>\n",
       "      <td>SEA87LA080</td>\n",
       "      <td>1948-10-24</td>\n",
       "      <td>MOOSE CREEK, ID</td>\n",
       "      <td>United States</td>\n",
       "      <td>NaN</td>\n",
       "      <td>NaN</td>\n",
       "      <td>NaN</td>\n",
       "      <td>NaN</td>\n",
       "      <td>...</td>\n",
       "      <td>Personal</td>\n",
       "      <td>NaN</td>\n",
       "      <td>2.0</td>\n",
       "      <td>0.0</td>\n",
       "      <td>0.0</td>\n",
       "      <td>0.0</td>\n",
       "      <td>UNK</td>\n",
       "      <td>Cruise</td>\n",
       "      <td>Probable Cause</td>\n",
       "      <td>NaN</td>\n",
       "    </tr>\n",
       "    <tr>\n",
       "      <th>1</th>\n",
       "      <td>20001218X45447</td>\n",
       "      <td>Accident</td>\n",
       "      <td>LAX94LA336</td>\n",
       "      <td>1962-07-19</td>\n",
       "      <td>BRIDGEPORT, CA</td>\n",
       "      <td>United States</td>\n",
       "      <td>NaN</td>\n",
       "      <td>NaN</td>\n",
       "      <td>NaN</td>\n",
       "      <td>NaN</td>\n",
       "      <td>...</td>\n",
       "      <td>Personal</td>\n",
       "      <td>NaN</td>\n",
       "      <td>4.0</td>\n",
       "      <td>0.0</td>\n",
       "      <td>0.0</td>\n",
       "      <td>0.0</td>\n",
       "      <td>UNK</td>\n",
       "      <td>Unknown</td>\n",
       "      <td>Probable Cause</td>\n",
       "      <td>19-09-1996</td>\n",
       "    </tr>\n",
       "    <tr>\n",
       "      <th>2</th>\n",
       "      <td>20061025X01555</td>\n",
       "      <td>Accident</td>\n",
       "      <td>NYC07LA005</td>\n",
       "      <td>1974-08-30</td>\n",
       "      <td>Saltville, VA</td>\n",
       "      <td>United States</td>\n",
       "      <td>36.9222</td>\n",
       "      <td>-81.8781</td>\n",
       "      <td>NaN</td>\n",
       "      <td>NaN</td>\n",
       "      <td>...</td>\n",
       "      <td>Personal</td>\n",
       "      <td>NaN</td>\n",
       "      <td>3.0</td>\n",
       "      <td>NaN</td>\n",
       "      <td>NaN</td>\n",
       "      <td>NaN</td>\n",
       "      <td>IMC</td>\n",
       "      <td>Cruise</td>\n",
       "      <td>Probable Cause</td>\n",
       "      <td>26-02-2007</td>\n",
       "    </tr>\n",
       "    <tr>\n",
       "      <th>3</th>\n",
       "      <td>20001218X45448</td>\n",
       "      <td>Accident</td>\n",
       "      <td>LAX96LA321</td>\n",
       "      <td>1977-06-19</td>\n",
       "      <td>EUREKA, CA</td>\n",
       "      <td>United States</td>\n",
       "      <td>NaN</td>\n",
       "      <td>NaN</td>\n",
       "      <td>NaN</td>\n",
       "      <td>NaN</td>\n",
       "      <td>...</td>\n",
       "      <td>Personal</td>\n",
       "      <td>NaN</td>\n",
       "      <td>2.0</td>\n",
       "      <td>0.0</td>\n",
       "      <td>0.0</td>\n",
       "      <td>0.0</td>\n",
       "      <td>IMC</td>\n",
       "      <td>Cruise</td>\n",
       "      <td>Probable Cause</td>\n",
       "      <td>12-09-2000</td>\n",
       "    </tr>\n",
       "    <tr>\n",
       "      <th>4</th>\n",
       "      <td>20041105X01764</td>\n",
       "      <td>Accident</td>\n",
       "      <td>CHI79FA064</td>\n",
       "      <td>1979-08-02</td>\n",
       "      <td>Canton, OH</td>\n",
       "      <td>United States</td>\n",
       "      <td>NaN</td>\n",
       "      <td>NaN</td>\n",
       "      <td>NaN</td>\n",
       "      <td>NaN</td>\n",
       "      <td>...</td>\n",
       "      <td>Personal</td>\n",
       "      <td>NaN</td>\n",
       "      <td>1.0</td>\n",
       "      <td>2.0</td>\n",
       "      <td>NaN</td>\n",
       "      <td>0.0</td>\n",
       "      <td>VMC</td>\n",
       "      <td>Approach</td>\n",
       "      <td>Probable Cause</td>\n",
       "      <td>16-04-1980</td>\n",
       "    </tr>\n",
       "  </tbody>\n",
       "</table>\n",
       "<p>5 rows × 31 columns</p>\n",
       "</div>"
      ],
      "text/plain": [
       "         Event.Id Investigation.Type Accident.Number  Event.Date  \\\n",
       "0  20001218X45444           Accident      SEA87LA080  1948-10-24   \n",
       "1  20001218X45447           Accident      LAX94LA336  1962-07-19   \n",
       "2  20061025X01555           Accident      NYC07LA005  1974-08-30   \n",
       "3  20001218X45448           Accident      LAX96LA321  1977-06-19   \n",
       "4  20041105X01764           Accident      CHI79FA064  1979-08-02   \n",
       "\n",
       "          Location        Country Latitude Longitude Airport.Code  \\\n",
       "0  MOOSE CREEK, ID  United States      NaN       NaN          NaN   \n",
       "1   BRIDGEPORT, CA  United States      NaN       NaN          NaN   \n",
       "2    Saltville, VA  United States  36.9222  -81.8781          NaN   \n",
       "3       EUREKA, CA  United States      NaN       NaN          NaN   \n",
       "4       Canton, OH  United States      NaN       NaN          NaN   \n",
       "\n",
       "  Airport.Name  ... Purpose.of.flight Air.carrier Total.Fatal.Injuries  \\\n",
       "0          NaN  ...          Personal         NaN                  2.0   \n",
       "1          NaN  ...          Personal         NaN                  4.0   \n",
       "2          NaN  ...          Personal         NaN                  3.0   \n",
       "3          NaN  ...          Personal         NaN                  2.0   \n",
       "4          NaN  ...          Personal         NaN                  1.0   \n",
       "\n",
       "  Total.Serious.Injuries Total.Minor.Injuries Total.Uninjured  \\\n",
       "0                    0.0                  0.0             0.0   \n",
       "1                    0.0                  0.0             0.0   \n",
       "2                    NaN                  NaN             NaN   \n",
       "3                    0.0                  0.0             0.0   \n",
       "4                    2.0                  NaN             0.0   \n",
       "\n",
       "  Weather.Condition  Broad.phase.of.flight   Report.Status Publication.Date  \n",
       "0               UNK                 Cruise  Probable Cause              NaN  \n",
       "1               UNK                Unknown  Probable Cause       19-09-1996  \n",
       "2               IMC                 Cruise  Probable Cause       26-02-2007  \n",
       "3               IMC                 Cruise  Probable Cause       12-09-2000  \n",
       "4               VMC               Approach  Probable Cause       16-04-1980  \n",
       "\n",
       "[5 rows x 31 columns]"
      ]
     },
     "execution_count": 1265,
     "metadata": {},
     "output_type": "execute_result"
    }
   ],
   "source": [
    "#import pandas\n",
    "import pandas as pd\n",
    "\n",
    "#import the data set\n",
    "av_data = pd.read_csv(r'C:\\Users\\adamin\\Documents\\Moringa\\phase_one\\Phase_one_project\\dsc-phase-1-project-v3\\data\\Aviation_Data.csv')\n",
    "\n",
    "#View the first five rows to begin understanding the dataset\n",
    "av_data.head()"
   ]
  },
  {
   "cell_type": "code",
   "execution_count": 1266,
   "id": "8fa7ac18",
   "metadata": {},
   "outputs": [
    {
     "data": {
      "text/html": [
       "<div>\n",
       "<style scoped>\n",
       "    .dataframe tbody tr th:only-of-type {\n",
       "        vertical-align: middle;\n",
       "    }\n",
       "\n",
       "    .dataframe tbody tr th {\n",
       "        vertical-align: top;\n",
       "    }\n",
       "\n",
       "    .dataframe thead th {\n",
       "        text-align: right;\n",
       "    }\n",
       "</style>\n",
       "<table border=\"1\" class=\"dataframe\">\n",
       "  <thead>\n",
       "    <tr style=\"text-align: right;\">\n",
       "      <th></th>\n",
       "      <th>Event.Id</th>\n",
       "      <th>Investigation.Type</th>\n",
       "      <th>Accident.Number</th>\n",
       "      <th>Event.Date</th>\n",
       "      <th>Location</th>\n",
       "      <th>Country</th>\n",
       "      <th>Latitude</th>\n",
       "      <th>Longitude</th>\n",
       "      <th>Airport.Code</th>\n",
       "      <th>Airport.Name</th>\n",
       "      <th>...</th>\n",
       "      <th>Purpose.of.flight</th>\n",
       "      <th>Air.carrier</th>\n",
       "      <th>Total.Fatal.Injuries</th>\n",
       "      <th>Total.Serious.Injuries</th>\n",
       "      <th>Total.Minor.Injuries</th>\n",
       "      <th>Total.Uninjured</th>\n",
       "      <th>Weather.Condition</th>\n",
       "      <th>Broad.phase.of.flight</th>\n",
       "      <th>Report.Status</th>\n",
       "      <th>Publication.Date</th>\n",
       "    </tr>\n",
       "  </thead>\n",
       "  <tbody>\n",
       "    <tr>\n",
       "      <th>90343</th>\n",
       "      <td>20221227106491</td>\n",
       "      <td>Accident</td>\n",
       "      <td>ERA23LA093</td>\n",
       "      <td>2022-12-26</td>\n",
       "      <td>Annapolis, MD</td>\n",
       "      <td>United States</td>\n",
       "      <td>NaN</td>\n",
       "      <td>NaN</td>\n",
       "      <td>NaN</td>\n",
       "      <td>NaN</td>\n",
       "      <td>...</td>\n",
       "      <td>Personal</td>\n",
       "      <td>NaN</td>\n",
       "      <td>0.0</td>\n",
       "      <td>1.0</td>\n",
       "      <td>0.0</td>\n",
       "      <td>0.0</td>\n",
       "      <td>NaN</td>\n",
       "      <td>NaN</td>\n",
       "      <td>NaN</td>\n",
       "      <td>29-12-2022</td>\n",
       "    </tr>\n",
       "    <tr>\n",
       "      <th>90344</th>\n",
       "      <td>20221227106494</td>\n",
       "      <td>Accident</td>\n",
       "      <td>ERA23LA095</td>\n",
       "      <td>2022-12-26</td>\n",
       "      <td>Hampton, NH</td>\n",
       "      <td>United States</td>\n",
       "      <td>NaN</td>\n",
       "      <td>NaN</td>\n",
       "      <td>NaN</td>\n",
       "      <td>NaN</td>\n",
       "      <td>...</td>\n",
       "      <td>NaN</td>\n",
       "      <td>NaN</td>\n",
       "      <td>0.0</td>\n",
       "      <td>0.0</td>\n",
       "      <td>0.0</td>\n",
       "      <td>0.0</td>\n",
       "      <td>NaN</td>\n",
       "      <td>NaN</td>\n",
       "      <td>NaN</td>\n",
       "      <td>NaN</td>\n",
       "    </tr>\n",
       "    <tr>\n",
       "      <th>90345</th>\n",
       "      <td>20221227106497</td>\n",
       "      <td>Accident</td>\n",
       "      <td>WPR23LA075</td>\n",
       "      <td>2022-12-26</td>\n",
       "      <td>Payson, AZ</td>\n",
       "      <td>United States</td>\n",
       "      <td>341525N</td>\n",
       "      <td>1112021W</td>\n",
       "      <td>PAN</td>\n",
       "      <td>PAYSON</td>\n",
       "      <td>...</td>\n",
       "      <td>Personal</td>\n",
       "      <td>NaN</td>\n",
       "      <td>0.0</td>\n",
       "      <td>0.0</td>\n",
       "      <td>0.0</td>\n",
       "      <td>1.0</td>\n",
       "      <td>VMC</td>\n",
       "      <td>NaN</td>\n",
       "      <td>NaN</td>\n",
       "      <td>27-12-2022</td>\n",
       "    </tr>\n",
       "    <tr>\n",
       "      <th>90346</th>\n",
       "      <td>20221227106498</td>\n",
       "      <td>Accident</td>\n",
       "      <td>WPR23LA076</td>\n",
       "      <td>2022-12-26</td>\n",
       "      <td>Morgan, UT</td>\n",
       "      <td>United States</td>\n",
       "      <td>NaN</td>\n",
       "      <td>NaN</td>\n",
       "      <td>NaN</td>\n",
       "      <td>NaN</td>\n",
       "      <td>...</td>\n",
       "      <td>Personal</td>\n",
       "      <td>MC CESSNA 210N LLC</td>\n",
       "      <td>0.0</td>\n",
       "      <td>0.0</td>\n",
       "      <td>0.0</td>\n",
       "      <td>0.0</td>\n",
       "      <td>NaN</td>\n",
       "      <td>NaN</td>\n",
       "      <td>NaN</td>\n",
       "      <td>NaN</td>\n",
       "    </tr>\n",
       "    <tr>\n",
       "      <th>90347</th>\n",
       "      <td>20221230106513</td>\n",
       "      <td>Accident</td>\n",
       "      <td>ERA23LA097</td>\n",
       "      <td>2022-12-29</td>\n",
       "      <td>Athens, GA</td>\n",
       "      <td>United States</td>\n",
       "      <td>NaN</td>\n",
       "      <td>NaN</td>\n",
       "      <td>NaN</td>\n",
       "      <td>NaN</td>\n",
       "      <td>...</td>\n",
       "      <td>Personal</td>\n",
       "      <td>NaN</td>\n",
       "      <td>0.0</td>\n",
       "      <td>1.0</td>\n",
       "      <td>0.0</td>\n",
       "      <td>1.0</td>\n",
       "      <td>NaN</td>\n",
       "      <td>NaN</td>\n",
       "      <td>NaN</td>\n",
       "      <td>30-12-2022</td>\n",
       "    </tr>\n",
       "  </tbody>\n",
       "</table>\n",
       "<p>5 rows × 31 columns</p>\n",
       "</div>"
      ],
      "text/plain": [
       "             Event.Id Investigation.Type Accident.Number  Event.Date  \\\n",
       "90343  20221227106491           Accident      ERA23LA093  2022-12-26   \n",
       "90344  20221227106494           Accident      ERA23LA095  2022-12-26   \n",
       "90345  20221227106497           Accident      WPR23LA075  2022-12-26   \n",
       "90346  20221227106498           Accident      WPR23LA076  2022-12-26   \n",
       "90347  20221230106513           Accident      ERA23LA097  2022-12-29   \n",
       "\n",
       "            Location        Country Latitude Longitude Airport.Code  \\\n",
       "90343  Annapolis, MD  United States      NaN       NaN          NaN   \n",
       "90344    Hampton, NH  United States      NaN       NaN          NaN   \n",
       "90345     Payson, AZ  United States  341525N  1112021W          PAN   \n",
       "90346     Morgan, UT  United States      NaN       NaN          NaN   \n",
       "90347     Athens, GA  United States      NaN       NaN          NaN   \n",
       "\n",
       "      Airport.Name  ... Purpose.of.flight         Air.carrier  \\\n",
       "90343          NaN  ...          Personal                 NaN   \n",
       "90344          NaN  ...               NaN                 NaN   \n",
       "90345       PAYSON  ...          Personal                 NaN   \n",
       "90346          NaN  ...          Personal  MC CESSNA 210N LLC   \n",
       "90347          NaN  ...          Personal                 NaN   \n",
       "\n",
       "      Total.Fatal.Injuries Total.Serious.Injuries Total.Minor.Injuries  \\\n",
       "90343                  0.0                    1.0                  0.0   \n",
       "90344                  0.0                    0.0                  0.0   \n",
       "90345                  0.0                    0.0                  0.0   \n",
       "90346                  0.0                    0.0                  0.0   \n",
       "90347                  0.0                    1.0                  0.0   \n",
       "\n",
       "      Total.Uninjured Weather.Condition  Broad.phase.of.flight Report.Status  \\\n",
       "90343             0.0               NaN                    NaN           NaN   \n",
       "90344             0.0               NaN                    NaN           NaN   \n",
       "90345             1.0               VMC                    NaN           NaN   \n",
       "90346             0.0               NaN                    NaN           NaN   \n",
       "90347             1.0               NaN                    NaN           NaN   \n",
       "\n",
       "      Publication.Date  \n",
       "90343       29-12-2022  \n",
       "90344              NaN  \n",
       "90345       27-12-2022  \n",
       "90346              NaN  \n",
       "90347       30-12-2022  \n",
       "\n",
       "[5 rows x 31 columns]"
      ]
     },
     "execution_count": 1266,
     "metadata": {},
     "output_type": "execute_result"
    }
   ],
   "source": [
    "#View the last five rows to understand teh dataset\n",
    "av_data.tail()"
   ]
  },
  {
   "cell_type": "code",
   "execution_count": 1267,
   "id": "a94fcf2c",
   "metadata": {},
   "outputs": [
    {
     "name": "stdout",
     "output_type": "stream",
     "text": [
      "<class 'pandas.core.frame.DataFrame'>\n",
      "RangeIndex: 90348 entries, 0 to 90347\n",
      "Data columns (total 31 columns):\n",
      " #   Column                  Non-Null Count  Dtype  \n",
      "---  ------                  --------------  -----  \n",
      " 0   Event.Id                88889 non-null  object \n",
      " 1   Investigation.Type      90348 non-null  object \n",
      " 2   Accident.Number         88889 non-null  object \n",
      " 3   Event.Date              88889 non-null  object \n",
      " 4   Location                88837 non-null  object \n",
      " 5   Country                 88663 non-null  object \n",
      " 6   Latitude                34382 non-null  object \n",
      " 7   Longitude               34373 non-null  object \n",
      " 8   Airport.Code            50249 non-null  object \n",
      " 9   Airport.Name            52790 non-null  object \n",
      " 10  Injury.Severity         87889 non-null  object \n",
      " 11  Aircraft.damage         85695 non-null  object \n",
      " 12  Aircraft.Category       32287 non-null  object \n",
      " 13  Registration.Number     87572 non-null  object \n",
      " 14  Make                    88826 non-null  object \n",
      " 15  Model                   88797 non-null  object \n",
      " 16  Amateur.Built           88787 non-null  object \n",
      " 17  Number.of.Engines       82805 non-null  float64\n",
      " 18  Engine.Type             81812 non-null  object \n",
      " 19  FAR.Description         32023 non-null  object \n",
      " 20  Schedule                12582 non-null  object \n",
      " 21  Purpose.of.flight       82697 non-null  object \n",
      " 22  Air.carrier             16648 non-null  object \n",
      " 23  Total.Fatal.Injuries    77488 non-null  float64\n",
      " 24  Total.Serious.Injuries  76379 non-null  float64\n",
      " 25  Total.Minor.Injuries    76956 non-null  float64\n",
      " 26  Total.Uninjured         82977 non-null  float64\n",
      " 27  Weather.Condition       84397 non-null  object \n",
      " 28  Broad.phase.of.flight   61724 non-null  object \n",
      " 29  Report.Status           82508 non-null  object \n",
      " 30  Publication.Date        73659 non-null  object \n",
      "dtypes: float64(5), object(26)\n",
      "memory usage: 21.4+ MB\n"
     ]
    }
   ],
   "source": [
    "# Explore the dataset\n",
    "av_data.info()"
   ]
  },
  {
   "cell_type": "code",
   "execution_count": 1268,
   "id": "0ba0b5ef",
   "metadata": {},
   "outputs": [
    {
     "data": {
      "text/plain": [
       "\"\\nThe data is loaded into a pandas data frame under the variable 'av_data'\\nData set has 31 columns with 90348 entries (rows)\\nNumerous columns have missing data with the exception of column 1 (Investigation type) where all the rows in the column have data.\\n\\n\""
      ]
     },
     "execution_count": 1268,
     "metadata": {},
     "output_type": "execute_result"
    }
   ],
   "source": [
    "\"\"\"\n",
    "The data is loaded into a pandas data frame under the variable 'av_data'\n",
    "Data set has 31 columns with 90348 entries (rows)\n",
    "Numerous columns have missing data with the exception of column 1 (Investigation type) where all the rows in the column have data.\n",
    "\n",
    "\"\"\""
   ]
  },
  {
   "cell_type": "code",
   "execution_count": 1269,
   "id": "4a8e874d",
   "metadata": {},
   "outputs": [],
   "source": [
    "#av_data.describe() #for added description of numeric columns"
   ]
  },
  {
   "cell_type": "code",
   "execution_count": 1270,
   "id": "620ebbb3",
   "metadata": {},
   "outputs": [
    {
     "data": {
      "text/plain": [
       "Index(['Event.Id', 'Investigation.Type', 'Accident.Number', 'Event.Date',\n",
       "       'Location', 'Country', 'Latitude', 'Longitude', 'Airport.Code',\n",
       "       'Airport.Name', 'Injury.Severity', 'Aircraft.damage',\n",
       "       'Aircraft.Category', 'Registration.Number', 'Make', 'Model',\n",
       "       'Amateur.Built', 'Number.of.Engines', 'Engine.Type', 'FAR.Description',\n",
       "       'Schedule', 'Purpose.of.flight', 'Air.carrier', 'Total.Fatal.Injuries',\n",
       "       'Total.Serious.Injuries', 'Total.Minor.Injuries', 'Total.Uninjured',\n",
       "       'Weather.Condition', 'Broad.phase.of.flight', 'Report.Status',\n",
       "       'Publication.Date'],\n",
       "      dtype='object')"
      ]
     },
     "execution_count": 1270,
     "metadata": {},
     "output_type": "execute_result"
    }
   ],
   "source": [
    "av_data.columns  #Check the description of the columns"
   ]
  },
  {
   "cell_type": "markdown",
   "id": "a4ac251f",
   "metadata": {},
   "source": [
    "## 1. Data Cleaning\n",
    "    a. Check for and remove duplicate rows\n",
    "\n",
    "As mentioned above, numerous rows have missing data.\n",
    "We begin by cleaning this data to remove duplicates and resolve any missing data.\n"
   ]
  },
  {
   "cell_type": "code",
   "execution_count": 1271,
   "id": "1e0fc5fc",
   "metadata": {},
   "outputs": [
    {
     "name": "stdout",
     "output_type": "stream",
     "text": [
      "There are 1390 duplicated rows.\n"
     ]
    }
   ],
   "source": [
    "#Find the summation of duplicated rows\n",
    "print(f\"There are {av_data.duplicated().sum()} duplicated rows.\")"
   ]
  },
  {
   "cell_type": "code",
   "execution_count": 1272,
   "id": "6b59c61f",
   "metadata": {},
   "outputs": [
    {
     "data": {
      "text/html": [
       "<div>\n",
       "<style scoped>\n",
       "    .dataframe tbody tr th:only-of-type {\n",
       "        vertical-align: middle;\n",
       "    }\n",
       "\n",
       "    .dataframe tbody tr th {\n",
       "        vertical-align: top;\n",
       "    }\n",
       "\n",
       "    .dataframe thead th {\n",
       "        text-align: right;\n",
       "    }\n",
       "</style>\n",
       "<table border=\"1\" class=\"dataframe\">\n",
       "  <thead>\n",
       "    <tr style=\"text-align: right;\">\n",
       "      <th></th>\n",
       "      <th>Event.Id</th>\n",
       "      <th>Investigation.Type</th>\n",
       "      <th>Accident.Number</th>\n",
       "      <th>Event.Date</th>\n",
       "      <th>Location</th>\n",
       "      <th>Country</th>\n",
       "      <th>Latitude</th>\n",
       "      <th>Longitude</th>\n",
       "      <th>Airport.Code</th>\n",
       "      <th>Airport.Name</th>\n",
       "      <th>...</th>\n",
       "      <th>Purpose.of.flight</th>\n",
       "      <th>Air.carrier</th>\n",
       "      <th>Total.Fatal.Injuries</th>\n",
       "      <th>Total.Serious.Injuries</th>\n",
       "      <th>Total.Minor.Injuries</th>\n",
       "      <th>Total.Uninjured</th>\n",
       "      <th>Weather.Condition</th>\n",
       "      <th>Broad.phase.of.flight</th>\n",
       "      <th>Report.Status</th>\n",
       "      <th>Publication.Date</th>\n",
       "    </tr>\n",
       "  </thead>\n",
       "  <tbody>\n",
       "    <tr>\n",
       "      <th>64050</th>\n",
       "      <td>NaN</td>\n",
       "      <td>25-09-2020</td>\n",
       "      <td>NaN</td>\n",
       "      <td>NaN</td>\n",
       "      <td>NaN</td>\n",
       "      <td>NaN</td>\n",
       "      <td>NaN</td>\n",
       "      <td>NaN</td>\n",
       "      <td>NaN</td>\n",
       "      <td>NaN</td>\n",
       "      <td>...</td>\n",
       "      <td>NaN</td>\n",
       "      <td>NaN</td>\n",
       "      <td>NaN</td>\n",
       "      <td>NaN</td>\n",
       "      <td>NaN</td>\n",
       "      <td>NaN</td>\n",
       "      <td>NaN</td>\n",
       "      <td>NaN</td>\n",
       "      <td>NaN</td>\n",
       "      <td>NaN</td>\n",
       "    </tr>\n",
       "    <tr>\n",
       "      <th>64052</th>\n",
       "      <td>NaN</td>\n",
       "      <td>25-09-2020</td>\n",
       "      <td>NaN</td>\n",
       "      <td>NaN</td>\n",
       "      <td>NaN</td>\n",
       "      <td>NaN</td>\n",
       "      <td>NaN</td>\n",
       "      <td>NaN</td>\n",
       "      <td>NaN</td>\n",
       "      <td>NaN</td>\n",
       "      <td>...</td>\n",
       "      <td>NaN</td>\n",
       "      <td>NaN</td>\n",
       "      <td>NaN</td>\n",
       "      <td>NaN</td>\n",
       "      <td>NaN</td>\n",
       "      <td>NaN</td>\n",
       "      <td>NaN</td>\n",
       "      <td>NaN</td>\n",
       "      <td>NaN</td>\n",
       "      <td>NaN</td>\n",
       "    </tr>\n",
       "    <tr>\n",
       "      <th>64388</th>\n",
       "      <td>NaN</td>\n",
       "      <td>25-09-2020</td>\n",
       "      <td>NaN</td>\n",
       "      <td>NaN</td>\n",
       "      <td>NaN</td>\n",
       "      <td>NaN</td>\n",
       "      <td>NaN</td>\n",
       "      <td>NaN</td>\n",
       "      <td>NaN</td>\n",
       "      <td>NaN</td>\n",
       "      <td>...</td>\n",
       "      <td>NaN</td>\n",
       "      <td>NaN</td>\n",
       "      <td>NaN</td>\n",
       "      <td>NaN</td>\n",
       "      <td>NaN</td>\n",
       "      <td>NaN</td>\n",
       "      <td>NaN</td>\n",
       "      <td>NaN</td>\n",
       "      <td>NaN</td>\n",
       "      <td>NaN</td>\n",
       "    </tr>\n",
       "    <tr>\n",
       "      <th>64541</th>\n",
       "      <td>NaN</td>\n",
       "      <td>25-09-2020</td>\n",
       "      <td>NaN</td>\n",
       "      <td>NaN</td>\n",
       "      <td>NaN</td>\n",
       "      <td>NaN</td>\n",
       "      <td>NaN</td>\n",
       "      <td>NaN</td>\n",
       "      <td>NaN</td>\n",
       "      <td>NaN</td>\n",
       "      <td>...</td>\n",
       "      <td>NaN</td>\n",
       "      <td>NaN</td>\n",
       "      <td>NaN</td>\n",
       "      <td>NaN</td>\n",
       "      <td>NaN</td>\n",
       "      <td>NaN</td>\n",
       "      <td>NaN</td>\n",
       "      <td>NaN</td>\n",
       "      <td>NaN</td>\n",
       "      <td>NaN</td>\n",
       "    </tr>\n",
       "    <tr>\n",
       "      <th>64552</th>\n",
       "      <td>NaN</td>\n",
       "      <td>25-09-2020</td>\n",
       "      <td>NaN</td>\n",
       "      <td>NaN</td>\n",
       "      <td>NaN</td>\n",
       "      <td>NaN</td>\n",
       "      <td>NaN</td>\n",
       "      <td>NaN</td>\n",
       "      <td>NaN</td>\n",
       "      <td>NaN</td>\n",
       "      <td>...</td>\n",
       "      <td>NaN</td>\n",
       "      <td>NaN</td>\n",
       "      <td>NaN</td>\n",
       "      <td>NaN</td>\n",
       "      <td>NaN</td>\n",
       "      <td>NaN</td>\n",
       "      <td>NaN</td>\n",
       "      <td>NaN</td>\n",
       "      <td>NaN</td>\n",
       "      <td>NaN</td>\n",
       "    </tr>\n",
       "    <tr>\n",
       "      <th>...</th>\n",
       "      <td>...</td>\n",
       "      <td>...</td>\n",
       "      <td>...</td>\n",
       "      <td>...</td>\n",
       "      <td>...</td>\n",
       "      <td>...</td>\n",
       "      <td>...</td>\n",
       "      <td>...</td>\n",
       "      <td>...</td>\n",
       "      <td>...</td>\n",
       "      <td>...</td>\n",
       "      <td>...</td>\n",
       "      <td>...</td>\n",
       "      <td>...</td>\n",
       "      <td>...</td>\n",
       "      <td>...</td>\n",
       "      <td>...</td>\n",
       "      <td>...</td>\n",
       "      <td>...</td>\n",
       "      <td>...</td>\n",
       "      <td>...</td>\n",
       "    </tr>\n",
       "    <tr>\n",
       "      <th>89956</th>\n",
       "      <td>NaN</td>\n",
       "      <td>15-12-2022</td>\n",
       "      <td>NaN</td>\n",
       "      <td>NaN</td>\n",
       "      <td>NaN</td>\n",
       "      <td>NaN</td>\n",
       "      <td>NaN</td>\n",
       "      <td>NaN</td>\n",
       "      <td>NaN</td>\n",
       "      <td>NaN</td>\n",
       "      <td>...</td>\n",
       "      <td>NaN</td>\n",
       "      <td>NaN</td>\n",
       "      <td>NaN</td>\n",
       "      <td>NaN</td>\n",
       "      <td>NaN</td>\n",
       "      <td>NaN</td>\n",
       "      <td>NaN</td>\n",
       "      <td>NaN</td>\n",
       "      <td>NaN</td>\n",
       "      <td>NaN</td>\n",
       "    </tr>\n",
       "    <tr>\n",
       "      <th>90004</th>\n",
       "      <td>NaN</td>\n",
       "      <td>15-12-2022</td>\n",
       "      <td>NaN</td>\n",
       "      <td>NaN</td>\n",
       "      <td>NaN</td>\n",
       "      <td>NaN</td>\n",
       "      <td>NaN</td>\n",
       "      <td>NaN</td>\n",
       "      <td>NaN</td>\n",
       "      <td>NaN</td>\n",
       "      <td>...</td>\n",
       "      <td>NaN</td>\n",
       "      <td>NaN</td>\n",
       "      <td>NaN</td>\n",
       "      <td>NaN</td>\n",
       "      <td>NaN</td>\n",
       "      <td>NaN</td>\n",
       "      <td>NaN</td>\n",
       "      <td>NaN</td>\n",
       "      <td>NaN</td>\n",
       "      <td>NaN</td>\n",
       "    </tr>\n",
       "    <tr>\n",
       "      <th>90010</th>\n",
       "      <td>NaN</td>\n",
       "      <td>15-12-2022</td>\n",
       "      <td>NaN</td>\n",
       "      <td>NaN</td>\n",
       "      <td>NaN</td>\n",
       "      <td>NaN</td>\n",
       "      <td>NaN</td>\n",
       "      <td>NaN</td>\n",
       "      <td>NaN</td>\n",
       "      <td>NaN</td>\n",
       "      <td>...</td>\n",
       "      <td>NaN</td>\n",
       "      <td>NaN</td>\n",
       "      <td>NaN</td>\n",
       "      <td>NaN</td>\n",
       "      <td>NaN</td>\n",
       "      <td>NaN</td>\n",
       "      <td>NaN</td>\n",
       "      <td>NaN</td>\n",
       "      <td>NaN</td>\n",
       "      <td>NaN</td>\n",
       "    </tr>\n",
       "    <tr>\n",
       "      <th>90031</th>\n",
       "      <td>NaN</td>\n",
       "      <td>15-12-2022</td>\n",
       "      <td>NaN</td>\n",
       "      <td>NaN</td>\n",
       "      <td>NaN</td>\n",
       "      <td>NaN</td>\n",
       "      <td>NaN</td>\n",
       "      <td>NaN</td>\n",
       "      <td>NaN</td>\n",
       "      <td>NaN</td>\n",
       "      <td>...</td>\n",
       "      <td>NaN</td>\n",
       "      <td>NaN</td>\n",
       "      <td>NaN</td>\n",
       "      <td>NaN</td>\n",
       "      <td>NaN</td>\n",
       "      <td>NaN</td>\n",
       "      <td>NaN</td>\n",
       "      <td>NaN</td>\n",
       "      <td>NaN</td>\n",
       "      <td>NaN</td>\n",
       "    </tr>\n",
       "    <tr>\n",
       "      <th>90097</th>\n",
       "      <td>NaN</td>\n",
       "      <td>20-12-2022</td>\n",
       "      <td>NaN</td>\n",
       "      <td>NaN</td>\n",
       "      <td>NaN</td>\n",
       "      <td>NaN</td>\n",
       "      <td>NaN</td>\n",
       "      <td>NaN</td>\n",
       "      <td>NaN</td>\n",
       "      <td>NaN</td>\n",
       "      <td>...</td>\n",
       "      <td>NaN</td>\n",
       "      <td>NaN</td>\n",
       "      <td>NaN</td>\n",
       "      <td>NaN</td>\n",
       "      <td>NaN</td>\n",
       "      <td>NaN</td>\n",
       "      <td>NaN</td>\n",
       "      <td>NaN</td>\n",
       "      <td>NaN</td>\n",
       "      <td>NaN</td>\n",
       "    </tr>\n",
       "  </tbody>\n",
       "</table>\n",
       "<p>1390 rows × 31 columns</p>\n",
       "</div>"
      ],
      "text/plain": [
       "      Event.Id Investigation.Type Accident.Number Event.Date Location Country  \\\n",
       "64050      NaN         25-09-2020             NaN        NaN      NaN     NaN   \n",
       "64052      NaN         25-09-2020             NaN        NaN      NaN     NaN   \n",
       "64388      NaN         25-09-2020             NaN        NaN      NaN     NaN   \n",
       "64541      NaN         25-09-2020             NaN        NaN      NaN     NaN   \n",
       "64552      NaN         25-09-2020             NaN        NaN      NaN     NaN   \n",
       "...        ...                ...             ...        ...      ...     ...   \n",
       "89956      NaN         15-12-2022             NaN        NaN      NaN     NaN   \n",
       "90004      NaN         15-12-2022             NaN        NaN      NaN     NaN   \n",
       "90010      NaN         15-12-2022             NaN        NaN      NaN     NaN   \n",
       "90031      NaN         15-12-2022             NaN        NaN      NaN     NaN   \n",
       "90097      NaN         20-12-2022             NaN        NaN      NaN     NaN   \n",
       "\n",
       "      Latitude Longitude Airport.Code Airport.Name  ... Purpose.of.flight  \\\n",
       "64050      NaN       NaN          NaN          NaN  ...               NaN   \n",
       "64052      NaN       NaN          NaN          NaN  ...               NaN   \n",
       "64388      NaN       NaN          NaN          NaN  ...               NaN   \n",
       "64541      NaN       NaN          NaN          NaN  ...               NaN   \n",
       "64552      NaN       NaN          NaN          NaN  ...               NaN   \n",
       "...        ...       ...          ...          ...  ...               ...   \n",
       "89956      NaN       NaN          NaN          NaN  ...               NaN   \n",
       "90004      NaN       NaN          NaN          NaN  ...               NaN   \n",
       "90010      NaN       NaN          NaN          NaN  ...               NaN   \n",
       "90031      NaN       NaN          NaN          NaN  ...               NaN   \n",
       "90097      NaN       NaN          NaN          NaN  ...               NaN   \n",
       "\n",
       "      Air.carrier Total.Fatal.Injuries Total.Serious.Injuries  \\\n",
       "64050         NaN                  NaN                    NaN   \n",
       "64052         NaN                  NaN                    NaN   \n",
       "64388         NaN                  NaN                    NaN   \n",
       "64541         NaN                  NaN                    NaN   \n",
       "64552         NaN                  NaN                    NaN   \n",
       "...           ...                  ...                    ...   \n",
       "89956         NaN                  NaN                    NaN   \n",
       "90004         NaN                  NaN                    NaN   \n",
       "90010         NaN                  NaN                    NaN   \n",
       "90031         NaN                  NaN                    NaN   \n",
       "90097         NaN                  NaN                    NaN   \n",
       "\n",
       "      Total.Minor.Injuries Total.Uninjured Weather.Condition  \\\n",
       "64050                  NaN             NaN               NaN   \n",
       "64052                  NaN             NaN               NaN   \n",
       "64388                  NaN             NaN               NaN   \n",
       "64541                  NaN             NaN               NaN   \n",
       "64552                  NaN             NaN               NaN   \n",
       "...                    ...             ...               ...   \n",
       "89956                  NaN             NaN               NaN   \n",
       "90004                  NaN             NaN               NaN   \n",
       "90010                  NaN             NaN               NaN   \n",
       "90031                  NaN             NaN               NaN   \n",
       "90097                  NaN             NaN               NaN   \n",
       "\n",
       "       Broad.phase.of.flight Report.Status Publication.Date  \n",
       "64050                    NaN           NaN              NaN  \n",
       "64052                    NaN           NaN              NaN  \n",
       "64388                    NaN           NaN              NaN  \n",
       "64541                    NaN           NaN              NaN  \n",
       "64552                    NaN           NaN              NaN  \n",
       "...                      ...           ...              ...  \n",
       "89956                    NaN           NaN              NaN  \n",
       "90004                    NaN           NaN              NaN  \n",
       "90010                    NaN           NaN              NaN  \n",
       "90031                    NaN           NaN              NaN  \n",
       "90097                    NaN           NaN              NaN  \n",
       "\n",
       "[1390 rows x 31 columns]"
      ]
     },
     "execution_count": 1272,
     "metadata": {},
     "output_type": "execute_result"
    }
   ],
   "source": [
    "av_data[av_data.duplicated()] #View some of the duplicated data"
   ]
  },
  {
   "cell_type": "code",
   "execution_count": 1273,
   "id": "a87723ef",
   "metadata": {},
   "outputs": [
    {
     "data": {
      "text/plain": [
       "' \\nDuplicated data appears to be mostly blank except for the investigation type so these duplicated rows can be safely dropped without affecting data integrity\\n'"
      ]
     },
     "execution_count": 1273,
     "metadata": {},
     "output_type": "execute_result"
    }
   ],
   "source": [
    "\"\"\" \n",
    "Duplicated data appears to be mostly blank except for the investigation type so these duplicated rows can be safely dropped without affecting data integrity\n",
    "\"\"\""
   ]
  },
  {
   "cell_type": "code",
   "execution_count": 1274,
   "id": "50915369",
   "metadata": {},
   "outputs": [
    {
     "name": "stdout",
     "output_type": "stream",
     "text": [
      "<class 'pandas.core.frame.DataFrame'>\n",
      "Int64Index: 88958 entries, 0 to 90347\n",
      "Data columns (total 31 columns):\n",
      " #   Column                  Non-Null Count  Dtype  \n",
      "---  ------                  --------------  -----  \n",
      " 0   Event.Id                88889 non-null  object \n",
      " 1   Investigation.Type      88958 non-null  object \n",
      " 2   Accident.Number         88889 non-null  object \n",
      " 3   Event.Date              88889 non-null  object \n",
      " 4   Location                88837 non-null  object \n",
      " 5   Country                 88663 non-null  object \n",
      " 6   Latitude                34382 non-null  object \n",
      " 7   Longitude               34373 non-null  object \n",
      " 8   Airport.Code            50249 non-null  object \n",
      " 9   Airport.Name            52790 non-null  object \n",
      " 10  Injury.Severity         87889 non-null  object \n",
      " 11  Aircraft.damage         85695 non-null  object \n",
      " 12  Aircraft.Category       32287 non-null  object \n",
      " 13  Registration.Number     87572 non-null  object \n",
      " 14  Make                    88826 non-null  object \n",
      " 15  Model                   88797 non-null  object \n",
      " 16  Amateur.Built           88787 non-null  object \n",
      " 17  Number.of.Engines       82805 non-null  float64\n",
      " 18  Engine.Type             81812 non-null  object \n",
      " 19  FAR.Description         32023 non-null  object \n",
      " 20  Schedule                12582 non-null  object \n",
      " 21  Purpose.of.flight       82697 non-null  object \n",
      " 22  Air.carrier             16648 non-null  object \n",
      " 23  Total.Fatal.Injuries    77488 non-null  float64\n",
      " 24  Total.Serious.Injuries  76379 non-null  float64\n",
      " 25  Total.Minor.Injuries    76956 non-null  float64\n",
      " 26  Total.Uninjured         82977 non-null  float64\n",
      " 27  Weather.Condition       84397 non-null  object \n",
      " 28  Broad.phase.of.flight   61724 non-null  object \n",
      " 29  Report.Status           82508 non-null  object \n",
      " 30  Publication.Date        73659 non-null  object \n",
      "dtypes: float64(5), object(26)\n",
      "memory usage: 21.7+ MB\n"
     ]
    }
   ],
   "source": [
    "cleaned_av_data = av_data.drop_duplicates()  #Removes the duplicated data identified above\n",
    "\n",
    "cleaned_av_data.info()"
   ]
  },
  {
   "cell_type": "code",
   "execution_count": 1275,
   "id": "478b637c",
   "metadata": {},
   "outputs": [
    {
     "data": {
      "text/plain": [
       "0"
      ]
     },
     "execution_count": 1275,
     "metadata": {},
     "output_type": "execute_result"
    }
   ],
   "source": [
    "cleaned_av_data.duplicated().sum() #Confirm that there are no more duplicated rows."
   ]
  },
  {
   "cell_type": "code",
   "execution_count": 1276,
   "id": "890b7af6",
   "metadata": {},
   "outputs": [
    {
     "data": {
      "text/plain": [
       "' \\nAfter cleaning the data, columns remain as 31, rows are 88958 compared to 90348 previously.\\nWe then confirmed that there are no remaining duplicated rows\\n'"
      ]
     },
     "execution_count": 1276,
     "metadata": {},
     "output_type": "execute_result"
    }
   ],
   "source": [
    "\"\"\" \n",
    "After cleaning the data, columns remain as 31, rows are 88958 compared to 90348 previously.\n",
    "We then confirmed that there are no remaining duplicated rows\n",
    "\"\"\""
   ]
  },
  {
   "cell_type": "markdown",
   "id": "a044c88f",
   "metadata": {},
   "source": [
    "b. Clean the Make and Model columns"
   ]
  },
  {
   "cell_type": "code",
   "execution_count": 1277,
   "id": "d9702513",
   "metadata": {},
   "outputs": [
    {
     "data": {
      "text/plain": [
       "array(['Stinson', 'Piper', 'Cessna', ..., 'JAMES R DERNOVSEK',\n",
       "       'ORLICAN S R O', 'ROYSE RALPH L'], dtype=object)"
      ]
     },
     "execution_count": 1277,
     "metadata": {},
     "output_type": "execute_result"
    }
   ],
   "source": [
    "cleaned_av_data['Make'].unique()"
   ]
  },
  {
   "cell_type": "code",
   "execution_count": 1278,
   "id": "13cb0cb5",
   "metadata": {},
   "outputs": [],
   "source": [
    "# Check if it would have been possible to impute make from model\n",
    "# cleaned_av_data['Model'].isnull().sum()"
   ]
  },
  {
   "cell_type": "code",
   "execution_count": 1279,
   "id": "60e37b73",
   "metadata": {},
   "outputs": [
    {
     "data": {
      "text/plain": [
       "132"
      ]
     },
     "execution_count": 1279,
     "metadata": {},
     "output_type": "execute_result"
    }
   ],
   "source": [
    "cleaned_av_data['Make'].isnull().sum()  #Check for no. of null or missing values"
   ]
  },
  {
   "cell_type": "markdown",
   "id": "edf577cd",
   "metadata": {},
   "source": [
    "\n",
    "As the intention of our analysis is to provide recommendations of a particular make/ model of aircraft to purchase for the new business endeavour,\n",
    "we need to make sure that our dataset has information on make and model. \n",
    "We can therefore remove rows without a make of aircraft.\n"
   ]
  },
  {
   "cell_type": "code",
   "execution_count": 1280,
   "id": "8d7375ec",
   "metadata": {},
   "outputs": [],
   "source": [
    "#Drop rows with missing values in the 'Make' column\n",
    "cleaned_av_data = cleaned_av_data.dropna(axis=0, subset=['Make'])"
   ]
  },
  {
   "cell_type": "code",
   "execution_count": 1281,
   "id": "30008ea2",
   "metadata": {},
   "outputs": [
    {
     "data": {
      "text/plain": [
       "0"
      ]
     },
     "execution_count": 1281,
     "metadata": {},
     "output_type": "execute_result"
    }
   ],
   "source": [
    "#Confirm the 'Make' column has no more missing values\n",
    "\n",
    "cleaned_av_data['Make'].isnull().sum()"
   ]
  },
  {
   "cell_type": "markdown",
   "id": "e6162ed0",
   "metadata": {},
   "source": [
    "Our audience will also want particular models that are most safe.\n",
    "We will therefore need data that also indicates the model of aircraft as a make may have multiple models.\n",
    "Removing missing model data will enable us to further identify safe models of a particular make.\n",
    "\n"
   ]
  },
  {
   "cell_type": "code",
   "execution_count": 1282,
   "id": "fedf78f9",
   "metadata": {},
   "outputs": [
    {
     "data": {
      "text/plain": [
       "array(['108-3', 'PA24-180', '172M', ..., 'ROTORWAY EXEC 162-F',\n",
       "       'KITFOX S5', 'M-8 EAGLE'], dtype=object)"
      ]
     },
     "execution_count": 1282,
     "metadata": {},
     "output_type": "execute_result"
    }
   ],
   "source": [
    "cleaned_av_data['Model'].unique()"
   ]
  },
  {
   "cell_type": "code",
   "execution_count": 1283,
   "id": "0c86e8b4",
   "metadata": {},
   "outputs": [
    {
     "data": {
      "text/plain": [
       "152          2367\n",
       "172          1756\n",
       "172N         1164\n",
       "PA-28-140     932\n",
       "150           829\n",
       "172M          798\n",
       "172P          689\n",
       "182           659\n",
       "180           622\n",
       "150M          585\n",
       "PA-18         581\n",
       "PA-18-150     578\n",
       "PA-28-180     572\n",
       "PA-28-161     569\n",
       "PA-28-181     532\n",
       "206B          524\n",
       "737           489\n",
       "PA-38-112     469\n",
       "150L          461\n",
       "G-164A        460\n",
       "Name: Model, dtype: int64"
      ]
     },
     "execution_count": 1283,
     "metadata": {},
     "output_type": "execute_result"
    }
   ],
   "source": [
    "cleaned_av_data['Model'].value_counts().head(20)"
   ]
  },
  {
   "cell_type": "code",
   "execution_count": 1284,
   "id": "7ff8fae3",
   "metadata": {},
   "outputs": [
    {
     "data": {
      "text/plain": [
       "49"
      ]
     },
     "execution_count": 1284,
     "metadata": {},
     "output_type": "execute_result"
    }
   ],
   "source": [
    "#Get the sum of no. of missing values in the 'Model' column\n",
    "cleaned_av_data['Model'].isnull().sum()"
   ]
  },
  {
   "cell_type": "code",
   "execution_count": 1285,
   "id": "ef57c49e",
   "metadata": {},
   "outputs": [],
   "source": [
    "# Drop rows with missing 'Model' data\n",
    "cleaned_av_data = cleaned_av_data.dropna(axis=0, subset=['Model'])"
   ]
  },
  {
   "cell_type": "code",
   "execution_count": 1286,
   "id": "dcd8ddbb",
   "metadata": {},
   "outputs": [
    {
     "data": {
      "text/plain": [
       "0"
      ]
     },
     "execution_count": 1286,
     "metadata": {},
     "output_type": "execute_result"
    }
   ],
   "source": [
    "cleaned_av_data['Model'].isnull().sum()"
   ]
  },
  {
   "cell_type": "code",
   "execution_count": 1287,
   "id": "e09aa2da",
   "metadata": {},
   "outputs": [
    {
     "data": {
      "text/plain": [
       "Index(['Event.Id', 'Investigation.Type', 'Accident.Number', 'Event.Date',\n",
       "       'Location', 'Country', 'Latitude', 'Longitude', 'Airport.Code',\n",
       "       'Airport.Name', 'Injury.Severity', 'Aircraft.damage',\n",
       "       'Aircraft.Category', 'Registration.Number', 'Make', 'Model',\n",
       "       'Amateur.Built', 'Number.of.Engines', 'Engine.Type', 'FAR.Description',\n",
       "       'Schedule', 'Purpose.of.flight', 'Air.carrier', 'Total.Fatal.Injuries',\n",
       "       'Total.Serious.Injuries', 'Total.Minor.Injuries', 'Total.Uninjured',\n",
       "       'Weather.Condition', 'Broad.phase.of.flight', 'Report.Status',\n",
       "       'Publication.Date'],\n",
       "      dtype='object')"
      ]
     },
     "execution_count": 1287,
     "metadata": {},
     "output_type": "execute_result"
    }
   ],
   "source": [
    "cleaned_av_data.columns"
   ]
  },
  {
   "cell_type": "markdown",
   "id": "41a1ca58",
   "metadata": {},
   "source": [
    "The purpose of the new business endeavour is for commercial and private enterprises. We can therefore clean then filter the data using the 'Purpose.of.Flight' column to focus on data relevant to the above areas."
   ]
  },
  {
   "cell_type": "code",
   "execution_count": 1288,
   "id": "8f6a6976",
   "metadata": {},
   "outputs": [
    {
     "data": {
      "text/plain": [
       "6138"
      ]
     },
     "execution_count": 1288,
     "metadata": {},
     "output_type": "execute_result"
    }
   ],
   "source": [
    "cleaned_av_data['Purpose.of.flight'].isnull().sum()"
   ]
  },
  {
   "cell_type": "code",
   "execution_count": 1289,
   "id": "15de62c5",
   "metadata": {},
   "outputs": [],
   "source": [
    "cleaned_av_data = cleaned_av_data.dropna(axis=0, subset=['Purpose.of.flight'])"
   ]
  },
  {
   "cell_type": "code",
   "execution_count": 1290,
   "id": "7bc5c576",
   "metadata": {},
   "outputs": [
    {
     "data": {
      "text/plain": [
       "0"
      ]
     },
     "execution_count": 1290,
     "metadata": {},
     "output_type": "execute_result"
    }
   ],
   "source": [
    "cleaned_av_data['Purpose.of.flight'].isnull().sum()"
   ]
  },
  {
   "cell_type": "code",
   "execution_count": 1291,
   "id": "28358179",
   "metadata": {},
   "outputs": [
    {
     "data": {
      "text/plain": [
       "array(['Personal', 'Business', 'Instructional', 'Unknown', 'Ferry',\n",
       "       'Executive/corporate', 'Aerial Observation', 'Aerial Application',\n",
       "       'Public Aircraft', 'Skydiving', 'Other Work Use', 'Positioning',\n",
       "       'Flight Test', 'Air Race/show', 'Air Drop',\n",
       "       'Public Aircraft - Federal', 'Glider Tow',\n",
       "       'Public Aircraft - Local', 'External Load',\n",
       "       'Public Aircraft - State', 'Banner Tow', 'Firefighting',\n",
       "       'Air Race show', 'PUBS', 'ASHO', 'PUBL'], dtype=object)"
      ]
     },
     "execution_count": 1291,
     "metadata": {},
     "output_type": "execute_result"
    }
   ],
   "source": [
    "cleaned_av_data['Purpose.of.flight'].unique()"
   ]
  },
  {
   "cell_type": "code",
   "execution_count": 1292,
   "id": "768f84e6",
   "metadata": {},
   "outputs": [],
   "source": [
    "cleaned_av_data = cleaned_av_data[cleaned_av_data['Purpose.of.flight'].isin(['Business', 'Instructional', 'Executive', 'Corporate', 'Executive/corporate', 'Ferry', 'Positioning', 'Skydiving'])]"
   ]
  },
  {
   "cell_type": "code",
   "execution_count": 1293,
   "id": "061c7e86",
   "metadata": {},
   "outputs": [
    {
     "data": {
      "text/plain": [
       "array(['Business', 'Instructional', 'Ferry', 'Executive/corporate',\n",
       "       'Skydiving', 'Positioning'], dtype=object)"
      ]
     },
     "execution_count": 1293,
     "metadata": {},
     "output_type": "execute_result"
    }
   ],
   "source": [
    "cleaned_av_data['Purpose.of.flight'].unique()"
   ]
  },
  {
   "cell_type": "code",
   "execution_count": 1294,
   "id": "f180d29e",
   "metadata": {},
   "outputs": [
    {
     "name": "stdout",
     "output_type": "stream",
     "text": [
      "<class 'pandas.core.frame.DataFrame'>\n",
      "Int64Index: 17807 entries, 8 to 90341\n",
      "Data columns (total 31 columns):\n",
      " #   Column                  Non-Null Count  Dtype  \n",
      "---  ------                  --------------  -----  \n",
      " 0   Event.Id                17807 non-null  object \n",
      " 1   Investigation.Type      17807 non-null  object \n",
      " 2   Accident.Number         17807 non-null  object \n",
      " 3   Event.Date              17807 non-null  object \n",
      " 4   Location                17798 non-null  object \n",
      " 5   Country                 17757 non-null  object \n",
      " 6   Latitude                6539 non-null   object \n",
      " 7   Longitude               6538 non-null   object \n",
      " 8   Airport.Code            12033 non-null  object \n",
      " 9   Airport.Name            12431 non-null  object \n",
      " 10  Injury.Severity         17796 non-null  object \n",
      " 11  Aircraft.damage         17559 non-null  object \n",
      " 12  Aircraft.Category       5899 non-null   object \n",
      " 13  Registration.Number     17656 non-null  object \n",
      " 14  Make                    17807 non-null  object \n",
      " 15  Model                   17807 non-null  object \n",
      " 16  Amateur.Built           17798 non-null  object \n",
      " 17  Number.of.Engines       17237 non-null  float64\n",
      " 18  Engine.Type             17081 non-null  object \n",
      " 19  FAR.Description         5925 non-null   object \n",
      " 20  Schedule                290 non-null    object \n",
      " 21  Purpose.of.flight       17807 non-null  object \n",
      " 22  Air.carrier             2956 non-null   object \n",
      " 23  Total.Fatal.Injuries    15403 non-null  float64\n",
      " 24  Total.Serious.Injuries  15176 non-null  float64\n",
      " 25  Total.Minor.Injuries    15305 non-null  float64\n",
      " 26  Total.Uninjured         16841 non-null  float64\n",
      " 27  Weather.Condition       17598 non-null  object \n",
      " 28  Broad.phase.of.flight   13406 non-null  object \n",
      " 29  Report.Status           17203 non-null  object \n",
      " 30  Publication.Date        14671 non-null  object \n",
      "dtypes: float64(5), object(26)\n",
      "memory usage: 4.3+ MB\n"
     ]
    }
   ],
   "source": [
    "cleaned_av_data.info()"
   ]
  },
  {
   "cell_type": "markdown",
   "id": "b79ac045",
   "metadata": {},
   "source": [
    "We'd like to filter the data to focus on data covering the last 20 years so that it can apply to aircraft that are still relatively available in the market, with current aviation equipment and which have a significant enough period of operation left even after purchase for this business endeavour."
   ]
  },
  {
   "cell_type": "code",
   "execution_count": 1295,
   "id": "b06f6042",
   "metadata": {},
   "outputs": [],
   "source": [
    "cleaned_av_data['Event.Date'] = pd.to_datetime(cleaned_av_data['Event.Date'], errors='coerce')\n",
    "cleaned_av_data = cleaned_av_data[cleaned_av_data['Event.Date'] >= '2005-01-01']"
   ]
  },
  {
   "cell_type": "code",
   "execution_count": 1296,
   "id": "5d09c8b0",
   "metadata": {},
   "outputs": [
    {
     "name": "stdout",
     "output_type": "stream",
     "text": [
      "<class 'pandas.core.frame.DataFrame'>\n",
      "Int64Index: 5316 entries, 58021 to 90341\n",
      "Data columns (total 31 columns):\n",
      " #   Column                  Non-Null Count  Dtype         \n",
      "---  ------                  --------------  -----         \n",
      " 0   Event.Id                5316 non-null   object        \n",
      " 1   Investigation.Type      5316 non-null   object        \n",
      " 2   Accident.Number         5316 non-null   object        \n",
      " 3   Event.Date              5316 non-null   datetime64[ns]\n",
      " 4   Location                5316 non-null   object        \n",
      " 5   Country                 5316 non-null   object        \n",
      " 6   Latitude                5187 non-null   object        \n",
      " 7   Longitude               5186 non-null   object        \n",
      " 8   Airport.Code            4067 non-null   object        \n",
      " 9   Airport.Name            4046 non-null   object        \n",
      " 10  Injury.Severity         5305 non-null   object        \n",
      " 11  Aircraft.damage         5209 non-null   object        \n",
      " 12  Aircraft.Category       4735 non-null   object        \n",
      " 13  Registration.Number     5261 non-null   object        \n",
      " 14  Make                    5316 non-null   object        \n",
      " 15  Model                   5316 non-null   object        \n",
      " 16  Amateur.Built           5308 non-null   object        \n",
      " 17  Number.of.Engines       5047 non-null   float64       \n",
      " 18  Engine.Type             4691 non-null   object        \n",
      " 19  FAR.Description         4761 non-null   object        \n",
      " 20  Schedule                140 non-null    object        \n",
      " 21  Purpose.of.flight       5316 non-null   object        \n",
      " 22  Air.carrier             2956 non-null   object        \n",
      " 23  Total.Fatal.Injuries    4341 non-null   float64       \n",
      " 24  Total.Serious.Injuries  4266 non-null   float64       \n",
      " 25  Total.Minor.Injuries    4321 non-null   float64       \n",
      " 26  Total.Uninjured         4963 non-null   float64       \n",
      " 27  Weather.Condition       5130 non-null   object        \n",
      " 28  Broad.phase.of.flight   1117 non-null   object        \n",
      " 29  Report.Status           4712 non-null   object        \n",
      " 30  Publication.Date        4988 non-null   object        \n",
      "dtypes: datetime64[ns](1), float64(5), object(25)\n",
      "memory usage: 1.3+ MB\n"
     ]
    }
   ],
   "source": [
    "cleaned_av_data.info()"
   ]
  },
  {
   "cell_type": "markdown",
   "id": "02a9a0c0",
   "metadata": {},
   "source": [
    "Further data exploration..."
   ]
  },
  {
   "cell_type": "code",
   "execution_count": 1297,
   "id": "b007e2d1",
   "metadata": {},
   "outputs": [
    {
     "data": {
      "text/plain": [
       "array(['Accident', 'Incident'], dtype=object)"
      ]
     },
     "execution_count": 1297,
     "metadata": {},
     "output_type": "execute_result"
    }
   ],
   "source": [
    "#Further Data Exploration of Investigation.Type column\n",
    "cleaned_av_data['Investigation.Type'].unique()"
   ]
  },
  {
   "cell_type": "code",
   "execution_count": 1298,
   "id": "c7e6c1dc",
   "metadata": {},
   "outputs": [
    {
     "data": {
      "text/plain": [
       "Accident    5176\n",
       "Incident     140\n",
       "Name: Investigation.Type, dtype: int64"
      ]
     },
     "execution_count": 1298,
     "metadata": {},
     "output_type": "execute_result"
    }
   ],
   "source": [
    "cleaned_av_data['Investigation.Type'].value_counts()"
   ]
  },
  {
   "cell_type": "code",
   "execution_count": 1299,
   "id": "4816b402",
   "metadata": {},
   "outputs": [
    {
     "data": {
      "text/plain": [
       "array(['Helicopter', nan, 'Airplane', 'Glider', 'Balloon', 'Powered-Lift',\n",
       "       'Gyrocraft', 'Weight-Shift', 'Powered Parachute', 'WSFT'],\n",
       "      dtype=object)"
      ]
     },
     "execution_count": 1299,
     "metadata": {},
     "output_type": "execute_result"
    }
   ],
   "source": [
    "#Further data exploration of the Aircraft.Category column\n",
    "cleaned_av_data['Aircraft.Category'].unique()"
   ]
  },
  {
   "cell_type": "code",
   "execution_count": 1300,
   "id": "99fbe26d",
   "metadata": {},
   "outputs": [
    {
     "data": {
      "text/plain": [
       "Airplane             3842\n",
       "Helicopter            749\n",
       "Glider                 71\n",
       "Balloon                29\n",
       "Weight-Shift           26\n",
       "Gyrocraft              11\n",
       "Powered Parachute       5\n",
       "WSFT                    1\n",
       "Powered-Lift            1\n",
       "Name: Aircraft.Category, dtype: int64"
      ]
     },
     "execution_count": 1300,
     "metadata": {},
     "output_type": "execute_result"
    }
   ],
   "source": [
    "cleaned_av_data['Aircraft.Category'].value_counts()"
   ]
  },
  {
   "cell_type": "code",
   "execution_count": 1301,
   "id": "f6c4502f",
   "metadata": {},
   "outputs": [
    {
     "data": {
      "text/plain": [
       "4735"
      ]
     },
     "execution_count": 1301,
     "metadata": {},
     "output_type": "execute_result"
    }
   ],
   "source": [
    "cleaned_av_data['Aircraft.Category'].value_counts().sum()"
   ]
  },
  {
   "cell_type": "code",
   "execution_count": 1302,
   "id": "4a91fc20",
   "metadata": {},
   "outputs": [
    {
     "data": {
      "text/plain": [
       "581"
      ]
     },
     "execution_count": 1302,
     "metadata": {},
     "output_type": "execute_result"
    }
   ],
   "source": [
    "cleaned_av_data['Aircraft.Category'].isnull().sum()"
   ]
  },
  {
   "cell_type": "markdown",
   "id": "e21a416c",
   "metadata": {},
   "source": [
    "c. Check the injury columns\n",
    "\n",
    "THe injury columns are most significant as they will be one of the determinants of the least risky aircraft from this dataset.\n",
    "\n",
    "The injury columns are: 'Total.Fatal.Injuries', Total.Serious.Injuries', 'Total.Minor.Injuries' and 'Total.Uninjured'."
   ]
  },
  {
   "cell_type": "code",
   "execution_count": 1303,
   "id": "8a5a78bf",
   "metadata": {},
   "outputs": [
    {
     "name": "stdout",
     "output_type": "stream",
     "text": [
      "No. of Null values in 'Total.Fatal.Injuries' column are: 975\n",
      "No. of Null values in 'Total.Serious.Injuries' column are: 1050\n",
      "No. of Null values in 'Total.Minor.Injuries' column are: 995\n",
      "No. of Null values in 'Total.Uninjured' column are: 353\n"
     ]
    }
   ],
   "source": [
    "#Find the no. of missing values in the injury columns\n",
    "#'Total.Fatal.Injuries', 'Total.Serious.Injuries', 'Total.Minor.Injuries', 'Total.Uninjured'\n",
    "print(f\"No. of Null values in 'Total.Fatal.Injuries' column are: {cleaned_av_data['Total.Fatal.Injuries'].isnull().sum()}\")\n",
    "print(f\"No. of Null values in 'Total.Serious.Injuries' column are: {cleaned_av_data['Total.Serious.Injuries'].isnull().sum()}\")\n",
    "print(f\"No. of Null values in 'Total.Minor.Injuries' column are: {cleaned_av_data['Total.Minor.Injuries'].isnull().sum()}\")\n",
    "print(f\"No. of Null values in 'Total.Uninjured' column are: {cleaned_av_data['Total.Uninjured'].isnull().sum()}\")"
   ]
  },
  {
   "cell_type": "markdown",
   "id": "a7d950c1",
   "metadata": {},
   "source": [
    "\n",
    "The null values above likely indicate that there were no occurences of the type of injury rather than that there are missing values.\n",
    "We can therefore replace this with (0) especially if we later choose to sum the injury columns per row.\n",
    "\n"
   ]
  },
  {
   "cell_type": "code",
   "execution_count": 1304,
   "id": "e06b3f14",
   "metadata": {},
   "outputs": [],
   "source": [
    "#Replace the missing values in respective injury columns with 0\n",
    "cleaned_av_data['Total.Fatal.Injuries'] = cleaned_av_data['Total.Fatal.Injuries'].fillna(0)\n",
    "cleaned_av_data['Total.Serious.Injuries'] = cleaned_av_data['Total.Serious.Injuries'].fillna(0)\n",
    "cleaned_av_data['Total.Minor.Injuries'] = cleaned_av_data['Total.Minor.Injuries'].fillna(0)\n",
    "cleaned_av_data['Total.Uninjured'] = cleaned_av_data['Total.Uninjured'].fillna(0)"
   ]
  },
  {
   "cell_type": "code",
   "execution_count": 1305,
   "id": "3aedb62a",
   "metadata": {},
   "outputs": [
    {
     "name": "stdout",
     "output_type": "stream",
     "text": [
      "0\n",
      "0\n",
      "0\n",
      "0\n"
     ]
    }
   ],
   "source": [
    "#Confirm that there are no more missing values in respective columns\n",
    "print(cleaned_av_data['Total.Fatal.Injuries'].isnull().sum())\n",
    "print(cleaned_av_data['Total.Serious.Injuries'].isnull().sum())\n",
    "print(cleaned_av_data['Total.Minor.Injuries'].isnull().sum())\n",
    "print(cleaned_av_data['Total.Uninjured'].isnull().sum())"
   ]
  },
  {
   "cell_type": "markdown",
   "id": "91e3b741",
   "metadata": {},
   "source": [
    "The injury columns now have no missing values"
   ]
  },
  {
   "cell_type": "code",
   "execution_count": 1306,
   "id": "b4364588",
   "metadata": {},
   "outputs": [
    {
     "name": "stdout",
     "output_type": "stream",
     "text": [
      "<class 'pandas.core.frame.DataFrame'>\n",
      "Int64Index: 5316 entries, 58021 to 90341\n",
      "Data columns (total 31 columns):\n",
      " #   Column                  Non-Null Count  Dtype         \n",
      "---  ------                  --------------  -----         \n",
      " 0   Event.Id                5316 non-null   object        \n",
      " 1   Investigation.Type      5316 non-null   object        \n",
      " 2   Accident.Number         5316 non-null   object        \n",
      " 3   Event.Date              5316 non-null   datetime64[ns]\n",
      " 4   Location                5316 non-null   object        \n",
      " 5   Country                 5316 non-null   object        \n",
      " 6   Latitude                5187 non-null   object        \n",
      " 7   Longitude               5186 non-null   object        \n",
      " 8   Airport.Code            4067 non-null   object        \n",
      " 9   Airport.Name            4046 non-null   object        \n",
      " 10  Injury.Severity         5305 non-null   object        \n",
      " 11  Aircraft.damage         5209 non-null   object        \n",
      " 12  Aircraft.Category       4735 non-null   object        \n",
      " 13  Registration.Number     5261 non-null   object        \n",
      " 14  Make                    5316 non-null   object        \n",
      " 15  Model                   5316 non-null   object        \n",
      " 16  Amateur.Built           5308 non-null   object        \n",
      " 17  Number.of.Engines       5047 non-null   float64       \n",
      " 18  Engine.Type             4691 non-null   object        \n",
      " 19  FAR.Description         4761 non-null   object        \n",
      " 20  Schedule                140 non-null    object        \n",
      " 21  Purpose.of.flight       5316 non-null   object        \n",
      " 22  Air.carrier             2956 non-null   object        \n",
      " 23  Total.Fatal.Injuries    5316 non-null   float64       \n",
      " 24  Total.Serious.Injuries  5316 non-null   float64       \n",
      " 25  Total.Minor.Injuries    5316 non-null   float64       \n",
      " 26  Total.Uninjured         5316 non-null   float64       \n",
      " 27  Weather.Condition       5130 non-null   object        \n",
      " 28  Broad.phase.of.flight   1117 non-null   object        \n",
      " 29  Report.Status           4712 non-null   object        \n",
      " 30  Publication.Date        4988 non-null   object        \n",
      "dtypes: datetime64[ns](1), float64(5), object(25)\n",
      "memory usage: 1.3+ MB\n"
     ]
    }
   ],
   "source": [
    "cleaned_av_data.info()"
   ]
  },
  {
   "cell_type": "code",
   "execution_count": 1307,
   "id": "13564abb",
   "metadata": {},
   "outputs": [
    {
     "data": {
      "text/plain": [
       "array(['Turbo Shaft', 'Turbo Prop', 'Reciprocating', 'Turbo Jet',\n",
       "       'Turbo Fan', nan, 'Unknown', 'None', 'Electric', 'LR', 'UNK'],\n",
       "      dtype=object)"
      ]
     },
     "execution_count": 1307,
     "metadata": {},
     "output_type": "execute_result"
    }
   ],
   "source": [
    "cleaned_av_data['Engine.Type'].unique()"
   ]
  },
  {
   "cell_type": "code",
   "execution_count": 1308,
   "metadata": {},
   "outputs": [
    {
     "data": {
      "text/plain": [
       "array(['Non-Fatal', 'Fatal(1)', 'Fatal(2)', 'Fatal(3)', 'Fatal(4)',\n",
       "       'Incident', 'Fatal(8)', 'Fatal(7)', 'Fatal(5)', 'Fatal(9)',\n",
       "       'Fatal(6)', 'Unavailable', 'Fatal(154)', 'Fatal', nan, 'Minor',\n",
       "       'Serious'], dtype=object)"
      ]
     },
     "execution_count": 1308,
     "metadata": {},
     "output_type": "execute_result"
    }
   ],
   "source": [
    "cleaned_av_data['Injury.Severity'].unique()"
   ]
  },
  {
   "cell_type": "code",
   "execution_count": 1309,
   "id": "77d9b251",
   "metadata": {},
   "outputs": [
    {
     "data": {
      "text/plain": [
       "Non-Fatal      4411\n",
       "Fatal           585\n",
       "Fatal(2)         76\n",
       "Fatal(1)         72\n",
       "Minor            52\n",
       "Incident         36\n",
       "Fatal(3)         30\n",
       "Serious          20\n",
       "Fatal(4)          8\n",
       "Fatal(5)          4\n",
       "Unavailable       3\n",
       "Fatal(7)          2\n",
       "Fatal(8)          2\n",
       "Fatal(6)          2\n",
       "Fatal(154)        1\n",
       "Fatal(9)          1\n",
       "Name: Injury.Severity, dtype: int64"
      ]
     },
     "execution_count": 1309,
     "metadata": {},
     "output_type": "execute_result"
    }
   ],
   "source": [
    "cleaned_av_data['Injury.Severity'].value_counts()"
   ]
  },
  {
   "cell_type": "code",
   "execution_count": 1310,
   "id": "351bdf0e",
   "metadata": {},
   "outputs": [
    {
     "data": {
      "text/plain": [
       "5305"
      ]
     },
     "execution_count": 1310,
     "metadata": {},
     "output_type": "execute_result"
    }
   ],
   "source": [
    "cleaned_av_data['Injury.Severity'].value_counts().sum()"
   ]
  },
  {
   "cell_type": "code",
   "execution_count": 1311,
   "id": "1c06ab7c",
   "metadata": {},
   "outputs": [
    {
     "data": {
      "text/plain": [
       "11"
      ]
     },
     "execution_count": 1311,
     "metadata": {},
     "output_type": "execute_result"
    }
   ],
   "source": [
    "cleaned_av_data['Injury.Severity'].isnull().sum()"
   ]
  },
  {
   "cell_type": "markdown",
   "id": "93d9a093",
   "metadata": {},
   "source": [
    "***There are 2459 null values, unavailable, nan in this column.\n",
    "However, rather than dropping the rows with null values, we can impute these from the injury data."
   ]
  },
  {
   "cell_type": "code",
   "execution_count": 1312,
   "id": "094a01ea",
   "metadata": {},
   "outputs": [
    {
     "data": {
      "text/plain": [
       "Index(['Event.Id', 'Investigation.Type', 'Accident.Number', 'Event.Date',\n",
       "       'Location', 'Country', 'Latitude', 'Longitude', 'Airport.Code',\n",
       "       'Airport.Name', 'Injury.Severity', 'Aircraft.damage',\n",
       "       'Aircraft.Category', 'Registration.Number', 'Make', 'Model',\n",
       "       'Amateur.Built', 'Number.of.Engines', 'Engine.Type', 'FAR.Description',\n",
       "       'Schedule', 'Purpose.of.flight', 'Air.carrier', 'Total.Fatal.Injuries',\n",
       "       'Total.Serious.Injuries', 'Total.Minor.Injuries', 'Total.Uninjured',\n",
       "       'Weather.Condition', 'Broad.phase.of.flight', 'Report.Status',\n",
       "       'Publication.Date'],\n",
       "      dtype='object')"
      ]
     },
     "execution_count": 1312,
     "metadata": {},
     "output_type": "execute_result"
    }
   ],
   "source": [
    "cleaned_av_data.columns"
   ]
  },
  {
   "cell_type": "markdown",
   "id": "350c82f6",
   "metadata": {},
   "source": [
    "d. Check the Number.of.Engines column\n",
    "\n",
    "As information on operating the aircraft is part of the objectives, we need to clean the column on Number of engines and Engine type as this relates to ability to operate the aircraft."
   ]
  },
  {
   "cell_type": "code",
   "execution_count": 1313,
   "id": "cc3b9dc2",
   "metadata": {},
   "outputs": [
    {
     "data": {
      "text/plain": [
       "1.0    4129\n",
       "2.0     834\n",
       "0.0      70\n",
       "3.0       7\n",
       "4.0       5\n",
       "8.0       2\n",
       "Name: Number.of.Engines, dtype: int64"
      ]
     },
     "execution_count": 1313,
     "metadata": {},
     "output_type": "execute_result"
    }
   ],
   "source": [
    "cleaned_av_data['Number.of.Engines'].value_counts()"
   ]
  },
  {
   "cell_type": "code",
   "execution_count": 1314,
   "id": "59acc575",
   "metadata": {},
   "outputs": [
    {
     "data": {
      "text/plain": [
       "5047"
      ]
     },
     "execution_count": 1314,
     "metadata": {},
     "output_type": "execute_result"
    }
   ],
   "source": [
    "cleaned_av_data['Number.of.Engines'].value_counts().sum()"
   ]
  },
  {
   "cell_type": "code",
   "execution_count": 1315,
   "id": "bd46f829",
   "metadata": {},
   "outputs": [
    {
     "data": {
      "text/plain": [
       "269"
      ]
     },
     "execution_count": 1315,
     "metadata": {},
     "output_type": "execute_result"
    }
   ],
   "source": [
    "cleaned_av_data['Number.of.Engines'].isnull().sum()"
   ]
  },
  {
   "cell_type": "code",
   "execution_count": 1316,
   "id": "40132f9d",
   "metadata": {},
   "outputs": [
    {
     "data": {
      "text/plain": [
       "Reciprocating    3914\n",
       "Turbo Shaft       297\n",
       "Turbo Prop        273\n",
       "Turbo Fan         157\n",
       "Turbo Jet          34\n",
       "None                8\n",
       "Unknown             4\n",
       "LR                  2\n",
       "Electric            1\n",
       "UNK                 1\n",
       "Name: Engine.Type, dtype: int64"
      ]
     },
     "execution_count": 1316,
     "metadata": {},
     "output_type": "execute_result"
    }
   ],
   "source": [
    "cleaned_av_data['Engine.Type'].value_counts()"
   ]
  },
  {
   "cell_type": "code",
   "execution_count": 1317,
   "id": "619d45fd",
   "metadata": {},
   "outputs": [
    {
     "data": {
      "text/plain": [
       "4691"
      ]
     },
     "execution_count": 1317,
     "metadata": {},
     "output_type": "execute_result"
    }
   ],
   "source": [
    "cleaned_av_data['Engine.Type'].value_counts().sum()"
   ]
  },
  {
   "cell_type": "code",
   "execution_count": 1318,
   "id": "af68647c",
   "metadata": {},
   "outputs": [
    {
     "data": {
      "text/plain": [
       "625"
      ]
     },
     "execution_count": 1318,
     "metadata": {},
     "output_type": "execute_result"
    }
   ],
   "source": [
    "cleaned_av_data['Engine.Type'].isnull().sum()"
   ]
  },
  {
   "cell_type": "markdown",
   "id": "39e5a02a",
   "metadata": {},
   "source": [
    "e. Drop columns that are not relevant to our objectives\n"
   ]
  },
  {
   "cell_type": "code",
   "execution_count": 1319,
   "id": "d7208923",
   "metadata": {},
   "outputs": [
    {
     "data": {
      "text/plain": [
       "Index(['Event.Id', 'Investigation.Type', 'Accident.Number', 'Event.Date',\n",
       "       'Location', 'Country', 'Latitude', 'Longitude', 'Airport.Code',\n",
       "       'Airport.Name', 'Injury.Severity', 'Aircraft.damage',\n",
       "       'Aircraft.Category', 'Registration.Number', 'Make', 'Model',\n",
       "       'Amateur.Built', 'Number.of.Engines', 'Engine.Type', 'FAR.Description',\n",
       "       'Schedule', 'Purpose.of.flight', 'Air.carrier', 'Total.Fatal.Injuries',\n",
       "       'Total.Serious.Injuries', 'Total.Minor.Injuries', 'Total.Uninjured',\n",
       "       'Weather.Condition', 'Broad.phase.of.flight', 'Report.Status',\n",
       "       'Publication.Date'],\n",
       "      dtype='object')"
      ]
     },
     "execution_count": 1319,
     "metadata": {},
     "output_type": "execute_result"
    }
   ],
   "source": [
    "cleaned_av_data.columns"
   ]
  },
  {
   "cell_type": "code",
   "execution_count": 1320,
   "id": "c0d6f57b",
   "metadata": {},
   "outputs": [
    {
     "data": {
      "text/plain": [
       "array(['Substantial', 'Destroyed', 'Minor', nan, 'Unknown'], dtype=object)"
      ]
     },
     "execution_count": 1320,
     "metadata": {},
     "output_type": "execute_result"
    }
   ],
   "source": [
    "cleaned_av_data['Aircraft.damage'].unique()"
   ]
  },
  {
   "cell_type": "code",
   "execution_count": 1321,
   "id": "c140e83b",
   "metadata": {},
   "outputs": [
    {
     "data": {
      "text/plain": [
       "Substantial    4598\n",
       "Destroyed       468\n",
       "Minor           128\n",
       "Unknown          15\n",
       "Name: Aircraft.damage, dtype: int64"
      ]
     },
     "execution_count": 1321,
     "metadata": {},
     "output_type": "execute_result"
    }
   ],
   "source": [
    "cleaned_av_data['Aircraft.damage'].value_counts()"
   ]
  },
  {
   "cell_type": "code",
   "execution_count": 1322,
   "id": "07f557ca",
   "metadata": {},
   "outputs": [],
   "source": [
    "cleaned_av_data['Aircraft.damage'].replace('Unknown', pd.NA, inplace=True)"
   ]
  },
  {
   "cell_type": "code",
   "execution_count": 1323,
   "id": "7a8d33a0",
   "metadata": {},
   "outputs": [
    {
     "data": {
      "text/plain": [
       "122"
      ]
     },
     "execution_count": 1323,
     "metadata": {},
     "output_type": "execute_result"
    }
   ],
   "source": [
    "cleaned_av_data['Aircraft.damage'].isnull().sum()"
   ]
  },
  {
   "cell_type": "code",
   "execution_count": 1324,
   "id": "0032427c",
   "metadata": {},
   "outputs": [],
   "source": [
    "cleaned_av_data = cleaned_av_data.dropna(axis=0, subset=['Aircraft.damage'])"
   ]
  },
  {
   "cell_type": "code",
   "execution_count": 1325,
   "id": "264c53d5",
   "metadata": {},
   "outputs": [
    {
     "data": {
      "text/plain": [
       "0"
      ]
     },
     "execution_count": 1325,
     "metadata": {},
     "output_type": "execute_result"
    }
   ],
   "source": [
    "cleaned_av_data['Aircraft.damage'].isnull().sum()"
   ]
  },
  {
   "cell_type": "code",
   "execution_count": 1326,
   "id": "b776b1c5",
   "metadata": {},
   "outputs": [
    {
     "data": {
      "text/plain": [
       "Substantial    4598\n",
       "Destroyed       468\n",
       "Minor           128\n",
       "Name: Aircraft.damage, dtype: int64"
      ]
     },
     "execution_count": 1326,
     "metadata": {},
     "output_type": "execute_result"
    }
   ],
   "source": [
    "cleaned_av_data['Aircraft.damage'].value_counts()"
   ]
  },
  {
   "cell_type": "markdown",
   "id": "c956a264",
   "metadata": {},
   "source": [
    "\n",
    "Going forward, the following columns are not relevant to our analysis based on the given objectives: \n",
    "       'Location', 'Country', 'Latitude', 'Longitude', 'Airport.Code', 'Airport.Name', 'Aircraft.damage', 'Registration.Number', 'FAR.Description', 'Schedule', 'Purpose.of.flight', 'Air.carrier', 'Weather.Condition', 'Broad.phase.of.flight', 'Report.Status', 'Publication.Date'"
   ]
  },
  {
   "cell_type": "code",
   "execution_count": 1327,
   "id": "cc703a1e",
   "metadata": {},
   "outputs": [],
   "source": [
    "columns_to_drop = ['Event.Id', 'Investigation.Type', 'Accident.Number', 'Location', 'Country', 'Latitude', 'Longitude', 'Airport.Code', 'Airport.Name', 'Registration.Number', 'FAR.Description', 'Schedule', 'Purpose.of.flight', 'Air.carrier', 'Weather.Condition', 'Broad.phase.of.flight', 'Report.Status', 'Publication.Date']"
   ]
  },
  {
   "cell_type": "code",
   "execution_count": 1328,
   "id": "b7ab89b0",
   "metadata": {},
   "outputs": [],
   "source": [
    "#Drop non-relevant columns and assign relevant columns to variable'rel_av_data'\n",
    "rel_av_data = cleaned_av_data.drop(columns=columns_to_drop) "
   ]
  },
  {
   "cell_type": "code",
   "execution_count": 1329,
   "id": "bedfbcec",
   "metadata": {},
   "outputs": [
    {
     "data": {
      "text/plain": [
       "Index(['Event.Date', 'Injury.Severity', 'Aircraft.damage', 'Aircraft.Category',\n",
       "       'Make', 'Model', 'Amateur.Built', 'Number.of.Engines', 'Engine.Type',\n",
       "       'Total.Fatal.Injuries', 'Total.Serious.Injuries',\n",
       "       'Total.Minor.Injuries', 'Total.Uninjured'],\n",
       "      dtype='object')"
      ]
     },
     "execution_count": 1329,
     "metadata": {},
     "output_type": "execute_result"
    }
   ],
   "source": [
    "#Check that the relevant columns appear under the variable 'rel_av_data'\n",
    "rel_av_data.columns"
   ]
  },
  {
   "cell_type": "code",
   "execution_count": 1330,
   "id": "74b51c85",
   "metadata": {},
   "outputs": [
    {
     "data": {
      "text/plain": [
       "array([nan, 'No', 'Yes'], dtype=object)"
      ]
     },
     "execution_count": 1330,
     "metadata": {},
     "output_type": "execute_result"
    }
   ],
   "source": [
    "#Check unique attributes in this column\n",
    "rel_av_data['Amateur.Built'].unique()"
   ]
  },
  {
   "cell_type": "markdown",
   "id": "24c31de0",
   "metadata": {},
   "source": [
    "The purpose of the new business endeavour is for commercial or private enterprise, not as a hobby or research and development purposes.\n",
    "We can therefore remove data on amateur built aircraft or equipment."
   ]
  },
  {
   "cell_type": "code",
   "execution_count": 1331,
   "id": "75e9e6a6",
   "metadata": {},
   "outputs": [],
   "source": [
    "rel_av_data = rel_av_data[rel_av_data['Amateur.Built'].isin(['No'])]"
   ]
  },
  {
   "cell_type": "code",
   "execution_count": 1332,
   "id": "8e2672c7",
   "metadata": {},
   "outputs": [
    {
     "data": {
      "text/plain": [
       "Event.Date                5041\n",
       "Injury.Severity           5035\n",
       "Aircraft.damage           5041\n",
       "Aircraft.Category         4515\n",
       "Make                      5041\n",
       "Model                     5041\n",
       "Amateur.Built             5041\n",
       "Number.of.Engines         4821\n",
       "Engine.Type               4486\n",
       "Total.Fatal.Injuries      5041\n",
       "Total.Serious.Injuries    5041\n",
       "Total.Minor.Injuries      5041\n",
       "Total.Uninjured           5041\n",
       "dtype: int64"
      ]
     },
     "execution_count": 1332,
     "metadata": {},
     "output_type": "execute_result"
    }
   ],
   "source": [
    "#Check no. of entries(rows) under each column\n",
    "rel_av_data.count()"
   ]
  },
  {
   "cell_type": "code",
   "execution_count": 1333,
   "id": "539fc918",
   "metadata": {},
   "outputs": [
    {
     "data": {
      "text/plain": [
       "11"
      ]
     },
     "execution_count": 1333,
     "metadata": {},
     "output_type": "execute_result"
    }
   ],
   "source": [
    "#Check for duplicates in new data set\n",
    "rel_av_data.duplicated().sum()"
   ]
  },
  {
   "cell_type": "code",
   "execution_count": 1334,
   "id": "5761d210",
   "metadata": {},
   "outputs": [
    {
     "data": {
      "text/plain": [
       "0"
      ]
     },
     "execution_count": 1334,
     "metadata": {},
     "output_type": "execute_result"
    }
   ],
   "source": [
    "# Drop duplicates and check if successful\n",
    "rel_av_data = rel_av_data.drop_duplicates()\n",
    "rel_av_data.duplicated().sum()"
   ]
  },
  {
   "cell_type": "code",
   "execution_count": 1335,
   "id": "d22ab122",
   "metadata": {},
   "outputs": [],
   "source": [
    "#Remove unnecessary spacing and make all to be title case\n",
    "rel_av_data['Make'] = rel_av_data['Make'].str.strip().str.title()\n",
    "rel_av_data['Model'] = rel_av_data['Model'].str.strip().str.title()"
   ]
  },
  {
   "cell_type": "markdown",
   "id": "f38a1200",
   "metadata": {},
   "source": [
    "Earlier, we viewed and cleaned the 'Aircraft.damage' column. The objective is to find the least risk aircraft, we should focus on data on aircraft that got minor damage in the accidents and incidents."
   ]
  },
  {
   "cell_type": "code",
   "execution_count": 1336,
   "id": "999dc32a",
   "metadata": {},
   "outputs": [],
   "source": [
    "rel_av_data = rel_av_data[rel_av_data['Aircraft.damage'].isin(['Minor'])]"
   ]
  },
  {
   "cell_type": "code",
   "execution_count": 1337,
   "id": "ec26cde1",
   "metadata": {},
   "outputs": [
    {
     "name": "stdout",
     "output_type": "stream",
     "text": [
      "<class 'pandas.core.frame.DataFrame'>\n",
      "Int64Index: 126 entries, 58182 to 90254\n",
      "Data columns (total 13 columns):\n",
      " #   Column                  Non-Null Count  Dtype         \n",
      "---  ------                  --------------  -----         \n",
      " 0   Event.Date              126 non-null    datetime64[ns]\n",
      " 1   Injury.Severity         125 non-null    object        \n",
      " 2   Aircraft.damage         126 non-null    object        \n",
      " 3   Aircraft.Category       108 non-null    object        \n",
      " 4   Make                    126 non-null    object        \n",
      " 5   Model                   126 non-null    object        \n",
      " 6   Amateur.Built           126 non-null    object        \n",
      " 7   Number.of.Engines       112 non-null    float64       \n",
      " 8   Engine.Type             108 non-null    object        \n",
      " 9   Total.Fatal.Injuries    126 non-null    float64       \n",
      " 10  Total.Serious.Injuries  126 non-null    float64       \n",
      " 11  Total.Minor.Injuries    126 non-null    float64       \n",
      " 12  Total.Uninjured         126 non-null    float64       \n",
      "dtypes: datetime64[ns](1), float64(5), object(7)\n",
      "memory usage: 13.8+ KB\n"
     ]
    }
   ],
   "source": [
    "rel_av_data.info()"
   ]
  },
  {
   "cell_type": "markdown",
   "id": "4e32ae50",
   "metadata": {},
   "source": [
    "## 2. Collate and Group data \n",
    "\n",
    "After initially exploring the data set, initial cleaning and getting the data that will be relevant toward our objectives, we can now group this data based on columns to further understand the data."
   ]
  },
  {
   "cell_type": "code",
   "execution_count": 1338,
   "id": "2bfedc48",
   "metadata": {},
   "outputs": [
    {
     "data": {
      "text/html": [
       "<div>\n",
       "<style scoped>\n",
       "    .dataframe tbody tr th:only-of-type {\n",
       "        vertical-align: middle;\n",
       "    }\n",
       "\n",
       "    .dataframe tbody tr th {\n",
       "        vertical-align: top;\n",
       "    }\n",
       "\n",
       "    .dataframe thead th {\n",
       "        text-align: right;\n",
       "    }\n",
       "</style>\n",
       "<table border=\"1\" class=\"dataframe\">\n",
       "  <thead>\n",
       "    <tr style=\"text-align: right;\">\n",
       "      <th></th>\n",
       "      <th>Make</th>\n",
       "      <th>Model</th>\n",
       "      <th>Total.Fatal.Injuries</th>\n",
       "      <th>Total.Serious.Injuries</th>\n",
       "      <th>Total.Minor.Injuries</th>\n",
       "      <th>Total.Uninjured</th>\n",
       "    </tr>\n",
       "  </thead>\n",
       "  <tbody>\n",
       "    <tr>\n",
       "      <th>58182</th>\n",
       "      <td>Cessna</td>\n",
       "      <td>402C</td>\n",
       "      <td>0.0</td>\n",
       "      <td>0.0</td>\n",
       "      <td>0.0</td>\n",
       "      <td>1.0</td>\n",
       "    </tr>\n",
       "    <tr>\n",
       "      <th>58289</th>\n",
       "      <td>Reims Aviation</td>\n",
       "      <td>F406</td>\n",
       "      <td>0.0</td>\n",
       "      <td>0.0</td>\n",
       "      <td>0.0</td>\n",
       "      <td>1.0</td>\n",
       "    </tr>\n",
       "    <tr>\n",
       "      <th>58796</th>\n",
       "      <td>Israel Aircraft Industries</td>\n",
       "      <td>1124A</td>\n",
       "      <td>0.0</td>\n",
       "      <td>0.0</td>\n",
       "      <td>0.0</td>\n",
       "      <td>7.0</td>\n",
       "    </tr>\n",
       "    <tr>\n",
       "      <th>59365</th>\n",
       "      <td>Air Tractor</td>\n",
       "      <td>At-401</td>\n",
       "      <td>0.0</td>\n",
       "      <td>0.0</td>\n",
       "      <td>0.0</td>\n",
       "      <td>1.0</td>\n",
       "    </tr>\n",
       "    <tr>\n",
       "      <th>59803</th>\n",
       "      <td>Cessna</td>\n",
       "      <td>172M</td>\n",
       "      <td>0.0</td>\n",
       "      <td>0.0</td>\n",
       "      <td>0.0</td>\n",
       "      <td>1.0</td>\n",
       "    </tr>\n",
       "  </tbody>\n",
       "</table>\n",
       "</div>"
      ],
      "text/plain": [
       "                             Make   Model  Total.Fatal.Injuries  \\\n",
       "58182                      Cessna    402C                   0.0   \n",
       "58289              Reims Aviation    F406                   0.0   \n",
       "58796  Israel Aircraft Industries   1124A                   0.0   \n",
       "59365                 Air Tractor  At-401                   0.0   \n",
       "59803                      Cessna    172M                   0.0   \n",
       "\n",
       "       Total.Serious.Injuries  Total.Minor.Injuries  Total.Uninjured  \n",
       "58182                     0.0                   0.0              1.0  \n",
       "58289                     0.0                   0.0              1.0  \n",
       "58796                     0.0                   0.0              7.0  \n",
       "59365                     0.0                   0.0              1.0  \n",
       "59803                     0.0                   0.0              1.0  "
      ]
     },
     "execution_count": 1338,
     "metadata": {},
     "output_type": "execute_result"
    }
   ],
   "source": [
    "# Collate data on injuries by make_model\n",
    "injury_data = rel_av_data[['Make', 'Model', 'Total.Fatal.Injuries', \n",
    "                           'Total.Serious.Injuries', 'Total.Minor.Injuries', \n",
    "                           'Total.Uninjured']]\n",
    "\n",
    "injury_data.head()"
   ]
  },
  {
   "cell_type": "code",
   "execution_count": 1340,
   "id": "df31fca9",
   "metadata": {},
   "outputs": [
    {
     "name": "stdout",
     "output_type": "stream",
     "text": [
      "<class 'pandas.core.frame.DataFrame'>\n",
      "Int64Index: 126 entries, 58182 to 90254\n",
      "Data columns (total 6 columns):\n",
      " #   Column                  Non-Null Count  Dtype  \n",
      "---  ------                  --------------  -----  \n",
      " 0   Make                    126 non-null    object \n",
      " 1   Model                   126 non-null    object \n",
      " 2   Total.Fatal.Injuries    126 non-null    float64\n",
      " 3   Total.Serious.Injuries  126 non-null    float64\n",
      " 4   Total.Minor.Injuries    126 non-null    float64\n",
      " 5   Total.Uninjured         126 non-null    float64\n",
      "dtypes: float64(4), object(2)\n",
      "memory usage: 6.9+ KB\n"
     ]
    }
   ],
   "source": [
    "injury_data.info()"
   ]
  },
  {
   "cell_type": "code",
   "execution_count": 1347,
   "id": "209b851c",
   "metadata": {},
   "outputs": [
    {
     "name": "stderr",
     "output_type": "stream",
     "text": [
      "<ipython-input-1347-517cbe194760>:3: SettingWithCopyWarning: \n",
      "A value is trying to be set on a copy of a slice from a DataFrame.\n",
      "Try using .loc[row_indexer,col_indexer] = value instead\n",
      "\n",
      "See the caveats in the documentation: https://pandas.pydata.org/pandas-docs/stable/user_guide/indexing.html#returning-a-view-versus-a-copy\n",
      "  injury_data['Total.Injuries'] = injury_data[['Total.Fatal.Injuries',\n"
     ]
    },
    {
     "data": {
      "text/html": [
       "<div>\n",
       "<style scoped>\n",
       "    .dataframe tbody tr th:only-of-type {\n",
       "        vertical-align: middle;\n",
       "    }\n",
       "\n",
       "    .dataframe tbody tr th {\n",
       "        vertical-align: top;\n",
       "    }\n",
       "\n",
       "    .dataframe thead th {\n",
       "        text-align: right;\n",
       "    }\n",
       "</style>\n",
       "<table border=\"1\" class=\"dataframe\">\n",
       "  <thead>\n",
       "    <tr style=\"text-align: right;\">\n",
       "      <th></th>\n",
       "      <th>Make</th>\n",
       "      <th>Model</th>\n",
       "      <th>Total.Fatal.Injuries</th>\n",
       "      <th>Total.Serious.Injuries</th>\n",
       "      <th>Total.Minor.Injuries</th>\n",
       "      <th>Total.Uninjured</th>\n",
       "      <th>Total.Injuries</th>\n",
       "    </tr>\n",
       "  </thead>\n",
       "  <tbody>\n",
       "    <tr>\n",
       "      <th>58182</th>\n",
       "      <td>Cessna</td>\n",
       "      <td>402C</td>\n",
       "      <td>0.0</td>\n",
       "      <td>0.0</td>\n",
       "      <td>0.0</td>\n",
       "      <td>1.0</td>\n",
       "      <td>0.0</td>\n",
       "    </tr>\n",
       "    <tr>\n",
       "      <th>58289</th>\n",
       "      <td>Reims Aviation</td>\n",
       "      <td>F406</td>\n",
       "      <td>0.0</td>\n",
       "      <td>0.0</td>\n",
       "      <td>0.0</td>\n",
       "      <td>1.0</td>\n",
       "      <td>0.0</td>\n",
       "    </tr>\n",
       "    <tr>\n",
       "      <th>58796</th>\n",
       "      <td>Israel Aircraft Industries</td>\n",
       "      <td>1124A</td>\n",
       "      <td>0.0</td>\n",
       "      <td>0.0</td>\n",
       "      <td>0.0</td>\n",
       "      <td>7.0</td>\n",
       "      <td>0.0</td>\n",
       "    </tr>\n",
       "    <tr>\n",
       "      <th>59365</th>\n",
       "      <td>Air Tractor</td>\n",
       "      <td>At-401</td>\n",
       "      <td>0.0</td>\n",
       "      <td>0.0</td>\n",
       "      <td>0.0</td>\n",
       "      <td>1.0</td>\n",
       "      <td>0.0</td>\n",
       "    </tr>\n",
       "    <tr>\n",
       "      <th>59803</th>\n",
       "      <td>Cessna</td>\n",
       "      <td>172M</td>\n",
       "      <td>0.0</td>\n",
       "      <td>0.0</td>\n",
       "      <td>0.0</td>\n",
       "      <td>1.0</td>\n",
       "      <td>0.0</td>\n",
       "    </tr>\n",
       "  </tbody>\n",
       "</table>\n",
       "</div>"
      ],
      "text/plain": [
       "                             Make   Model  Total.Fatal.Injuries  \\\n",
       "58182                      Cessna    402C                   0.0   \n",
       "58289              Reims Aviation    F406                   0.0   \n",
       "58796  Israel Aircraft Industries   1124A                   0.0   \n",
       "59365                 Air Tractor  At-401                   0.0   \n",
       "59803                      Cessna    172M                   0.0   \n",
       "\n",
       "       Total.Serious.Injuries  Total.Minor.Injuries  Total.Uninjured  \\\n",
       "58182                     0.0                   0.0              1.0   \n",
       "58289                     0.0                   0.0              1.0   \n",
       "58796                     0.0                   0.0              7.0   \n",
       "59365                     0.0                   0.0              1.0   \n",
       "59803                     0.0                   0.0              1.0   \n",
       "\n",
       "       Total.Injuries  \n",
       "58182             0.0  \n",
       "58289             0.0  \n",
       "58796             0.0  \n",
       "59365             0.0  \n",
       "59803             0.0  "
      ]
     },
     "execution_count": 1347,
     "metadata": {},
     "output_type": "execute_result"
    }
   ],
   "source": [
    "#Add column that contains the total injuries per aircraft \n",
    "\n",
    "injury_data['Total.Injuries'] = injury_data[['Total.Fatal.Injuries',\n",
    "                                             'Total.Serious.Injuries',\n",
    "                                             'Total.Minor.Injuries']].sum(axis=1)\n",
    "\n",
    "injury_data.head()"
   ]
  },
  {
   "cell_type": "code",
   "execution_count": 1342,
   "id": "e4cad76b",
   "metadata": {},
   "outputs": [],
   "source": [
    "#Make_Model_piv = pd.pivot_table(injury_data, values='Total.Injuries', index=['Make', 'Model'], aggfunc='sum')\n",
    "\n",
    "#Make_Model_piv.head()"
   ]
  },
  {
   "cell_type": "markdown",
   "id": "12a7b6b6",
   "metadata": {},
   "source": [
    "Total injuries includes 'Total.Fatal.Injuries' + 'Total.Serious Injuries' + 'Total.Minor.Injuries'"
   ]
  },
  {
   "cell_type": "code",
   "execution_count": 1349,
   "id": "86b2cf2d",
   "metadata": {},
   "outputs": [
    {
     "data": {
      "text/html": [
       "<div>\n",
       "<style scoped>\n",
       "    .dataframe tbody tr th:only-of-type {\n",
       "        vertical-align: middle;\n",
       "    }\n",
       "\n",
       "    .dataframe tbody tr th {\n",
       "        vertical-align: top;\n",
       "    }\n",
       "\n",
       "    .dataframe thead th {\n",
       "        text-align: right;\n",
       "    }\n",
       "</style>\n",
       "<table border=\"1\" class=\"dataframe\">\n",
       "  <thead>\n",
       "    <tr style=\"text-align: right;\">\n",
       "      <th></th>\n",
       "      <th>Make</th>\n",
       "      <th>Model</th>\n",
       "      <th>Total.Fatal.Injuries</th>\n",
       "      <th>Total.Serious.Injuries</th>\n",
       "      <th>Total.Minor.Injuries</th>\n",
       "      <th>Total.Uninjured</th>\n",
       "      <th>Total.Injuries</th>\n",
       "    </tr>\n",
       "  </thead>\n",
       "  <tbody>\n",
       "    <tr>\n",
       "      <th>58182</th>\n",
       "      <td>Cessna</td>\n",
       "      <td>402C</td>\n",
       "      <td>0.0</td>\n",
       "      <td>0.0</td>\n",
       "      <td>0.0</td>\n",
       "      <td>1.0</td>\n",
       "      <td>0.0</td>\n",
       "    </tr>\n",
       "    <tr>\n",
       "      <th>75609</th>\n",
       "      <td>Eurocopter</td>\n",
       "      <td>As 350 B3</td>\n",
       "      <td>0.0</td>\n",
       "      <td>0.0</td>\n",
       "      <td>0.0</td>\n",
       "      <td>3.0</td>\n",
       "      <td>0.0</td>\n",
       "    </tr>\n",
       "    <tr>\n",
       "      <th>75606</th>\n",
       "      <td>Dehavilland</td>\n",
       "      <td>Dhc 2</td>\n",
       "      <td>0.0</td>\n",
       "      <td>0.0</td>\n",
       "      <td>0.0</td>\n",
       "      <td>1.0</td>\n",
       "      <td>0.0</td>\n",
       "    </tr>\n",
       "    <tr>\n",
       "      <th>75503</th>\n",
       "      <td>Cirrus Design Corp</td>\n",
       "      <td>Sr22</td>\n",
       "      <td>0.0</td>\n",
       "      <td>0.0</td>\n",
       "      <td>0.0</td>\n",
       "      <td>2.0</td>\n",
       "      <td>0.0</td>\n",
       "    </tr>\n",
       "    <tr>\n",
       "      <th>75439</th>\n",
       "      <td>Dehavilland</td>\n",
       "      <td>Dhc 6 200</td>\n",
       "      <td>0.0</td>\n",
       "      <td>0.0</td>\n",
       "      <td>0.0</td>\n",
       "      <td>1.0</td>\n",
       "      <td>0.0</td>\n",
       "    </tr>\n",
       "    <tr>\n",
       "      <th>75319</th>\n",
       "      <td>Raytheon Aircraft Company</td>\n",
       "      <td>400A</td>\n",
       "      <td>0.0</td>\n",
       "      <td>0.0</td>\n",
       "      <td>0.0</td>\n",
       "      <td>2.0</td>\n",
       "      <td>0.0</td>\n",
       "    </tr>\n",
       "    <tr>\n",
       "      <th>75055</th>\n",
       "      <td>Raytheon Aircraft Company</td>\n",
       "      <td>400A</td>\n",
       "      <td>0.0</td>\n",
       "      <td>0.0</td>\n",
       "      <td>0.0</td>\n",
       "      <td>7.0</td>\n",
       "      <td>0.0</td>\n",
       "    </tr>\n",
       "    <tr>\n",
       "      <th>74537</th>\n",
       "      <td>Piper</td>\n",
       "      <td>Pa 46 350P</td>\n",
       "      <td>0.0</td>\n",
       "      <td>0.0</td>\n",
       "      <td>0.0</td>\n",
       "      <td>1.0</td>\n",
       "      <td>0.0</td>\n",
       "    </tr>\n",
       "    <tr>\n",
       "      <th>73907</th>\n",
       "      <td>Iai</td>\n",
       "      <td>Gulfstream200</td>\n",
       "      <td>0.0</td>\n",
       "      <td>0.0</td>\n",
       "      <td>0.0</td>\n",
       "      <td>5.0</td>\n",
       "      <td>0.0</td>\n",
       "    </tr>\n",
       "    <tr>\n",
       "      <th>73665</th>\n",
       "      <td>Schweizer Aircraft Corp</td>\n",
       "      <td>G-164B</td>\n",
       "      <td>0.0</td>\n",
       "      <td>0.0</td>\n",
       "      <td>0.0</td>\n",
       "      <td>1.0</td>\n",
       "      <td>0.0</td>\n",
       "    </tr>\n",
       "    <tr>\n",
       "      <th>73585</th>\n",
       "      <td>Piaggio</td>\n",
       "      <td>P180</td>\n",
       "      <td>0.0</td>\n",
       "      <td>0.0</td>\n",
       "      <td>0.0</td>\n",
       "      <td>6.0</td>\n",
       "      <td>0.0</td>\n",
       "    </tr>\n",
       "    <tr>\n",
       "      <th>73077</th>\n",
       "      <td>Cessna</td>\n",
       "      <td>172F</td>\n",
       "      <td>0.0</td>\n",
       "      <td>0.0</td>\n",
       "      <td>0.0</td>\n",
       "      <td>1.0</td>\n",
       "      <td>0.0</td>\n",
       "    </tr>\n",
       "    <tr>\n",
       "      <th>75732</th>\n",
       "      <td>Beech</td>\n",
       "      <td>B100</td>\n",
       "      <td>0.0</td>\n",
       "      <td>0.0</td>\n",
       "      <td>0.0</td>\n",
       "      <td>1.0</td>\n",
       "      <td>0.0</td>\n",
       "    </tr>\n",
       "    <tr>\n",
       "      <th>73006</th>\n",
       "      <td>Swearingen</td>\n",
       "      <td>Sa226</td>\n",
       "      <td>0.0</td>\n",
       "      <td>0.0</td>\n",
       "      <td>0.0</td>\n",
       "      <td>3.0</td>\n",
       "      <td>0.0</td>\n",
       "    </tr>\n",
       "    <tr>\n",
       "      <th>72475</th>\n",
       "      <td>Cessna</td>\n",
       "      <td>560Xl</td>\n",
       "      <td>0.0</td>\n",
       "      <td>0.0</td>\n",
       "      <td>0.0</td>\n",
       "      <td>8.0</td>\n",
       "      <td>0.0</td>\n",
       "    </tr>\n",
       "    <tr>\n",
       "      <th>72263</th>\n",
       "      <td>Flight Design Gmbh</td>\n",
       "      <td>Ctls</td>\n",
       "      <td>0.0</td>\n",
       "      <td>0.0</td>\n",
       "      <td>0.0</td>\n",
       "      <td>1.0</td>\n",
       "      <td>0.0</td>\n",
       "    </tr>\n",
       "    <tr>\n",
       "      <th>72043</th>\n",
       "      <td>Cessna</td>\n",
       "      <td>560</td>\n",
       "      <td>0.0</td>\n",
       "      <td>0.0</td>\n",
       "      <td>0.0</td>\n",
       "      <td>5.0</td>\n",
       "      <td>0.0</td>\n",
       "    </tr>\n",
       "    <tr>\n",
       "      <th>71925</th>\n",
       "      <td>Cessna</td>\n",
       "      <td>182</td>\n",
       "      <td>0.0</td>\n",
       "      <td>0.0</td>\n",
       "      <td>0.0</td>\n",
       "      <td>5.0</td>\n",
       "      <td>0.0</td>\n",
       "    </tr>\n",
       "    <tr>\n",
       "      <th>71360</th>\n",
       "      <td>Embraer</td>\n",
       "      <td>Emb-500</td>\n",
       "      <td>0.0</td>\n",
       "      <td>0.0</td>\n",
       "      <td>0.0</td>\n",
       "      <td>3.0</td>\n",
       "      <td>0.0</td>\n",
       "    </tr>\n",
       "    <tr>\n",
       "      <th>71353</th>\n",
       "      <td>Gulfstream</td>\n",
       "      <td>G150</td>\n",
       "      <td>0.0</td>\n",
       "      <td>0.0</td>\n",
       "      <td>0.0</td>\n",
       "      <td>2.0</td>\n",
       "      <td>0.0</td>\n",
       "    </tr>\n",
       "  </tbody>\n",
       "</table>\n",
       "</div>"
      ],
      "text/plain": [
       "                            Make          Model  Total.Fatal.Injuries  \\\n",
       "58182                     Cessna           402C                   0.0   \n",
       "75609                 Eurocopter      As 350 B3                   0.0   \n",
       "75606                Dehavilland          Dhc 2                   0.0   \n",
       "75503         Cirrus Design Corp           Sr22                   0.0   \n",
       "75439                Dehavilland      Dhc 6 200                   0.0   \n",
       "75319  Raytheon Aircraft Company           400A                   0.0   \n",
       "75055  Raytheon Aircraft Company           400A                   0.0   \n",
       "74537                      Piper     Pa 46 350P                   0.0   \n",
       "73907                        Iai  Gulfstream200                   0.0   \n",
       "73665    Schweizer Aircraft Corp         G-164B                   0.0   \n",
       "73585                    Piaggio           P180                   0.0   \n",
       "73077                     Cessna           172F                   0.0   \n",
       "75732                      Beech           B100                   0.0   \n",
       "73006                 Swearingen          Sa226                   0.0   \n",
       "72475                     Cessna          560Xl                   0.0   \n",
       "72263         Flight Design Gmbh           Ctls                   0.0   \n",
       "72043                     Cessna            560                   0.0   \n",
       "71925                     Cessna            182                   0.0   \n",
       "71360                    Embraer        Emb-500                   0.0   \n",
       "71353                 Gulfstream           G150                   0.0   \n",
       "\n",
       "       Total.Serious.Injuries  Total.Minor.Injuries  Total.Uninjured  \\\n",
       "58182                     0.0                   0.0              1.0   \n",
       "75609                     0.0                   0.0              3.0   \n",
       "75606                     0.0                   0.0              1.0   \n",
       "75503                     0.0                   0.0              2.0   \n",
       "75439                     0.0                   0.0              1.0   \n",
       "75319                     0.0                   0.0              2.0   \n",
       "75055                     0.0                   0.0              7.0   \n",
       "74537                     0.0                   0.0              1.0   \n",
       "73907                     0.0                   0.0              5.0   \n",
       "73665                     0.0                   0.0              1.0   \n",
       "73585                     0.0                   0.0              6.0   \n",
       "73077                     0.0                   0.0              1.0   \n",
       "75732                     0.0                   0.0              1.0   \n",
       "73006                     0.0                   0.0              3.0   \n",
       "72475                     0.0                   0.0              8.0   \n",
       "72263                     0.0                   0.0              1.0   \n",
       "72043                     0.0                   0.0              5.0   \n",
       "71925                     0.0                   0.0              5.0   \n",
       "71360                     0.0                   0.0              3.0   \n",
       "71353                     0.0                   0.0              2.0   \n",
       "\n",
       "       Total.Injuries  \n",
       "58182             0.0  \n",
       "75609             0.0  \n",
       "75606             0.0  \n",
       "75503             0.0  \n",
       "75439             0.0  \n",
       "75319             0.0  \n",
       "75055             0.0  \n",
       "74537             0.0  \n",
       "73907             0.0  \n",
       "73665             0.0  \n",
       "73585             0.0  \n",
       "73077             0.0  \n",
       "75732             0.0  \n",
       "73006             0.0  \n",
       "72475             0.0  \n",
       "72263             0.0  \n",
       "72043             0.0  \n",
       "71925             0.0  \n",
       "71360             0.0  \n",
       "71353             0.0  "
      ]
     },
     "execution_count": 1349,
     "metadata": {},
     "output_type": "execute_result"
    }
   ],
   "source": [
    "#Create a group with the make model and total injuries ranked from least to most\n",
    "\n",
    "Make_Model_grp = injury_data.groupby(['Make', 'Model'])['Total.Injuries'].sum().reset_index()\n",
    "\n",
    "#Add a column that combines 'Make' and 'Model' to 'Aircraft Type'\n",
    "Make_Model_grp['Aircraft Type'] = Make_Model_grp['Make'] + ' ' + Make_Model_grp['Model']\n",
    "\n",
    "#Sort by Total.Injuries\n",
    "Make_Model_grp = injury_data.sort_values(by='Total.Injuries')\n",
    "Make_Model_grp.head(20)\n"
   ]
  },
  {
   "cell_type": "code",
   "execution_count": 1350,
   "id": "93832c83",
   "metadata": {},
   "outputs": [
    {
     "name": "stdout",
     "output_type": "stream",
     "text": [
      "<class 'pandas.core.frame.DataFrame'>\n",
      "Int64Index: 126 entries, 58182 to 61486\n",
      "Data columns (total 7 columns):\n",
      " #   Column                  Non-Null Count  Dtype  \n",
      "---  ------                  --------------  -----  \n",
      " 0   Make                    126 non-null    object \n",
      " 1   Model                   126 non-null    object \n",
      " 2   Total.Fatal.Injuries    126 non-null    float64\n",
      " 3   Total.Serious.Injuries  126 non-null    float64\n",
      " 4   Total.Minor.Injuries    126 non-null    float64\n",
      " 5   Total.Uninjured         126 non-null    float64\n",
      " 6   Total.Injuries          126 non-null    float64\n",
      "dtypes: float64(5), object(2)\n",
      "memory usage: 7.9+ KB\n"
     ]
    }
   ],
   "source": [
    "Make_Model_grp.info()"
   ]
  },
  {
   "cell_type": "code",
   "execution_count": 1351,
   "id": "a84e905f",
   "metadata": {},
   "outputs": [
    {
     "data": {
      "text/plain": [
       "'CessnaEurocopterDehavillandCirrus Design CorpRaytheon Aircraft CompanyPiperIaiSchweizer Aircraft CorpPiaggioBeechSwearingenFlight Design GmbhEmbraerGulfstreamBombardierFlight DesignBombardier IncBoeingAero CommanderRaytheonColumbia Aircraft MfgReims Aviation S.A.Short BrosCirrusDassault-BreguetGulfstream AerospaceEnstromHawker Beechcraft Corp.Robinson HelicopterTaylorcraftMd Helicopters IncEclipse Aviation CorporationDiamond Aircraft Ind IncLearjetDassault AviationRaytheon Corporate JetsAir TractorIsrael Aircraft IndustriesReims AviationMcdonnell DouglasAgustaBellIndus Aviation IncMd HelicopterLiberty Aerospace IncorporatedShort Bros. & HarlandMd Helicopter IncMcdonnell Douglas HelicopterHeadGrobPowrachute CorpAerostar InternationalAndrewsAyresUltramagicPowrachute LlcUltramagic SaSchweizerPiper Aircraft, Inc.'"
      ]
     },
     "execution_count": 1351,
     "metadata": {},
     "output_type": "execute_result"
    }
   ],
   "source": [
    "Make_Model_grp['Make'].unique().sum()"
   ]
  },
  {
   "cell_type": "code",
   "execution_count": null,
   "id": "101008cf",
   "metadata": {},
   "outputs": [],
   "source": []
  }
 ],
 "metadata": {
  "kernelspec": {
   "display_name": "learn-env",
   "language": "python",
   "name": "python3"
  },
  "language_info": {
   "codemirror_mode": {
    "name": "ipython",
    "version": 3
   },
   "file_extension": ".py",
   "mimetype": "text/x-python",
   "name": "python",
   "nbconvert_exporter": "python",
   "pygments_lexer": "ipython3",
   "version": "3.8.5"
  }
 },
 "nbformat": 4,
 "nbformat_minor": 5
}
