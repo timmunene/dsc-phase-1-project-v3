{
 "cells": [
  {
   "cell_type": "markdown",
   "id": "60407e9c",
   "metadata": {},
   "source": [
    "## Final Project Submission\n",
    "\n",
    "Please fill out:\n",
    "* Student name: Timothy M. Ikiao\n",
    "* Student pace: part time \n",
    "* Scheduled project review date/time: \n",
    "* Instructor name: Brian Chacha\n",
    "* Blog post URL:\n",
    "\n",
    "# Your code here - remember to use markdown cells for comments as well!\n"
   ]
  },
  {
   "cell_type": "code",
   "execution_count": null,
   "id": "b3f4266e",
   "metadata": {},
   "outputs": [],
   "source": []
  },
  {
   "cell_type": "markdown",
   "id": "cd821e6a",
   "metadata": {},
   "source": [
    "# Aircraft Safety \n",
    "We shall use National Transportation Safety Board (1962 - 2023) civil aviation data to achieve our objectives\n",
    "\n",
    "## Objective\n",
    "- Determine the lowest risk aircraft for a new business endeavor in commercial and private enterprises\n",
    "- Incorporate information on purchasing and operating aircraft for commercial and private enterprises where available\n",
    "- Draft actionable insights for new head of aviation division to decide which aircraft to purchase"
   ]
  },
  {
   "cell_type": "code",
   "execution_count": 114,
   "id": "afe1ca0d",
   "metadata": {},
   "outputs": [
    {
     "name": "stderr",
     "output_type": "stream",
     "text": [
      "c:\\Users\\adamin\\anaconda3\\envs\\learn-env\\lib\\site-packages\\IPython\\core\\interactiveshell.py:3145: DtypeWarning: Columns (6,7,28) have mixed types.Specify dtype option on import or set low_memory=False.\n",
      "  has_raised = await self.run_ast_nodes(code_ast.body, cell_name,\n"
     ]
    },
    {
     "data": {
      "text/html": [
       "<div>\n",
       "<style scoped>\n",
       "    .dataframe tbody tr th:only-of-type {\n",
       "        vertical-align: middle;\n",
       "    }\n",
       "\n",
       "    .dataframe tbody tr th {\n",
       "        vertical-align: top;\n",
       "    }\n",
       "\n",
       "    .dataframe thead th {\n",
       "        text-align: right;\n",
       "    }\n",
       "</style>\n",
       "<table border=\"1\" class=\"dataframe\">\n",
       "  <thead>\n",
       "    <tr style=\"text-align: right;\">\n",
       "      <th></th>\n",
       "      <th>Event.Id</th>\n",
       "      <th>Investigation.Type</th>\n",
       "      <th>Accident.Number</th>\n",
       "      <th>Event.Date</th>\n",
       "      <th>Location</th>\n",
       "      <th>Country</th>\n",
       "      <th>Latitude</th>\n",
       "      <th>Longitude</th>\n",
       "      <th>Airport.Code</th>\n",
       "      <th>Airport.Name</th>\n",
       "      <th>...</th>\n",
       "      <th>Purpose.of.flight</th>\n",
       "      <th>Air.carrier</th>\n",
       "      <th>Total.Fatal.Injuries</th>\n",
       "      <th>Total.Serious.Injuries</th>\n",
       "      <th>Total.Minor.Injuries</th>\n",
       "      <th>Total.Uninjured</th>\n",
       "      <th>Weather.Condition</th>\n",
       "      <th>Broad.phase.of.flight</th>\n",
       "      <th>Report.Status</th>\n",
       "      <th>Publication.Date</th>\n",
       "    </tr>\n",
       "  </thead>\n",
       "  <tbody>\n",
       "    <tr>\n",
       "      <th>0</th>\n",
       "      <td>20001218X45444</td>\n",
       "      <td>Accident</td>\n",
       "      <td>SEA87LA080</td>\n",
       "      <td>1948-10-24</td>\n",
       "      <td>MOOSE CREEK, ID</td>\n",
       "      <td>United States</td>\n",
       "      <td>NaN</td>\n",
       "      <td>NaN</td>\n",
       "      <td>NaN</td>\n",
       "      <td>NaN</td>\n",
       "      <td>...</td>\n",
       "      <td>Personal</td>\n",
       "      <td>NaN</td>\n",
       "      <td>2.0</td>\n",
       "      <td>0.0</td>\n",
       "      <td>0.0</td>\n",
       "      <td>0.0</td>\n",
       "      <td>UNK</td>\n",
       "      <td>Cruise</td>\n",
       "      <td>Probable Cause</td>\n",
       "      <td>NaN</td>\n",
       "    </tr>\n",
       "    <tr>\n",
       "      <th>1</th>\n",
       "      <td>20001218X45447</td>\n",
       "      <td>Accident</td>\n",
       "      <td>LAX94LA336</td>\n",
       "      <td>1962-07-19</td>\n",
       "      <td>BRIDGEPORT, CA</td>\n",
       "      <td>United States</td>\n",
       "      <td>NaN</td>\n",
       "      <td>NaN</td>\n",
       "      <td>NaN</td>\n",
       "      <td>NaN</td>\n",
       "      <td>...</td>\n",
       "      <td>Personal</td>\n",
       "      <td>NaN</td>\n",
       "      <td>4.0</td>\n",
       "      <td>0.0</td>\n",
       "      <td>0.0</td>\n",
       "      <td>0.0</td>\n",
       "      <td>UNK</td>\n",
       "      <td>Unknown</td>\n",
       "      <td>Probable Cause</td>\n",
       "      <td>19-09-1996</td>\n",
       "    </tr>\n",
       "    <tr>\n",
       "      <th>2</th>\n",
       "      <td>20061025X01555</td>\n",
       "      <td>Accident</td>\n",
       "      <td>NYC07LA005</td>\n",
       "      <td>1974-08-30</td>\n",
       "      <td>Saltville, VA</td>\n",
       "      <td>United States</td>\n",
       "      <td>36.9222</td>\n",
       "      <td>-81.8781</td>\n",
       "      <td>NaN</td>\n",
       "      <td>NaN</td>\n",
       "      <td>...</td>\n",
       "      <td>Personal</td>\n",
       "      <td>NaN</td>\n",
       "      <td>3.0</td>\n",
       "      <td>NaN</td>\n",
       "      <td>NaN</td>\n",
       "      <td>NaN</td>\n",
       "      <td>IMC</td>\n",
       "      <td>Cruise</td>\n",
       "      <td>Probable Cause</td>\n",
       "      <td>26-02-2007</td>\n",
       "    </tr>\n",
       "    <tr>\n",
       "      <th>3</th>\n",
       "      <td>20001218X45448</td>\n",
       "      <td>Accident</td>\n",
       "      <td>LAX96LA321</td>\n",
       "      <td>1977-06-19</td>\n",
       "      <td>EUREKA, CA</td>\n",
       "      <td>United States</td>\n",
       "      <td>NaN</td>\n",
       "      <td>NaN</td>\n",
       "      <td>NaN</td>\n",
       "      <td>NaN</td>\n",
       "      <td>...</td>\n",
       "      <td>Personal</td>\n",
       "      <td>NaN</td>\n",
       "      <td>2.0</td>\n",
       "      <td>0.0</td>\n",
       "      <td>0.0</td>\n",
       "      <td>0.0</td>\n",
       "      <td>IMC</td>\n",
       "      <td>Cruise</td>\n",
       "      <td>Probable Cause</td>\n",
       "      <td>12-09-2000</td>\n",
       "    </tr>\n",
       "    <tr>\n",
       "      <th>4</th>\n",
       "      <td>20041105X01764</td>\n",
       "      <td>Accident</td>\n",
       "      <td>CHI79FA064</td>\n",
       "      <td>1979-08-02</td>\n",
       "      <td>Canton, OH</td>\n",
       "      <td>United States</td>\n",
       "      <td>NaN</td>\n",
       "      <td>NaN</td>\n",
       "      <td>NaN</td>\n",
       "      <td>NaN</td>\n",
       "      <td>...</td>\n",
       "      <td>Personal</td>\n",
       "      <td>NaN</td>\n",
       "      <td>1.0</td>\n",
       "      <td>2.0</td>\n",
       "      <td>NaN</td>\n",
       "      <td>0.0</td>\n",
       "      <td>VMC</td>\n",
       "      <td>Approach</td>\n",
       "      <td>Probable Cause</td>\n",
       "      <td>16-04-1980</td>\n",
       "    </tr>\n",
       "  </tbody>\n",
       "</table>\n",
       "<p>5 rows × 31 columns</p>\n",
       "</div>"
      ],
      "text/plain": [
       "         Event.Id Investigation.Type Accident.Number  Event.Date  \\\n",
       "0  20001218X45444           Accident      SEA87LA080  1948-10-24   \n",
       "1  20001218X45447           Accident      LAX94LA336  1962-07-19   \n",
       "2  20061025X01555           Accident      NYC07LA005  1974-08-30   \n",
       "3  20001218X45448           Accident      LAX96LA321  1977-06-19   \n",
       "4  20041105X01764           Accident      CHI79FA064  1979-08-02   \n",
       "\n",
       "          Location        Country Latitude Longitude Airport.Code  \\\n",
       "0  MOOSE CREEK, ID  United States      NaN       NaN          NaN   \n",
       "1   BRIDGEPORT, CA  United States      NaN       NaN          NaN   \n",
       "2    Saltville, VA  United States  36.9222  -81.8781          NaN   \n",
       "3       EUREKA, CA  United States      NaN       NaN          NaN   \n",
       "4       Canton, OH  United States      NaN       NaN          NaN   \n",
       "\n",
       "  Airport.Name  ... Purpose.of.flight Air.carrier Total.Fatal.Injuries  \\\n",
       "0          NaN  ...          Personal         NaN                  2.0   \n",
       "1          NaN  ...          Personal         NaN                  4.0   \n",
       "2          NaN  ...          Personal         NaN                  3.0   \n",
       "3          NaN  ...          Personal         NaN                  2.0   \n",
       "4          NaN  ...          Personal         NaN                  1.0   \n",
       "\n",
       "  Total.Serious.Injuries Total.Minor.Injuries Total.Uninjured  \\\n",
       "0                    0.0                  0.0             0.0   \n",
       "1                    0.0                  0.0             0.0   \n",
       "2                    NaN                  NaN             NaN   \n",
       "3                    0.0                  0.0             0.0   \n",
       "4                    2.0                  NaN             0.0   \n",
       "\n",
       "  Weather.Condition  Broad.phase.of.flight   Report.Status Publication.Date  \n",
       "0               UNK                 Cruise  Probable Cause              NaN  \n",
       "1               UNK                Unknown  Probable Cause       19-09-1996  \n",
       "2               IMC                 Cruise  Probable Cause       26-02-2007  \n",
       "3               IMC                 Cruise  Probable Cause       12-09-2000  \n",
       "4               VMC               Approach  Probable Cause       16-04-1980  \n",
       "\n",
       "[5 rows x 31 columns]"
      ]
     },
     "execution_count": 114,
     "metadata": {},
     "output_type": "execute_result"
    }
   ],
   "source": [
    "#import pandas\n",
    "import pandas as pd\n",
    "\n",
    "#import the data set\n",
    "av_data = pd.read_csv(r'C:\\Users\\adamin\\Documents\\Moringa\\phase_one\\Phase_one_project\\dsc-phase-1-project-v3\\data\\Aviation_Data.csv')\n",
    "\n",
    "#View the first five rows to begin understanding the dataset\n",
    "av_data.head()"
   ]
  },
  {
   "cell_type": "code",
   "execution_count": 115,
   "id": "8fa7ac18",
   "metadata": {},
   "outputs": [
    {
     "data": {
      "text/html": [
       "<div>\n",
       "<style scoped>\n",
       "    .dataframe tbody tr th:only-of-type {\n",
       "        vertical-align: middle;\n",
       "    }\n",
       "\n",
       "    .dataframe tbody tr th {\n",
       "        vertical-align: top;\n",
       "    }\n",
       "\n",
       "    .dataframe thead th {\n",
       "        text-align: right;\n",
       "    }\n",
       "</style>\n",
       "<table border=\"1\" class=\"dataframe\">\n",
       "  <thead>\n",
       "    <tr style=\"text-align: right;\">\n",
       "      <th></th>\n",
       "      <th>Event.Id</th>\n",
       "      <th>Investigation.Type</th>\n",
       "      <th>Accident.Number</th>\n",
       "      <th>Event.Date</th>\n",
       "      <th>Location</th>\n",
       "      <th>Country</th>\n",
       "      <th>Latitude</th>\n",
       "      <th>Longitude</th>\n",
       "      <th>Airport.Code</th>\n",
       "      <th>Airport.Name</th>\n",
       "      <th>...</th>\n",
       "      <th>Purpose.of.flight</th>\n",
       "      <th>Air.carrier</th>\n",
       "      <th>Total.Fatal.Injuries</th>\n",
       "      <th>Total.Serious.Injuries</th>\n",
       "      <th>Total.Minor.Injuries</th>\n",
       "      <th>Total.Uninjured</th>\n",
       "      <th>Weather.Condition</th>\n",
       "      <th>Broad.phase.of.flight</th>\n",
       "      <th>Report.Status</th>\n",
       "      <th>Publication.Date</th>\n",
       "    </tr>\n",
       "  </thead>\n",
       "  <tbody>\n",
       "    <tr>\n",
       "      <th>90343</th>\n",
       "      <td>20221227106491</td>\n",
       "      <td>Accident</td>\n",
       "      <td>ERA23LA093</td>\n",
       "      <td>2022-12-26</td>\n",
       "      <td>Annapolis, MD</td>\n",
       "      <td>United States</td>\n",
       "      <td>NaN</td>\n",
       "      <td>NaN</td>\n",
       "      <td>NaN</td>\n",
       "      <td>NaN</td>\n",
       "      <td>...</td>\n",
       "      <td>Personal</td>\n",
       "      <td>NaN</td>\n",
       "      <td>0.0</td>\n",
       "      <td>1.0</td>\n",
       "      <td>0.0</td>\n",
       "      <td>0.0</td>\n",
       "      <td>NaN</td>\n",
       "      <td>NaN</td>\n",
       "      <td>NaN</td>\n",
       "      <td>29-12-2022</td>\n",
       "    </tr>\n",
       "    <tr>\n",
       "      <th>90344</th>\n",
       "      <td>20221227106494</td>\n",
       "      <td>Accident</td>\n",
       "      <td>ERA23LA095</td>\n",
       "      <td>2022-12-26</td>\n",
       "      <td>Hampton, NH</td>\n",
       "      <td>United States</td>\n",
       "      <td>NaN</td>\n",
       "      <td>NaN</td>\n",
       "      <td>NaN</td>\n",
       "      <td>NaN</td>\n",
       "      <td>...</td>\n",
       "      <td>NaN</td>\n",
       "      <td>NaN</td>\n",
       "      <td>0.0</td>\n",
       "      <td>0.0</td>\n",
       "      <td>0.0</td>\n",
       "      <td>0.0</td>\n",
       "      <td>NaN</td>\n",
       "      <td>NaN</td>\n",
       "      <td>NaN</td>\n",
       "      <td>NaN</td>\n",
       "    </tr>\n",
       "    <tr>\n",
       "      <th>90345</th>\n",
       "      <td>20221227106497</td>\n",
       "      <td>Accident</td>\n",
       "      <td>WPR23LA075</td>\n",
       "      <td>2022-12-26</td>\n",
       "      <td>Payson, AZ</td>\n",
       "      <td>United States</td>\n",
       "      <td>341525N</td>\n",
       "      <td>1112021W</td>\n",
       "      <td>PAN</td>\n",
       "      <td>PAYSON</td>\n",
       "      <td>...</td>\n",
       "      <td>Personal</td>\n",
       "      <td>NaN</td>\n",
       "      <td>0.0</td>\n",
       "      <td>0.0</td>\n",
       "      <td>0.0</td>\n",
       "      <td>1.0</td>\n",
       "      <td>VMC</td>\n",
       "      <td>NaN</td>\n",
       "      <td>NaN</td>\n",
       "      <td>27-12-2022</td>\n",
       "    </tr>\n",
       "    <tr>\n",
       "      <th>90346</th>\n",
       "      <td>20221227106498</td>\n",
       "      <td>Accident</td>\n",
       "      <td>WPR23LA076</td>\n",
       "      <td>2022-12-26</td>\n",
       "      <td>Morgan, UT</td>\n",
       "      <td>United States</td>\n",
       "      <td>NaN</td>\n",
       "      <td>NaN</td>\n",
       "      <td>NaN</td>\n",
       "      <td>NaN</td>\n",
       "      <td>...</td>\n",
       "      <td>Personal</td>\n",
       "      <td>MC CESSNA 210N LLC</td>\n",
       "      <td>0.0</td>\n",
       "      <td>0.0</td>\n",
       "      <td>0.0</td>\n",
       "      <td>0.0</td>\n",
       "      <td>NaN</td>\n",
       "      <td>NaN</td>\n",
       "      <td>NaN</td>\n",
       "      <td>NaN</td>\n",
       "    </tr>\n",
       "    <tr>\n",
       "      <th>90347</th>\n",
       "      <td>20221230106513</td>\n",
       "      <td>Accident</td>\n",
       "      <td>ERA23LA097</td>\n",
       "      <td>2022-12-29</td>\n",
       "      <td>Athens, GA</td>\n",
       "      <td>United States</td>\n",
       "      <td>NaN</td>\n",
       "      <td>NaN</td>\n",
       "      <td>NaN</td>\n",
       "      <td>NaN</td>\n",
       "      <td>...</td>\n",
       "      <td>Personal</td>\n",
       "      <td>NaN</td>\n",
       "      <td>0.0</td>\n",
       "      <td>1.0</td>\n",
       "      <td>0.0</td>\n",
       "      <td>1.0</td>\n",
       "      <td>NaN</td>\n",
       "      <td>NaN</td>\n",
       "      <td>NaN</td>\n",
       "      <td>30-12-2022</td>\n",
       "    </tr>\n",
       "  </tbody>\n",
       "</table>\n",
       "<p>5 rows × 31 columns</p>\n",
       "</div>"
      ],
      "text/plain": [
       "             Event.Id Investigation.Type Accident.Number  Event.Date  \\\n",
       "90343  20221227106491           Accident      ERA23LA093  2022-12-26   \n",
       "90344  20221227106494           Accident      ERA23LA095  2022-12-26   \n",
       "90345  20221227106497           Accident      WPR23LA075  2022-12-26   \n",
       "90346  20221227106498           Accident      WPR23LA076  2022-12-26   \n",
       "90347  20221230106513           Accident      ERA23LA097  2022-12-29   \n",
       "\n",
       "            Location        Country Latitude Longitude Airport.Code  \\\n",
       "90343  Annapolis, MD  United States      NaN       NaN          NaN   \n",
       "90344    Hampton, NH  United States      NaN       NaN          NaN   \n",
       "90345     Payson, AZ  United States  341525N  1112021W          PAN   \n",
       "90346     Morgan, UT  United States      NaN       NaN          NaN   \n",
       "90347     Athens, GA  United States      NaN       NaN          NaN   \n",
       "\n",
       "      Airport.Name  ... Purpose.of.flight         Air.carrier  \\\n",
       "90343          NaN  ...          Personal                 NaN   \n",
       "90344          NaN  ...               NaN                 NaN   \n",
       "90345       PAYSON  ...          Personal                 NaN   \n",
       "90346          NaN  ...          Personal  MC CESSNA 210N LLC   \n",
       "90347          NaN  ...          Personal                 NaN   \n",
       "\n",
       "      Total.Fatal.Injuries Total.Serious.Injuries Total.Minor.Injuries  \\\n",
       "90343                  0.0                    1.0                  0.0   \n",
       "90344                  0.0                    0.0                  0.0   \n",
       "90345                  0.0                    0.0                  0.0   \n",
       "90346                  0.0                    0.0                  0.0   \n",
       "90347                  0.0                    1.0                  0.0   \n",
       "\n",
       "      Total.Uninjured Weather.Condition  Broad.phase.of.flight Report.Status  \\\n",
       "90343             0.0               NaN                    NaN           NaN   \n",
       "90344             0.0               NaN                    NaN           NaN   \n",
       "90345             1.0               VMC                    NaN           NaN   \n",
       "90346             0.0               NaN                    NaN           NaN   \n",
       "90347             1.0               NaN                    NaN           NaN   \n",
       "\n",
       "      Publication.Date  \n",
       "90343       29-12-2022  \n",
       "90344              NaN  \n",
       "90345       27-12-2022  \n",
       "90346              NaN  \n",
       "90347       30-12-2022  \n",
       "\n",
       "[5 rows x 31 columns]"
      ]
     },
     "execution_count": 115,
     "metadata": {},
     "output_type": "execute_result"
    }
   ],
   "source": [
    "#View the last five rows to understand teh dataset\n",
    "av_data.tail()"
   ]
  },
  {
   "cell_type": "code",
   "execution_count": 116,
   "id": "a94fcf2c",
   "metadata": {},
   "outputs": [
    {
     "name": "stdout",
     "output_type": "stream",
     "text": [
      "<class 'pandas.core.frame.DataFrame'>\n",
      "RangeIndex: 90348 entries, 0 to 90347\n",
      "Data columns (total 31 columns):\n",
      " #   Column                  Non-Null Count  Dtype  \n",
      "---  ------                  --------------  -----  \n",
      " 0   Event.Id                88889 non-null  object \n",
      " 1   Investigation.Type      90348 non-null  object \n",
      " 2   Accident.Number         88889 non-null  object \n",
      " 3   Event.Date              88889 non-null  object \n",
      " 4   Location                88837 non-null  object \n",
      " 5   Country                 88663 non-null  object \n",
      " 6   Latitude                34382 non-null  object \n",
      " 7   Longitude               34373 non-null  object \n",
      " 8   Airport.Code            50249 non-null  object \n",
      " 9   Airport.Name            52790 non-null  object \n",
      " 10  Injury.Severity         87889 non-null  object \n",
      " 11  Aircraft.damage         85695 non-null  object \n",
      " 12  Aircraft.Category       32287 non-null  object \n",
      " 13  Registration.Number     87572 non-null  object \n",
      " 14  Make                    88826 non-null  object \n",
      " 15  Model                   88797 non-null  object \n",
      " 16  Amateur.Built           88787 non-null  object \n",
      " 17  Number.of.Engines       82805 non-null  float64\n",
      " 18  Engine.Type             81812 non-null  object \n",
      " 19  FAR.Description         32023 non-null  object \n",
      " 20  Schedule                12582 non-null  object \n",
      " 21  Purpose.of.flight       82697 non-null  object \n",
      " 22  Air.carrier             16648 non-null  object \n",
      " 23  Total.Fatal.Injuries    77488 non-null  float64\n",
      " 24  Total.Serious.Injuries  76379 non-null  float64\n",
      " 25  Total.Minor.Injuries    76956 non-null  float64\n",
      " 26  Total.Uninjured         82977 non-null  float64\n",
      " 27  Weather.Condition       84397 non-null  object \n",
      " 28  Broad.phase.of.flight   61724 non-null  object \n",
      " 29  Report.Status           82508 non-null  object \n",
      " 30  Publication.Date        73659 non-null  object \n",
      "dtypes: float64(5), object(26)\n",
      "memory usage: 21.4+ MB\n"
     ]
    }
   ],
   "source": [
    "# Explore the dataset\n",
    "av_data.info()"
   ]
  },
  {
   "cell_type": "code",
   "execution_count": 117,
   "id": "0ba0b5ef",
   "metadata": {},
   "outputs": [
    {
     "data": {
      "text/plain": [
       "\"\\nThe data is loaded into a pandas data frame under the variable 'av_data'\\nData set has 31 columns with 90348 entries (rows)\\nNumerous columns have missing data with the exception of column 1 (Investigation type) where all the rows in the column have data.\\n\\n\""
      ]
     },
     "execution_count": 117,
     "metadata": {},
     "output_type": "execute_result"
    }
   ],
   "source": [
    "\"\"\"\n",
    "The data is loaded into a pandas data frame under the variable 'av_data'\n",
    "Data set has 31 columns with 90348 entries (rows)\n",
    "Numerous columns have missing data with the exception of column 1 (Investigation type) where all the rows in the column have data.\n",
    "\n",
    "\"\"\""
   ]
  },
  {
   "cell_type": "code",
   "execution_count": 118,
   "id": "4a8e874d",
   "metadata": {},
   "outputs": [
    {
     "data": {
      "text/html": [
       "<div>\n",
       "<style scoped>\n",
       "    .dataframe tbody tr th:only-of-type {\n",
       "        vertical-align: middle;\n",
       "    }\n",
       "\n",
       "    .dataframe tbody tr th {\n",
       "        vertical-align: top;\n",
       "    }\n",
       "\n",
       "    .dataframe thead th {\n",
       "        text-align: right;\n",
       "    }\n",
       "</style>\n",
       "<table border=\"1\" class=\"dataframe\">\n",
       "  <thead>\n",
       "    <tr style=\"text-align: right;\">\n",
       "      <th></th>\n",
       "      <th>Number.of.Engines</th>\n",
       "      <th>Total.Fatal.Injuries</th>\n",
       "      <th>Total.Serious.Injuries</th>\n",
       "      <th>Total.Minor.Injuries</th>\n",
       "      <th>Total.Uninjured</th>\n",
       "    </tr>\n",
       "  </thead>\n",
       "  <tbody>\n",
       "    <tr>\n",
       "      <th>count</th>\n",
       "      <td>82805.000000</td>\n",
       "      <td>77488.000000</td>\n",
       "      <td>76379.000000</td>\n",
       "      <td>76956.000000</td>\n",
       "      <td>82977.000000</td>\n",
       "    </tr>\n",
       "    <tr>\n",
       "      <th>mean</th>\n",
       "      <td>1.146585</td>\n",
       "      <td>0.647855</td>\n",
       "      <td>0.279881</td>\n",
       "      <td>0.357061</td>\n",
       "      <td>5.325440</td>\n",
       "    </tr>\n",
       "    <tr>\n",
       "      <th>std</th>\n",
       "      <td>0.446510</td>\n",
       "      <td>5.485960</td>\n",
       "      <td>1.544084</td>\n",
       "      <td>2.235625</td>\n",
       "      <td>27.913634</td>\n",
       "    </tr>\n",
       "    <tr>\n",
       "      <th>min</th>\n",
       "      <td>0.000000</td>\n",
       "      <td>0.000000</td>\n",
       "      <td>0.000000</td>\n",
       "      <td>0.000000</td>\n",
       "      <td>0.000000</td>\n",
       "    </tr>\n",
       "    <tr>\n",
       "      <th>25%</th>\n",
       "      <td>1.000000</td>\n",
       "      <td>0.000000</td>\n",
       "      <td>0.000000</td>\n",
       "      <td>0.000000</td>\n",
       "      <td>0.000000</td>\n",
       "    </tr>\n",
       "    <tr>\n",
       "      <th>50%</th>\n",
       "      <td>1.000000</td>\n",
       "      <td>0.000000</td>\n",
       "      <td>0.000000</td>\n",
       "      <td>0.000000</td>\n",
       "      <td>1.000000</td>\n",
       "    </tr>\n",
       "    <tr>\n",
       "      <th>75%</th>\n",
       "      <td>1.000000</td>\n",
       "      <td>0.000000</td>\n",
       "      <td>0.000000</td>\n",
       "      <td>0.000000</td>\n",
       "      <td>2.000000</td>\n",
       "    </tr>\n",
       "    <tr>\n",
       "      <th>max</th>\n",
       "      <td>8.000000</td>\n",
       "      <td>349.000000</td>\n",
       "      <td>161.000000</td>\n",
       "      <td>380.000000</td>\n",
       "      <td>699.000000</td>\n",
       "    </tr>\n",
       "  </tbody>\n",
       "</table>\n",
       "</div>"
      ],
      "text/plain": [
       "       Number.of.Engines  Total.Fatal.Injuries  Total.Serious.Injuries  \\\n",
       "count       82805.000000          77488.000000            76379.000000   \n",
       "mean            1.146585              0.647855                0.279881   \n",
       "std             0.446510              5.485960                1.544084   \n",
       "min             0.000000              0.000000                0.000000   \n",
       "25%             1.000000              0.000000                0.000000   \n",
       "50%             1.000000              0.000000                0.000000   \n",
       "75%             1.000000              0.000000                0.000000   \n",
       "max             8.000000            349.000000              161.000000   \n",
       "\n",
       "       Total.Minor.Injuries  Total.Uninjured  \n",
       "count          76956.000000     82977.000000  \n",
       "mean               0.357061         5.325440  \n",
       "std                2.235625        27.913634  \n",
       "min                0.000000         0.000000  \n",
       "25%                0.000000         0.000000  \n",
       "50%                0.000000         1.000000  \n",
       "75%                0.000000         2.000000  \n",
       "max              380.000000       699.000000  "
      ]
     },
     "execution_count": 118,
     "metadata": {},
     "output_type": "execute_result"
    }
   ],
   "source": [
    "av_data.describe() #for added description of numeric columns"
   ]
  },
  {
   "cell_type": "code",
   "execution_count": 119,
   "id": "620ebbb3",
   "metadata": {},
   "outputs": [
    {
     "data": {
      "text/plain": [
       "Index(['Event.Id', 'Investigation.Type', 'Accident.Number', 'Event.Date',\n",
       "       'Location', 'Country', 'Latitude', 'Longitude', 'Airport.Code',\n",
       "       'Airport.Name', 'Injury.Severity', 'Aircraft.damage',\n",
       "       'Aircraft.Category', 'Registration.Number', 'Make', 'Model',\n",
       "       'Amateur.Built', 'Number.of.Engines', 'Engine.Type', 'FAR.Description',\n",
       "       'Schedule', 'Purpose.of.flight', 'Air.carrier', 'Total.Fatal.Injuries',\n",
       "       'Total.Serious.Injuries', 'Total.Minor.Injuries', 'Total.Uninjured',\n",
       "       'Weather.Condition', 'Broad.phase.of.flight', 'Report.Status',\n",
       "       'Publication.Date'],\n",
       "      dtype='object')"
      ]
     },
     "execution_count": 119,
     "metadata": {},
     "output_type": "execute_result"
    }
   ],
   "source": [
    "av_data.columns  #Check the description of the columns"
   ]
  },
  {
   "cell_type": "markdown",
   "id": "a4ac251f",
   "metadata": {},
   "source": [
    "## 1. Data Cleaning\n",
    "    a. Check for and remove duplicates\n",
    "\n",
    "As mentioned above, numerous rows have missing data.\n",
    "We begin by cleaning this data to remove duplicates and resolve any missing data.\n"
   ]
  },
  {
   "cell_type": "code",
   "execution_count": 120,
   "id": "1e0fc5fc",
   "metadata": {},
   "outputs": [
    {
     "name": "stdout",
     "output_type": "stream",
     "text": [
      "There are 1390 duplicated rows.\n"
     ]
    }
   ],
   "source": [
    "#Find the summation of duplicated rows\n",
    "print(f\"There are {av_data.duplicated().sum()} duplicated rows.\")"
   ]
  },
  {
   "cell_type": "code",
   "execution_count": 121,
   "id": "6b59c61f",
   "metadata": {},
   "outputs": [
    {
     "data": {
      "text/html": [
       "<div>\n",
       "<style scoped>\n",
       "    .dataframe tbody tr th:only-of-type {\n",
       "        vertical-align: middle;\n",
       "    }\n",
       "\n",
       "    .dataframe tbody tr th {\n",
       "        vertical-align: top;\n",
       "    }\n",
       "\n",
       "    .dataframe thead th {\n",
       "        text-align: right;\n",
       "    }\n",
       "</style>\n",
       "<table border=\"1\" class=\"dataframe\">\n",
       "  <thead>\n",
       "    <tr style=\"text-align: right;\">\n",
       "      <th></th>\n",
       "      <th>Event.Id</th>\n",
       "      <th>Investigation.Type</th>\n",
       "      <th>Accident.Number</th>\n",
       "      <th>Event.Date</th>\n",
       "      <th>Location</th>\n",
       "      <th>Country</th>\n",
       "      <th>Latitude</th>\n",
       "      <th>Longitude</th>\n",
       "      <th>Airport.Code</th>\n",
       "      <th>Airport.Name</th>\n",
       "      <th>...</th>\n",
       "      <th>Purpose.of.flight</th>\n",
       "      <th>Air.carrier</th>\n",
       "      <th>Total.Fatal.Injuries</th>\n",
       "      <th>Total.Serious.Injuries</th>\n",
       "      <th>Total.Minor.Injuries</th>\n",
       "      <th>Total.Uninjured</th>\n",
       "      <th>Weather.Condition</th>\n",
       "      <th>Broad.phase.of.flight</th>\n",
       "      <th>Report.Status</th>\n",
       "      <th>Publication.Date</th>\n",
       "    </tr>\n",
       "  </thead>\n",
       "  <tbody>\n",
       "    <tr>\n",
       "      <th>64050</th>\n",
       "      <td>NaN</td>\n",
       "      <td>25-09-2020</td>\n",
       "      <td>NaN</td>\n",
       "      <td>NaN</td>\n",
       "      <td>NaN</td>\n",
       "      <td>NaN</td>\n",
       "      <td>NaN</td>\n",
       "      <td>NaN</td>\n",
       "      <td>NaN</td>\n",
       "      <td>NaN</td>\n",
       "      <td>...</td>\n",
       "      <td>NaN</td>\n",
       "      <td>NaN</td>\n",
       "      <td>NaN</td>\n",
       "      <td>NaN</td>\n",
       "      <td>NaN</td>\n",
       "      <td>NaN</td>\n",
       "      <td>NaN</td>\n",
       "      <td>NaN</td>\n",
       "      <td>NaN</td>\n",
       "      <td>NaN</td>\n",
       "    </tr>\n",
       "    <tr>\n",
       "      <th>64052</th>\n",
       "      <td>NaN</td>\n",
       "      <td>25-09-2020</td>\n",
       "      <td>NaN</td>\n",
       "      <td>NaN</td>\n",
       "      <td>NaN</td>\n",
       "      <td>NaN</td>\n",
       "      <td>NaN</td>\n",
       "      <td>NaN</td>\n",
       "      <td>NaN</td>\n",
       "      <td>NaN</td>\n",
       "      <td>...</td>\n",
       "      <td>NaN</td>\n",
       "      <td>NaN</td>\n",
       "      <td>NaN</td>\n",
       "      <td>NaN</td>\n",
       "      <td>NaN</td>\n",
       "      <td>NaN</td>\n",
       "      <td>NaN</td>\n",
       "      <td>NaN</td>\n",
       "      <td>NaN</td>\n",
       "      <td>NaN</td>\n",
       "    </tr>\n",
       "    <tr>\n",
       "      <th>64388</th>\n",
       "      <td>NaN</td>\n",
       "      <td>25-09-2020</td>\n",
       "      <td>NaN</td>\n",
       "      <td>NaN</td>\n",
       "      <td>NaN</td>\n",
       "      <td>NaN</td>\n",
       "      <td>NaN</td>\n",
       "      <td>NaN</td>\n",
       "      <td>NaN</td>\n",
       "      <td>NaN</td>\n",
       "      <td>...</td>\n",
       "      <td>NaN</td>\n",
       "      <td>NaN</td>\n",
       "      <td>NaN</td>\n",
       "      <td>NaN</td>\n",
       "      <td>NaN</td>\n",
       "      <td>NaN</td>\n",
       "      <td>NaN</td>\n",
       "      <td>NaN</td>\n",
       "      <td>NaN</td>\n",
       "      <td>NaN</td>\n",
       "    </tr>\n",
       "    <tr>\n",
       "      <th>64541</th>\n",
       "      <td>NaN</td>\n",
       "      <td>25-09-2020</td>\n",
       "      <td>NaN</td>\n",
       "      <td>NaN</td>\n",
       "      <td>NaN</td>\n",
       "      <td>NaN</td>\n",
       "      <td>NaN</td>\n",
       "      <td>NaN</td>\n",
       "      <td>NaN</td>\n",
       "      <td>NaN</td>\n",
       "      <td>...</td>\n",
       "      <td>NaN</td>\n",
       "      <td>NaN</td>\n",
       "      <td>NaN</td>\n",
       "      <td>NaN</td>\n",
       "      <td>NaN</td>\n",
       "      <td>NaN</td>\n",
       "      <td>NaN</td>\n",
       "      <td>NaN</td>\n",
       "      <td>NaN</td>\n",
       "      <td>NaN</td>\n",
       "    </tr>\n",
       "    <tr>\n",
       "      <th>64552</th>\n",
       "      <td>NaN</td>\n",
       "      <td>25-09-2020</td>\n",
       "      <td>NaN</td>\n",
       "      <td>NaN</td>\n",
       "      <td>NaN</td>\n",
       "      <td>NaN</td>\n",
       "      <td>NaN</td>\n",
       "      <td>NaN</td>\n",
       "      <td>NaN</td>\n",
       "      <td>NaN</td>\n",
       "      <td>...</td>\n",
       "      <td>NaN</td>\n",
       "      <td>NaN</td>\n",
       "      <td>NaN</td>\n",
       "      <td>NaN</td>\n",
       "      <td>NaN</td>\n",
       "      <td>NaN</td>\n",
       "      <td>NaN</td>\n",
       "      <td>NaN</td>\n",
       "      <td>NaN</td>\n",
       "      <td>NaN</td>\n",
       "    </tr>\n",
       "    <tr>\n",
       "      <th>...</th>\n",
       "      <td>...</td>\n",
       "      <td>...</td>\n",
       "      <td>...</td>\n",
       "      <td>...</td>\n",
       "      <td>...</td>\n",
       "      <td>...</td>\n",
       "      <td>...</td>\n",
       "      <td>...</td>\n",
       "      <td>...</td>\n",
       "      <td>...</td>\n",
       "      <td>...</td>\n",
       "      <td>...</td>\n",
       "      <td>...</td>\n",
       "      <td>...</td>\n",
       "      <td>...</td>\n",
       "      <td>...</td>\n",
       "      <td>...</td>\n",
       "      <td>...</td>\n",
       "      <td>...</td>\n",
       "      <td>...</td>\n",
       "      <td>...</td>\n",
       "    </tr>\n",
       "    <tr>\n",
       "      <th>89956</th>\n",
       "      <td>NaN</td>\n",
       "      <td>15-12-2022</td>\n",
       "      <td>NaN</td>\n",
       "      <td>NaN</td>\n",
       "      <td>NaN</td>\n",
       "      <td>NaN</td>\n",
       "      <td>NaN</td>\n",
       "      <td>NaN</td>\n",
       "      <td>NaN</td>\n",
       "      <td>NaN</td>\n",
       "      <td>...</td>\n",
       "      <td>NaN</td>\n",
       "      <td>NaN</td>\n",
       "      <td>NaN</td>\n",
       "      <td>NaN</td>\n",
       "      <td>NaN</td>\n",
       "      <td>NaN</td>\n",
       "      <td>NaN</td>\n",
       "      <td>NaN</td>\n",
       "      <td>NaN</td>\n",
       "      <td>NaN</td>\n",
       "    </tr>\n",
       "    <tr>\n",
       "      <th>90004</th>\n",
       "      <td>NaN</td>\n",
       "      <td>15-12-2022</td>\n",
       "      <td>NaN</td>\n",
       "      <td>NaN</td>\n",
       "      <td>NaN</td>\n",
       "      <td>NaN</td>\n",
       "      <td>NaN</td>\n",
       "      <td>NaN</td>\n",
       "      <td>NaN</td>\n",
       "      <td>NaN</td>\n",
       "      <td>...</td>\n",
       "      <td>NaN</td>\n",
       "      <td>NaN</td>\n",
       "      <td>NaN</td>\n",
       "      <td>NaN</td>\n",
       "      <td>NaN</td>\n",
       "      <td>NaN</td>\n",
       "      <td>NaN</td>\n",
       "      <td>NaN</td>\n",
       "      <td>NaN</td>\n",
       "      <td>NaN</td>\n",
       "    </tr>\n",
       "    <tr>\n",
       "      <th>90010</th>\n",
       "      <td>NaN</td>\n",
       "      <td>15-12-2022</td>\n",
       "      <td>NaN</td>\n",
       "      <td>NaN</td>\n",
       "      <td>NaN</td>\n",
       "      <td>NaN</td>\n",
       "      <td>NaN</td>\n",
       "      <td>NaN</td>\n",
       "      <td>NaN</td>\n",
       "      <td>NaN</td>\n",
       "      <td>...</td>\n",
       "      <td>NaN</td>\n",
       "      <td>NaN</td>\n",
       "      <td>NaN</td>\n",
       "      <td>NaN</td>\n",
       "      <td>NaN</td>\n",
       "      <td>NaN</td>\n",
       "      <td>NaN</td>\n",
       "      <td>NaN</td>\n",
       "      <td>NaN</td>\n",
       "      <td>NaN</td>\n",
       "    </tr>\n",
       "    <tr>\n",
       "      <th>90031</th>\n",
       "      <td>NaN</td>\n",
       "      <td>15-12-2022</td>\n",
       "      <td>NaN</td>\n",
       "      <td>NaN</td>\n",
       "      <td>NaN</td>\n",
       "      <td>NaN</td>\n",
       "      <td>NaN</td>\n",
       "      <td>NaN</td>\n",
       "      <td>NaN</td>\n",
       "      <td>NaN</td>\n",
       "      <td>...</td>\n",
       "      <td>NaN</td>\n",
       "      <td>NaN</td>\n",
       "      <td>NaN</td>\n",
       "      <td>NaN</td>\n",
       "      <td>NaN</td>\n",
       "      <td>NaN</td>\n",
       "      <td>NaN</td>\n",
       "      <td>NaN</td>\n",
       "      <td>NaN</td>\n",
       "      <td>NaN</td>\n",
       "    </tr>\n",
       "    <tr>\n",
       "      <th>90097</th>\n",
       "      <td>NaN</td>\n",
       "      <td>20-12-2022</td>\n",
       "      <td>NaN</td>\n",
       "      <td>NaN</td>\n",
       "      <td>NaN</td>\n",
       "      <td>NaN</td>\n",
       "      <td>NaN</td>\n",
       "      <td>NaN</td>\n",
       "      <td>NaN</td>\n",
       "      <td>NaN</td>\n",
       "      <td>...</td>\n",
       "      <td>NaN</td>\n",
       "      <td>NaN</td>\n",
       "      <td>NaN</td>\n",
       "      <td>NaN</td>\n",
       "      <td>NaN</td>\n",
       "      <td>NaN</td>\n",
       "      <td>NaN</td>\n",
       "      <td>NaN</td>\n",
       "      <td>NaN</td>\n",
       "      <td>NaN</td>\n",
       "    </tr>\n",
       "  </tbody>\n",
       "</table>\n",
       "<p>1390 rows × 31 columns</p>\n",
       "</div>"
      ],
      "text/plain": [
       "      Event.Id Investigation.Type Accident.Number Event.Date Location Country  \\\n",
       "64050      NaN         25-09-2020             NaN        NaN      NaN     NaN   \n",
       "64052      NaN         25-09-2020             NaN        NaN      NaN     NaN   \n",
       "64388      NaN         25-09-2020             NaN        NaN      NaN     NaN   \n",
       "64541      NaN         25-09-2020             NaN        NaN      NaN     NaN   \n",
       "64552      NaN         25-09-2020             NaN        NaN      NaN     NaN   \n",
       "...        ...                ...             ...        ...      ...     ...   \n",
       "89956      NaN         15-12-2022             NaN        NaN      NaN     NaN   \n",
       "90004      NaN         15-12-2022             NaN        NaN      NaN     NaN   \n",
       "90010      NaN         15-12-2022             NaN        NaN      NaN     NaN   \n",
       "90031      NaN         15-12-2022             NaN        NaN      NaN     NaN   \n",
       "90097      NaN         20-12-2022             NaN        NaN      NaN     NaN   \n",
       "\n",
       "      Latitude Longitude Airport.Code Airport.Name  ... Purpose.of.flight  \\\n",
       "64050      NaN       NaN          NaN          NaN  ...               NaN   \n",
       "64052      NaN       NaN          NaN          NaN  ...               NaN   \n",
       "64388      NaN       NaN          NaN          NaN  ...               NaN   \n",
       "64541      NaN       NaN          NaN          NaN  ...               NaN   \n",
       "64552      NaN       NaN          NaN          NaN  ...               NaN   \n",
       "...        ...       ...          ...          ...  ...               ...   \n",
       "89956      NaN       NaN          NaN          NaN  ...               NaN   \n",
       "90004      NaN       NaN          NaN          NaN  ...               NaN   \n",
       "90010      NaN       NaN          NaN          NaN  ...               NaN   \n",
       "90031      NaN       NaN          NaN          NaN  ...               NaN   \n",
       "90097      NaN       NaN          NaN          NaN  ...               NaN   \n",
       "\n",
       "      Air.carrier Total.Fatal.Injuries Total.Serious.Injuries  \\\n",
       "64050         NaN                  NaN                    NaN   \n",
       "64052         NaN                  NaN                    NaN   \n",
       "64388         NaN                  NaN                    NaN   \n",
       "64541         NaN                  NaN                    NaN   \n",
       "64552         NaN                  NaN                    NaN   \n",
       "...           ...                  ...                    ...   \n",
       "89956         NaN                  NaN                    NaN   \n",
       "90004         NaN                  NaN                    NaN   \n",
       "90010         NaN                  NaN                    NaN   \n",
       "90031         NaN                  NaN                    NaN   \n",
       "90097         NaN                  NaN                    NaN   \n",
       "\n",
       "      Total.Minor.Injuries Total.Uninjured Weather.Condition  \\\n",
       "64050                  NaN             NaN               NaN   \n",
       "64052                  NaN             NaN               NaN   \n",
       "64388                  NaN             NaN               NaN   \n",
       "64541                  NaN             NaN               NaN   \n",
       "64552                  NaN             NaN               NaN   \n",
       "...                    ...             ...               ...   \n",
       "89956                  NaN             NaN               NaN   \n",
       "90004                  NaN             NaN               NaN   \n",
       "90010                  NaN             NaN               NaN   \n",
       "90031                  NaN             NaN               NaN   \n",
       "90097                  NaN             NaN               NaN   \n",
       "\n",
       "       Broad.phase.of.flight Report.Status Publication.Date  \n",
       "64050                    NaN           NaN              NaN  \n",
       "64052                    NaN           NaN              NaN  \n",
       "64388                    NaN           NaN              NaN  \n",
       "64541                    NaN           NaN              NaN  \n",
       "64552                    NaN           NaN              NaN  \n",
       "...                      ...           ...              ...  \n",
       "89956                    NaN           NaN              NaN  \n",
       "90004                    NaN           NaN              NaN  \n",
       "90010                    NaN           NaN              NaN  \n",
       "90031                    NaN           NaN              NaN  \n",
       "90097                    NaN           NaN              NaN  \n",
       "\n",
       "[1390 rows x 31 columns]"
      ]
     },
     "execution_count": 121,
     "metadata": {},
     "output_type": "execute_result"
    }
   ],
   "source": [
    "av_data[av_data.duplicated()] #View some of the duplicated data"
   ]
  },
  {
   "cell_type": "code",
   "execution_count": 122,
   "id": "a87723ef",
   "metadata": {},
   "outputs": [
    {
     "data": {
      "text/plain": [
       "' \\nDuplicated data appears to be mostly blank except for the investigation type so these duplicated rows can be safely dropped without affecting data integrity\\n'"
      ]
     },
     "execution_count": 122,
     "metadata": {},
     "output_type": "execute_result"
    }
   ],
   "source": [
    "\"\"\" \n",
    "Duplicated data appears to be mostly blank except for the investigation type so these duplicated rows can be safely dropped without affecting data integrity\n",
    "\"\"\""
   ]
  },
  {
   "cell_type": "code",
   "execution_count": 123,
   "id": "50915369",
   "metadata": {},
   "outputs": [
    {
     "name": "stdout",
     "output_type": "stream",
     "text": [
      "<class 'pandas.core.frame.DataFrame'>\n",
      "Int64Index: 88958 entries, 0 to 90347\n",
      "Data columns (total 31 columns):\n",
      " #   Column                  Non-Null Count  Dtype  \n",
      "---  ------                  --------------  -----  \n",
      " 0   Event.Id                88889 non-null  object \n",
      " 1   Investigation.Type      88958 non-null  object \n",
      " 2   Accident.Number         88889 non-null  object \n",
      " 3   Event.Date              88889 non-null  object \n",
      " 4   Location                88837 non-null  object \n",
      " 5   Country                 88663 non-null  object \n",
      " 6   Latitude                34382 non-null  object \n",
      " 7   Longitude               34373 non-null  object \n",
      " 8   Airport.Code            50249 non-null  object \n",
      " 9   Airport.Name            52790 non-null  object \n",
      " 10  Injury.Severity         87889 non-null  object \n",
      " 11  Aircraft.damage         85695 non-null  object \n",
      " 12  Aircraft.Category       32287 non-null  object \n",
      " 13  Registration.Number     87572 non-null  object \n",
      " 14  Make                    88826 non-null  object \n",
      " 15  Model                   88797 non-null  object \n",
      " 16  Amateur.Built           88787 non-null  object \n",
      " 17  Number.of.Engines       82805 non-null  float64\n",
      " 18  Engine.Type             81812 non-null  object \n",
      " 19  FAR.Description         32023 non-null  object \n",
      " 20  Schedule                12582 non-null  object \n",
      " 21  Purpose.of.flight       82697 non-null  object \n",
      " 22  Air.carrier             16648 non-null  object \n",
      " 23  Total.Fatal.Injuries    77488 non-null  float64\n",
      " 24  Total.Serious.Injuries  76379 non-null  float64\n",
      " 25  Total.Minor.Injuries    76956 non-null  float64\n",
      " 26  Total.Uninjured         82977 non-null  float64\n",
      " 27  Weather.Condition       84397 non-null  object \n",
      " 28  Broad.phase.of.flight   61724 non-null  object \n",
      " 29  Report.Status           82508 non-null  object \n",
      " 30  Publication.Date        73659 non-null  object \n",
      "dtypes: float64(5), object(26)\n",
      "memory usage: 21.7+ MB\n"
     ]
    }
   ],
   "source": [
    "cleaned_av_data = av_data.drop_duplicates()  #Removes the duplicated data identified above\n",
    "\n",
    "cleaned_av_data.info()"
   ]
  },
  {
   "cell_type": "code",
   "execution_count": 124,
   "id": "478b637c",
   "metadata": {},
   "outputs": [
    {
     "data": {
      "text/plain": [
       "0"
      ]
     },
     "execution_count": 124,
     "metadata": {},
     "output_type": "execute_result"
    }
   ],
   "source": [
    "cleaned_av_data.duplicated().sum() #Confirm that there are no more duplicated rows."
   ]
  },
  {
   "cell_type": "code",
   "execution_count": 125,
   "id": "890b7af6",
   "metadata": {},
   "outputs": [
    {
     "data": {
      "text/plain": [
       "' \\nAfter cleaning the data, columns remain as 31, rows are 88958 compared to 90348 previously.\\nWe then confirmed that there are no remaining duplicated rows\\n'"
      ]
     },
     "execution_count": 125,
     "metadata": {},
     "output_type": "execute_result"
    }
   ],
   "source": [
    "\"\"\" \n",
    "After cleaning the data, columns remain as 31, rows are 88958 compared to 90348 previously.\n",
    "We then confirmed that there are no remaining duplicated rows\n",
    "\"\"\""
   ]
  },
  {
   "cell_type": "markdown",
   "id": "a044c88f",
   "metadata": {},
   "source": [
    "b. Clean the Make and Model columns"
   ]
  },
  {
   "cell_type": "code",
   "execution_count": 126,
   "id": "d9702513",
   "metadata": {},
   "outputs": [
    {
     "data": {
      "text/plain": [
       "array(['Stinson', 'Piper', 'Cessna', ..., 'JAMES R DERNOVSEK',\n",
       "       'ORLICAN S R O', 'ROYSE RALPH L'], dtype=object)"
      ]
     },
     "execution_count": 126,
     "metadata": {},
     "output_type": "execute_result"
    }
   ],
   "source": [
    "cleaned_av_data['Make'].unique()"
   ]
  },
  {
   "cell_type": "code",
   "execution_count": 127,
   "id": "13cb0cb5",
   "metadata": {},
   "outputs": [],
   "source": [
    "# Check if it would have been possible to impute make from model\n",
    "# cleaned_av_data['Model'].isnull().sum()"
   ]
  },
  {
   "cell_type": "code",
   "execution_count": 128,
   "id": "60e37b73",
   "metadata": {},
   "outputs": [
    {
     "data": {
      "text/plain": [
       "132"
      ]
     },
     "execution_count": 128,
     "metadata": {},
     "output_type": "execute_result"
    }
   ],
   "source": [
    "cleaned_av_data['Make'].isnull().sum()  #Check for no. of null or missing values"
   ]
  },
  {
   "cell_type": "markdown",
   "id": "edf577cd",
   "metadata": {},
   "source": [
    "\n",
    "As the intention of our analysis is to provide recommendations of a particular make/ model of aircraft to purchase for the new business endeavour,\n",
    "we need to make sure that our dataset has information on make and model. \n",
    "We can therefore remove rows without a make of aircraft.\n"
   ]
  },
  {
   "cell_type": "code",
   "execution_count": 129,
   "id": "8d7375ec",
   "metadata": {},
   "outputs": [],
   "source": [
    "#Drop rows with missing values in the 'Make' column\n",
    "cleaned_av_data = cleaned_av_data.dropna(axis=0, subset=['Make'])"
   ]
  },
  {
   "cell_type": "code",
   "execution_count": 130,
   "id": "30008ea2",
   "metadata": {},
   "outputs": [
    {
     "data": {
      "text/plain": [
       "0"
      ]
     },
     "execution_count": 130,
     "metadata": {},
     "output_type": "execute_result"
    }
   ],
   "source": [
    "#Confirm the 'Make' column has no more missing values\n",
    "\n",
    "cleaned_av_data['Make'].isnull().sum()"
   ]
  },
  {
   "cell_type": "markdown",
   "id": "e6162ed0",
   "metadata": {},
   "source": [
    "Our audience will also want particular models that are most safe.\n",
    "We will therefore need data that also indicates the model of aircraft as a make may have multiple models.\n",
    "Removing missing model data will enable us to further identify safe models of a particular make.\n",
    "\n"
   ]
  },
  {
   "cell_type": "code",
   "execution_count": 131,
   "id": "fedf78f9",
   "metadata": {},
   "outputs": [
    {
     "data": {
      "text/plain": [
       "array(['108-3', 'PA24-180', '172M', ..., 'ROTORWAY EXEC 162-F',\n",
       "       'KITFOX S5', 'M-8 EAGLE'], dtype=object)"
      ]
     },
     "execution_count": 131,
     "metadata": {},
     "output_type": "execute_result"
    }
   ],
   "source": [
    "cleaned_av_data['Model'].unique()"
   ]
  },
  {
   "cell_type": "code",
   "execution_count": 132,
   "id": "0c86e8b4",
   "metadata": {},
   "outputs": [
    {
     "data": {
      "text/plain": [
       "152           2367\n",
       "172           1756\n",
       "172N          1164\n",
       "PA-28-140      932\n",
       "150            829\n",
       "172M           798\n",
       "172P           689\n",
       "182            659\n",
       "180            622\n",
       "150M           585\n",
       "PA-18          581\n",
       "PA-18-150      578\n",
       "PA-28-180      572\n",
       "PA-28-161      569\n",
       "PA-28-181      532\n",
       "206B           524\n",
       "737            489\n",
       "PA-38-112      469\n",
       "150L           461\n",
       "G-164A         460\n",
       "A36            450\n",
       "G-164B         420\n",
       "140            402\n",
       "170B           389\n",
       "206            389\n",
       "172S           373\n",
       "R44            361\n",
       "PA-32-300      356\n",
       "182P           356\n",
       "PA-24-250      352\n",
       "269C           341\n",
       "PA-28R-200     335\n",
       "PA-12          324\n",
       "A188B          318\n",
       "PA-23-250      311\n",
       "177            296\n",
       "7AC            295\n",
       "SR22           288\n",
       "M20J           287\n",
       "185            286\n",
       "A185F          285\n",
       "PA-22-150      281\n",
       "PA-31-350      280\n",
       "7GCBC          279\n",
       "PA28           279\n",
       "R22            273\n",
       "7ECA           267\n",
       "182Q           266\n",
       "150F           264\n",
       "PA-25-235      261\n",
       "210            260\n",
       "58             252\n",
       "369D           252\n",
       "Name: Model, dtype: int64"
      ]
     },
     "execution_count": 132,
     "metadata": {},
     "output_type": "execute_result"
    }
   ],
   "source": [
    "cleaned_av_data['Model'].value_counts().head(53)"
   ]
  },
  {
   "cell_type": "code",
   "execution_count": 133,
   "id": "7ff8fae3",
   "metadata": {},
   "outputs": [
    {
     "data": {
      "text/plain": [
       "49"
      ]
     },
     "execution_count": 133,
     "metadata": {},
     "output_type": "execute_result"
    }
   ],
   "source": [
    "#Get the sum of no. of missing values in the 'Model' column\n",
    "cleaned_av_data['Model'].isnull().sum()"
   ]
  },
  {
   "cell_type": "code",
   "execution_count": 134,
   "id": "ef57c49e",
   "metadata": {},
   "outputs": [],
   "source": [
    "# Drop rows with missing 'Model' data\n",
    "cleaned_av_data = cleaned_av_data.dropna(axis=0, subset=['Model'])"
   ]
  },
  {
   "cell_type": "code",
   "execution_count": 135,
   "id": "dcd8ddbb",
   "metadata": {},
   "outputs": [
    {
     "data": {
      "text/plain": [
       "0"
      ]
     },
     "execution_count": 135,
     "metadata": {},
     "output_type": "execute_result"
    }
   ],
   "source": [
    "cleaned_av_data['Model'].isnull().sum()"
   ]
  },
  {
   "cell_type": "code",
   "execution_count": 136,
   "id": "e09aa2da",
   "metadata": {},
   "outputs": [
    {
     "data": {
      "text/plain": [
       "Index(['Event.Id', 'Investigation.Type', 'Accident.Number', 'Event.Date',\n",
       "       'Location', 'Country', 'Latitude', 'Longitude', 'Airport.Code',\n",
       "       'Airport.Name', 'Injury.Severity', 'Aircraft.damage',\n",
       "       'Aircraft.Category', 'Registration.Number', 'Make', 'Model',\n",
       "       'Amateur.Built', 'Number.of.Engines', 'Engine.Type', 'FAR.Description',\n",
       "       'Schedule', 'Purpose.of.flight', 'Air.carrier', 'Total.Fatal.Injuries',\n",
       "       'Total.Serious.Injuries', 'Total.Minor.Injuries', 'Total.Uninjured',\n",
       "       'Weather.Condition', 'Broad.phase.of.flight', 'Report.Status',\n",
       "       'Publication.Date'],\n",
       "      dtype='object')"
      ]
     },
     "execution_count": 136,
     "metadata": {},
     "output_type": "execute_result"
    }
   ],
   "source": [
    "cleaned_av_data.columns"
   ]
  },
  {
   "cell_type": "markdown",
   "id": "41a1ca58",
   "metadata": {},
   "source": [
    "The purpose of the new business endeavour is for commercial and private enterprises. We can therefore clean the data using the 'Purpose.of.Flight' column to focus on data relevant to the above areas."
   ]
  },
  {
   "cell_type": "code",
   "execution_count": 137,
   "id": "8f6a6976",
   "metadata": {},
   "outputs": [
    {
     "data": {
      "text/plain": [
       "6138"
      ]
     },
     "execution_count": 137,
     "metadata": {},
     "output_type": "execute_result"
    }
   ],
   "source": [
    "cleaned_av_data['Purpose.of.flight'].isnull().sum()"
   ]
  },
  {
   "cell_type": "code",
   "execution_count": 138,
   "id": "15de62c5",
   "metadata": {},
   "outputs": [],
   "source": [
    "cleaned_av_data = cleaned_av_data.dropna(axis=0, subset=['Purpose.of.flight'])"
   ]
  },
  {
   "cell_type": "code",
   "execution_count": 139,
   "id": "7bc5c576",
   "metadata": {},
   "outputs": [
    {
     "data": {
      "text/plain": [
       "0"
      ]
     },
     "execution_count": 139,
     "metadata": {},
     "output_type": "execute_result"
    }
   ],
   "source": [
    "cleaned_av_data['Purpose.of.flight'].isnull().sum()"
   ]
  },
  {
   "cell_type": "code",
   "execution_count": 140,
   "id": "28358179",
   "metadata": {},
   "outputs": [
    {
     "data": {
      "text/plain": [
       "array(['Personal', 'Business', 'Instructional', 'Unknown', 'Ferry',\n",
       "       'Executive/corporate', 'Aerial Observation', 'Aerial Application',\n",
       "       'Public Aircraft', 'Skydiving', 'Other Work Use', 'Positioning',\n",
       "       'Flight Test', 'Air Race/show', 'Air Drop',\n",
       "       'Public Aircraft - Federal', 'Glider Tow',\n",
       "       'Public Aircraft - Local', 'External Load',\n",
       "       'Public Aircraft - State', 'Banner Tow', 'Firefighting',\n",
       "       'Air Race show', 'PUBS', 'ASHO', 'PUBL'], dtype=object)"
      ]
     },
     "execution_count": 140,
     "metadata": {},
     "output_type": "execute_result"
    }
   ],
   "source": [
    "cleaned_av_data['Purpose.of.flight'].unique()"
   ]
  },
  {
   "cell_type": "code",
   "execution_count": 141,
   "id": "768f84e6",
   "metadata": {},
   "outputs": [],
   "source": [
    "cleaned_av_data = cleaned_av_data[cleaned_av_data['Purpose.of.flight'].isin(['Personal', 'Business', 'Instructional', 'Executive', 'Corporate', 'Executive/corporate', 'Ferry', 'Positioning', 'Skydiving'])]"
   ]
  },
  {
   "cell_type": "code",
   "execution_count": 142,
   "id": "061c7e86",
   "metadata": {},
   "outputs": [
    {
     "data": {
      "text/plain": [
       "array(['Personal', 'Business', 'Instructional', 'Ferry',\n",
       "       'Executive/corporate', 'Skydiving', 'Positioning'], dtype=object)"
      ]
     },
     "execution_count": 142,
     "metadata": {},
     "output_type": "execute_result"
    }
   ],
   "source": [
    "cleaned_av_data['Purpose.of.flight'].unique()"
   ]
  },
  {
   "cell_type": "code",
   "execution_count": 143,
   "id": "f180d29e",
   "metadata": {},
   "outputs": [
    {
     "name": "stdout",
     "output_type": "stream",
     "text": [
      "<class 'pandas.core.frame.DataFrame'>\n",
      "Int64Index: 67220 entries, 0 to 90347\n",
      "Data columns (total 31 columns):\n",
      " #   Column                  Non-Null Count  Dtype  \n",
      "---  ------                  --------------  -----  \n",
      " 0   Event.Id                67220 non-null  object \n",
      " 1   Investigation.Type      67220 non-null  object \n",
      " 2   Accident.Number         67220 non-null  object \n",
      " 3   Event.Date              67220 non-null  object \n",
      " 4   Location                67204 non-null  object \n",
      " 5   Country                 67115 non-null  object \n",
      " 6   Latitude                26971 non-null  object \n",
      " 7   Longitude               26962 non-null  object \n",
      " 8   Airport.Code            42088 non-null  object \n",
      " 9   Airport.Name            44024 non-null  object \n",
      " 10  Injury.Severity         67193 non-null  object \n",
      " 11  Aircraft.damage         66618 non-null  object \n",
      " 12  Aircraft.Category       23611 non-null  object \n",
      " 13  Registration.Number     66892 non-null  object \n",
      " 14  Make                    67220 non-null  object \n",
      " 15  Model                   67220 non-null  object \n",
      " 16  Amateur.Built           67192 non-null  object \n",
      " 17  Number.of.Engines       65153 non-null  float64\n",
      " 18  Engine.Type             64316 non-null  object \n",
      " 19  FAR.Description         23682 non-null  object \n",
      " 20  Schedule                708 non-null    object \n",
      " 21  Purpose.of.flight       67220 non-null  object \n",
      " 22  Air.carrier             8608 non-null   object \n",
      " 23  Total.Fatal.Injuries    58584 non-null  float64\n",
      " 24  Total.Serious.Injuries  57674 non-null  float64\n",
      " 25  Total.Minor.Injuries    58204 non-null  float64\n",
      " 26  Total.Uninjured         62798 non-null  float64\n",
      " 27  Weather.Condition       66496 non-null  object \n",
      " 28  Broad.phase.of.flight   48868 non-null  object \n",
      " 29  Report.Status           64704 non-null  object \n",
      " 30  Publication.Date        55700 non-null  object \n",
      "dtypes: float64(5), object(26)\n",
      "memory usage: 16.4+ MB\n"
     ]
    }
   ],
   "source": [
    "cleaned_av_data.info()"
   ]
  },
  {
   "cell_type": "markdown",
   "id": "b79ac045",
   "metadata": {},
   "source": [
    "We'd like to filter the data to focus on data covering the last 25 years so that it can apply to aircraft that are still relatively available in the market and which have a significant enough period of operation left even after purchase for this business endeavour."
   ]
  },
  {
   "cell_type": "code",
   "execution_count": 144,
   "id": "b06f6042",
   "metadata": {},
   "outputs": [],
   "source": [
    "cleaned_av_data['Event.Date'] = pd.to_datetime(cleaned_av_data['Event.Date'], errors='coerce')\n",
    "cleaned_av_data = cleaned_av_data[cleaned_av_data['Event.Date'] >= '2000-01-01']"
   ]
  },
  {
   "cell_type": "code",
   "execution_count": 145,
   "id": "5d09c8b0",
   "metadata": {},
   "outputs": [
    {
     "name": "stdout",
     "output_type": "stream",
     "text": [
      "<class 'pandas.core.frame.DataFrame'>\n",
      "Int64Index: 30054 entries, 47675 to 90347\n",
      "Data columns (total 31 columns):\n",
      " #   Column                  Non-Null Count  Dtype         \n",
      "---  ------                  --------------  -----         \n",
      " 0   Event.Id                30054 non-null  object        \n",
      " 1   Investigation.Type      30054 non-null  object        \n",
      " 2   Accident.Number         30054 non-null  object        \n",
      " 3   Event.Date              30054 non-null  datetime64[ns]\n",
      " 4   Location                30051 non-null  object        \n",
      " 5   Country                 30048 non-null  object        \n",
      " 6   Latitude                26958 non-null  object        \n",
      " 7   Longitude               26949 non-null  object        \n",
      " 8   Airport.Code            20891 non-null  object        \n",
      " 9   Airport.Name            21073 non-null  object        \n",
      " 10  Injury.Severity         30027 non-null  object        \n",
      " 11  Aircraft.damage         29766 non-null  object        \n",
      " 12  Aircraft.Category       20739 non-null  object        \n",
      " 13  Registration.Number     29766 non-null  object        \n",
      " 14  Make                    30054 non-null  object        \n",
      " 15  Model                   30054 non-null  object        \n",
      " 16  Amateur.Built           30028 non-null  object        \n",
      " 17  Number.of.Engines       28677 non-null  float64       \n",
      " 18  Engine.Type             27153 non-null  object        \n",
      " 19  FAR.Description         20810 non-null  object        \n",
      " 20  Schedule                395 non-null    object        \n",
      " 21  Purpose.of.flight       30054 non-null  object        \n",
      " 22  Air.carrier             8608 non-null   object        \n",
      " 23  Total.Fatal.Injuries    21539 non-null  float64       \n",
      " 24  Total.Serious.Injuries  20689 non-null  float64       \n",
      " 25  Total.Minor.Injuries    21225 non-null  float64       \n",
      " 26  Total.Uninjured         25768 non-null  float64       \n",
      " 27  Weather.Condition       29336 non-null  object        \n",
      " 28  Broad.phase.of.flight   11991 non-null  object        \n",
      " 29  Report.Status           27538 non-null  object        \n",
      " 30  Publication.Date        28513 non-null  object        \n",
      "dtypes: datetime64[ns](1), float64(5), object(25)\n",
      "memory usage: 7.3+ MB\n"
     ]
    }
   ],
   "source": [
    "cleaned_av_data.info()"
   ]
  },
  {
   "cell_type": "markdown",
   "id": "02a9a0c0",
   "metadata": {},
   "source": [
    "Further data exploration..."
   ]
  },
  {
   "cell_type": "code",
   "execution_count": 146,
   "id": "b007e2d1",
   "metadata": {},
   "outputs": [
    {
     "data": {
      "text/plain": [
       "array(['Accident', 'Incident'], dtype=object)"
      ]
     },
     "execution_count": 146,
     "metadata": {},
     "output_type": "execute_result"
    }
   ],
   "source": [
    "#Further Data Exploration of Investigation.Type column\n",
    "cleaned_av_data['Investigation.Type'].unique()"
   ]
  },
  {
   "cell_type": "code",
   "execution_count": 147,
   "id": "c7e6c1dc",
   "metadata": {},
   "outputs": [
    {
     "data": {
      "text/plain": [
       "Accident    29739\n",
       "Incident      315\n",
       "Name: Investigation.Type, dtype: int64"
      ]
     },
     "execution_count": 147,
     "metadata": {},
     "output_type": "execute_result"
    }
   ],
   "source": [
    "cleaned_av_data['Investigation.Type'].value_counts()"
   ]
  },
  {
   "cell_type": "code",
   "execution_count": 148,
   "id": "4816b402",
   "metadata": {},
   "outputs": [
    {
     "data": {
      "text/plain": [
       "array([nan, 'Airplane', 'Helicopter', 'Blimp', 'Glider', 'Gyrocraft',\n",
       "       'Balloon', 'Ultralight', 'Powered-Lift', 'Weight-Shift',\n",
       "       'Powered Parachute', 'Unknown', 'WSFT', 'ULTR'], dtype=object)"
      ]
     },
     "execution_count": 148,
     "metadata": {},
     "output_type": "execute_result"
    }
   ],
   "source": [
    "#Further data exploration of the Aircraft.Category column\n",
    "cleaned_av_data['Aircraft.Category'].unique()"
   ]
  },
  {
   "cell_type": "code",
   "execution_count": 149,
   "id": "99fbe26d",
   "metadata": {},
   "outputs": [
    {
     "data": {
      "text/plain": [
       "Airplane             18341\n",
       "Helicopter            1439\n",
       "Glider                 420\n",
       "Weight-Shift           158\n",
       "Gyrocraft              147\n",
       "Balloon                111\n",
       "Powered Parachute       88\n",
       "Ultralight              20\n",
       "WSFT                     8\n",
       "Powered-Lift             2\n",
       "Unknown                  2\n",
       "Blimp                    2\n",
       "ULTR                     1\n",
       "Name: Aircraft.Category, dtype: int64"
      ]
     },
     "execution_count": 149,
     "metadata": {},
     "output_type": "execute_result"
    }
   ],
   "source": [
    "cleaned_av_data['Aircraft.Category'].value_counts()"
   ]
  },
  {
   "cell_type": "code",
   "execution_count": 150,
   "id": "f6c4502f",
   "metadata": {},
   "outputs": [
    {
     "data": {
      "text/plain": [
       "20739"
      ]
     },
     "execution_count": 150,
     "metadata": {},
     "output_type": "execute_result"
    }
   ],
   "source": [
    "cleaned_av_data['Aircraft.Category'].value_counts().sum()"
   ]
  },
  {
   "cell_type": "code",
   "execution_count": 151,
   "id": "4a91fc20",
   "metadata": {},
   "outputs": [
    {
     "data": {
      "text/plain": [
       "9315"
      ]
     },
     "execution_count": 151,
     "metadata": {},
     "output_type": "execute_result"
    }
   ],
   "source": [
    "cleaned_av_data['Aircraft.Category'].isnull().sum()"
   ]
  },
  {
   "cell_type": "markdown",
   "id": "8fd65171",
   "metadata": {},
   "source": [
    "\n",
    "\n",
    "The categorisation is important when understanding the different aircraft make and models, their safety and \n",
    "linking the aircraft to the target market any proposed business endeavour.\n",
    "\n",
    "From the above further exploration, we find that the 'Aircraft.Category' column has 14 'Unknown' entries and 2 'UNK' entries.\n",
    "\n",
    "However, when we look at the high number of null values in addition to unknown values, \n",
    "we realise that we cannot drop these without irrevocably altering the data.\n",
    "We can however impute using data from the make and model column\n",
    "\n"
   ]
  },
  {
   "cell_type": "markdown",
   "id": "e21a416c",
   "metadata": {},
   "source": [
    "c. Check the injury columns\n",
    "\n",
    "'Total.Fatal.Injuries', Total.Serious.Injuries', 'Total.Minor.Injuries' and 'Total.Uninjured'."
   ]
  },
  {
   "cell_type": "code",
   "execution_count": 152,
   "id": "8a5a78bf",
   "metadata": {},
   "outputs": [
    {
     "name": "stdout",
     "output_type": "stream",
     "text": [
      "No. of Null values in 'Total.Fatal.Injuries' column are: 8515\n",
      "No. of Null values in 'Total.Serious.Injuries' column are: 9365\n",
      "No. of Null values in 'Total.Minor.Injuries' column are: 8829\n",
      "No. of Null values in 'Total.Uninjured' column are: 4286\n"
     ]
    }
   ],
   "source": [
    "#Find the no. of missing values in the injury columns\n",
    "#'Total.Fatal.Injuries', 'Total.Serious.Injuries', 'Total.Minor.Injuries', 'Total.Uninjured'\n",
    "print(f\"No. of Null values in 'Total.Fatal.Injuries' column are: {cleaned_av_data['Total.Fatal.Injuries'].isnull().sum()}\")\n",
    "print(f\"No. of Null values in 'Total.Serious.Injuries' column are: {cleaned_av_data['Total.Serious.Injuries'].isnull().sum()}\")\n",
    "print(f\"No. of Null values in 'Total.Minor.Injuries' column are: {cleaned_av_data['Total.Minor.Injuries'].isnull().sum()}\")\n",
    "print(f\"No. of Null values in 'Total.Uninjured' column are: {cleaned_av_data['Total.Uninjured'].isnull().sum()}\")"
   ]
  },
  {
   "cell_type": "markdown",
   "id": "a7d950c1",
   "metadata": {},
   "source": [
    "\n",
    "The null values above likely indicate that there were no occurences of the type of injury rather than that there are missing values.\n",
    "We can therefore replace this with (0) especially if we later choose to sum the injury columns per row.\n",
    "\n"
   ]
  },
  {
   "cell_type": "code",
   "execution_count": 153,
   "id": "e06b3f14",
   "metadata": {},
   "outputs": [],
   "source": [
    "#Replace the missing values in respective injury columns with 0\n",
    "cleaned_av_data['Total.Fatal.Injuries'] = cleaned_av_data['Total.Fatal.Injuries'].fillna(0)\n",
    "cleaned_av_data['Total.Serious.Injuries'] = cleaned_av_data['Total.Serious.Injuries'].fillna(0)\n",
    "cleaned_av_data['Total.Minor.Injuries'] = cleaned_av_data['Total.Minor.Injuries'].fillna(0)\n",
    "cleaned_av_data['Total.Uninjured'] = cleaned_av_data['Total.Uninjured'].fillna(0)"
   ]
  },
  {
   "cell_type": "code",
   "execution_count": 154,
   "id": "3aedb62a",
   "metadata": {},
   "outputs": [
    {
     "name": "stdout",
     "output_type": "stream",
     "text": [
      "0\n",
      "0\n",
      "0\n",
      "0\n"
     ]
    }
   ],
   "source": [
    "#Confirm that there are no more missing values in respective columns\n",
    "print(cleaned_av_data['Total.Fatal.Injuries'].isnull().sum())\n",
    "print(cleaned_av_data['Total.Serious.Injuries'].isnull().sum())\n",
    "print(cleaned_av_data['Total.Minor.Injuries'].isnull().sum())\n",
    "print(cleaned_av_data['Total.Uninjured'].isnull().sum())"
   ]
  },
  {
   "cell_type": "markdown",
   "id": "91e3b741",
   "metadata": {},
   "source": [
    "The injury columns now have no missing values"
   ]
  },
  {
   "cell_type": "code",
   "execution_count": 155,
   "id": "b4364588",
   "metadata": {},
   "outputs": [
    {
     "name": "stdout",
     "output_type": "stream",
     "text": [
      "<class 'pandas.core.frame.DataFrame'>\n",
      "Int64Index: 30054 entries, 47675 to 90347\n",
      "Data columns (total 31 columns):\n",
      " #   Column                  Non-Null Count  Dtype         \n",
      "---  ------                  --------------  -----         \n",
      " 0   Event.Id                30054 non-null  object        \n",
      " 1   Investigation.Type      30054 non-null  object        \n",
      " 2   Accident.Number         30054 non-null  object        \n",
      " 3   Event.Date              30054 non-null  datetime64[ns]\n",
      " 4   Location                30051 non-null  object        \n",
      " 5   Country                 30048 non-null  object        \n",
      " 6   Latitude                26958 non-null  object        \n",
      " 7   Longitude               26949 non-null  object        \n",
      " 8   Airport.Code            20891 non-null  object        \n",
      " 9   Airport.Name            21073 non-null  object        \n",
      " 10  Injury.Severity         30027 non-null  object        \n",
      " 11  Aircraft.damage         29766 non-null  object        \n",
      " 12  Aircraft.Category       20739 non-null  object        \n",
      " 13  Registration.Number     29766 non-null  object        \n",
      " 14  Make                    30054 non-null  object        \n",
      " 15  Model                   30054 non-null  object        \n",
      " 16  Amateur.Built           30028 non-null  object        \n",
      " 17  Number.of.Engines       28677 non-null  float64       \n",
      " 18  Engine.Type             27153 non-null  object        \n",
      " 19  FAR.Description         20810 non-null  object        \n",
      " 20  Schedule                395 non-null    object        \n",
      " 21  Purpose.of.flight       30054 non-null  object        \n",
      " 22  Air.carrier             8608 non-null   object        \n",
      " 23  Total.Fatal.Injuries    30054 non-null  float64       \n",
      " 24  Total.Serious.Injuries  30054 non-null  float64       \n",
      " 25  Total.Minor.Injuries    30054 non-null  float64       \n",
      " 26  Total.Uninjured         30054 non-null  float64       \n",
      " 27  Weather.Condition       29336 non-null  object        \n",
      " 28  Broad.phase.of.flight   11991 non-null  object        \n",
      " 29  Report.Status           27538 non-null  object        \n",
      " 30  Publication.Date        28513 non-null  object        \n",
      "dtypes: datetime64[ns](1), float64(5), object(25)\n",
      "memory usage: 7.3+ MB\n"
     ]
    }
   ],
   "source": [
    "cleaned_av_data.info()"
   ]
  },
  {
   "cell_type": "code",
   "execution_count": 156,
   "id": "13564abb",
   "metadata": {},
   "outputs": [
    {
     "data": {
      "text/plain": [
       "array(['Turbo Fan', 'Reciprocating', 'Turbo Prop', 'Turbo Jet', 'Unknown',\n",
       "       'Turbo Shaft', nan, 'None', 'Electric', 'LR', 'NONE', 'UNK'],\n",
       "      dtype=object)"
      ]
     },
     "execution_count": 156,
     "metadata": {},
     "output_type": "execute_result"
    }
   ],
   "source": [
    "cleaned_av_data['Engine.Type'].unique()"
   ]
  },
  {
   "cell_type": "code",
   "execution_count": 157,
   "metadata": {},
   "outputs": [
    {
     "data": {
      "text/plain": [
       "array(['Non-Fatal', 'Fatal(2)', 'Fatal(1)', 'Fatal(4)', 'Fatal(3)',\n",
       "       'Incident', 'Fatal(5)', 'Fatal(6)', 'Unavailable', 'Fatal(11)',\n",
       "       'Fatal(9)', 'Fatal(10)', 'Fatal(118)', 'Fatal(7)', 'Fatal(8)',\n",
       "       'Fatal(154)', 'Fatal', nan, 'Minor', 'Serious'], dtype=object)"
      ]
     },
     "execution_count": 157,
     "metadata": {},
     "output_type": "execute_result"
    }
   ],
   "source": [
    "cleaned_av_data['Injury.Severity'].unique()"
   ]
  },
  {
   "cell_type": "code",
   "execution_count": 158,
   "id": "77d9b251",
   "metadata": {},
   "outputs": [
    {
     "data": {
      "text/plain": [
       "Non-Fatal      23662\n",
       "Fatal           3352\n",
       "Fatal(1)        1268\n",
       "Fatal(2)         832\n",
       "Fatal(3)         258\n",
       "Minor            177\n",
       "Fatal(4)         133\n",
       "Incident         129\n",
       "Serious          121\n",
       "Fatal(5)          46\n",
       "Fatal(6)          23\n",
       "Fatal(10)          6\n",
       "Unavailable        5\n",
       "Fatal(7)           4\n",
       "Fatal(8)           4\n",
       "Fatal(11)          3\n",
       "Fatal(9)           2\n",
       "Fatal(154)         1\n",
       "Fatal(118)         1\n",
       "Name: Injury.Severity, dtype: int64"
      ]
     },
     "execution_count": 158,
     "metadata": {},
     "output_type": "execute_result"
    }
   ],
   "source": [
    "cleaned_av_data['Injury.Severity'].value_counts()"
   ]
  },
  {
   "cell_type": "code",
   "execution_count": 159,
   "id": "351bdf0e",
   "metadata": {},
   "outputs": [
    {
     "data": {
      "text/plain": [
       "30027"
      ]
     },
     "execution_count": 159,
     "metadata": {},
     "output_type": "execute_result"
    }
   ],
   "source": [
    "cleaned_av_data['Injury.Severity'].value_counts().sum()"
   ]
  },
  {
   "cell_type": "code",
   "execution_count": 160,
   "id": "1c06ab7c",
   "metadata": {},
   "outputs": [
    {
     "data": {
      "text/plain": [
       "27"
      ]
     },
     "execution_count": 160,
     "metadata": {},
     "output_type": "execute_result"
    }
   ],
   "source": [
    "cleaned_av_data['Injury.Severity'].isnull().sum()"
   ]
  },
  {
   "cell_type": "markdown",
   "id": "93d9a093",
   "metadata": {},
   "source": [
    "***There are 2459 null values, unavailable, nan in this column.\n",
    "However, rather than dropping the rows with null values, we can impute these from the injury data."
   ]
  },
  {
   "cell_type": "code",
   "execution_count": 161,
   "id": "094a01ea",
   "metadata": {},
   "outputs": [
    {
     "data": {
      "text/plain": [
       "Index(['Event.Id', 'Investigation.Type', 'Accident.Number', 'Event.Date',\n",
       "       'Location', 'Country', 'Latitude', 'Longitude', 'Airport.Code',\n",
       "       'Airport.Name', 'Injury.Severity', 'Aircraft.damage',\n",
       "       'Aircraft.Category', 'Registration.Number', 'Make', 'Model',\n",
       "       'Amateur.Built', 'Number.of.Engines', 'Engine.Type', 'FAR.Description',\n",
       "       'Schedule', 'Purpose.of.flight', 'Air.carrier', 'Total.Fatal.Injuries',\n",
       "       'Total.Serious.Injuries', 'Total.Minor.Injuries', 'Total.Uninjured',\n",
       "       'Weather.Condition', 'Broad.phase.of.flight', 'Report.Status',\n",
       "       'Publication.Date'],\n",
       "      dtype='object')"
      ]
     },
     "execution_count": 161,
     "metadata": {},
     "output_type": "execute_result"
    }
   ],
   "source": [
    "cleaned_av_data.columns"
   ]
  },
  {
   "cell_type": "markdown",
   "id": "350c82f6",
   "metadata": {},
   "source": [
    "d. Check the Number.of.Engines column\n",
    "\n",
    "As information on operating the aircraft is part of the objectives, we need to clean the column on Number of engines and Engine type as this relates to ability to operate the aircraft."
   ]
  },
  {
   "cell_type": "code",
   "execution_count": 162,
   "id": "cc3b9dc2",
   "metadata": {},
   "outputs": [
    {
     "data": {
      "text/plain": [
       "1.0    25632\n",
       "2.0     2584\n",
       "0.0      437\n",
       "3.0       13\n",
       "4.0        9\n",
       "8.0        2\n",
       "Name: Number.of.Engines, dtype: int64"
      ]
     },
     "execution_count": 162,
     "metadata": {},
     "output_type": "execute_result"
    }
   ],
   "source": [
    "cleaned_av_data['Number.of.Engines'].value_counts()"
   ]
  },
  {
   "cell_type": "code",
   "execution_count": 163,
   "id": "59acc575",
   "metadata": {},
   "outputs": [
    {
     "data": {
      "text/plain": [
       "28677"
      ]
     },
     "execution_count": 163,
     "metadata": {},
     "output_type": "execute_result"
    }
   ],
   "source": [
    "cleaned_av_data['Number.of.Engines'].value_counts().sum()"
   ]
  },
  {
   "cell_type": "code",
   "execution_count": 164,
   "id": "bd46f829",
   "metadata": {},
   "outputs": [
    {
     "data": {
      "text/plain": [
       "1377"
      ]
     },
     "execution_count": 164,
     "metadata": {},
     "output_type": "execute_result"
    }
   ],
   "source": [
    "cleaned_av_data['Number.of.Engines'].isnull().sum()"
   ]
  },
  {
   "cell_type": "code",
   "execution_count": 165,
   "id": "40132f9d",
   "metadata": {},
   "outputs": [
    {
     "data": {
      "text/plain": [
       "Reciprocating    25238\n",
       "Turbo Prop         722\n",
       "Turbo Shaft        637\n",
       "Turbo Fan          288\n",
       "Unknown            130\n",
       "Turbo Jet          113\n",
       "None                15\n",
       "Electric             5\n",
       "NONE                 2\n",
       "LR                   2\n",
       "UNK                  1\n",
       "Name: Engine.Type, dtype: int64"
      ]
     },
     "execution_count": 165,
     "metadata": {},
     "output_type": "execute_result"
    }
   ],
   "source": [
    "cleaned_av_data['Engine.Type'].value_counts()"
   ]
  },
  {
   "cell_type": "code",
   "execution_count": 166,
   "id": "619d45fd",
   "metadata": {},
   "outputs": [
    {
     "data": {
      "text/plain": [
       "27153"
      ]
     },
     "execution_count": 166,
     "metadata": {},
     "output_type": "execute_result"
    }
   ],
   "source": [
    "cleaned_av_data['Engine.Type'].value_counts().sum()"
   ]
  },
  {
   "cell_type": "code",
   "execution_count": 167,
   "id": "af68647c",
   "metadata": {},
   "outputs": [
    {
     "data": {
      "text/plain": [
       "2901"
      ]
     },
     "execution_count": 167,
     "metadata": {},
     "output_type": "execute_result"
    }
   ],
   "source": [
    "cleaned_av_data['Engine.Type'].isnull().sum()"
   ]
  },
  {
   "cell_type": "markdown",
   "id": "39e5a02a",
   "metadata": {},
   "source": [
    "e. Drop columns that are not relevant to our objectives\n"
   ]
  },
  {
   "cell_type": "code",
   "execution_count": 168,
   "id": "d7208923",
   "metadata": {},
   "outputs": [
    {
     "data": {
      "text/plain": [
       "Index(['Event.Id', 'Investigation.Type', 'Accident.Number', 'Event.Date',\n",
       "       'Location', 'Country', 'Latitude', 'Longitude', 'Airport.Code',\n",
       "       'Airport.Name', 'Injury.Severity', 'Aircraft.damage',\n",
       "       'Aircraft.Category', 'Registration.Number', 'Make', 'Model',\n",
       "       'Amateur.Built', 'Number.of.Engines', 'Engine.Type', 'FAR.Description',\n",
       "       'Schedule', 'Purpose.of.flight', 'Air.carrier', 'Total.Fatal.Injuries',\n",
       "       'Total.Serious.Injuries', 'Total.Minor.Injuries', 'Total.Uninjured',\n",
       "       'Weather.Condition', 'Broad.phase.of.flight', 'Report.Status',\n",
       "       'Publication.Date'],\n",
       "      dtype='object')"
      ]
     },
     "execution_count": 168,
     "metadata": {},
     "output_type": "execute_result"
    }
   ],
   "source": [
    "cleaned_av_data.columns"
   ]
  },
  {
   "cell_type": "markdown",
   "id": "c956a264",
   "metadata": {},
   "source": [
    "\n",
    "Going forward, the following columns are not relevant to our analysis based on the given objectives: \n",
    "       'Location', 'Country', 'Latitude', 'Longitude', 'Airport.Code', 'Airport.Name', 'Aircraft.damage', 'Registration.Number', 'FAR.Description', 'Schedule', 'Purpose.of.flight', 'Air.carrier', 'Weather.Condition', 'Broad.phase.of.flight', 'Report.Status', 'Publication.Date'"
   ]
  },
  {
   "cell_type": "code",
   "execution_count": 184,
   "id": "cc703a1e",
   "metadata": {},
   "outputs": [],
   "source": [
    "columns_to_drop = ['Event.Id', 'Investigation.Type', 'Accident.Number', 'Location', 'Country', 'Latitude', 'Longitude', 'Airport.Code', 'Airport.Name', 'Aircraft.damage', 'Registration.Number', 'FAR.Description', 'Schedule', 'Purpose.of.flight', 'Air.carrier', 'Weather.Condition', 'Broad.phase.of.flight', 'Report.Status', 'Publication.Date']"
   ]
  },
  {
   "cell_type": "code",
   "execution_count": 185,
   "id": "b7ab89b0",
   "metadata": {},
   "outputs": [],
   "source": [
    "#Drop non-relevant columns and assign relevant columns to variable'rel_av_data'\n",
    "rel_av_data = cleaned_av_data.drop(columns=columns_to_drop) "
   ]
  },
  {
   "cell_type": "code",
   "execution_count": 186,
   "id": "bedfbcec",
   "metadata": {},
   "outputs": [
    {
     "data": {
      "text/plain": [
       "Index(['Event.Date', 'Injury.Severity', 'Aircraft.Category', 'Make', 'Model',\n",
       "       'Amateur.Built', 'Number.of.Engines', 'Engine.Type',\n",
       "       'Total.Fatal.Injuries', 'Total.Serious.Injuries',\n",
       "       'Total.Minor.Injuries', 'Total.Uninjured'],\n",
       "      dtype='object')"
      ]
     },
     "execution_count": 186,
     "metadata": {},
     "output_type": "execute_result"
    }
   ],
   "source": [
    "#Check that the relevant columns appear under the variable 'rel_av_data'\n",
    "rel_av_data.columns"
   ]
  },
  {
   "cell_type": "code",
   "execution_count": 172,
   "id": "8e2672c7",
   "metadata": {},
   "outputs": [
    {
     "data": {
      "text/plain": [
       "Event.Date                30054\n",
       "Injury.Severity           30027\n",
       "Aircraft.Category         20739\n",
       "Make                      30054\n",
       "Model                     30054\n",
       "Amateur.Built             30028\n",
       "Number.of.Engines         28677\n",
       "Engine.Type               27153\n",
       "Total.Fatal.Injuries      30054\n",
       "Total.Serious.Injuries    30054\n",
       "Total.Minor.Injuries      30054\n",
       "Total.Uninjured           30054\n",
       "dtype: int64"
      ]
     },
     "execution_count": 172,
     "metadata": {},
     "output_type": "execute_result"
    }
   ],
   "source": [
    "#Check no. of entries(rows) under each column\n",
    "rel_av_data.count()"
   ]
  },
  {
   "cell_type": "code",
   "execution_count": 173,
   "id": "539fc918",
   "metadata": {},
   "outputs": [
    {
     "data": {
      "text/plain": [
       "50"
      ]
     },
     "execution_count": 173,
     "metadata": {},
     "output_type": "execute_result"
    }
   ],
   "source": [
    "#Check for duplicates in new data set\n",
    "rel_av_data.duplicated().sum()"
   ]
  },
  {
   "cell_type": "code",
   "execution_count": 174,
   "id": "5761d210",
   "metadata": {},
   "outputs": [
    {
     "data": {
      "text/plain": [
       "0"
      ]
     },
     "execution_count": 174,
     "metadata": {},
     "output_type": "execute_result"
    }
   ],
   "source": [
    "# Drop duplicates and check if successful\n",
    "rel_av_data = rel_av_data.drop_duplicates()\n",
    "rel_av_data.duplicated().sum()"
   ]
  },
  {
   "cell_type": "code",
   "execution_count": 175,
   "id": "d22ab122",
   "metadata": {},
   "outputs": [],
   "source": [
    "#Remove unnecessary spacing and make all to be title case\n",
    "rel_av_data['Make'] = rel_av_data['Make'].str.strip().str.title()\n",
    "rel_av_data['Model'] = rel_av_data['Model'].str.strip().str.title()"
   ]
  },
  {
   "cell_type": "markdown",
   "id": "4e32ae50",
   "metadata": {},
   "source": [
    "## 2. Collate and Group data \n",
    "\n",
    "After initially exploring the data set, initial cleaning and getting the data that will be relevant toward our objectives, we can now group this data based on columns to further understand the data."
   ]
  },
  {
   "cell_type": "code",
   "execution_count": 176,
   "id": "2bfedc48",
   "metadata": {},
   "outputs": [
    {
     "data": {
      "text/html": [
       "<div>\n",
       "<style scoped>\n",
       "    .dataframe tbody tr th:only-of-type {\n",
       "        vertical-align: middle;\n",
       "    }\n",
       "\n",
       "    .dataframe tbody tr th {\n",
       "        vertical-align: top;\n",
       "    }\n",
       "\n",
       "    .dataframe thead th {\n",
       "        text-align: right;\n",
       "    }\n",
       "</style>\n",
       "<table border=\"1\" class=\"dataframe\">\n",
       "  <thead>\n",
       "    <tr style=\"text-align: right;\">\n",
       "      <th></th>\n",
       "      <th>Make</th>\n",
       "      <th>Model</th>\n",
       "      <th>Total.Fatal.Injuries</th>\n",
       "      <th>Total.Serious.Injuries</th>\n",
       "      <th>Total.Minor.Injuries</th>\n",
       "      <th>Total.Uninjured</th>\n",
       "    </tr>\n",
       "  </thead>\n",
       "  <tbody>\n",
       "    <tr>\n",
       "      <th>47675</th>\n",
       "      <td>Cessna</td>\n",
       "      <td>550</td>\n",
       "      <td>0.0</td>\n",
       "      <td>0.0</td>\n",
       "      <td>0.0</td>\n",
       "      <td>3.0</td>\n",
       "    </tr>\n",
       "    <tr>\n",
       "      <th>47676</th>\n",
       "      <td>Bellanca</td>\n",
       "      <td>Bl-17-30A</td>\n",
       "      <td>2.0</td>\n",
       "      <td>0.0</td>\n",
       "      <td>0.0</td>\n",
       "      <td>0.0</td>\n",
       "    </tr>\n",
       "    <tr>\n",
       "      <th>47677</th>\n",
       "      <td>Cessna</td>\n",
       "      <td>172G</td>\n",
       "      <td>0.0</td>\n",
       "      <td>0.0</td>\n",
       "      <td>0.0</td>\n",
       "      <td>2.0</td>\n",
       "    </tr>\n",
       "    <tr>\n",
       "      <th>47678</th>\n",
       "      <td>Cessna</td>\n",
       "      <td>172A</td>\n",
       "      <td>0.0</td>\n",
       "      <td>0.0</td>\n",
       "      <td>1.0</td>\n",
       "      <td>0.0</td>\n",
       "    </tr>\n",
       "    <tr>\n",
       "      <th>47679</th>\n",
       "      <td>Piper</td>\n",
       "      <td>Pa-46-310P</td>\n",
       "      <td>0.0</td>\n",
       "      <td>0.0</td>\n",
       "      <td>0.0</td>\n",
       "      <td>5.0</td>\n",
       "    </tr>\n",
       "  </tbody>\n",
       "</table>\n",
       "</div>"
      ],
      "text/plain": [
       "           Make       Model  Total.Fatal.Injuries  Total.Serious.Injuries  \\\n",
       "47675    Cessna         550                   0.0                     0.0   \n",
       "47676  Bellanca   Bl-17-30A                   2.0                     0.0   \n",
       "47677    Cessna        172G                   0.0                     0.0   \n",
       "47678    Cessna        172A                   0.0                     0.0   \n",
       "47679     Piper  Pa-46-310P                   0.0                     0.0   \n",
       "\n",
       "       Total.Minor.Injuries  Total.Uninjured  \n",
       "47675                   0.0              3.0  \n",
       "47676                   0.0              0.0  \n",
       "47677                   0.0              2.0  \n",
       "47678                   1.0              0.0  \n",
       "47679                   0.0              5.0  "
      ]
     },
     "execution_count": 176,
     "metadata": {},
     "output_type": "execute_result"
    }
   ],
   "source": [
    "# Collate data on injuries by make_model\n",
    "injury_data = rel_av_data[['Make', 'Model', 'Total.Fatal.Injuries', \n",
    "                           'Total.Serious.Injuries', 'Total.Minor.Injuries', \n",
    "                           'Total.Uninjured']]\n",
    "\n",
    "injury_data.head()"
   ]
  },
  {
   "cell_type": "code",
   "execution_count": 177,
   "id": "3bb6f1a9",
   "metadata": {},
   "outputs": [],
   "source": [
    "injury_data = injury_data.copy()"
   ]
  },
  {
   "cell_type": "code",
   "execution_count": 178,
   "id": "209b851c",
   "metadata": {},
   "outputs": [
    {
     "data": {
      "text/html": [
       "<div>\n",
       "<style scoped>\n",
       "    .dataframe tbody tr th:only-of-type {\n",
       "        vertical-align: middle;\n",
       "    }\n",
       "\n",
       "    .dataframe tbody tr th {\n",
       "        vertical-align: top;\n",
       "    }\n",
       "\n",
       "    .dataframe thead th {\n",
       "        text-align: right;\n",
       "    }\n",
       "</style>\n",
       "<table border=\"1\" class=\"dataframe\">\n",
       "  <thead>\n",
       "    <tr style=\"text-align: right;\">\n",
       "      <th></th>\n",
       "      <th>Make</th>\n",
       "      <th>Model</th>\n",
       "      <th>Total.Fatal.Injuries</th>\n",
       "      <th>Total.Serious.Injuries</th>\n",
       "      <th>Total.Minor.Injuries</th>\n",
       "      <th>Total.Uninjured</th>\n",
       "      <th>Total.Injuries</th>\n",
       "    </tr>\n",
       "  </thead>\n",
       "  <tbody>\n",
       "    <tr>\n",
       "      <th>47675</th>\n",
       "      <td>Cessna</td>\n",
       "      <td>550</td>\n",
       "      <td>0.0</td>\n",
       "      <td>0.0</td>\n",
       "      <td>0.0</td>\n",
       "      <td>3.0</td>\n",
       "      <td>0.0</td>\n",
       "    </tr>\n",
       "    <tr>\n",
       "      <th>47676</th>\n",
       "      <td>Bellanca</td>\n",
       "      <td>Bl-17-30A</td>\n",
       "      <td>2.0</td>\n",
       "      <td>0.0</td>\n",
       "      <td>0.0</td>\n",
       "      <td>0.0</td>\n",
       "      <td>2.0</td>\n",
       "    </tr>\n",
       "    <tr>\n",
       "      <th>47677</th>\n",
       "      <td>Cessna</td>\n",
       "      <td>172G</td>\n",
       "      <td>0.0</td>\n",
       "      <td>0.0</td>\n",
       "      <td>0.0</td>\n",
       "      <td>2.0</td>\n",
       "      <td>0.0</td>\n",
       "    </tr>\n",
       "    <tr>\n",
       "      <th>47678</th>\n",
       "      <td>Cessna</td>\n",
       "      <td>172A</td>\n",
       "      <td>0.0</td>\n",
       "      <td>0.0</td>\n",
       "      <td>1.0</td>\n",
       "      <td>0.0</td>\n",
       "      <td>1.0</td>\n",
       "    </tr>\n",
       "    <tr>\n",
       "      <th>47679</th>\n",
       "      <td>Piper</td>\n",
       "      <td>Pa-46-310P</td>\n",
       "      <td>0.0</td>\n",
       "      <td>0.0</td>\n",
       "      <td>0.0</td>\n",
       "      <td>5.0</td>\n",
       "      <td>0.0</td>\n",
       "    </tr>\n",
       "    <tr>\n",
       "      <th>47680</th>\n",
       "      <td>Piper</td>\n",
       "      <td>Pa-46-310P</td>\n",
       "      <td>0.0</td>\n",
       "      <td>0.0</td>\n",
       "      <td>0.0</td>\n",
       "      <td>2.0</td>\n",
       "      <td>0.0</td>\n",
       "    </tr>\n",
       "    <tr>\n",
       "      <th>47681</th>\n",
       "      <td>Cessna</td>\n",
       "      <td>421B</td>\n",
       "      <td>1.0</td>\n",
       "      <td>0.0</td>\n",
       "      <td>0.0</td>\n",
       "      <td>0.0</td>\n",
       "      <td>1.0</td>\n",
       "    </tr>\n",
       "    <tr>\n",
       "      <th>47684</th>\n",
       "      <td>Cessna</td>\n",
       "      <td>A185F</td>\n",
       "      <td>0.0</td>\n",
       "      <td>0.0</td>\n",
       "      <td>0.0</td>\n",
       "      <td>4.0</td>\n",
       "      <td>0.0</td>\n",
       "    </tr>\n",
       "    <tr>\n",
       "      <th>47685</th>\n",
       "      <td>Piper</td>\n",
       "      <td>Pa-24-180</td>\n",
       "      <td>2.0</td>\n",
       "      <td>1.0</td>\n",
       "      <td>0.0</td>\n",
       "      <td>0.0</td>\n",
       "      <td>3.0</td>\n",
       "    </tr>\n",
       "    <tr>\n",
       "      <th>47686</th>\n",
       "      <td>Eaa Chapter 229</td>\n",
       "      <td>Zenair 601</td>\n",
       "      <td>0.0</td>\n",
       "      <td>0.0</td>\n",
       "      <td>0.0</td>\n",
       "      <td>2.0</td>\n",
       "      <td>0.0</td>\n",
       "    </tr>\n",
       "  </tbody>\n",
       "</table>\n",
       "</div>"
      ],
      "text/plain": [
       "                  Make       Model  Total.Fatal.Injuries  \\\n",
       "47675           Cessna         550                   0.0   \n",
       "47676         Bellanca   Bl-17-30A                   2.0   \n",
       "47677           Cessna        172G                   0.0   \n",
       "47678           Cessna        172A                   0.0   \n",
       "47679            Piper  Pa-46-310P                   0.0   \n",
       "47680            Piper  Pa-46-310P                   0.0   \n",
       "47681           Cessna        421B                   1.0   \n",
       "47684           Cessna       A185F                   0.0   \n",
       "47685            Piper   Pa-24-180                   2.0   \n",
       "47686  Eaa Chapter 229  Zenair 601                   0.0   \n",
       "\n",
       "       Total.Serious.Injuries  Total.Minor.Injuries  Total.Uninjured  \\\n",
       "47675                     0.0                   0.0              3.0   \n",
       "47676                     0.0                   0.0              0.0   \n",
       "47677                     0.0                   0.0              2.0   \n",
       "47678                     0.0                   1.0              0.0   \n",
       "47679                     0.0                   0.0              5.0   \n",
       "47680                     0.0                   0.0              2.0   \n",
       "47681                     0.0                   0.0              0.0   \n",
       "47684                     0.0                   0.0              4.0   \n",
       "47685                     1.0                   0.0              0.0   \n",
       "47686                     0.0                   0.0              2.0   \n",
       "\n",
       "       Total.Injuries  \n",
       "47675             0.0  \n",
       "47676             2.0  \n",
       "47677             0.0  \n",
       "47678             1.0  \n",
       "47679             0.0  \n",
       "47680             0.0  \n",
       "47681             1.0  \n",
       "47684             0.0  \n",
       "47685             3.0  \n",
       "47686             0.0  "
      ]
     },
     "execution_count": 178,
     "metadata": {},
     "output_type": "execute_result"
    }
   ],
   "source": [
    "#Add column that contains the total injuries per aircraft \n",
    "\n",
    "injury_data['Total.Injuries'] = injury_data[['Total.Fatal.Injuries',\n",
    "                                             'Total.Serious.Injuries',\n",
    "                                             'Total.Minor.Injuries']].sum(axis=1)\n",
    "\n",
    "injury_data.head(10)"
   ]
  },
  {
   "cell_type": "code",
   "execution_count": 179,
   "id": "e4cad76b",
   "metadata": {},
   "outputs": [
    {
     "data": {
      "text/html": [
       "<div>\n",
       "<style scoped>\n",
       "    .dataframe tbody tr th:only-of-type {\n",
       "        vertical-align: middle;\n",
       "    }\n",
       "\n",
       "    .dataframe tbody tr th {\n",
       "        vertical-align: top;\n",
       "    }\n",
       "\n",
       "    .dataframe thead th {\n",
       "        text-align: right;\n",
       "    }\n",
       "</style>\n",
       "<table border=\"1\" class=\"dataframe\">\n",
       "  <thead>\n",
       "    <tr style=\"text-align: right;\">\n",
       "      <th></th>\n",
       "      <th></th>\n",
       "      <th>Total.Injuries</th>\n",
       "    </tr>\n",
       "    <tr>\n",
       "      <th>Make</th>\n",
       "      <th>Model</th>\n",
       "      <th></th>\n",
       "    </tr>\n",
       "  </thead>\n",
       "  <tbody>\n",
       "    <tr>\n",
       "      <th>107.5 Flying Corporation</th>\n",
       "      <th>One Design Dr 107</th>\n",
       "      <td>1.0</td>\n",
       "    </tr>\n",
       "    <tr>\n",
       "      <th>1200</th>\n",
       "      <th>G103</th>\n",
       "      <td>1.0</td>\n",
       "    </tr>\n",
       "    <tr>\n",
       "      <th>177Mf Llc</th>\n",
       "      <th>Pitts Model 12</th>\n",
       "      <td>2.0</td>\n",
       "    </tr>\n",
       "    <tr>\n",
       "      <th>1977 Colfer-Chan</th>\n",
       "      <th>Steen Skybolt</th>\n",
       "      <td>1.0</td>\n",
       "    </tr>\n",
       "    <tr>\n",
       "      <th>2003 Nash</th>\n",
       "      <th>Kitfox Ii</th>\n",
       "      <td>1.0</td>\n",
       "    </tr>\n",
       "  </tbody>\n",
       "</table>\n",
       "</div>"
      ],
      "text/plain": [
       "                                            Total.Injuries\n",
       "Make                     Model                            \n",
       "107.5 Flying Corporation One Design Dr 107             1.0\n",
       "1200                     G103                          1.0\n",
       "177Mf Llc                Pitts Model 12                2.0\n",
       "1977 Colfer-Chan         Steen Skybolt                 1.0\n",
       "2003 Nash                Kitfox Ii                     1.0"
      ]
     },
     "execution_count": 179,
     "metadata": {},
     "output_type": "execute_result"
    }
   ],
   "source": [
    "Make_Model_piv = pd.pivot_table(injury_data, values='Total.Injuries', index=['Make', 'Model'], aggfunc='sum')\n",
    "\n",
    "Make_Model_piv.head()"
   ]
  },
  {
   "cell_type": "markdown",
   "id": "12a7b6b6",
   "metadata": {},
   "source": [
    "Total injuries includes 'Total.Fatal.Injuries' + 'Total.Serious Injuries' + 'Total.Minor.Injuries'"
   ]
  },
  {
   "cell_type": "code",
   "execution_count": 181,
   "id": "86b2cf2d",
   "metadata": {},
   "outputs": [
    {
     "data": {
      "text/html": [
       "<div>\n",
       "<style scoped>\n",
       "    .dataframe tbody tr th:only-of-type {\n",
       "        vertical-align: middle;\n",
       "    }\n",
       "\n",
       "    .dataframe tbody tr th {\n",
       "        vertical-align: top;\n",
       "    }\n",
       "\n",
       "    .dataframe thead th {\n",
       "        text-align: right;\n",
       "    }\n",
       "</style>\n",
       "<table border=\"1\" class=\"dataframe\">\n",
       "  <thead>\n",
       "    <tr style=\"text-align: right;\">\n",
       "      <th></th>\n",
       "      <th>Make</th>\n",
       "      <th>Model</th>\n",
       "      <th>Total.Injuries</th>\n",
       "    </tr>\n",
       "  </thead>\n",
       "  <tbody>\n",
       "    <tr>\n",
       "      <th>0</th>\n",
       "      <td>107.5 Flying Corporation</td>\n",
       "      <td>One Design Dr 107</td>\n",
       "      <td>1.0</td>\n",
       "    </tr>\n",
       "    <tr>\n",
       "      <th>1</th>\n",
       "      <td>1200</td>\n",
       "      <td>G103</td>\n",
       "      <td>1.0</td>\n",
       "    </tr>\n",
       "    <tr>\n",
       "      <th>2</th>\n",
       "      <td>177Mf Llc</td>\n",
       "      <td>Pitts Model 12</td>\n",
       "      <td>2.0</td>\n",
       "    </tr>\n",
       "    <tr>\n",
       "      <th>3</th>\n",
       "      <td>1977 Colfer-Chan</td>\n",
       "      <td>Steen Skybolt</td>\n",
       "      <td>1.0</td>\n",
       "    </tr>\n",
       "    <tr>\n",
       "      <th>4</th>\n",
       "      <td>2003 Nash</td>\n",
       "      <td>Kitfox Ii</td>\n",
       "      <td>1.0</td>\n",
       "    </tr>\n",
       "    <tr>\n",
       "      <th>...</th>\n",
       "      <td>...</td>\n",
       "      <td>...</td>\n",
       "      <td>...</td>\n",
       "    </tr>\n",
       "    <tr>\n",
       "      <th>95</th>\n",
       "      <td>Aero Vodochody</td>\n",
       "      <td>L 39</td>\n",
       "      <td>0.0</td>\n",
       "    </tr>\n",
       "    <tr>\n",
       "      <th>96</th>\n",
       "      <td>Aero Vodochody</td>\n",
       "      <td>L 39C</td>\n",
       "      <td>2.0</td>\n",
       "    </tr>\n",
       "    <tr>\n",
       "      <th>97</th>\n",
       "      <td>Aero Vodochody</td>\n",
       "      <td>L-29</td>\n",
       "      <td>2.0</td>\n",
       "    </tr>\n",
       "    <tr>\n",
       "      <th>98</th>\n",
       "      <td>Aero Vodochody</td>\n",
       "      <td>L-39</td>\n",
       "      <td>2.0</td>\n",
       "    </tr>\n",
       "    <tr>\n",
       "      <th>99</th>\n",
       "      <td>Aero Vodochody</td>\n",
       "      <td>L-39C</td>\n",
       "      <td>2.0</td>\n",
       "    </tr>\n",
       "  </tbody>\n",
       "</table>\n",
       "<p>100 rows × 3 columns</p>\n",
       "</div>"
      ],
      "text/plain": [
       "                        Make              Model  Total.Injuries\n",
       "0   107.5 Flying Corporation  One Design Dr 107             1.0\n",
       "1                       1200               G103             1.0\n",
       "2                  177Mf Llc     Pitts Model 12             2.0\n",
       "3           1977 Colfer-Chan      Steen Skybolt             1.0\n",
       "4                  2003 Nash          Kitfox Ii             1.0\n",
       "..                       ...                ...             ...\n",
       "95            Aero Vodochody               L 39             0.0\n",
       "96            Aero Vodochody              L 39C             2.0\n",
       "97            Aero Vodochody               L-29             2.0\n",
       "98            Aero Vodochody               L-39             2.0\n",
       "99            Aero Vodochody              L-39C             2.0\n",
       "\n",
       "[100 rows x 3 columns]"
      ]
     },
     "execution_count": 181,
     "metadata": {},
     "output_type": "execute_result"
    }
   ],
   "source": [
    "#Create a group with the make model and total injuries \n",
    "Make_Model_grp = injury_data.groupby(['Make', 'Model'])['Total.Injuries'].sum().reset_index()\n",
    "\n",
    "Make_Model_grp.head(100)"
   ]
  },
  {
   "cell_type": "code",
   "execution_count": 182,
   "id": "93832c83",
   "metadata": {},
   "outputs": [
    {
     "name": "stdout",
     "output_type": "stream",
     "text": [
      "<class 'pandas.core.frame.DataFrame'>\n",
      "RangeIndex: 8926 entries, 0 to 8925\n",
      "Data columns (total 3 columns):\n",
      " #   Column          Non-Null Count  Dtype  \n",
      "---  ------          --------------  -----  \n",
      " 0   Make            8926 non-null   object \n",
      " 1   Model           8926 non-null   object \n",
      " 2   Total.Injuries  8926 non-null   float64\n",
      "dtypes: float64(1), object(2)\n",
      "memory usage: 209.3+ KB\n"
     ]
    }
   ],
   "source": [
    "Make_Model_grp.info()"
   ]
  },
  {
   "cell_type": "code",
   "execution_count": 183,
   "id": "a84e905f",
   "metadata": {},
   "outputs": [
    {
     "data": {
      "text/plain": [
       "\"107.5 Flying Corporation1200177Mf Llc1977 Colfer-Chan2003 Nash2007 Savage Air Llc2021Fx3 Llc5 Rivers Llc781569 IncA Pair Of JacksA. Schleicher Gmbh & Co.Aaa Aircraft LeasingAaa Aircraft LlcAardema Robert JohnAb Sportine AviacijaAbbett GerryAbbey VictorAbbottAbernathyAc Mfg & Dev'T CoAckertAckland Jeffrey DeanAcroAcro SportAdamsAdams BalloonAdams Balloons LlcAdams Dennis AllenAdams Donald LAdams John R JrAdkinsAdlerAdolphsonAdrian George WAdventuraAdvertising Mgmt & ConsultingAermacchiAero AdventureAero At Sp ZooAero BristellAero CommanderAero Comp IncAero Design ElevenAero DesignsAero Eli ServiziAero Partners One LlcAero Smart Solutions IncAero Sp Z O OAero Sp Z O O (Gobosh)Aero Tek Inc.Aero Tek, Inc.Aero VodochodyAero Vodochody Aero WorksAero Vodochody Aero. WorksAero WorksAerofabAerofab IncAerofab Inc.Aerofab, Inc.AeromotAeroncaAeronca Aircraft CorporationAeronca-Bubeck IrvingAeronca/BubeckAeropraktAeroprakt Manufacturing Sp ZooAeropro CzAeropro Cz S R OAerosAeros LtdAeros Ltd/Skyranger AircraftAerospatialeAerospoolAerosport LtdAerosports ConnectionAerostarAerostar Acft Corp Of TexasAerostar Aircraft CorporationAerostar InternationalAerostar International IncAerostar International Inc.Aerostar S AAerostar, S.AAerotechnikAerotekAerotek IncAerotrekAerotrikeAerovodochodyAgetonAgin Jeffrey TAgustaAgusta Aerospace CorpAgusta BellAgusta SpaAhrens Gerd HAinsworthAir & SpaceAir & Space.Air Borne Windsports Pty. Ltd.Air CommandAir CreationAir Creation Usa LlcAir Creation/Sides Rick AAir CreationsAir Gulfstream Airlines IncAir TractorAir Tractor IncAir TrikesAirborneAirborne (Australia)Airborne AustraliaAirborne Extreme LlcAirborne WindsportAirborne WindsportsAirborne Windsports LtdAirborne Windsports Pty LtdAirbusAirbus HelicoptersAirbus Helicopters (EurocopteAirbus Helicopters IncAirbus/EurocopterAircoupeAircraft Industries A.S.Aircraft Mfg & Design LlcAircraft Mfg & Dev. Co.Aircraft Mfg & Dev. Co. (Amd)Aircraft Mfg & Development CoAircraft Mfg & Development Co.Aircraft Mfg & Dvlpmt CoAirframes UnlimitedAirgyroAirgyro Aviation LlcAirindusAirmax Construcoes AeronauticaAirplane FactoryAirplane Factory (Pty) LtdAirplane Factory (Pty) Ltd TheAirtimeAirtime Aircraft IncAkers DouglasAkro Tech Aviation Inc. GilesAlan WilsonAlaskan Air Adventures LlcAlbright StanAlex Michael Bantum/Tercel UsaAlexanderAlexander Duane AAlexander Schleicher Gmbh & CoAlexander Thomas PAlexander VagnerAlfredAlgimantas JonusasAliev BulentAlisportAlisport SrlAllan G PixleyAllardyce MichaelAllegroAllenAllen Jan AAllen Raymond HAllen RobertAllen W InksAllenbergAllensworthAlliantAlliant AviationAllisonAllstar PzlAllstar Pzl GliderAlonAlon AircoupeAlonsoAlthouseAlvarez Marvin RAlvin R. KemmetAmateur BuiltAmdAmenAmericanAmerican Air RacingAmerican Air Racing LtdAmerican AutogyroAmerican AviationAmerican Aviation Corp. (Aac)American BlimpAmerican Blimp Corp.American Blimp CorporationAmerican ChampionAmerican Champion (Acac)American Champion AircraftAmerican Champion Aircraft CorAmerican EurocopterAmerican Eurocopter CorpAmerican Eurocopter LlcAmerican General Acft CorpAmerican General AircraftAmerican Legand AircraftAmerican LegendAmerican Legend Aircraft CoAmerican Legend Aircraft Co.American Longevity CorpAmes Angier MAmirkhanian Shahram CharlAmmeterAms FlightAms-Flight D.O.O.Anatra Bart TAndelin (Pitts)AnderasAndersonAnderson Aircraft Corp.Anderson AndreasAnderson Darrell LAnderson John HAnderson R E/Abromavich L JAnderson RotorwayAndreAndre KostrzewaAndrew HaroldAndrewsAnglinAngus WattAnkerstar Bradley DAnkestar, Bradley D.AnnisAntaresAntares - BalabanAntares UsAntenor VelazcoAnthony J. BencivengaAnthony MattioliAntonovAntonovich Anton BApcoApex AircraftApolloApollo Aircraft IncApollo North America IncAppelApplebyApplegateArado-Flugzeugwerke GmbhArbc Inc Dba LindstrandArcherArctic Aircraft Co IncArctic Aircraft Co. Inc.Arctic Aircraft CompanyArctic Aircraft Company IncArctic Aircraft Corp.ArganbrightArgenceArgence Enas A.Argus AviationArimaArionArion Aircraft LlcArion Skys Open Sport AviationAriosto James JArmpriestArnet PereyraArnoldArnold J/Jones D LArnsArrow Falcon Exporters IncArrow Falcon Exporters Inc.Art Lee DelanoArterArter WarrenArthurArthur Lee BeerArthur P. MatthewsArtic Aircraft Corp.Arvold Jordon RAs+ (Russia)As+ LtdAscherAshcraftAsmusAsselynAston KinseyAtkinsAtkins JohnAtkinsonAttaway Robert HAubreyAudenriedAugustaAugustine David LAuneAurandtAusethAusterAustinAutogyroAutogyro GmbhAutogyro Usa LlcAve StephenAveko SroAventuraAveryAvery Jack HAverytAves Douglas JamesAvia StroitelAviamilanoAvianAvian BalloonAviastroitelAviastrottelAviatAviat AircraftAviat Aircraft IncAviat Aircraft Inc.Aviat Aircraft, Inc.Aviat IncAviateAviation Specialties UnlimitedAvidAvid AircraftAvions FaireyAvions Max HolsteAvions Mudry CieAvions Mudry Et CieAvions RobinAxell Charles LAyersAyresB??LkowBabcockBabenco Henry D.Bach Joseph EBachmanBaconBadeauxBaeBaggettBagley Curtis LynnBagnall Harold EBaileyBailey N MoyesBailey RobertBailey-Moyes MicrolightsBair Helicopters, Inc.BakengBakerBaker Bobby JBaker Eugene LBaker Victor RBaker WayneBaker, TimithyBal-Air Inc/Wayne John KBalcomb Kenneth C IiiBaldwinBalkemaBallhagen/ShyrockBalloon WorksBalony Kubicek SpolBalony Kubicek Spol SroBanghamBar/CurtissBarackman VansBarberBarber John ABarber Robert LBarber Warren DBarcheBarclay/VincentBardoucheBareiss David ABarger Jerry LBarger Steve MBarkerBarker A EBarnardBarnard/StancilBarnesBarnes Richard B/Howe MichaelBarnes Steven DBarnes Thomas ABarnessBarnettBarnett Allen SBarneyBarney Oldfield Aircraft CoBarnhartBarrBarronBarrowBarrow Ted ABarrowsBarry MaggioBartelsBartholomewBartleBassBatesBauer Thomas GBaughmanBayer OscarBayliss Milton A IiiBeach Baby AceBeagleBeagle AircraftBean R E/R B Weld IncBeardBearden BiplaneBearhawkBeatonBeaudry PhillipBeaverBecerraBeckerBecker Elmer LBeckert Bruce ABedeBeechBeechcraftBeechcraft CorporationBeersBehneBelairBelcherBelcher William B IiBelcher, Gerald CBelew Marshall D IiBelisle Thomas JBellBell BillBell HelicopterBell Helicopter TextronBell Helicopter Textron CanadaBell Shelby AeroBell Textron Canada LtdBell-CarsonBell-Transworld Helicopter CorBell-Transworld HelicoptersBell-WatsonBellancaBellanca Aircraft CorporationBellanca CitabriaBellerBellet James JBeltramBelyBenderBender JosephBenjamin Harold EBennettBennett Ra OliverBensen Aircraft Corp.Benton Fred DBereznakBerger Bernard MBerger Michael ABergmannBeriev Aircraft CompanyBerkeyBernhardBerrieBerryBerry DeanBert N NorrisBertagna JohnBertram William JBertrand/WarnerBesarickBest OffBetchanBetter Burn Llc/Startube DivBettsBevilacqua Jeffrey LBeyersBezinqueBibbeeBiceBice David EBielawaBiesemeier David IBilgriBill DarlingBillings/HumbyrdBilly AmersonBingham ChuckBinkley RichardBins TomBirchler BoydBirdBirtchBirxBishopBishop Thomas WBitton/Sport Flight AviationBiuro Projektowe B Bogumil BerBlackBlack ChristopherBlack DonaldBlairBlair-AmericanBlake D BarrymoreBlancBlanikBlevens GaryBlevins KamronBlondinBlucherBlue Oak Llc.Blue Side Up IncBlum MatthewBlumerBoamBoam LarryBoatright WaylonBob FrederickBobby MartinBobo Christopher JBoehlke Kevin PBoeingBoeing (Stearman)Boeing StearmanBoeing-VertolBoeve EarlBogle Absey CBokBolenbaugh Phillip WilliamBolger ScottBollingerBollinger Robert LBolstridge Wallace RBolton Ricky DBombardierBombardier CanadairBombardier IncBombardier, Inc.Bond Neal OBondeBordelonBordelon BruceBordiukBorgmanBoring Robert BurtonBorne Charles A IiiBoromBorom Marcus PBosco DonBosko Wr/Bosko CeBosonBosonettoBoswell John JBoucherBoughnerBourgeois-Avid FlyerBowen Christopher WBowerBowersBowers Fly BabyBowie RichardBowlesBowles ChrisBowleyBowmanBoyd BruceBoyd Kenneth CBoyd YoungBoykinBoykin B JBoykin Stephen VanceBoyle Black EagleBoyle Joseph EBozemanBr Legend LlcBrabandtBrackenBrackett And PeltzBrad J BatesBradford HainesBradleyBradley Roderick WBradshawBradshaw / MccauleyBrand, RichardBrandon EvansBrandtBrandt Leroy EBranhamBrantlyBrantly HelicopterBratton Experimental HomebuiltBraultBraunschmidtBray Verle G JrBrecher RotorwayBredlBreezer AircraftBreezyBreitBreiterBrenholt Larry RBrennanBrent W. BrownBrewerBrewer James MBrewsterBrewster FleetBrian P NorthBrian TurnerBriceBrice RonBrieglebBrinkerhuff Gerald GBristellBristolBritish AerospaceBritish Aircraft CorpBritish Aircraft Corp.British Aircraft Corp. (Bac)Britten-NormanBrm AeroBrm Aero SroBrochetti LouisBrockBrock SteinerBrockman William ABrokaw Bergon FBrookBrook Aaron DBrooksBroussardBrownBrown Floyd LBrown James WBrown JosephBrown Joseph B JrBrown MarkBrown MichaelBrown MitchBrown Narcisse ABrown Robert KBrown Thomas EBrown/MorrisonBrowning Gregory SBrownsBroylesBrubakerBruceBruce M BarrettBruce MooreBruce R ProuseBruct J MyersBrumbaugh B/Kasowski LBrumwellBrungerBrunzlick Larry RBrupbacher ChrisBryan C L/Labrash R DBryan Jerry RBryan S HappellBryant C CrosbyBryant Frederick MBryant/RhodusBryk Steven LBuchananBuchmannBuckerBucker JungmannBucker JungmeisterBuckeyeBuckeye AviationBuckeye Aviation IncBuckeye IndustriesBuckeye Industries IncBuckeye Powered Parachutes IncBuckmanBuddBuehlmann PeterBuhlBuhlmann HowardBulfer James GBullBulmerBumford-RoyerBumgarnerBunchBunkerBurak Stanley ABurdetteBurg Frederick SBurgessBurkBurkesBurkhart GrobBurkhart Grob FlugzeugbauBurkhart-GrobBurkholder Jimmy CBurleighBurnhamBurnsBurrBurr Andrew E XivBurrill Steven EBurtner Charles WBurtonBurton Dennis WBurton/BoytonBuschmann Robert EBuschmann/VanzeeBush Caddy UsaBushbyBushby AircraftBushmaster AircraftBussBusseyButcher Russell AButlerButler Aircraft CompanyButler John RButler RaymondButterhofButterhof Anthony JButtlesButzbachBuxbaum Mark EdwardBylerByrdByron J. MooreC A S AC A Tecnam SrlC.W CraneC.W. SmithCa Tecnam SrlCable-BreiglerCalcote Clarence ECaldwellCalhounCallahanCalvin Nate HCamairCameronCameron BalloonsCameron Balloons U SCameron Balloons UsCamillo AnnaloroCampbellCampbell DavidCampbell Earl S JrCampbell JohnCampbell W/Smiley JCanadairCanadair LtdCanadian Car & FoundryCanadian Light Acft Sales &SvcCanion Michael WCano DaveCantlonCantrell LwCanupCapCapellaCapella Aircraft Corporation (CapesCapital Holdings 226 LlcCapra, Salvatore OCaproni Vizzola Cos. Aero.CarbonCarillon John CCarlesimoCarlisleCarlo RobertCarlsonCarlson AircraftCarlton M. CadwellCarothersCarpenterCarpenter Bj/Carpenter SaCarrCarr B LCarr BryanCarrisCarrithers Carl LCarter Richard LCarter-JonesCartwright H Jr/Cottrell MCarverCasaCase Richard LCashenCashmer Philip MCasler ScottCassuttCastenCastleCatchot AngusCathawayCaughran TerryCaywoodCcx-2000-0081 LlcCecilCelier AviationCenter Charles CCentrairCentral CoptersCentral Missouri State UnivCentral Ohio Dragonfly ClubllcCeridonoCesnaCessnaCessna AircraftCessna Aircraft CoCessna Aircraft Co.Cessna EctorCessna/Air Repair IncCessna/WeaverCgsCgs AviationCgs Aviation LlcChad LewisChallengerChamberlainChamberlain GeraldChamberlin Victor WayneChampionChance VoughtChancey Gerry MChapel Robert BChapmanChapman Mark ACharlandCharlesCharles A BrazilCharles C. GillisCharles D WalkerCharles J NorrisCharles MaxtedCharles PeetCharles R KyleChatham Robert MChaudoin George SChech Aircraft Works Spol SroChekCherkasCheung David SChevrier, ArmandChiccoChicco Miguel EChilds Michael  AChilianChinook Plus 2ChistovChomoChr InternationalChris MitchellChris W KleenChristaviaChristenChristen IndustriesChristen Industries IncChristen Industries, Inc.Christensen SteveChristerChristianChristiansen Don E DoChristopherChristopher John PChristopher Jon BrownChristopher LordChristopher NorrisChristopher P GageChristopher TomChumsaeCianchetteCirrusCirrus DesignCirrus Design CorpCirrus Design Corp.Cirrus Design CorporationCismowskiCitabriaClabaugh Robert RClarence F. CallahanClarkClark James TClark/LokenClarkeClarke ColinClarke Colin AClassic Aircraft CorpClassic Aircraft Corp.Claus Rodney LClaxtonClayholdClaypoolClayton Gerald HClearwatersClebergClem William B IiiClementClement-KazmierczakCleveland Allan BCleveland OrsonClevenger Jimmie BCliffCliffordClifford E MasseyCliftonClopton Aero LlcCloseCloud Jeffrey FerrellCloud-Wag AeroClutton EricClyde K CarrierCo ZCo-Z Development CorpCobb InternationalCodding/FlunoCody HawkinsCohenColburnCole Paul BCollardColletteCollianderCollierCollinsCollins Robert SColonialColson/GoodbreadColtrinColumbiaColumbia AircraftColumbia Aircraft MfgColumbia Aircraft Mfg.Colyaer SlCombs Dale BCombs Earl WComeauCommanderCommander AircraftCommander Aircraft CoCommander Aircraft CompanyCommonwealthComp AirComp Air Inc. (Plambeck)Concannon MiltonCondorCondor Southern Powered ParachConeCone James AConnConner LeroyConradConrad MenzelConrad Theodore JConsolidated  Aeronautics Inc.Consolidated AeronauticsConsolidated Aeronautics IncConsolidated Aeronautics Inc.Consolidated Aeronautics, IncConsolidated Aeronautics, Inc.Consolidated VulteeConsolidated-VulteeConstrucciones AeronauticasConstrucciones Aeronauticas SaContinental Copters IncConvairConvair Div. Of Gen. DynamicsConway Philip JCookCookeCooperCooper Michael CCooper, David W.Corbeil ShawnCorben Baby AceCorken/GuilletCornett Steven MCornford Craig HCorsarioCortesy, John ECosentino Garey ACosmosCosmos Phase IiCostruzioni AeronauticheCostruzioni Aeronautiche TecnaCostruzioni AeronautichetecnamCote JamesCotterCotton Galen MCoulter Hugh ClarkeCouvillionCovell Kevin ScottCoveyCoxCox Clyde HCox John WileyCox ThorpeCox William MCoyoteCrabtreeCraigCraig A ReedCraig C WallsCraig D CarterCraig N. MoenCraig R. MerrillCraig W ShermanCrain Jac ACrawfordCrawford Alan RCrawford James RCreech JerryCreedCreek Michel WCreekmoreCreitz, Robert DCrimminsCriquet Aviation Bogota ColumbCrisenberyCrismanCroft Robert CCrokeCroman CorporationCrosleyCross David LCross-CappsCrowder Michael HCruzCsp Leasing LlcCub CrafterCub CraftersCub Crafters IncCub Crafters Inc.Cub Crafters, Inc.CubcrafterCubcraftersCubcrafters IncCubcrafters, IncCuevas, Orlando SCullisCulp John SCulverCulver GlennCulver, Aurther L.CunninghamCupaioleCurlCurnutt Elton ECurrentCurtisCurtis John PCurtis LundCurtis-Travel AirCurtis-WrightCurtissCurtiss MosesCurtiss WrightCurtiss-WrightCutlerCzechCzech Aircraft WorksCzech Aircraft Works Spol SroCzech SportCzech Sport AircraftCzech Sport Aircraft A SCzech Sport Aircraft A.S.Czech Sport Aircraft AsCzech Sportplanes SroD & D AircraftD & K AviationD'AmicoD'ApuzzoD-FlyDafoe Gerald WDahlman-DowerDahlstrom - Piel EmeraudeDaigneaultDakotaDale BerkbiglerDalin Ronald KDallmeyerDan JelinekDana A. MooreDanbrookDaniel A. ShapiroDaniel Anthony ProctorDaniel J. LeeDaniel J. ZoerbDaniel L PatrickDaniel R. LloydDanielsDaniels Alan LDankelman Peter GDantonioDantzer Lawrence LDarneyDarrell D. DuggerDarren M. VinelliDarrow StephenDarrow Stephen ADartDaryl BakerDassaultDassault AviationDassault FalconDassault-BreguetDassault/SudDaughtersDavenportDavenport (Van'S)David CadoretteDavid FitzgeraldDavid G. HolmesDavid JarrettDavid L ThompsonDavid S MeekDavid S RobbinsDavid ShellDavid ShotwellDavid W OakesDavidsonDavidson, Ronald A.Davidson-ThorpeDavisDavis BennyDavis Dan BDavis Daniel TDavis Donald MDavis Frank RDavis JohnDavis MarkDavis Michael JDavis/CrouchDavisonDay William LDayonDaytonDayton A BabcockDayton A DabbsDe HavillandDean David EDean Leslie NDean Patrick GDearmond ClintDebayDebus J / Mountain S / Bowes EDedeaux Gary GDeer/ReffaltDegairDegeliaDegrawDehavillandDehavilland CanadaDeitzDejagerDekkingaDelbridgeDelconte Emidio JDelf TimDell LawrenceDelwyn SchmidtDemmerDempsey Daniel MDenightDenisDenisar Richard ADenmarkDenneyDennis L ZumbaltDennis M. DurginDennis P. McgurkDenny AerocraftDenzerDerousseDesalvatore AlDesimoneDesousaDestinyDestiny Powered ParachutesDestiny Powered Parachutes LlcDetrick Donald GDeussen Alexander IiDeverDevereuxDevoeDevries Wm HDewsnup DaveDg FlugzeugbauDg Flugzeugbau GmbhDg-Flugzeugbau GmbhDgflugzeugbauDial David LDiamondDiamond Aicraft Industries IncDiamond AircraftDiamond Aircraft Ind GmbhDiamond Aircraft Ind IncDiamond Aircraft IndustriesDiamond Aircraft Industries InDiamond Aircraft Industry IncDickensonDickeyDickson Vans AircraftDidier Siffer (E-Ab)DiehlDiehl William ADiemert/RotorwayDieterich Robert ADietrich RyanDigimasDirks GlaserDistar Cz AsDitommasso-KeminskiDittenber Thomas JDiven RobertDivis S L/Waltrip A JDixDixonDobbs GeorgeDoddDoerr Raymond RDoktor FiberglasDombroski FrankDomeierDominiakDon W GuiceDonald A ChiassonDonald G StokesDonald K StovallDonegan BentonDonham Timothy JDoppelt Fredric FDormaier Monte RDormanDornierDornier GmbhDoshier Wilbert ADosser Dale ADotson William PDouble D EnterprisesDoubleday DonaldDouglasDouglas A. PohlDouglas Brian GDouglas D. TurnerDouglas K ThompsonDova AircraftDova Aircraft SroDowell VaughnDownerDoyleDoyle James EDoyle-MichaelDrakeDrake Ronald ADralle (Van'S Aircraft)Dratbe Shmiel AmirDressenDressen Donald LDreyerDriggers Quillan EDriverDrochakDrone Paul EDruckmanDruineDrzymalaDta SariDuenasDufault Mark VDuffyDuffy Russell ADuffy/WagnerDuke PaulDunn DavidDurfee FredDurling JamesDurrDusenberry Mark JDusseauDuttonDwayne SmithDwight LohrDwyer Michael DDyeDykasE NewtonE. J. HumphreyEaa BiplaneEaa Chapter 229Eaa Chapter 40EachonEads Pzl WarszaEads SocataEagleEagle Balloons Corp.Eagle R&D IncEagle RndEagleston John HEakle R Grandin JrEaland CharlesEamesEarl AllenEarnestEarthstar AircraftEasler KellyEastabrooks John TEaster William CEasterwood Mark WEastonEatonEberleEberle John SEbersoleEcckerEckenrode Carl JEckerEcksteinEclipseEclipse Aerospace IncEclipse AviationEclipse Aviation CorpEclipse Aviation CorporationEdgeEdgerlyEdra AeronauticaEdward M Van MorlanEdward R. SuggEdward W GrayEdwardsEdwards Douglas LEellsEfawEggleston DanielEiben TheodoreEichhorn Gary LEilandEipperEipper Formance IncEiriavion OyEklundEkornaas, FredElanElan/Glaser DirksEldredgeEldridge GeorgeElemdorfElkind BruceElkinsEllefsonEllenberger/WernerElliottElliott CirrusElliott Quad City UltralightEllisEllsbergEllsworthEllumax Leasing LlcElmwoodElvin Jack R JrElyEmbraerEmbraer Executive Aircraft IncEmbraer S AEmbraer S.A.Embraer-Empresa Brasileira DeEmeraudeEmersonEmery MarkEmigh AircraftEmmet SmithEmory B. WoodEmpsonEnbody FrankEndler Glasair/Glasair 1-TdEndless Skies Aviation Inc.Engineering & ResearchEngineering And ResearchEngle DavidEnstromEnstrom Helicopter CorpErcoErcoupeErcoupe (Eng & Research Corp.)Eric A MunzerErick Magno & Assoc PaErickson (Glasair)Erickson Air-Crane, Inc.Erickson Larry DEris E. ErvinErnest T ChristleyErnstErosErtz Mark GErvinErvin Rex HEsbenshadeEskildsenEslinger C W/Eslinger S MEspinalEsselstyn ChuckEugene L. CapozziEugene WellsEurocopterEurocopter DeutschlandEurocopter Deutschland GmbhEurocopter FranceEuropaEuropa Aviation IncEuropro CzEvans AircraftEvans James JayEvans Robert W SrEvektorEvektor AerotechnicEvektor AerotechnikEvektor Aerotechnik AsEvektor-AerotechnikEvektor-Aerotechnik A.S.Evektor-Aerotechnik AsEvensEvenson Roger JEverettEverett VidrineEversonEvo13 LlcEvolutionEvolution 19Evolution Air LlcEvolution Aircraft IncEvolution TrikesExcalibur AircraftExcel JetExp Acft Assn Wi Chapter 60ExperimentalExperimental Amat BuiltExplorer Aeronautique Inc.ExpressExpress AircraftExtraExtra FlugzeugbauExtra Flugzeugbau GmbhExtra Flugzeugproduktions-GmbhExtra Flugzeugproduktions-UndExtra Flugzeugrau GmbhFaganFahey William JFairchildFairchild FunkFairchild Heli-PorterFairchild HillerFairchild MerlinFairchild SwearingenFairchild(Howard)Falcon Safety Craft IncFalkFallFall MartinFaltin John RFantasy AirFantasy Air SroFarace Thomas ScottFarmer R BFarrandFarrellFarthing James W IiFaunceFayFdr601 LlcFechtnerFedersen WalterFehlner-SheltonFentonFeraca Edward MFerdonFerenceFerence John WFergusonFerguson AircraftFerguson William CFerkinFernandes Dale RFerreeFessenden AlfredFetherolfFetterman Lanny RFiebich Paul DeanFieldsFields MikeFinney ThorpFireflyFirefly BalloonsFirefly Balloons IncFirmFischerFishFisherFisher AeroFisher Flying ProductsFisher Harold RFisher Michael EFisher Michael HFittFitzFk LightplanesFlaggFlaglorFlaglor TomFleetFleetwood JackFleming Eldridge EFlight DesignFlight Design General Avn GmbhFlight Design GmbhFlight Design UsaFlightstarFlightstar IncFlightstar SportplanesFlightworks CorpFlobackFlohr David JFloroskiFlournoy Martin RFlower Roger PFloyd Joseph BFlugzeugbauFlugzeugproduktions-Und VertriFlurryFly By Sea CoFlying K EnterprisesFlynn VanFlynn WilliamFobesFocke-WulfFogerson Richard DFoggFoglioFokkerFoley JamesFolland Aircraft Co LtdFollmerFonvilleForbesFord Stephen LForisch EdwardFormhalsForneyForrest HaynesForsterFortunaFortuna DaveFoster JohnFoster William DFougaFoulkeFound AcftFound Acft Canada IncFound Aircraft CanadaFound Aircraft Canada IncFowlerFoxFox AlFox Alfred C.Foxair LlcFoxfly IncFoxworthy RoyFpnaFpna LlcFrakerFrancisFrankFrank D. AmadorFrank FitzgeraldFrank WareFranke Harry CFranke RolandFranke Russell JFranklinFranzFranzrebFrazier Robert LFrederick Hays-RothFrederick R GoenneFrederickson Charles AFreemanFrennanceFreundFrewFreyFrickFriddleFrisbyFritzFroelichFrom Here To There Pdq IncFudoldFuhrmann-Super EmeraudeFujiFuller Neil HFuller Van LFunkFunk Aircraft Co.Funk RalphFureyFurgason James EFurlongFurru Donald JeffreyG Elwin HalvorsenG-Dawg LlcGadboisGadbois Eugene WGaddis MichaelGageGalbraithGallager John CGallagherGalloway/WardGanjoo AmitGannGarcia BenignoGardanGardnerGardner Douglas PGarlandGarlickGarlick Helicopters IncGarnerGarnett-RobertGarnissGarramone Mike AGarratt Mansfield WGarrettGarrett Gerald PGarrison Ronald LGarroGary A JamiesonGary James LailGary L. ZeiglerGary W BettisGarzaGaskinsGaston Thomas DGates Lear JetGates LearjetGates Learjet CorpGates Learjet Corp.Gates Learjet CorporationGauchatGaynor Donald JGearn Geary DGeertzGeilingGeist Donald RGelasiGeldermann Bert EGeneral AtomicsGeneral Balloon Corp.GentryGentry John KGeoffrionGeorge A. ThielGeorge Matthew WagonerGeorge W. FelixGerald Dan CoppockGerald DonovanGerald JonesGerald NelsonGerdts Mark EGerlachGernerGetten Marvin TGhilesGhiles Philippe/American GaGiackinoGiackino Donald WGibbGibbsGibson MarkGickGideonGier Travis HGiffordGiger Frank RGilbert Thomas JeffreyGilchristGilesGill CraigGillespieGilletteGingerich Alton & Slagel DeanGingras MichelGiorgio Anthony JGirardGirouxGladstoneGlaeserGlasairGlasair Aviation LlcGlasair Aviation Usa LlcGlaser DirksGlaser-DirksGlaser-Dirks FlugzeugbauGlaser-Dirks-FlugzeubauGlasflugelGlass Roy LGlassairGlassic CompositesGleasonGlenn L SmithGlenn Timothy CGlimnGlinesGlines KennethGlobeGlobe SwiftGlos Wallis Richard JrGloverGluff, AlanGmk Ventures LlcGn-1 AircamperGoddard Dick SimGodwinGodwin Jeff EGodwin, David PGoetzGoffGoiden CircleGoldenGolden CircleGolden Circle AirGolden Circle Air IncGolden Circle Air, Inc.Golden EagleGoldmanGoliasGomoryGonzalez Manuel AGoodacreGoodeGoodlettGoodman Robert BruceGoodsell Lynn AGordonGordon E. BrownGordon R SmithGordon Scot AGossard Ronald FGosselin CharlesGothardGottelt Herbert RGottschalk John RGraff Wilbur CGraftonGrahamGrandmanGranger Michael DGravesGraves Bryon SGrayGray JackGray JerryGray Jim RobertGrazhopperGreat LakesGreat Lakes Aircraft CompanyGrecoGreenGreen Gary EGreen L/Gilner DGreene R/Greene SGreenleafGreg GrouleffGreg HobbsGreg MillerGregg OrigerGregory NewmanGregory S MillerGremmingerGremminger GregGrenierGrenier RaymondGriceGriffGriffith E/Boyd W EGriffith-BoydGriffiths James SydneyGrimesGrimes Barry RGrimmGrobGrob Aircraft AgGrob-WerkeGroenGroomGroomsGroschGrossGross Michael EGroteGroverGruberGrubertGrummanGrumman Acft Eng Cor-SchweizerGrumman Aircraft Eng CorpGrumman AmericanGrumman American AviationGrumman American Aviation CorpGrumman American Avn. Corp.GrunskaGt UltralightsGuarinoGuimbalGuisinger Gary GGulfstreamGulfstream AerospaceGulfstream Aerospace CorpGulfstream Am Corp Comm DivGulfstream AmericanGulfstream American CorpGulfstream American Corp.Gulfstream-SchweizerGulfstream-Schweizer A/C CorpGundersonGunnoeGuscottGustafsonGutierrez PablinoH.S. MosleyHachem Zachery SHackneyHaddanHaddow William HHadwiseHaeckerHaesslerHaeussler RayHager Clinton RayHagertyHaggenmacherHahnHainesHaines Joseph EHalbert James HHalbrookHaleHaleyHalfacreHallHall Don HHall JeffreyHall Steven CHall Thomas KHall, Wendall WHalladay RoyHallbauerHallburgHallendorf TomHallettHalley KftHalsmerHalstedHamHamburger Flugzeugbau (Hfb)HamerHamiltonHamilton StoddardHamlin John DHammackHammerHammondHandy James LHanekHaney John F BHanksHannahHansenHansen David DanielHansonHanson GeraldHanson LonnHanson Robert HHaphey Bruce FredericHardHardenHardie James DHardinHardyHareHargettHargroveHaring ClayHarlemanHarlowHarmelHarmon/LanceHarmsHarms Robert MHarold VanderHarold W BruceHarpsterHarrisHarris PierceHarris-RunyanHarrisonHarrison Robert J.Harrity William VHarrop BlakeHarry Crosby (Vans)Harry D. MillerHarry L. WeberHarry OasHarshbarger W/ReedHartHarterHartlineHartline J BonHartmanHartter Lenny JHartunian RobertHartz PaulHartzellHarvey J BrockHarvey PattenHarwell/GardnerHarwood KennethHaschHaskinsHastings Thomas GHatcherHatcher Roderick RHatleHatzHauckHauser U/Hauser JHavirHawkerHawker BeechHawker BeechcraftHawker Beechcraft CorpHawker Beechcraft Corp.Hawker Beechcraft CorporationHawker SiddeleyHawker SiddelyHawker-BeechcraftHawker-Beechcraft CorporationHawkins & PowersHawkins August EHawkins WilliamHawley RichardHaycraftHayesHazelwood Michael SHazenHeadHead Balloons IncHead Balloons Inc.Head Balloons, Inc.HeadburgHeadrickHealyHeardHeard Alan EHebbHeberlein RonaldHebertHebert Peter JHeckelHedemanHedgeHeftyHeinHeinlein GeorgeHeinzHeiser Robert C JrHeislerHeldeberg DesignHelferHelicopteres GuimbalHelicopters & Airplanes, Inc.Helicycle/Morrisey RrHelieHelioHelio Aircraft LtdHeliotechHelmerHelmetagHelpling Helen CHeltonHemmerHemp TimothyHencken WilliamHendersonHenderson Clifford SHenderson Michael EHenderson W A/Johnson W LHendricks George David JrHendryx Steve/Wiley RossHenesHenney Michael AHenrie RaymondHenryHenry L Berrier JrHenry SlosingHenry Steven JHepperlenHerb SixHerbert O. KellermanHerdeHerder MichaelHeremHerink H R/Herink R WHermann BjornHeronimus Kevin AHerrick David AHerrifordHerrinHerzog AviationHeslerHessHess John LHi-MaxHibbard Norman EHickeyHickhamHickmanHickox AndyHier James AHigginsHiggins John H/Williams John DHigh CraftHigher Class AviationHighsmithHildebrandtHildebrantHilderson OswaldHillHill Group LlcHillam Scott LHillerHillyerHilyardHimmeroeder HansgeorgHimsl Vincent SHine T L/Johnson RHingHinton Paul MHiperlightHirn Associates LtdHirschHispano AviacionHisserich Nicholas SHitchensHoac-AustriaHoaglandHodgeHodges Samuel JHoffius StoweHoffmanHoffman David JHoffman David KHoffmannHogartyHoke Bobby FHoldenHolden Frank JosephHollandHolland MikeHolley Carol LHollier B CHolloman L B/Holloman E MHollowayHolm Michael JHolmesHolmes Arthur OrmanHolmes Gary DonHolmes William EHolmgreenHolmgreen John BHolmgrenHolmlund Victor PHolscherHolsclawHolsclaw Francis EHolst Lawrence EHoltHolt Herbert LHomebuiltHomerHonda AircraftHonda Aircraft Co LlcHonda JetHoodHood John SidneyHookHookerHooper James AHooverHoover FrankHorneHortonHorvathHoskinsHoskins Lonnie FHoskins Samuel RHostein K/Hostein SHoustonHoutsHowardHoward AircraftHoward Aircraft Corp.Howard HarderHoward M. ShepherdHoward William CHowe/WilmerHowellHowell BobHowesHoyeHoytHph LtdHph Spol SroHph, Spol. S.R.O.Hrosik GeneHubbardHubbard William HHubbellHuberHuber HartmutHudsonHudson HiperbipeHudspeth Shawn DHuebbeHuebnerHueneHuffHugglesHughesHughes AeroHughes Aero CorpHughes Charles RHughes J/Hughes JHughes/Helicopter Assocs IncHulleHummel / FinbergHummelbirdHummerHumphreysHundley Michael JHuntHunterHunter GeorgeHunthropHunzikerHurleyHurley Richard AHuston Charles DHutchinsHutchinson Kenneth AHutsonHuttonHy-TekHyde William RI.C.A. BrasovI.C.A.-BrasovI.C.A.-Brasov (Romania)IaiIar BrasovIar Sa BrasovIca BrasovIconIcon Aircraft IncIcpIcp SrlIndependent Technologies IncIndusIndus AviationIndus Aviation IncIndus Aviation Inc.InfinityInfinity Power ParachutesInfinity Power Parachutes LlcIngrahamInhofe/ DavisIniziativeIniziative Industriali ItalianInman J DInnovatorInnovator TechnologiesInteraviaInterplaneInterplane LlcInterplane S R OInterplane SroInterstateIrlbeck Thomas HIrvin Stephen DIrwinIsaak Paul GIson AircraftIsrael Aerospace IndustriesltdIsrael Aircraft IndustriesIssittIssoire SirenIssoire-AviationIv Inc.IversenIzattJ And JJ&J UltralightsJ. E. DouglasJ. SchillingJ.D. Calhoun, Inc.Jabat, Inc.JabiruJabiru AircraftJabiru Aircraft Pty LtdJabiru Usa Sport AircraftJabiru Usa Sport Aircraft LlcJabiru Usa Sport Aircraft, LlcJack A FrohbieterJack FehlingJack McdanielJackieJackovichJacksonJackson DennisJackson Fred MJackson Jeremiah DJacobsJacquneaux Glen RJahnke Lionel GJahnsJal R DennisJamesJames A GrayJames B. TaplinJames BrowningJames BrutonJames C GeymanJames D RiggsJames D. SmithJames Donald BakerJames E CauseyJames F HakeJames H BerardJames KilroyJames L. StringfellowJames M RaulersonJames O'BertJames R DernovsekJames WalterJames WiebeJannakos Gregory PJans RobertJansenJantzenJavronJavron ExperimentalJdtJdt Mini-Max LlcJeff JardineJeffairJeffery D TuttleJeffkoJeffrey WilsonJeffsJenkinsJenkins JackJennings John CJerald F. HuffmanJeremiah JacksonJeromeJerome A BaakJerome D FischerJerome WellsJerry GarrisonJeskaJess LlcJesse Saint/Troy Townsend/EthaJetprop Dlx PiperJetson'S Aviation LlcJewettJewett BrandonJihlavanJihlavan Airplanes SroJim BraddockJim GarrisonJim GreenJim PriceJim RiggsJim WesemanJimenezJimenez ReymundoJimmy HillJiranJoe SalomoneJoel A BowkerJoel H JohnsonJohansen/ThiessenJohn A BrewerJohn D. LueckJohn D. WilliamsJohn GoodmanJohn GreenleeJohn H. HeiringJohn L. KleinJohn LauerJohn M CornealJohn MurphyJohn RoscoeJohn S. EberleJohn SampleJohn Steven CaturiaJohn ThomasJohn V Rawson JrJohnny F AndersonJohnsonJohnson Barron TJohnson David EarlJohnson Garret WJohnson GaryJohnson GeraldJohnson Glenn LJohnson JerryJohnson Joel HJohnson KennethJohnson Kenneth RJohnson Kenneth WJohnson Leonard GJohnson Walter AJohnson-MooreJohnson-Whittman TailwindJohnston Coyt EJohnston Douglas SJohnston William Alfred JrJonasJonesJones Kent CJones Peter MJones Ralph DJones Rodney VJones Ronald CJonkerJonker SailplanesJonker Sailplanes (Pty) LtdJonker Sailplanes CcJonssonJordanJordan Bruce CJordan Don RJordan JohnJordan Valley LlcJorgensenJorritsma Jerrold SJoseph A. GrimaudJoseph BenderJoseph C. Andrews, Jr.Joseph E. CrosbyJoseph R. SirgoJoy Aviation LtdJsh Air Llc IiJuddJude Mike CJuneau (Zenith Aircraft Co)JurcanJustJust AircraftJust Aircraft LlcJustice Frank KJuve Richard GK CoptersKadeKai EngstadKainesKainzKakeldey Ronald OKaldor Gregory NKalman GeorgeKamanKaman Aerospace CorpKaminskasKaminskiKamtzKamtz Russell HKaribian HurantKarl & Dot, Inc.KarnsKarpayev Vladyslav VKashan MichaelKauffmanKaufmannKaylor J E/Strahlmann R LKearnKearneyKearsleyKeeley/TiddKeeslerKeithKeith KindenKeithley Thomas EKellerKelleyKelley Derrick/LezaKelm DavidKen OlsonKendall W R/Mclaughlin JKendall, BlairKenetic AviationKennedyKennedy Michael MKenneth A BergerKenneth K KnowlesKenneth M FranzKenneth WestKermit WeeksKernerKerns Kenneth HKerr GeraldKerr John AKerr MatthewKessinger Roger LKestersonKetonenKeuthanKeuthan Aircraft CorpKevin EldredgeKevin LeueKevin LippertKevin MetzlerKevin P StolhammerKevin WilkinsonKidd ChrisKilishekKilishek George TKillgoreKimball Enterprises IncKincaid WadeKindigKingKing John E JrKingery Michael CKinnerKinney KevinKinnsonKinsler Arthur PaulKirbyKirbybilt AircraftKircherKirchnerKirk Ellis WendellKirkpatrickKirnerKitchensKitfoxKitfox IvKittlesonKjonaasKjostad Jorgen AKlaas Development IncKlapp Peter AKlasingKlemp Gregory JKlineKnab-DouglasKnappKnaufKnellKnightKnoepfleinKnott Vernon WKnox Marion LKociemba Robert HKoen LancairKokengeKolbKolb Aircraft CoKolb Aircraft IncKolb CompanyKolb Twin StarKolenoKollierKoons Donald HKopp Robert EKorrison TomKorschKostrazewa AndreKoth LarryKovars Gary DKowtunKralKramerKramer Clemens EKrejciKrelingKrepsKretsingerKrips Jack E JrKrotjeKrusmark David HomerKubassek DavidKubicekKucklickKumhyr David BKundelKuntzKurtz Jay BKurzenburger StukaKuykendall CharlesKwechKyle M Sward / Larry W SwardL GoldnerLa MoutteLabargeLabarreLabhartLacourLaddLaferriereLairdLakeLake John KLamb (Vans)Lamb-RobinLambert John GLaminarLammers Sjef JLamontLancairLancair CompanyLance M HooleyLandes/Karich/SchmidtLandollLandrum Kelly TLandryLanfordLange Flugzeugbau GmbhLangleyLangston, Frederick LLanhamLanier James ALansdorfLanshe AerospaceLantzLantzair Flyers IncLaporteLarry GrooverLarry H SligarLarry J. CookLarry KetterlingLarry R. KinseyLarry WoodsLarsenLarsonLarson Ken WLarson Roger HLaseureLathrop Steven ALaurienzo Gabriel ALauritsen Ralph MLavender Alan PLavignaLawing Thomas RLawson J/Bowie R/Smith MLawson RonLawson Ronald SLawwill TedLayson Stanley BLazear John TLciv LlcLeach MichaelLeagueLearjetLearjet IncLeatherman Karl LLeder John ALeeLee Harold SwarthoutLee KolbLee Oscar D IiiLee PaulLee StevensLefever Paul MLefever-PaulLeiderLeighLeineke Walter LLemoine Marvin J. Jr.LemondLemuel MayLenartLennox Kenneth JLeon E EverettLeonard TrudyLeonard WaltersLeonardo SpaLepow David ALerchLerohlLeroux John FLeroy LakeyLeslie BriggsLester Robert ELetLet Np KinoviceLetecky ZavodyLett R/Campbell KLevickLevitskyLevy Adam VLewisLewis Brandon ScottLewis JenningsLewis Keith OLeza LockwoodLibertyLiberty Aerospace Inc.Liberty Aerospace IncorporatedLiberty Aerospace, Inc.LidgardLidsterLienLightning Avion Eab LlcLimaLiming Louis LLindstrandLindstrand BalloonsLindstrand Balloons UsaLingwallLinkeLinwood R. LawrenceLipscombLite FlightLithuanian Factory Of AviationLivpt IncLlewellyn, Warwinc WLo-N-Slo Airsports Inc.Lobb KennethLockamyLockheedLockheed-MartinLockwoodLockwood Aircraft CorpLoehle Aircraft CorpLoehle Ent.Loehr Thomas HLoflinLogan Jerry LLogstonLongLong PittsLongjevLongrenLongtinLonnie JohnsonLoofbourrow John WLoomisLopez PhillipLorah Elden ALorangerLorenz StephenLouis AmatoLouis EdmondsonLowerre Bruce TLsa America IncLucas D E/ Lucas K ALuciano EdisonLudemanLudwig Larry ELueckLuncefordLundak RobertLunn (Vans)LuscombeLuscombe Silvaire Aircraft Co.Luters Arnis VLutesLutkeLuttenbacher KurtLuy WaymanLydon Patrick FLynn PerryLyonLyonsLyons RobertM SquaredM-SquaredM-Squared AircraftM.C. ThomasMaarten H VersteegMacadamsMacdonald CraigMace Justin IMacleodMaderaMadewellMaggsMagnaghi Aeronautica SpaMagniMagnus Aircraft LlcMaher Daniel JMahon Paul DMahoneyMahreMain AirMakelaMalechekMalinowski Walter SMalkin Roy KMallianMallory Christopher LMaloneMalone Henry OMalottManarin/JohnsonManiscalcoManoucherMantell Allan TMantoothManweilerManweillerManzitto Michael AMapesMarcellusMarconi Fred I JrMarinoMark C PaulsMark CobyMark DivitaMark GibsonMark GoldbergMarks Ca IiiMarks StevenMarland E DavisMarleyMarlinMarlmanMarlowMarlowe ThooftMarrero AndresMarrinMarshallMarshall James JMartelMartinMartin Charles AMartin CurtisMartin Edward HMartin/HarrisMarvin A. SmithMarvin FaulkMarvin T EilandMary AlexanderMasakMaskoMasonMason Hal JMason RobertMaster Donald CMateskonMateyMatheny Larry EMathewsMathias Linda BMathieuMathis Melvin RMatthewsMatthews H ThomasMattieMattisonMattsonMauckMauleMaule Air Inc.Maurer Elmo AMax A Boesiger JrMaxairMaxair DrifterMaxcy Christopher LMaxfly Inc/Mckay WmMaxson PhilMayfieldMayoMaysMaysmikeMazurek Keith PMazzonMbbMcadam W EMcanallyMcarthurMccaaMccainMccallMccanMccannMccartyMccauley Gene EMcclanahanMccleeryMcclintockMcclishMcclungMcclure B JMccluskeyMcconnellMccorkle Robert BMccowan Steve AMccoyMccrary Bobby C JrMcculley RonaldMccullochMcculloch JerryMcculloughMccurry Charles PMccutchanMcdanielMcdaniel James DMcdanielsMcdonaldMcdonald Howard BrianMcdonald Lynn BMcdonnell DouglasMcdonnell Douglas Heli CoMcdonnell Douglas HelicopterMcdonnell Douglas Helicopter CMcdougallMcfarlandMcfarland BillMcfarland Wm HMcfaul, Daniel D.McglashanMcglaughlin RichardMcgrath Robert FMcguireMchargueMchenry George B JrMchollandMcholland C LMchugh TonyMcilraithMcintoshMcintosh Donald WMckay GeneMckeanMckeehan James FMckennaMckenna Glen RMckenna James EMckenzieMckenzie Douglas EMckenzie John PMckinney Charles RMckinnisMclartyMclaughlinMcleod AlanMcmichael Elmer LMcmillan Joel LMcmurray David CMcnabbMcnearMcnicholasMcnulty John SMcpherson John GMcswainMcwhorterMd HelicopterMd Helicopter IncMd Helicopter Inc.Md HelicoptersMd Helicopters IncMd Helicopters, Inc.Mds Fying LlcMeadMeadowsMedwayMeesterMeeuwsen GordonMelborn Joe BMelenykMellemaMelvin K CallenMendenhallMenefeeMenziesMenzimer Gary RayMercerMerit Aviation LlcMerkelMerrell StephenMerritt Leslie RMerwinMeschler Gary RMeshko ZenairMesserschmittMesserschmitt-Boelkow-BlohmMesserschmitt-Bolkow-BlohmMessing RoyMestas Felix RMetcalfe Robert BMeuer MarkMeyerMeyer Clair OMeyer Fred JMeyer Geoffrey AMeyer RobertMeyeres F L/Meyeres M MMeyersMeyers Aircraft Co.Meyers Industries IncMicco Aircraft CompanyMichael A. WatsonMichael Allen BrownMichael BurtonMichael CansMichael Dean GrissomMichael E. NourseMichael J RobbinsMichael J. KohoutMichael MoneyhanMichael MuratoreMichael R AlexanderMichael S. LoganMichael S/Michael KMichael W MorganMichael WilsonMichaelianMichaudMichel Paul JohnMicketMickler Larry JMicrolites PtyltdMid-South Custom Craft IncMidget MustangMigasMihlebachMike ReedMike SmileeMikoyanMikoyan GurevichMikoyan MigMileskiMilhollandMillerMiller Charles WMiller Gregory SMiller Gregory ScottMiller J KirtleyMiller Raymond AMiller RogerMiller Steven MMiller-ThorpMiller/CulpepperMillhouse D ScottMillsMills Gregory TMills MichaelMillsap DennisMiltenbergerMinceMini MaxMini-MaxMinoMischkeMitchellMitchell Aircraft CorpMitchell David NMitchell Derryle VMitsubishiMk IiMkii CorporationMobi-LightMocklerMoe-PietenpolMoffitt Oscar/ Kit Prostar A/CMohrMonaghanMonardMonnettMonnett John T JrMonocoupeMonocoupe AircraftMonroe DennisMonroig Pedro JMontanaMonte ClarkMontgomeryMoodyMoody-SipleMoonMooneyMooney AircraftMooney Aircraft CorpMooney Aircraft Corp.Mooney Airplane Co IncMooney Airplane Company, Inc.Mooney International CorpMooreMoore Byron JMoore DavidMoore Edward RMoore GlennMoore Joseph OMoore SammieMoore Thomas OMoranMorane-SaulnierMoravanMoreheadMorganMorgan James EMorgan, Marvin R.Moriarty MarvinMorkMormile Francis WMorphewMorris GeorgeMorris Thomas LeeMorriseyMorrisonMorrison JosephMorrison Marvin E JrMorrison Rocky VMorse Frank LMorse, Frank L.MortonMorton S. DismukeMoselerMoser GeorgMoses Tim CMosherMosier Robert SMosquitoMossman Michael DMotley VansMottierMoulton Howard WellsMoyesMoyes B/Bailey BMoyes BaileyMoynahanMoynihan Richard DMrazekMudge RayMuellerMueller Michael WalterMuffettMulec Frank AMulholland Robert AMulliganMulloy CharlesMunsonMunson Roger JMurawskiMurchMurphyMurphy AircraftMurphy Aircraft Mfg, Ltd.MurrayMurray Blair LMurray Frank HMurray Richard FMurrin Frederick LMuseMusickMussoMustangMuxlowMx Aircraft LlcMxr TechnologiesMyersMyers Donald EMyron OlesonN126C LlcNaboleNadig Paul KNagelNakajimaNalisNanchangNanchang ChinaNappi Tito CNational BallooningNational Ballooning LtdNaval Aircraft FactoryNavickasNavionNbb IncNeal AndersonNebertNeedhamNeefjesNeely B DNeivaNeland Richard LNelsen Lynn HNelsonNelson Dan HNelson Larry LNelson MilesNelson Steven PaulNelson SydneyNelson Sydney/Nelson DiannNephew Alan HNetzNewNew GlasairNew Kolb Aircraft CoNew Kolb Aircraft Co LlcNew PiperNew Piper Aircraft IncNew Piper Aircraft, Inc.New StandardNewboldNewcomerNewellNewell ThomasNewgent, BarryNewkirk Thomas RayNewmann Edward WNicelyNicholsNichols Rans, Inc.NicholsonNicholson David FNickelNicolosiNicosonNielsen Martin MNiemannNivaNoakes B JNobleNokes MatthewNolanNolenNoles Vance LNolleyNorcuttNordNord (Sncan)Nordquist Richard ANormanNorrisNorth AmericanNorth American Aviation Div.North American Rockwell Corp.North American-MedoreNorth American/Aero ClassicsNorth American/Victoria Mnt LtNorth WingNorth Wing DesignNorth Wing Uum IncNorth Wing Uum Inc.NorthamNorthland Aviation LlcNorthropNorthwingNorthwing DesignNortonNorton Claude CNorton/CloerenNotemanNtbkNunleyNusbaumNuse GeorgeO LoughlinO'ConnorO'DellOconnor Paul AOden Weldon PatOffchiss Edward ROgden Aubrey DOhlemeier/StrattonOhlgrenOhlgren Brent EOliverOliver A BruceOliver JosephOliver Lawrence ROlmsted Charles AOlree RobertOlsonOlson Kenneth H TOlson Perry DOmfOmlin Robert GOneilOntario Avia. Hist. Soc.OostdikOrlicanOrlican S R OOrrOrtiz G/Saint JOrtmayer/ParsonOsborneOspreyOstertag Walter GOtero-PittsOttOtterbackOtterback Nicholas JOuzts RodneyOverossOwen Kingsley BOwensOwens/RichburgP Z L -Warszawa-CnpslP&M AviationP&M Aviation LtdP&M Aviation Ltd.Pacific Aerospace CorpPacific Aerospace Corp LtdPacific Aerospace LtdPackwoodPadeltPaganPagePage Joseph EPage Russell LPahnke Vernon APaiementPaigePalenPalmerPalmer/WilgusPalulis JohnPankPanzlPaquin Michael AParadise Aircraft Usa LlcParadise Usa LlcParkParkerParksParks J L/Dreffin DParks Jerry RParks Richard AParkwood Enterprises, IncParlette Robert LParsonsPartenaviaPartenavia S.P.A.PascucciPatalivoPatch Dan FPaulPaul B. JohnsonPaul E. ConnerPaul Gaywood EPaul PajakPaul R SeiptPaulickPavel VagnerPavligaPaxhiaPaynePayne Steven RPayne/FosterPazmanyPdps Pzl-BielskoPearsonPearson Jon MPeckPeck Norman OPedersen Bjarne MartinPeet CharlesPegasusPegasus AviationPekola James WPeltPenell Mark APensingerPenskaPepperd Greg JPereiraPereyraPerformerPergersonPerlickPerner/PittsPerrucci Randall JPerth AmboyPeryera ArnetPeter A LandPeter A. GeiserPeter W StevensPetersPetersonPeterson Allen LPeterson LancairPeterson-Feder-SplinterPetrikPetrus David WaynePetsche KitfoxPettigrew, RichardPezetelPf Cub Flyers LlcPfeiflerPflugradtPfouts Alfred LPhantomPhantom AeronauticsPhantom Aircraft CoPhantom Sport AirplanePhelpsPhilip D AndersonPhillip B RollsPhillipsPhillips Ralph WPhillips William LPhoenix AirPiaggioPiaggio Aero Industries S.P.A.Piaggio IndustriePiasecki/PikePicard Roy JPielPiel EmeraudePiercePierce, HenryPiersonPietenpolPietersePiggottPiggott John HPikPilatusPilatus AircraftPilatus Aircraft LtdPilgrim Samuel W JrPinkhamPinkston Randy TPioneerPiontkowskiPiperPiper / LaudemanPiper AerostarPiper AircraftPiper Aircraft CorporationPiper Aircraft IncPiper Aircraft, Inc.Piper Cub CraftersPiper-HarrisPiper/Cub CraftersPiper/StevensPiper/Wally'S Flyers IncPipistrelPipistrel D O OPipistrel Doo AjdovscinaPipistrel Italia S R LPipistrel Italia SrlPippertPitcairnPitenpol AircamperPitroloPittman Eddie GPittsPitts AerobaticsPitts SpecialPlantePlavcanPlocherPloof Progressive Aerodyne'SPobereznyPoe G L/Poe S YPohlPohoskiPolarisPolaris MotorsPolcynPolitPollackPollard & HuntleyPolstraPongracz John MPoolPoole Robert C JrPorbeck John MPorrata Luis GPorterPorter GlenPorter James GrantPorterfieldPortmanPoserPostPotez-Air FougaPottsPoulin L/Cullen DPowellPowerchutePowerchute LlcPowrachutePowrachute CorpPowrachute Corp.Powrachute LlcPphu EkolotPrattPravecek LawrencePreceptor AircraftPreissPreiss VansPrendergastPrendergast John/VansPrescot E. WilkiePrescott AeronauticalPresleyPrichard KevinPridmorePrillPringlePrizioProbstProgressive AerodyneProgressive Aerodyne IncPruss Richard SPuhlPulsar Aircraft Corp.Purtee Kevin MPurvisPurvis/ThorpePyka IncPyramidPzlPzl OkeciePzl SwidnikPzl Warszawa-OkeciePzl Warzawa-CnpslPzl Warzawa-OkeciePzl-BielskoPzl-SwidnikQacQuad CityQuad City Aircraft CorpQuad City UltralightQuad City Ultralight Acft CorpQuad City Ultralight AircraftQuad City Ultralight CorpQuad City Ultralight, LlcQuad City UltralightsQuarnoccioQuartz Mountain AerospaceQuartz Mountain Aerospace IncQuasar Acft Co LlcQuestQuest Aircraft Company LlcQuestair IncQuestair, Inc.QuickieQuicksilverQuicksilver AircraftQuicksilver Aircraft CoQuicksilver Aircraft NortheastQuicksilver Eipper Acft IncQuicksilver Enterprises IncQuicksilver IiQuicksilver ManufacturingQuicksilver Manufacturing IncQuicksilver MfgQuiksilverQuistQuitzau, CarlR. I. WoodsR. James ThorneRaddatz SteveRadfordRadford Darrel FRadley VincentRagleRagonese TimRainbow Aircraft (Pty) LtdRainbow Aircraft Pty LtdRainbow Sky ReachRainbow Sky Reach (Pty) LtdRajhamsaRallisonRalphRalph C KimballRalph SandersRammel Thomas WRamsayRamseyRand RobinsonRand Robinson EngineeringRandal C ReimerRandall AmandaRandall W GrandpreRandy StanleyRandy Wayne MaloneyRankinRansRans AircraftRans Designs IncRans Employee Flying ClubRans IncRans S-12Rans, Inc.Rardin William IRare AircraftRashRatcliffe John ARatheon Aircraft CompanyRatliffRatte JamesRauchRaudenbush ErnieRaumRavenRaven IndustriesRaviraj MohilRay Aerial SprayingRay E RobertsRay Earl DRaymon A. KingRaymond Z BrownRaytheonRaytheon Aircraft CompanyRaytheon CoRaytheon CompanyRaytheon Corporate JetsRaytheon Corporate Jets IncReamerRearwinReayRedd TomRedding DavidRedgateRedsellReedReed MikeReed RoderickReed William AReevesRehlerRehnReichReichelReileyReilly Charles WReimsReims AviationReims Aviation S.A.ReimusReinboldt Richard AReindlReinhartReisingerReitzRemosRemos Acft Gmbh FlugzeugbauRemos Aircraft GmbhRemos Aircraft Gmbh FlugzeugbaRempeRenderRennicke Midget MustaRenquistReplogleRepublicReupert MarkReviereRewey William MRgj Aviation LlcRhinehartRhoadesRhoadsRicardo LopezRiceRice Leo BRichRich Harry ARichardRichard A. DenisarRichard B CarpenterRichard F. SheldonRichard FuistRichard LacourseRichard RankRichard RileyRichard S CarpenterRichard S DuncanRichard S. AndersonRichard ShafferRichard SilvaRichardsonRichardson Andrew PRichmond Jim RRick CampbellRiddell (Lancair)RidgwayRieslandRiffel Jerris LRiggsRiggs Kenneth WRileyRisher Jimmy ERistineRittalRittal Alfred TimothyRitterRitter John IRivers Lindsey LeeRivers William JRoach NeilRobert A MillerRobert C. HansonRobert D Carr JrRobert D. WoodRobert E BoundsRobert FittsRobert FrisbeyRobert GoldingRobert HamblinRobert J ReimboldRobert J. GoodyearRobert J. JacksonRobert J. LabonteRobert L CoonsRobert M. JonesRobert MilesRobert N. GilmoreRobert R. ReilandRobert SnyderRobert TremblyRobert WoodRobertsRoberts Alan WRoberts Bruce WRobertsonRobertson James FRobidoux LionelRobinRobinetteRobinsonRobinson HelicopterRobinson Helicopter CoRobinson Helicopter Co.Robinson Helicopter CompanyRobinson HelicoptersRobinson Michael ERobinson Stewart JRocci MartignoniRocket FlyersRockwellRockwell CommanderRockwell InternationalRodgersRoe CleoRoger A DalkeRoger G WhiteRoger M AllenRoger MannRogersRogers George TRogers Homer/Rogers SheilaRogerson Hiller Corp.Rolladen SchneiderRolladen Schneider OhgRolladen-SchneiderRolladen-Schneider GmbhRolladen-Schneider OhgRomeoRomeroRomingerRon BurleighRonald D. MurrayRonald J BenderRonald LeveeRonald R RussellRonald V WhiteRoofRootRoscher FrederickRoseRose-RhinehartRosenbaumRosenvallRosnerRossRoss Alfred K/Oneill TerrenceRoss H/Herriott MRoss JonathanRoss/StonecipherRotaryRotary Air Force MarketingRotherwickRotherwick HrRothrockRotor Flight Dynamics, Inc.Rotorcraft Developement Corp.Rotorcraft Development CorpRotorsport Uk LtdRotorwayRouseRovey Jason HRoweRowe Dennis ARowlandRowleyRoyseRoyse DavidRoyse Ralph LRudberg Todd WRudder Dwight KRudolphRudolph Ralph MonroeRuehleRuiz ERumble/Williams/BoomhowerRuminskiRuppRuskRussellRussell E ObergRussell HeynRussom Roy GRutanRutherfordRutledgeRutten Phil JRutter Herbert GRyanRyan AeronauticalRyan John SteffeyRyan W GrossRyskampRyskamp Bruce AS C Aerostar S .A.S C Aerostar S AS. Fl. Ultralights, Inc.S.A. CentrairS.C. Aerostar S.A.S.N.I.A.SS.N.I.A.S.S.O.C.A.T.A.S.Z.D.Sa300Saber   TrikeSaberwingSabianSabreSabre TrikeSabreliner Corp.SabrenaSaccio Thomas ASackmanSacrey W MichaelSadler TerrySadler Terry ASafariSaladinoSalerno Kenneth G JrSaloffSam R PeacheySamsonSamual G. DasilvaSandall Evan RSandellSanders Ben G IiiSandersonSanderson Herbert HSandsSands Thomas ESanfordSanta Fe Aircraft LlcSantanaSantschi Chris ASapp Larry ESargentSargent JonathanSasser Allen LSaterSatterleeSaumureSaundersSavageSavage Air LlcSawby ScottSawyerSc Aerostar SaSc Iar Sa BrasovScanScandinavian Aero IndustrySchabacker Konrad JSchaeferSchaferSchafer Rick WSchafferSchaffer Gary WScharnhorstSchauer William A JrScheel Stanley KScheibeScheibe FlugzeugbauScheineman-Van BurenSchempp HirthSchempp Hirth Flugzeugbau GmbhSchempp-HirthSchempp-Hirth FlugzeugbauSchempp-Hirth Flugzeugbau GmbhSchempp-Hirth K GSchempp-Hirth K.G.SchenfieldSchererSchewizerSchiffererSchilleciSchleiSchleicherSchleicher AlexanderSchleicher Alexander GmbhSchleicher Alexander Gmbh & CoSchlichtmanSchlitterSchlitter Randy JSchmidtSchmidt Donald LSchmidt Randall MSchmittSchmitt (Rotorway)SchneiderSchneider John WSchneider K/Cook CSchneider Richard JSchneider, Edmund, Pty.SchneidhorstSchoepflinSchooleySchoonover John DSchosanski John HSchrackSchrammSchrederSchrieber Robert LSchroder DavidSchroederSchuchartSchuetz MiniplaneSchulkeSchulmanSchultzSchulzeSchumacherSchupp Edward WSchwarzSchweitzerSchweizerSchweizer 300CbiSchweizer Aircraft CorpSchweizer(Hughes)Schweizer(Hughes)Aircraft CorpScoda Aeronautica LtdaScoda AeronauticalScottScott MillsScott TaylorScott Terry GScott ValdezScottishScottish AviationScovilSea & Air SalesSea & Sky IncSea & Sky Inc Dba Krucker AcftSeabase (Avid)Seabourn Scott RSeace David ASealesSeamax AircraftSeela Gerald LSeeleSegarra Lucas JrSeguineSeherSeibert Robert MSelby DeanSenft/Anderson/SalmonSenior Aero SportSeno Louis C SrSergent Great LakesSesinSessi Midget MustangSewell William KSeymourSeymour Robert MShafferShaffer DonaldShaffer William CShaffstallShankShanklinShanks V RogerShannonShannon KevinShannon WilliamShapowalSharpSharpe William LShaubShawShaw Douglas WayneSheaSheahen Dane EShearSheelSheelySheldrick John HShell JohnShelton Joseph GShempp-HirthShepardShepard Jimmy D JrShepherdSheppardSherman Craig WSherman HolieSherman John, HShilt Jerry CShimerShinerShirey David AShirley CarlShiverShniderman Ervin StanleyShoemaker James BShookShorethoseShorey Timothy AShort BrosShort Bros.Short Bros. & HarlandShort Brothers PlcShoup Ronald RShowalterShpakow ThomasShultz Jeffrey DSiai MarchettiSiai-MarchettiSibilaSibleySichenederSidler MikeSidneySiebelSieber Paul PSiebertSiegel GeraldSiemensSiemer James HSierraSigmon Harvey ESikesSikorskySikorsky Aircraft CorporationSiler Ronald ESilfvastSilvaireSilveira Jonathan ASilverlight Aviation LlcSilviusSimmonsSimmons Gary FSimmons NoelSimmons William ESimoneauSimpkinsSimpsonSinclairSix ChuterSix Chuter IncSix Chuter West LlcSix Chuter, IncSix ChutterSix Chutter, Inc.Six-ChuterSkaggs Ronnie LynnSkeeterSkiles Kenneth CSkistmas GeorgeSkwira Matthew JSky International, Inc.SkykitsSkykits CorpSkykits CorporationSkykits Usa CorpSkyraiderSkystarSkystar Aircraft CorpSkytrails LsaSlagleSlaterSlaughter MikeSlepcevSlingsbySlip StreamSlipstreamSloan Roger DSmiley James ESmithSmith AerostarSmith Albert FSmith AllenSmith Arthur FoxSmith Bret BSmith CapellaSmith Carter ASmith Dennis PSmith Douglas J.Smith Edward ISmith MiniplaneSmith Richard D JrSmith VilasSmith Wylie JaySmith, Ted AerostarSmithwick/TreidelSmuzSmysor KevinSmythSmyth SidewinderSmythe Donald FSnellingSnobirdSnowSnyderSnyder Todd WSocataSoftex Invest LlcSokoSolo WingsSomerton David JSoneraiSoneralSonexSonex / John D. MccarterSonex AircraftSonex LimitedSontonastasoSorensenSorensen DannySorensen Danny SSorensonSorrellSorrell AircraftSoutherlandSouthern Airmotive Corp.Southern Powered ParachuteSouthern Powered ParachutesSouthworthSpaneSpangenbergSpani Wayne MSpannagelSparkeSparksSparks Ralph ASparrow HawkSparrowhawkSpartanSpauldingSpaulding ErrolSpaur CharlesSpearmanSpearsSpectrumSpegeleSpencerSperling Richard GSpink Robert MSpirangamSpittlerSport FlightSport Flight InternationalSport Plane Dynamics LlcSportavia PutzerSportflight International LlcSportine AviacijaSpringerSproulSproul Keith ASpurgeonSqueglia R/Wheeler WSquierSt ClairSt Clair David LSt. ClaireStaddenStafford Wayne HStallingsStampeStampe Et RenardStamstaStanleyStanley Arthur FreemanStanley B EStanley Ernie SigurdStanley, Davey LStantonStardusterStarduster IiStarduster TooStarnesStart & FlugStaudacherStaudacher Aircraft IncStaudacher Aircraft, Inc.Staudacher HydroplanesStaudacher JonStearmanStearman AircraftSteel/VansSteeleSteele  John JSteele Ralph BruceSteele Samuel DSteenSteen Aero LabSteinStein SkyboltSteinbaumSteinkeSteinman Mark EStemmeStemme Gmbh & CoStephenStephen F. GravesStephen L KruerStephens William EStephensonStepplingStetson Norman BSteven A. JonesSteven Bornstein/Thomas WhittaSteven G GoonenSteven HardieSteven R McneeseSteven R. JacksonSteven W. JonesStevensStevens R P/Mccright D WStevensonSteward RockyStewartStewart Mw/Stewart JdStick & Rag Flying ClubStiegelmeyer John RStilesStill Michael JStinsonStirlingStits AircraftStits Flut-R-BugStits PlayboyStoddard HamiltonStoddard-HamiltonStolStol Aircraft CorpStol LlcStolp StardusterStoneStone James RStorchStorch Aviation Australia PtyStoreyStormStory Charles BradStout Garry VStout GordonStrategie Ballloon Co.StrawStriblingStribling James LStrisselStrongStropki PaulStrotherStroup RobertStrout FrankStuartStucker GaryStucker Virgil AStucky Steven DStugartStuhlmiller RobertStumpStump BradleyStump Great LakesStutesman Charles LeeStysSud AviationSud Aviation/EurocopterSukhoiSullivanSuminskiSuminski Walter MSummersSummitSundt Daniel NSungkwon KimSuper 18 LlcSuperiorSutphinSutphin John ESuttonSutton TailwindSutton William JSwalley Mark HSwann Lynn JSwansonSwartz GeneSwearingenSwearingen T R/Masters WSwedenerSweeneySweeney Timothy JSweet Wayne ASwensenSwezey T/Molnar DSwiezySwift Museum Foundation, Inc.Swing Brian SSymphony Aircraft Ind IncSyracuseSyreiniSzdSzybowcowy Zaklad DoT BirdT Bird Golden Circle Air IncT&T Aviation IncT51 Inc.TaberTacchi Torello FTackaburyTaft, Malcolm J SrTail Feather LlcTailwindTallent, Chris M.TandemTankerTannerTaplinTappen ChrisTarantolaTarantola LeonardTatkovsky James GTaylorTaylor SmithTaylorcraftTaylorcraft AviationTaylorcraft Aviation CorpTaylorcraft Aviation Corp.Taylorcraft CorpTaylorcraft CorporationTeagueTeal Harry HTeamTeam IncTeam RocketTeam Rocket F-1TecnamTed SmithTemcoTemco LuscombeTemple BenjaminTennyson HowardTeratornTerminellaTerningTerpstraTerrell CaragolTerrence A. SackTerrioTerryTerry E. MorrisTerry F KingTerry G. OlsonTerry TevisTerry W. ThayerTessierTestTetrault RonadTeunisTew William PTexas Air Ventures IncTexas Helicopter CorpTextron AviationTextron Aviation IncTharp S RichardThatcherTheordore JankowskiTherrien RogerThibault Michael LThockerThomasThomas A SiminskiThomas B McgrathThomas C SikesThomas C. PiperThomas Craig EThomas D. ParkesThomas David WThomas E HudzinskiThomas G ParkhurstThomas J HankampThomas J MurrayThomas J. DorseyThomas LeeThomas LongThomas R WadeThomas ScottThomas StephenThomas Wayne LThomas WildThompsonThompson Bruce DThompson DavidThompson HowardThompson Tommy WThompson William AThomsenThomsonThornleyThorntonThorpThrockmorton Matthew EThrushThunder & ColtThunder & Colt Airborne AmerThunder & Colt LtdThunder And ColtThunder MustangThunderbird AviationThurmondThurstonTibertTichacekTidd WesleyTifftTiger Aircraft LlcTillmanTimothy C WilliamsTimothy J CowperTingleTitanTitan AircraftTjerrildTl UltralightTl Ultralight SroTodd FoleyToerner BobToevsToland S/Thornburgh JTolbert Robert RTolleTolsma Tony GToman Jack JrTomashTomblingson-LeathersTomeiTomlinson Tracy LTompkinsTony DubeanskyToomeyTop DogTopdog UltralightsTornoTownerTracyTrammellTravel AirTraxler John NTreidel Mark/R F DTrellaTrentiTriad International TechnologyTrick TrikesTrikeTrikesTrinidadTriple S Aero IncTrom WayneTromsness Enterprises IncTroy A. WoodlandTroyerTrue Flight Holdings LlcTruitt PeterTrustyTruthanTschidaTtx Air LlcTubbs S/PerformanceTubbs S/Performance Air IncTubervilleTucker Mitchel CTucker Timothy ETucker-HurniTukanTumbling Goose LlcTurbine Cubs Of Wyoming LlcTurck G L/Duflo J TTurcotte Jr Robert LTurkanTurpenTuthTuttle Bruce CTwenteTwenty Second Street LlcTwin Commander Acft. Corp.U-Fly-ItUetz, WalterUlfeldtUlrich ChristenUltra Flight LlcUltralight AmericaUltralite SroUltramagicUltramagic SaUltravia Aero Int', Inc.UnanderUnderland/Grothe/FinstromUnivairUnivair Aircraft CorporationUnivarUniversalUniversal Moulded Pdts.Universal StinsonUnknownUnregisteredUnreinUprightUptonUrban AirUrban Air SroUrbanczyk MiroslawUs Light Aircraft CorpUskoskiUtterbackUtvaVailValentinValldejuli John AValloric Carl StephenVan B AnthonyVan Dusen John MVan HeeswykVan Hoomissen Gerald JVan Kalker John EVan Lehn Richard GlennVan'S AircraftVan'S Aircraft, IncVan'S Aircraft, Inc.Vance RenegadeVandenburgVanderarkVanderbeekVanderhoof SteveVanek JimVangilderVansVans AircraftVans Aircraft IncVans Aircraft, Inc.VargaVarga Aircraft Corp.Varner David LVashon AircraftVaughan Gerald RVaughnVeatchVeithVeldhuizenVelline'SVelocityVelocity IncVeltmanVeltman, RobertVenables ZenithVenusVermeysVernonVernon D. PittsVersteegVertical Aviation TechnologiesVickersVickers-SlingsbyVictor M CorderoVigneauViguie G/Viguie MViking (Clarke)VillarubiaVilleneuveVining John KVink Robert DVioletVirginia AviationVogelVogtVolaircraftVolinVollenweider R/Hurst R FVolmerVon Claparede ClemenVortecVoughtVulcanairW. E. Simmons Max AirW.H. HunnicuttWacoWaco Classic AircraftWaco Classic Aircraft CorpWaco Classic Aircraft Corp.Wag AeroWag-AeroWaggonnerWagnerWahlWakewoodWalden A. CooperWalkerWalker Edgar EWalker J CWalker KennethWalker Louie HWalker PhilWallaceWaller Charles RWallingWalls Craig CWalsh Philip JWalter C SmytheWalter S Johnson IiiWalter TachikiWaltermireWaltersWaltman Theodore JWaltonWalton Daniel JWaltzWampachWampoleWardWard Christopher BarryWard RcWare Jerry LWarner AerocraftWarner LewisWarringtonWasson LoehleWaszak Arthur BWatersWaters Peter TWaterwings, IncWatkinsWatsonWatson David EWattierWayland John HWayne D. TeelWayne MillerWayne O RobinsonWeatherhead Peter LWeatherlyWeaver David AWeaver Stanley R/Robinson ScotWeberWeddingtonWehrlenWeinbergWeinzierlWeissWeiss DenisWejebe JoseWelbornWelchWelch Floyd LWelch ThomasWellsWells TerryWermlingWernerWesselWestWestcottWesteWester/SteigerWesterhout/GagnierWestern International Avia IncWestlandWestland HelicoptersWestonWeston JamesWheatWheelerWheeler C / Wheeler KWhetzelWhiteWhiteheadWhitlockWhitten RobinsonWhittmanWhittman TailwindWhittridge Richard DWhittyWhitty, Philip J.Wicks Air Center LlcWidnerWieltWightWight Albert AWilburnWilde Daniel LWilderoderWildmanWileyWiley C WWilford J. TolmanWilhelmWilkinson Daniel VWilkinson Lorin LWillertonWilleyWilliam AllenWilliam D DurkeeWilliam D Telfair/Zia Z TelfaiWilliam E. FurrWilliam F. LairWilliam J. KnowlesWilliam L BellWilliam M OprendekWilliam P. CrowellWilliam StevensWilliam WrightWilliamsWilliams Christopher TWilliams GlennWilliams Helicopter CorpWilliams JohnWilliams Myron GWilliams YakovlevWilliamsonWillie BennettWilloughby Pete AWilsonWilson Michael AWilson QuicksilverWilson William MWim J HuismanWinder Robert SWindlerWingWing AircraftWing HaroldWing John RWingoWingren NormanWings An Things IncWingtip To Wingtip LlcWinship Kent SWinston W WalkerWinter J.T/JohnsonWintersWittmanWittman D R/Wittman D MWogenstahl Wallace LWohaska JohnWohlersWohnoutka Steven MWolfWolfeWolterWonder Michael SWondrasekWoodWood/ThorpeWoodleyWoodrow Larry WWoodrow Stolp-AdamsWoodruff LancairWoodsWoods Rufus IiiWoodward Harold LWoolley John AWoolston Glenn EWootersWootton, JohnWorcester EverettWorgullWorld Aircraft CoWorld HelicoptersWorldwide Aero CorpWorldwide AerosWorley DennisWorthingtonWorthington Donald WayneWragg GeorgeWren Ronnie DWrightWright Bruce MWright Redux AssociationWroblewskiWsk PzlWsk Pzl MielecWsk Pzl SwidnikWsk Pzl Warzawa-OkecieWsk-MielecWsk-Pzl Warzawa-OkecieWsk-Pzl WarzawaokecieWyder Robert GX-Air LlcXtremeair GmbhYadonYakovlevYakovlev/DayYamokoskiYamokoski WilliamYatesYates Mike EYates W/Lazar MYeager Inc.YonchakYork Ronald JYost Edwin SYoukeyYoungYoung Dee CYoung John EYoung Robert HermanYoungs William DYounkin J RYowellYuneecZ-Hi-MaxZach VansZachariusZaverton ElmerZawadaZeidmanZeilerZenairZenair LtdZenair ZodiacZenithZenith Acft CoZenith Aircraft CoZidekZiermannZilzZimmermanZivkoZivko Aeronautics IncZivko Aeronautics Inc.ZlinZlin AviationZlin Aviation S.R.O.ZornZs Delta-Bielsko WroclawZubair S KhanZuber Thomas PZwicker Murray R\""
      ]
     },
     "execution_count": 183,
     "metadata": {},
     "output_type": "execute_result"
    }
   ],
   "source": [
    "Make_Model_grp['Make'].unique().sum()"
   ]
  },
  {
   "cell_type": "code",
   "execution_count": null,
   "id": "101008cf",
   "metadata": {},
   "outputs": [],
   "source": []
  }
 ],
 "metadata": {
  "kernelspec": {
   "display_name": "learn-env",
   "language": "python",
   "name": "python3"
  },
  "language_info": {
   "codemirror_mode": {
    "name": "ipython",
    "version": 3
   },
   "file_extension": ".py",
   "mimetype": "text/x-python",
   "name": "python",
   "nbconvert_exporter": "python",
   "pygments_lexer": "ipython3",
   "version": "3.8.5"
  }
 },
 "nbformat": 4,
 "nbformat_minor": 5
}
