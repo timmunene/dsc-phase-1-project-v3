{
 "cells": [
  {
   "cell_type": "markdown",
   "id": "60407e9c",
   "metadata": {},
   "source": [
    "## Final Project Submission\n",
    "\n",
    "Please fill out:\n",
    "* Student name: Timothy M. Ikiao\n",
    "* Student pace: self paced / part time / full time\n",
    "* Scheduled project review date/time: \n",
    "* Instructor name: Brian Chacha\n",
    "* Blog post URL:\n",
    "\n",
    "# Your code here - remember to use markdown cells for comments as well!\n"
   ]
  },
  {
   "cell_type": "code",
   "execution_count": null,
   "id": "b3f4266e",
   "metadata": {},
   "outputs": [],
   "source": []
  },
  {
   "cell_type": "markdown",
   "id": "cd821e6a",
   "metadata": {},
   "source": [
    "# Aircraft Safety \n",
    "We shall use National Transportation Safety Board (1962 - 2023) civil aviation data to achieve our objectives\n",
    "\n",
    "## Objective\n",
    "- Determine the lowest risk aircraft for a new business endeavor\n",
    "- Incorporate information on purchasing and operating aircraft for commercial and private enterprises where available\n",
    "- Draft actionable insights for new head of aviation division to decide which aircraft to purchase"
   ]
  },
  {
   "cell_type": "code",
   "execution_count": 436,
   "id": "afe1ca0d",
   "metadata": {},
   "outputs": [
    {
     "name": "stderr",
     "output_type": "stream",
     "text": [
      "c:\\Users\\adamin\\anaconda3\\envs\\learn-env\\lib\\site-packages\\IPython\\core\\interactiveshell.py:3145: DtypeWarning: Columns (6,7,28) have mixed types.Specify dtype option on import or set low_memory=False.\n",
      "  has_raised = await self.run_ast_nodes(code_ast.body, cell_name,\n"
     ]
    },
    {
     "data": {
      "text/html": [
       "<div>\n",
       "<style scoped>\n",
       "    .dataframe tbody tr th:only-of-type {\n",
       "        vertical-align: middle;\n",
       "    }\n",
       "\n",
       "    .dataframe tbody tr th {\n",
       "        vertical-align: top;\n",
       "    }\n",
       "\n",
       "    .dataframe thead th {\n",
       "        text-align: right;\n",
       "    }\n",
       "</style>\n",
       "<table border=\"1\" class=\"dataframe\">\n",
       "  <thead>\n",
       "    <tr style=\"text-align: right;\">\n",
       "      <th></th>\n",
       "      <th>Event.Id</th>\n",
       "      <th>Investigation.Type</th>\n",
       "      <th>Accident.Number</th>\n",
       "      <th>Event.Date</th>\n",
       "      <th>Location</th>\n",
       "      <th>Country</th>\n",
       "      <th>Latitude</th>\n",
       "      <th>Longitude</th>\n",
       "      <th>Airport.Code</th>\n",
       "      <th>Airport.Name</th>\n",
       "      <th>...</th>\n",
       "      <th>Purpose.of.flight</th>\n",
       "      <th>Air.carrier</th>\n",
       "      <th>Total.Fatal.Injuries</th>\n",
       "      <th>Total.Serious.Injuries</th>\n",
       "      <th>Total.Minor.Injuries</th>\n",
       "      <th>Total.Uninjured</th>\n",
       "      <th>Weather.Condition</th>\n",
       "      <th>Broad.phase.of.flight</th>\n",
       "      <th>Report.Status</th>\n",
       "      <th>Publication.Date</th>\n",
       "    </tr>\n",
       "  </thead>\n",
       "  <tbody>\n",
       "    <tr>\n",
       "      <th>0</th>\n",
       "      <td>20001218X45444</td>\n",
       "      <td>Accident</td>\n",
       "      <td>SEA87LA080</td>\n",
       "      <td>1948-10-24</td>\n",
       "      <td>MOOSE CREEK, ID</td>\n",
       "      <td>United States</td>\n",
       "      <td>NaN</td>\n",
       "      <td>NaN</td>\n",
       "      <td>NaN</td>\n",
       "      <td>NaN</td>\n",
       "      <td>...</td>\n",
       "      <td>Personal</td>\n",
       "      <td>NaN</td>\n",
       "      <td>2.0</td>\n",
       "      <td>0.0</td>\n",
       "      <td>0.0</td>\n",
       "      <td>0.0</td>\n",
       "      <td>UNK</td>\n",
       "      <td>Cruise</td>\n",
       "      <td>Probable Cause</td>\n",
       "      <td>NaN</td>\n",
       "    </tr>\n",
       "    <tr>\n",
       "      <th>1</th>\n",
       "      <td>20001218X45447</td>\n",
       "      <td>Accident</td>\n",
       "      <td>LAX94LA336</td>\n",
       "      <td>1962-07-19</td>\n",
       "      <td>BRIDGEPORT, CA</td>\n",
       "      <td>United States</td>\n",
       "      <td>NaN</td>\n",
       "      <td>NaN</td>\n",
       "      <td>NaN</td>\n",
       "      <td>NaN</td>\n",
       "      <td>...</td>\n",
       "      <td>Personal</td>\n",
       "      <td>NaN</td>\n",
       "      <td>4.0</td>\n",
       "      <td>0.0</td>\n",
       "      <td>0.0</td>\n",
       "      <td>0.0</td>\n",
       "      <td>UNK</td>\n",
       "      <td>Unknown</td>\n",
       "      <td>Probable Cause</td>\n",
       "      <td>19-09-1996</td>\n",
       "    </tr>\n",
       "    <tr>\n",
       "      <th>2</th>\n",
       "      <td>20061025X01555</td>\n",
       "      <td>Accident</td>\n",
       "      <td>NYC07LA005</td>\n",
       "      <td>1974-08-30</td>\n",
       "      <td>Saltville, VA</td>\n",
       "      <td>United States</td>\n",
       "      <td>36.9222</td>\n",
       "      <td>-81.8781</td>\n",
       "      <td>NaN</td>\n",
       "      <td>NaN</td>\n",
       "      <td>...</td>\n",
       "      <td>Personal</td>\n",
       "      <td>NaN</td>\n",
       "      <td>3.0</td>\n",
       "      <td>NaN</td>\n",
       "      <td>NaN</td>\n",
       "      <td>NaN</td>\n",
       "      <td>IMC</td>\n",
       "      <td>Cruise</td>\n",
       "      <td>Probable Cause</td>\n",
       "      <td>26-02-2007</td>\n",
       "    </tr>\n",
       "    <tr>\n",
       "      <th>3</th>\n",
       "      <td>20001218X45448</td>\n",
       "      <td>Accident</td>\n",
       "      <td>LAX96LA321</td>\n",
       "      <td>1977-06-19</td>\n",
       "      <td>EUREKA, CA</td>\n",
       "      <td>United States</td>\n",
       "      <td>NaN</td>\n",
       "      <td>NaN</td>\n",
       "      <td>NaN</td>\n",
       "      <td>NaN</td>\n",
       "      <td>...</td>\n",
       "      <td>Personal</td>\n",
       "      <td>NaN</td>\n",
       "      <td>2.0</td>\n",
       "      <td>0.0</td>\n",
       "      <td>0.0</td>\n",
       "      <td>0.0</td>\n",
       "      <td>IMC</td>\n",
       "      <td>Cruise</td>\n",
       "      <td>Probable Cause</td>\n",
       "      <td>12-09-2000</td>\n",
       "    </tr>\n",
       "    <tr>\n",
       "      <th>4</th>\n",
       "      <td>20041105X01764</td>\n",
       "      <td>Accident</td>\n",
       "      <td>CHI79FA064</td>\n",
       "      <td>1979-08-02</td>\n",
       "      <td>Canton, OH</td>\n",
       "      <td>United States</td>\n",
       "      <td>NaN</td>\n",
       "      <td>NaN</td>\n",
       "      <td>NaN</td>\n",
       "      <td>NaN</td>\n",
       "      <td>...</td>\n",
       "      <td>Personal</td>\n",
       "      <td>NaN</td>\n",
       "      <td>1.0</td>\n",
       "      <td>2.0</td>\n",
       "      <td>NaN</td>\n",
       "      <td>0.0</td>\n",
       "      <td>VMC</td>\n",
       "      <td>Approach</td>\n",
       "      <td>Probable Cause</td>\n",
       "      <td>16-04-1980</td>\n",
       "    </tr>\n",
       "  </tbody>\n",
       "</table>\n",
       "<p>5 rows × 31 columns</p>\n",
       "</div>"
      ],
      "text/plain": [
       "         Event.Id Investigation.Type Accident.Number  Event.Date  \\\n",
       "0  20001218X45444           Accident      SEA87LA080  1948-10-24   \n",
       "1  20001218X45447           Accident      LAX94LA336  1962-07-19   \n",
       "2  20061025X01555           Accident      NYC07LA005  1974-08-30   \n",
       "3  20001218X45448           Accident      LAX96LA321  1977-06-19   \n",
       "4  20041105X01764           Accident      CHI79FA064  1979-08-02   \n",
       "\n",
       "          Location        Country Latitude Longitude Airport.Code  \\\n",
       "0  MOOSE CREEK, ID  United States      NaN       NaN          NaN   \n",
       "1   BRIDGEPORT, CA  United States      NaN       NaN          NaN   \n",
       "2    Saltville, VA  United States  36.9222  -81.8781          NaN   \n",
       "3       EUREKA, CA  United States      NaN       NaN          NaN   \n",
       "4       Canton, OH  United States      NaN       NaN          NaN   \n",
       "\n",
       "  Airport.Name  ... Purpose.of.flight Air.carrier Total.Fatal.Injuries  \\\n",
       "0          NaN  ...          Personal         NaN                  2.0   \n",
       "1          NaN  ...          Personal         NaN                  4.0   \n",
       "2          NaN  ...          Personal         NaN                  3.0   \n",
       "3          NaN  ...          Personal         NaN                  2.0   \n",
       "4          NaN  ...          Personal         NaN                  1.0   \n",
       "\n",
       "  Total.Serious.Injuries Total.Minor.Injuries Total.Uninjured  \\\n",
       "0                    0.0                  0.0             0.0   \n",
       "1                    0.0                  0.0             0.0   \n",
       "2                    NaN                  NaN             NaN   \n",
       "3                    0.0                  0.0             0.0   \n",
       "4                    2.0                  NaN             0.0   \n",
       "\n",
       "  Weather.Condition  Broad.phase.of.flight   Report.Status Publication.Date  \n",
       "0               UNK                 Cruise  Probable Cause              NaN  \n",
       "1               UNK                Unknown  Probable Cause       19-09-1996  \n",
       "2               IMC                 Cruise  Probable Cause       26-02-2007  \n",
       "3               IMC                 Cruise  Probable Cause       12-09-2000  \n",
       "4               VMC               Approach  Probable Cause       16-04-1980  \n",
       "\n",
       "[5 rows x 31 columns]"
      ]
     },
     "execution_count": 436,
     "metadata": {},
     "output_type": "execute_result"
    }
   ],
   "source": [
    "#import pandas\n",
    "import pandas as pd\n",
    "\n",
    "#import the data set\n",
    "av_data = pd.read_csv(r'C:\\Users\\adamin\\Documents\\Moringa\\phase_one\\Phase_one_project\\dsc-phase-1-project-v3\\data\\Aviation_Data.csv')\n",
    "\n",
    "#View the first five rows to begin understanding the dataset\n",
    "av_data.head()"
   ]
  },
  {
   "cell_type": "code",
   "execution_count": 437,
   "id": "8fa7ac18",
   "metadata": {},
   "outputs": [
    {
     "data": {
      "text/html": [
       "<div>\n",
       "<style scoped>\n",
       "    .dataframe tbody tr th:only-of-type {\n",
       "        vertical-align: middle;\n",
       "    }\n",
       "\n",
       "    .dataframe tbody tr th {\n",
       "        vertical-align: top;\n",
       "    }\n",
       "\n",
       "    .dataframe thead th {\n",
       "        text-align: right;\n",
       "    }\n",
       "</style>\n",
       "<table border=\"1\" class=\"dataframe\">\n",
       "  <thead>\n",
       "    <tr style=\"text-align: right;\">\n",
       "      <th></th>\n",
       "      <th>Event.Id</th>\n",
       "      <th>Investigation.Type</th>\n",
       "      <th>Accident.Number</th>\n",
       "      <th>Event.Date</th>\n",
       "      <th>Location</th>\n",
       "      <th>Country</th>\n",
       "      <th>Latitude</th>\n",
       "      <th>Longitude</th>\n",
       "      <th>Airport.Code</th>\n",
       "      <th>Airport.Name</th>\n",
       "      <th>...</th>\n",
       "      <th>Purpose.of.flight</th>\n",
       "      <th>Air.carrier</th>\n",
       "      <th>Total.Fatal.Injuries</th>\n",
       "      <th>Total.Serious.Injuries</th>\n",
       "      <th>Total.Minor.Injuries</th>\n",
       "      <th>Total.Uninjured</th>\n",
       "      <th>Weather.Condition</th>\n",
       "      <th>Broad.phase.of.flight</th>\n",
       "      <th>Report.Status</th>\n",
       "      <th>Publication.Date</th>\n",
       "    </tr>\n",
       "  </thead>\n",
       "  <tbody>\n",
       "    <tr>\n",
       "      <th>90343</th>\n",
       "      <td>20221227106491</td>\n",
       "      <td>Accident</td>\n",
       "      <td>ERA23LA093</td>\n",
       "      <td>2022-12-26</td>\n",
       "      <td>Annapolis, MD</td>\n",
       "      <td>United States</td>\n",
       "      <td>NaN</td>\n",
       "      <td>NaN</td>\n",
       "      <td>NaN</td>\n",
       "      <td>NaN</td>\n",
       "      <td>...</td>\n",
       "      <td>Personal</td>\n",
       "      <td>NaN</td>\n",
       "      <td>0.0</td>\n",
       "      <td>1.0</td>\n",
       "      <td>0.0</td>\n",
       "      <td>0.0</td>\n",
       "      <td>NaN</td>\n",
       "      <td>NaN</td>\n",
       "      <td>NaN</td>\n",
       "      <td>29-12-2022</td>\n",
       "    </tr>\n",
       "    <tr>\n",
       "      <th>90344</th>\n",
       "      <td>20221227106494</td>\n",
       "      <td>Accident</td>\n",
       "      <td>ERA23LA095</td>\n",
       "      <td>2022-12-26</td>\n",
       "      <td>Hampton, NH</td>\n",
       "      <td>United States</td>\n",
       "      <td>NaN</td>\n",
       "      <td>NaN</td>\n",
       "      <td>NaN</td>\n",
       "      <td>NaN</td>\n",
       "      <td>...</td>\n",
       "      <td>NaN</td>\n",
       "      <td>NaN</td>\n",
       "      <td>0.0</td>\n",
       "      <td>0.0</td>\n",
       "      <td>0.0</td>\n",
       "      <td>0.0</td>\n",
       "      <td>NaN</td>\n",
       "      <td>NaN</td>\n",
       "      <td>NaN</td>\n",
       "      <td>NaN</td>\n",
       "    </tr>\n",
       "    <tr>\n",
       "      <th>90345</th>\n",
       "      <td>20221227106497</td>\n",
       "      <td>Accident</td>\n",
       "      <td>WPR23LA075</td>\n",
       "      <td>2022-12-26</td>\n",
       "      <td>Payson, AZ</td>\n",
       "      <td>United States</td>\n",
       "      <td>341525N</td>\n",
       "      <td>1112021W</td>\n",
       "      <td>PAN</td>\n",
       "      <td>PAYSON</td>\n",
       "      <td>...</td>\n",
       "      <td>Personal</td>\n",
       "      <td>NaN</td>\n",
       "      <td>0.0</td>\n",
       "      <td>0.0</td>\n",
       "      <td>0.0</td>\n",
       "      <td>1.0</td>\n",
       "      <td>VMC</td>\n",
       "      <td>NaN</td>\n",
       "      <td>NaN</td>\n",
       "      <td>27-12-2022</td>\n",
       "    </tr>\n",
       "    <tr>\n",
       "      <th>90346</th>\n",
       "      <td>20221227106498</td>\n",
       "      <td>Accident</td>\n",
       "      <td>WPR23LA076</td>\n",
       "      <td>2022-12-26</td>\n",
       "      <td>Morgan, UT</td>\n",
       "      <td>United States</td>\n",
       "      <td>NaN</td>\n",
       "      <td>NaN</td>\n",
       "      <td>NaN</td>\n",
       "      <td>NaN</td>\n",
       "      <td>...</td>\n",
       "      <td>Personal</td>\n",
       "      <td>MC CESSNA 210N LLC</td>\n",
       "      <td>0.0</td>\n",
       "      <td>0.0</td>\n",
       "      <td>0.0</td>\n",
       "      <td>0.0</td>\n",
       "      <td>NaN</td>\n",
       "      <td>NaN</td>\n",
       "      <td>NaN</td>\n",
       "      <td>NaN</td>\n",
       "    </tr>\n",
       "    <tr>\n",
       "      <th>90347</th>\n",
       "      <td>20221230106513</td>\n",
       "      <td>Accident</td>\n",
       "      <td>ERA23LA097</td>\n",
       "      <td>2022-12-29</td>\n",
       "      <td>Athens, GA</td>\n",
       "      <td>United States</td>\n",
       "      <td>NaN</td>\n",
       "      <td>NaN</td>\n",
       "      <td>NaN</td>\n",
       "      <td>NaN</td>\n",
       "      <td>...</td>\n",
       "      <td>Personal</td>\n",
       "      <td>NaN</td>\n",
       "      <td>0.0</td>\n",
       "      <td>1.0</td>\n",
       "      <td>0.0</td>\n",
       "      <td>1.0</td>\n",
       "      <td>NaN</td>\n",
       "      <td>NaN</td>\n",
       "      <td>NaN</td>\n",
       "      <td>30-12-2022</td>\n",
       "    </tr>\n",
       "  </tbody>\n",
       "</table>\n",
       "<p>5 rows × 31 columns</p>\n",
       "</div>"
      ],
      "text/plain": [
       "             Event.Id Investigation.Type Accident.Number  Event.Date  \\\n",
       "90343  20221227106491           Accident      ERA23LA093  2022-12-26   \n",
       "90344  20221227106494           Accident      ERA23LA095  2022-12-26   \n",
       "90345  20221227106497           Accident      WPR23LA075  2022-12-26   \n",
       "90346  20221227106498           Accident      WPR23LA076  2022-12-26   \n",
       "90347  20221230106513           Accident      ERA23LA097  2022-12-29   \n",
       "\n",
       "            Location        Country Latitude Longitude Airport.Code  \\\n",
       "90343  Annapolis, MD  United States      NaN       NaN          NaN   \n",
       "90344    Hampton, NH  United States      NaN       NaN          NaN   \n",
       "90345     Payson, AZ  United States  341525N  1112021W          PAN   \n",
       "90346     Morgan, UT  United States      NaN       NaN          NaN   \n",
       "90347     Athens, GA  United States      NaN       NaN          NaN   \n",
       "\n",
       "      Airport.Name  ... Purpose.of.flight         Air.carrier  \\\n",
       "90343          NaN  ...          Personal                 NaN   \n",
       "90344          NaN  ...               NaN                 NaN   \n",
       "90345       PAYSON  ...          Personal                 NaN   \n",
       "90346          NaN  ...          Personal  MC CESSNA 210N LLC   \n",
       "90347          NaN  ...          Personal                 NaN   \n",
       "\n",
       "      Total.Fatal.Injuries Total.Serious.Injuries Total.Minor.Injuries  \\\n",
       "90343                  0.0                    1.0                  0.0   \n",
       "90344                  0.0                    0.0                  0.0   \n",
       "90345                  0.0                    0.0                  0.0   \n",
       "90346                  0.0                    0.0                  0.0   \n",
       "90347                  0.0                    1.0                  0.0   \n",
       "\n",
       "      Total.Uninjured Weather.Condition  Broad.phase.of.flight Report.Status  \\\n",
       "90343             0.0               NaN                    NaN           NaN   \n",
       "90344             0.0               NaN                    NaN           NaN   \n",
       "90345             1.0               VMC                    NaN           NaN   \n",
       "90346             0.0               NaN                    NaN           NaN   \n",
       "90347             1.0               NaN                    NaN           NaN   \n",
       "\n",
       "      Publication.Date  \n",
       "90343       29-12-2022  \n",
       "90344              NaN  \n",
       "90345       27-12-2022  \n",
       "90346              NaN  \n",
       "90347       30-12-2022  \n",
       "\n",
       "[5 rows x 31 columns]"
      ]
     },
     "execution_count": 437,
     "metadata": {},
     "output_type": "execute_result"
    }
   ],
   "source": [
    "#View the last five rows to understand teh dataset\n",
    "av_data.tail()"
   ]
  },
  {
   "cell_type": "code",
   "execution_count": 438,
   "id": "a94fcf2c",
   "metadata": {},
   "outputs": [
    {
     "name": "stdout",
     "output_type": "stream",
     "text": [
      "<class 'pandas.core.frame.DataFrame'>\n",
      "RangeIndex: 90348 entries, 0 to 90347\n",
      "Data columns (total 31 columns):\n",
      " #   Column                  Non-Null Count  Dtype  \n",
      "---  ------                  --------------  -----  \n",
      " 0   Event.Id                88889 non-null  object \n",
      " 1   Investigation.Type      90348 non-null  object \n",
      " 2   Accident.Number         88889 non-null  object \n",
      " 3   Event.Date              88889 non-null  object \n",
      " 4   Location                88837 non-null  object \n",
      " 5   Country                 88663 non-null  object \n",
      " 6   Latitude                34382 non-null  object \n",
      " 7   Longitude               34373 non-null  object \n",
      " 8   Airport.Code            50249 non-null  object \n",
      " 9   Airport.Name            52790 non-null  object \n",
      " 10  Injury.Severity         87889 non-null  object \n",
      " 11  Aircraft.damage         85695 non-null  object \n",
      " 12  Aircraft.Category       32287 non-null  object \n",
      " 13  Registration.Number     87572 non-null  object \n",
      " 14  Make                    88826 non-null  object \n",
      " 15  Model                   88797 non-null  object \n",
      " 16  Amateur.Built           88787 non-null  object \n",
      " 17  Number.of.Engines       82805 non-null  float64\n",
      " 18  Engine.Type             81812 non-null  object \n",
      " 19  FAR.Description         32023 non-null  object \n",
      " 20  Schedule                12582 non-null  object \n",
      " 21  Purpose.of.flight       82697 non-null  object \n",
      " 22  Air.carrier             16648 non-null  object \n",
      " 23  Total.Fatal.Injuries    77488 non-null  float64\n",
      " 24  Total.Serious.Injuries  76379 non-null  float64\n",
      " 25  Total.Minor.Injuries    76956 non-null  float64\n",
      " 26  Total.Uninjured         82977 non-null  float64\n",
      " 27  Weather.Condition       84397 non-null  object \n",
      " 28  Broad.phase.of.flight   61724 non-null  object \n",
      " 29  Report.Status           82508 non-null  object \n",
      " 30  Publication.Date        73659 non-null  object \n",
      "dtypes: float64(5), object(26)\n",
      "memory usage: 21.4+ MB\n"
     ]
    }
   ],
   "source": [
    "# Explore the dataset\n",
    "av_data.info()"
   ]
  },
  {
   "cell_type": "code",
   "execution_count": 439,
   "id": "0ba0b5ef",
   "metadata": {},
   "outputs": [
    {
     "data": {
      "text/plain": [
       "\"\\nThe data is loaded into a pandas data frame under the variable 'av_data'\\nData set has 31 columns with 90348 entries (rows)\\nNumerous columns have missing data with the exception of column 1 (Investigation type) where all the rows in the column have data.\\n\\n\""
      ]
     },
     "execution_count": 439,
     "metadata": {},
     "output_type": "execute_result"
    }
   ],
   "source": [
    "\"\"\"\n",
    "The data is loaded into a pandas data frame under the variable 'av_data'\n",
    "Data set has 31 columns with 90348 entries (rows)\n",
    "Numerous columns have missing data with the exception of column 1 (Investigation type) where all the rows in the column have data.\n",
    "\n",
    "\"\"\""
   ]
  },
  {
   "cell_type": "code",
   "execution_count": 440,
   "id": "4a8e874d",
   "metadata": {},
   "outputs": [
    {
     "data": {
      "text/html": [
       "<div>\n",
       "<style scoped>\n",
       "    .dataframe tbody tr th:only-of-type {\n",
       "        vertical-align: middle;\n",
       "    }\n",
       "\n",
       "    .dataframe tbody tr th {\n",
       "        vertical-align: top;\n",
       "    }\n",
       "\n",
       "    .dataframe thead th {\n",
       "        text-align: right;\n",
       "    }\n",
       "</style>\n",
       "<table border=\"1\" class=\"dataframe\">\n",
       "  <thead>\n",
       "    <tr style=\"text-align: right;\">\n",
       "      <th></th>\n",
       "      <th>Number.of.Engines</th>\n",
       "      <th>Total.Fatal.Injuries</th>\n",
       "      <th>Total.Serious.Injuries</th>\n",
       "      <th>Total.Minor.Injuries</th>\n",
       "      <th>Total.Uninjured</th>\n",
       "    </tr>\n",
       "  </thead>\n",
       "  <tbody>\n",
       "    <tr>\n",
       "      <th>count</th>\n",
       "      <td>82805.000000</td>\n",
       "      <td>77488.000000</td>\n",
       "      <td>76379.000000</td>\n",
       "      <td>76956.000000</td>\n",
       "      <td>82977.000000</td>\n",
       "    </tr>\n",
       "    <tr>\n",
       "      <th>mean</th>\n",
       "      <td>1.146585</td>\n",
       "      <td>0.647855</td>\n",
       "      <td>0.279881</td>\n",
       "      <td>0.357061</td>\n",
       "      <td>5.325440</td>\n",
       "    </tr>\n",
       "    <tr>\n",
       "      <th>std</th>\n",
       "      <td>0.446510</td>\n",
       "      <td>5.485960</td>\n",
       "      <td>1.544084</td>\n",
       "      <td>2.235625</td>\n",
       "      <td>27.913634</td>\n",
       "    </tr>\n",
       "    <tr>\n",
       "      <th>min</th>\n",
       "      <td>0.000000</td>\n",
       "      <td>0.000000</td>\n",
       "      <td>0.000000</td>\n",
       "      <td>0.000000</td>\n",
       "      <td>0.000000</td>\n",
       "    </tr>\n",
       "    <tr>\n",
       "      <th>25%</th>\n",
       "      <td>1.000000</td>\n",
       "      <td>0.000000</td>\n",
       "      <td>0.000000</td>\n",
       "      <td>0.000000</td>\n",
       "      <td>0.000000</td>\n",
       "    </tr>\n",
       "    <tr>\n",
       "      <th>50%</th>\n",
       "      <td>1.000000</td>\n",
       "      <td>0.000000</td>\n",
       "      <td>0.000000</td>\n",
       "      <td>0.000000</td>\n",
       "      <td>1.000000</td>\n",
       "    </tr>\n",
       "    <tr>\n",
       "      <th>75%</th>\n",
       "      <td>1.000000</td>\n",
       "      <td>0.000000</td>\n",
       "      <td>0.000000</td>\n",
       "      <td>0.000000</td>\n",
       "      <td>2.000000</td>\n",
       "    </tr>\n",
       "    <tr>\n",
       "      <th>max</th>\n",
       "      <td>8.000000</td>\n",
       "      <td>349.000000</td>\n",
       "      <td>161.000000</td>\n",
       "      <td>380.000000</td>\n",
       "      <td>699.000000</td>\n",
       "    </tr>\n",
       "  </tbody>\n",
       "</table>\n",
       "</div>"
      ],
      "text/plain": [
       "       Number.of.Engines  Total.Fatal.Injuries  Total.Serious.Injuries  \\\n",
       "count       82805.000000          77488.000000            76379.000000   \n",
       "mean            1.146585              0.647855                0.279881   \n",
       "std             0.446510              5.485960                1.544084   \n",
       "min             0.000000              0.000000                0.000000   \n",
       "25%             1.000000              0.000000                0.000000   \n",
       "50%             1.000000              0.000000                0.000000   \n",
       "75%             1.000000              0.000000                0.000000   \n",
       "max             8.000000            349.000000              161.000000   \n",
       "\n",
       "       Total.Minor.Injuries  Total.Uninjured  \n",
       "count          76956.000000     82977.000000  \n",
       "mean               0.357061         5.325440  \n",
       "std                2.235625        27.913634  \n",
       "min                0.000000         0.000000  \n",
       "25%                0.000000         0.000000  \n",
       "50%                0.000000         1.000000  \n",
       "75%                0.000000         2.000000  \n",
       "max              380.000000       699.000000  "
      ]
     },
     "execution_count": 440,
     "metadata": {},
     "output_type": "execute_result"
    }
   ],
   "source": [
    "av_data.describe() #for added description of numeric columns"
   ]
  },
  {
   "cell_type": "code",
   "execution_count": 441,
   "id": "620ebbb3",
   "metadata": {},
   "outputs": [
    {
     "data": {
      "text/plain": [
       "Index(['Event.Id', 'Investigation.Type', 'Accident.Number', 'Event.Date',\n",
       "       'Location', 'Country', 'Latitude', 'Longitude', 'Airport.Code',\n",
       "       'Airport.Name', 'Injury.Severity', 'Aircraft.damage',\n",
       "       'Aircraft.Category', 'Registration.Number', 'Make', 'Model',\n",
       "       'Amateur.Built', 'Number.of.Engines', 'Engine.Type', 'FAR.Description',\n",
       "       'Schedule', 'Purpose.of.flight', 'Air.carrier', 'Total.Fatal.Injuries',\n",
       "       'Total.Serious.Injuries', 'Total.Minor.Injuries', 'Total.Uninjured',\n",
       "       'Weather.Condition', 'Broad.phase.of.flight', 'Report.Status',\n",
       "       'Publication.Date'],\n",
       "      dtype='object')"
      ]
     },
     "execution_count": 441,
     "metadata": {},
     "output_type": "execute_result"
    }
   ],
   "source": [
    "av_data.columns  #Check the description of the columns"
   ]
  },
  {
   "cell_type": "markdown",
   "id": "a4ac251f",
   "metadata": {},
   "source": [
    "## 1. Data Cleaning\n",
    "    a. Check for and remove duplicates\n",
    "\n",
    "As mentioned above, numerous rows have missing data.\n",
    "We begin by cleaning this data to remove duplicates and resolve any missing data.\n"
   ]
  },
  {
   "cell_type": "code",
   "execution_count": 442,
   "id": "1e0fc5fc",
   "metadata": {},
   "outputs": [
    {
     "name": "stdout",
     "output_type": "stream",
     "text": [
      "There are 1390 duplicated rows.\n"
     ]
    }
   ],
   "source": [
    "#Find the summation of duplicated rows\n",
    "print(f\"There are {av_data.duplicated().sum()} duplicated rows.\")"
   ]
  },
  {
   "cell_type": "code",
   "execution_count": 443,
   "id": "6b59c61f",
   "metadata": {},
   "outputs": [
    {
     "data": {
      "text/html": [
       "<div>\n",
       "<style scoped>\n",
       "    .dataframe tbody tr th:only-of-type {\n",
       "        vertical-align: middle;\n",
       "    }\n",
       "\n",
       "    .dataframe tbody tr th {\n",
       "        vertical-align: top;\n",
       "    }\n",
       "\n",
       "    .dataframe thead th {\n",
       "        text-align: right;\n",
       "    }\n",
       "</style>\n",
       "<table border=\"1\" class=\"dataframe\">\n",
       "  <thead>\n",
       "    <tr style=\"text-align: right;\">\n",
       "      <th></th>\n",
       "      <th>Event.Id</th>\n",
       "      <th>Investigation.Type</th>\n",
       "      <th>Accident.Number</th>\n",
       "      <th>Event.Date</th>\n",
       "      <th>Location</th>\n",
       "      <th>Country</th>\n",
       "      <th>Latitude</th>\n",
       "      <th>Longitude</th>\n",
       "      <th>Airport.Code</th>\n",
       "      <th>Airport.Name</th>\n",
       "      <th>...</th>\n",
       "      <th>Purpose.of.flight</th>\n",
       "      <th>Air.carrier</th>\n",
       "      <th>Total.Fatal.Injuries</th>\n",
       "      <th>Total.Serious.Injuries</th>\n",
       "      <th>Total.Minor.Injuries</th>\n",
       "      <th>Total.Uninjured</th>\n",
       "      <th>Weather.Condition</th>\n",
       "      <th>Broad.phase.of.flight</th>\n",
       "      <th>Report.Status</th>\n",
       "      <th>Publication.Date</th>\n",
       "    </tr>\n",
       "  </thead>\n",
       "  <tbody>\n",
       "    <tr>\n",
       "      <th>64050</th>\n",
       "      <td>NaN</td>\n",
       "      <td>25-09-2020</td>\n",
       "      <td>NaN</td>\n",
       "      <td>NaN</td>\n",
       "      <td>NaN</td>\n",
       "      <td>NaN</td>\n",
       "      <td>NaN</td>\n",
       "      <td>NaN</td>\n",
       "      <td>NaN</td>\n",
       "      <td>NaN</td>\n",
       "      <td>...</td>\n",
       "      <td>NaN</td>\n",
       "      <td>NaN</td>\n",
       "      <td>NaN</td>\n",
       "      <td>NaN</td>\n",
       "      <td>NaN</td>\n",
       "      <td>NaN</td>\n",
       "      <td>NaN</td>\n",
       "      <td>NaN</td>\n",
       "      <td>NaN</td>\n",
       "      <td>NaN</td>\n",
       "    </tr>\n",
       "    <tr>\n",
       "      <th>64052</th>\n",
       "      <td>NaN</td>\n",
       "      <td>25-09-2020</td>\n",
       "      <td>NaN</td>\n",
       "      <td>NaN</td>\n",
       "      <td>NaN</td>\n",
       "      <td>NaN</td>\n",
       "      <td>NaN</td>\n",
       "      <td>NaN</td>\n",
       "      <td>NaN</td>\n",
       "      <td>NaN</td>\n",
       "      <td>...</td>\n",
       "      <td>NaN</td>\n",
       "      <td>NaN</td>\n",
       "      <td>NaN</td>\n",
       "      <td>NaN</td>\n",
       "      <td>NaN</td>\n",
       "      <td>NaN</td>\n",
       "      <td>NaN</td>\n",
       "      <td>NaN</td>\n",
       "      <td>NaN</td>\n",
       "      <td>NaN</td>\n",
       "    </tr>\n",
       "    <tr>\n",
       "      <th>64388</th>\n",
       "      <td>NaN</td>\n",
       "      <td>25-09-2020</td>\n",
       "      <td>NaN</td>\n",
       "      <td>NaN</td>\n",
       "      <td>NaN</td>\n",
       "      <td>NaN</td>\n",
       "      <td>NaN</td>\n",
       "      <td>NaN</td>\n",
       "      <td>NaN</td>\n",
       "      <td>NaN</td>\n",
       "      <td>...</td>\n",
       "      <td>NaN</td>\n",
       "      <td>NaN</td>\n",
       "      <td>NaN</td>\n",
       "      <td>NaN</td>\n",
       "      <td>NaN</td>\n",
       "      <td>NaN</td>\n",
       "      <td>NaN</td>\n",
       "      <td>NaN</td>\n",
       "      <td>NaN</td>\n",
       "      <td>NaN</td>\n",
       "    </tr>\n",
       "    <tr>\n",
       "      <th>64541</th>\n",
       "      <td>NaN</td>\n",
       "      <td>25-09-2020</td>\n",
       "      <td>NaN</td>\n",
       "      <td>NaN</td>\n",
       "      <td>NaN</td>\n",
       "      <td>NaN</td>\n",
       "      <td>NaN</td>\n",
       "      <td>NaN</td>\n",
       "      <td>NaN</td>\n",
       "      <td>NaN</td>\n",
       "      <td>...</td>\n",
       "      <td>NaN</td>\n",
       "      <td>NaN</td>\n",
       "      <td>NaN</td>\n",
       "      <td>NaN</td>\n",
       "      <td>NaN</td>\n",
       "      <td>NaN</td>\n",
       "      <td>NaN</td>\n",
       "      <td>NaN</td>\n",
       "      <td>NaN</td>\n",
       "      <td>NaN</td>\n",
       "    </tr>\n",
       "    <tr>\n",
       "      <th>64552</th>\n",
       "      <td>NaN</td>\n",
       "      <td>25-09-2020</td>\n",
       "      <td>NaN</td>\n",
       "      <td>NaN</td>\n",
       "      <td>NaN</td>\n",
       "      <td>NaN</td>\n",
       "      <td>NaN</td>\n",
       "      <td>NaN</td>\n",
       "      <td>NaN</td>\n",
       "      <td>NaN</td>\n",
       "      <td>...</td>\n",
       "      <td>NaN</td>\n",
       "      <td>NaN</td>\n",
       "      <td>NaN</td>\n",
       "      <td>NaN</td>\n",
       "      <td>NaN</td>\n",
       "      <td>NaN</td>\n",
       "      <td>NaN</td>\n",
       "      <td>NaN</td>\n",
       "      <td>NaN</td>\n",
       "      <td>NaN</td>\n",
       "    </tr>\n",
       "    <tr>\n",
       "      <th>...</th>\n",
       "      <td>...</td>\n",
       "      <td>...</td>\n",
       "      <td>...</td>\n",
       "      <td>...</td>\n",
       "      <td>...</td>\n",
       "      <td>...</td>\n",
       "      <td>...</td>\n",
       "      <td>...</td>\n",
       "      <td>...</td>\n",
       "      <td>...</td>\n",
       "      <td>...</td>\n",
       "      <td>...</td>\n",
       "      <td>...</td>\n",
       "      <td>...</td>\n",
       "      <td>...</td>\n",
       "      <td>...</td>\n",
       "      <td>...</td>\n",
       "      <td>...</td>\n",
       "      <td>...</td>\n",
       "      <td>...</td>\n",
       "      <td>...</td>\n",
       "    </tr>\n",
       "    <tr>\n",
       "      <th>89956</th>\n",
       "      <td>NaN</td>\n",
       "      <td>15-12-2022</td>\n",
       "      <td>NaN</td>\n",
       "      <td>NaN</td>\n",
       "      <td>NaN</td>\n",
       "      <td>NaN</td>\n",
       "      <td>NaN</td>\n",
       "      <td>NaN</td>\n",
       "      <td>NaN</td>\n",
       "      <td>NaN</td>\n",
       "      <td>...</td>\n",
       "      <td>NaN</td>\n",
       "      <td>NaN</td>\n",
       "      <td>NaN</td>\n",
       "      <td>NaN</td>\n",
       "      <td>NaN</td>\n",
       "      <td>NaN</td>\n",
       "      <td>NaN</td>\n",
       "      <td>NaN</td>\n",
       "      <td>NaN</td>\n",
       "      <td>NaN</td>\n",
       "    </tr>\n",
       "    <tr>\n",
       "      <th>90004</th>\n",
       "      <td>NaN</td>\n",
       "      <td>15-12-2022</td>\n",
       "      <td>NaN</td>\n",
       "      <td>NaN</td>\n",
       "      <td>NaN</td>\n",
       "      <td>NaN</td>\n",
       "      <td>NaN</td>\n",
       "      <td>NaN</td>\n",
       "      <td>NaN</td>\n",
       "      <td>NaN</td>\n",
       "      <td>...</td>\n",
       "      <td>NaN</td>\n",
       "      <td>NaN</td>\n",
       "      <td>NaN</td>\n",
       "      <td>NaN</td>\n",
       "      <td>NaN</td>\n",
       "      <td>NaN</td>\n",
       "      <td>NaN</td>\n",
       "      <td>NaN</td>\n",
       "      <td>NaN</td>\n",
       "      <td>NaN</td>\n",
       "    </tr>\n",
       "    <tr>\n",
       "      <th>90010</th>\n",
       "      <td>NaN</td>\n",
       "      <td>15-12-2022</td>\n",
       "      <td>NaN</td>\n",
       "      <td>NaN</td>\n",
       "      <td>NaN</td>\n",
       "      <td>NaN</td>\n",
       "      <td>NaN</td>\n",
       "      <td>NaN</td>\n",
       "      <td>NaN</td>\n",
       "      <td>NaN</td>\n",
       "      <td>...</td>\n",
       "      <td>NaN</td>\n",
       "      <td>NaN</td>\n",
       "      <td>NaN</td>\n",
       "      <td>NaN</td>\n",
       "      <td>NaN</td>\n",
       "      <td>NaN</td>\n",
       "      <td>NaN</td>\n",
       "      <td>NaN</td>\n",
       "      <td>NaN</td>\n",
       "      <td>NaN</td>\n",
       "    </tr>\n",
       "    <tr>\n",
       "      <th>90031</th>\n",
       "      <td>NaN</td>\n",
       "      <td>15-12-2022</td>\n",
       "      <td>NaN</td>\n",
       "      <td>NaN</td>\n",
       "      <td>NaN</td>\n",
       "      <td>NaN</td>\n",
       "      <td>NaN</td>\n",
       "      <td>NaN</td>\n",
       "      <td>NaN</td>\n",
       "      <td>NaN</td>\n",
       "      <td>...</td>\n",
       "      <td>NaN</td>\n",
       "      <td>NaN</td>\n",
       "      <td>NaN</td>\n",
       "      <td>NaN</td>\n",
       "      <td>NaN</td>\n",
       "      <td>NaN</td>\n",
       "      <td>NaN</td>\n",
       "      <td>NaN</td>\n",
       "      <td>NaN</td>\n",
       "      <td>NaN</td>\n",
       "    </tr>\n",
       "    <tr>\n",
       "      <th>90097</th>\n",
       "      <td>NaN</td>\n",
       "      <td>20-12-2022</td>\n",
       "      <td>NaN</td>\n",
       "      <td>NaN</td>\n",
       "      <td>NaN</td>\n",
       "      <td>NaN</td>\n",
       "      <td>NaN</td>\n",
       "      <td>NaN</td>\n",
       "      <td>NaN</td>\n",
       "      <td>NaN</td>\n",
       "      <td>...</td>\n",
       "      <td>NaN</td>\n",
       "      <td>NaN</td>\n",
       "      <td>NaN</td>\n",
       "      <td>NaN</td>\n",
       "      <td>NaN</td>\n",
       "      <td>NaN</td>\n",
       "      <td>NaN</td>\n",
       "      <td>NaN</td>\n",
       "      <td>NaN</td>\n",
       "      <td>NaN</td>\n",
       "    </tr>\n",
       "  </tbody>\n",
       "</table>\n",
       "<p>1390 rows × 31 columns</p>\n",
       "</div>"
      ],
      "text/plain": [
       "      Event.Id Investigation.Type Accident.Number Event.Date Location Country  \\\n",
       "64050      NaN         25-09-2020             NaN        NaN      NaN     NaN   \n",
       "64052      NaN         25-09-2020             NaN        NaN      NaN     NaN   \n",
       "64388      NaN         25-09-2020             NaN        NaN      NaN     NaN   \n",
       "64541      NaN         25-09-2020             NaN        NaN      NaN     NaN   \n",
       "64552      NaN         25-09-2020             NaN        NaN      NaN     NaN   \n",
       "...        ...                ...             ...        ...      ...     ...   \n",
       "89956      NaN         15-12-2022             NaN        NaN      NaN     NaN   \n",
       "90004      NaN         15-12-2022             NaN        NaN      NaN     NaN   \n",
       "90010      NaN         15-12-2022             NaN        NaN      NaN     NaN   \n",
       "90031      NaN         15-12-2022             NaN        NaN      NaN     NaN   \n",
       "90097      NaN         20-12-2022             NaN        NaN      NaN     NaN   \n",
       "\n",
       "      Latitude Longitude Airport.Code Airport.Name  ... Purpose.of.flight  \\\n",
       "64050      NaN       NaN          NaN          NaN  ...               NaN   \n",
       "64052      NaN       NaN          NaN          NaN  ...               NaN   \n",
       "64388      NaN       NaN          NaN          NaN  ...               NaN   \n",
       "64541      NaN       NaN          NaN          NaN  ...               NaN   \n",
       "64552      NaN       NaN          NaN          NaN  ...               NaN   \n",
       "...        ...       ...          ...          ...  ...               ...   \n",
       "89956      NaN       NaN          NaN          NaN  ...               NaN   \n",
       "90004      NaN       NaN          NaN          NaN  ...               NaN   \n",
       "90010      NaN       NaN          NaN          NaN  ...               NaN   \n",
       "90031      NaN       NaN          NaN          NaN  ...               NaN   \n",
       "90097      NaN       NaN          NaN          NaN  ...               NaN   \n",
       "\n",
       "      Air.carrier Total.Fatal.Injuries Total.Serious.Injuries  \\\n",
       "64050         NaN                  NaN                    NaN   \n",
       "64052         NaN                  NaN                    NaN   \n",
       "64388         NaN                  NaN                    NaN   \n",
       "64541         NaN                  NaN                    NaN   \n",
       "64552         NaN                  NaN                    NaN   \n",
       "...           ...                  ...                    ...   \n",
       "89956         NaN                  NaN                    NaN   \n",
       "90004         NaN                  NaN                    NaN   \n",
       "90010         NaN                  NaN                    NaN   \n",
       "90031         NaN                  NaN                    NaN   \n",
       "90097         NaN                  NaN                    NaN   \n",
       "\n",
       "      Total.Minor.Injuries Total.Uninjured Weather.Condition  \\\n",
       "64050                  NaN             NaN               NaN   \n",
       "64052                  NaN             NaN               NaN   \n",
       "64388                  NaN             NaN               NaN   \n",
       "64541                  NaN             NaN               NaN   \n",
       "64552                  NaN             NaN               NaN   \n",
       "...                    ...             ...               ...   \n",
       "89956                  NaN             NaN               NaN   \n",
       "90004                  NaN             NaN               NaN   \n",
       "90010                  NaN             NaN               NaN   \n",
       "90031                  NaN             NaN               NaN   \n",
       "90097                  NaN             NaN               NaN   \n",
       "\n",
       "       Broad.phase.of.flight Report.Status Publication.Date  \n",
       "64050                    NaN           NaN              NaN  \n",
       "64052                    NaN           NaN              NaN  \n",
       "64388                    NaN           NaN              NaN  \n",
       "64541                    NaN           NaN              NaN  \n",
       "64552                    NaN           NaN              NaN  \n",
       "...                      ...           ...              ...  \n",
       "89956                    NaN           NaN              NaN  \n",
       "90004                    NaN           NaN              NaN  \n",
       "90010                    NaN           NaN              NaN  \n",
       "90031                    NaN           NaN              NaN  \n",
       "90097                    NaN           NaN              NaN  \n",
       "\n",
       "[1390 rows x 31 columns]"
      ]
     },
     "execution_count": 443,
     "metadata": {},
     "output_type": "execute_result"
    }
   ],
   "source": [
    "av_data[av_data.duplicated()] #View some of the duplicated data"
   ]
  },
  {
   "cell_type": "code",
   "execution_count": 444,
   "id": "a87723ef",
   "metadata": {},
   "outputs": [
    {
     "data": {
      "text/plain": [
       "' \\nDuplicated data appears to be mostly blank except for the investigation type so these duplicated rows can be safely dropped without affecting data integrity\\n'"
      ]
     },
     "execution_count": 444,
     "metadata": {},
     "output_type": "execute_result"
    }
   ],
   "source": [
    "\"\"\" \n",
    "Duplicated data appears to be mostly blank except for the investigation type so these duplicated rows can be safely dropped without affecting data integrity\n",
    "\"\"\""
   ]
  },
  {
   "cell_type": "code",
   "execution_count": 445,
   "id": "50915369",
   "metadata": {},
   "outputs": [
    {
     "name": "stdout",
     "output_type": "stream",
     "text": [
      "<class 'pandas.core.frame.DataFrame'>\n",
      "Int64Index: 88958 entries, 0 to 90347\n",
      "Data columns (total 31 columns):\n",
      " #   Column                  Non-Null Count  Dtype  \n",
      "---  ------                  --------------  -----  \n",
      " 0   Event.Id                88889 non-null  object \n",
      " 1   Investigation.Type      88958 non-null  object \n",
      " 2   Accident.Number         88889 non-null  object \n",
      " 3   Event.Date              88889 non-null  object \n",
      " 4   Location                88837 non-null  object \n",
      " 5   Country                 88663 non-null  object \n",
      " 6   Latitude                34382 non-null  object \n",
      " 7   Longitude               34373 non-null  object \n",
      " 8   Airport.Code            50249 non-null  object \n",
      " 9   Airport.Name            52790 non-null  object \n",
      " 10  Injury.Severity         87889 non-null  object \n",
      " 11  Aircraft.damage         85695 non-null  object \n",
      " 12  Aircraft.Category       32287 non-null  object \n",
      " 13  Registration.Number     87572 non-null  object \n",
      " 14  Make                    88826 non-null  object \n",
      " 15  Model                   88797 non-null  object \n",
      " 16  Amateur.Built           88787 non-null  object \n",
      " 17  Number.of.Engines       82805 non-null  float64\n",
      " 18  Engine.Type             81812 non-null  object \n",
      " 19  FAR.Description         32023 non-null  object \n",
      " 20  Schedule                12582 non-null  object \n",
      " 21  Purpose.of.flight       82697 non-null  object \n",
      " 22  Air.carrier             16648 non-null  object \n",
      " 23  Total.Fatal.Injuries    77488 non-null  float64\n",
      " 24  Total.Serious.Injuries  76379 non-null  float64\n",
      " 25  Total.Minor.Injuries    76956 non-null  float64\n",
      " 26  Total.Uninjured         82977 non-null  float64\n",
      " 27  Weather.Condition       84397 non-null  object \n",
      " 28  Broad.phase.of.flight   61724 non-null  object \n",
      " 29  Report.Status           82508 non-null  object \n",
      " 30  Publication.Date        73659 non-null  object \n",
      "dtypes: float64(5), object(26)\n",
      "memory usage: 21.7+ MB\n"
     ]
    }
   ],
   "source": [
    "cleaned_av_data = av_data.drop_duplicates()  #Removes the duplicated data identified above\n",
    "\n",
    "cleaned_av_data.info()"
   ]
  },
  {
   "cell_type": "code",
   "execution_count": 446,
   "id": "478b637c",
   "metadata": {},
   "outputs": [
    {
     "data": {
      "text/plain": [
       "0"
      ]
     },
     "execution_count": 446,
     "metadata": {},
     "output_type": "execute_result"
    }
   ],
   "source": [
    "cleaned_av_data.duplicated().sum() #Confirm that there are no more duplicated rows."
   ]
  },
  {
   "cell_type": "code",
   "execution_count": 447,
   "id": "890b7af6",
   "metadata": {},
   "outputs": [
    {
     "data": {
      "text/plain": [
       "' \\nAfter cleaning the data, columns remain as 31, rows are 88958 compared to 90348 previously.\\nWe then confirmed that there are no remaining duplicated rows\\n'"
      ]
     },
     "execution_count": 447,
     "metadata": {},
     "output_type": "execute_result"
    }
   ],
   "source": [
    "\"\"\" \n",
    "After cleaning the data, columns remain as 31, rows are 88958 compared to 90348 previously.\n",
    "We then confirmed that there are no remaining duplicated rows\n",
    "\"\"\""
   ]
  },
  {
   "cell_type": "markdown",
   "id": "a044c88f",
   "metadata": {},
   "source": [
    "b. Clean the Make and Model columns"
   ]
  },
  {
   "cell_type": "code",
   "execution_count": 448,
   "id": "d9702513",
   "metadata": {},
   "outputs": [
    {
     "data": {
      "text/plain": [
       "array(['Stinson', 'Piper', 'Cessna', ..., 'JAMES R DERNOVSEK',\n",
       "       'ORLICAN S R O', 'ROYSE RALPH L'], dtype=object)"
      ]
     },
     "execution_count": 448,
     "metadata": {},
     "output_type": "execute_result"
    }
   ],
   "source": [
    "cleaned_av_data['Make'].unique()"
   ]
  },
  {
   "cell_type": "code",
   "execution_count": 449,
   "id": "13cb0cb5",
   "metadata": {},
   "outputs": [],
   "source": [
    "# Check if it would have been possible to impute make from model\n",
    "# cleaned_av_data['Model'].isnull().sum()"
   ]
  },
  {
   "cell_type": "code",
   "execution_count": 450,
   "id": "60e37b73",
   "metadata": {},
   "outputs": [
    {
     "data": {
      "text/plain": [
       "132"
      ]
     },
     "execution_count": 450,
     "metadata": {},
     "output_type": "execute_result"
    }
   ],
   "source": [
    "cleaned_av_data['Make'].isnull().sum()  #Check for no. of null or missing values"
   ]
  },
  {
   "cell_type": "markdown",
   "id": "edf577cd",
   "metadata": {},
   "source": [
    "\n",
    "As the intention of our analysis is to provide recommendations of a particular make/ model of aircraft to purchase for the new business endeavour,\n",
    "we need to make sure that our dataset has information on make and model. \n",
    "We can therefore remove rows without a make of aircraft.\n"
   ]
  },
  {
   "cell_type": "code",
   "execution_count": 451,
   "id": "8d7375ec",
   "metadata": {},
   "outputs": [],
   "source": [
    "#Drop rows with missing values in the 'Make' column\n",
    "cleaned_av_data = cleaned_av_data.dropna(axis=0, subset=['Make'])"
   ]
  },
  {
   "cell_type": "code",
   "execution_count": 452,
   "id": "30008ea2",
   "metadata": {},
   "outputs": [
    {
     "data": {
      "text/plain": [
       "0"
      ]
     },
     "execution_count": 452,
     "metadata": {},
     "output_type": "execute_result"
    }
   ],
   "source": [
    "#Confirm the 'Make' column has no more missing values\n",
    "\n",
    "cleaned_av_data['Make'].isnull().sum()"
   ]
  },
  {
   "cell_type": "markdown",
   "id": "e6162ed0",
   "metadata": {},
   "source": [
    "Our audience will also want particular models that are most safe.\n",
    "We will therefore need data that also indicates the model of aircraft as a make may have multiple models.\n",
    "Removing missing model data will enable us to further identify safe models of a particular make.\n",
    "\n"
   ]
  },
  {
   "cell_type": "code",
   "execution_count": 453,
   "id": "fedf78f9",
   "metadata": {},
   "outputs": [
    {
     "data": {
      "text/plain": [
       "array(['108-3', 'PA24-180', '172M', ..., 'ROTORWAY EXEC 162-F',\n",
       "       'KITFOX S5', 'M-8 EAGLE'], dtype=object)"
      ]
     },
     "execution_count": 453,
     "metadata": {},
     "output_type": "execute_result"
    }
   ],
   "source": [
    "cleaned_av_data['Model'].unique()"
   ]
  },
  {
   "cell_type": "code",
   "execution_count": 454,
   "id": "0c86e8b4",
   "metadata": {},
   "outputs": [
    {
     "data": {
      "text/plain": [
       "152           2367\n",
       "172           1756\n",
       "172N          1164\n",
       "PA-28-140      932\n",
       "150            829\n",
       "172M           798\n",
       "172P           689\n",
       "182            659\n",
       "180            622\n",
       "150M           585\n",
       "PA-18          581\n",
       "PA-18-150      578\n",
       "PA-28-180      572\n",
       "PA-28-161      569\n",
       "PA-28-181      532\n",
       "206B           524\n",
       "737            489\n",
       "PA-38-112      469\n",
       "150L           461\n",
       "G-164A         460\n",
       "A36            450\n",
       "G-164B         420\n",
       "140            402\n",
       "206            389\n",
       "170B           389\n",
       "172S           373\n",
       "R44            361\n",
       "PA-32-300      356\n",
       "182P           356\n",
       "PA-24-250      352\n",
       "269C           341\n",
       "PA-28R-200     335\n",
       "PA-12          324\n",
       "A188B          318\n",
       "PA-23-250      311\n",
       "177            296\n",
       "7AC            295\n",
       "SR22           288\n",
       "M20J           287\n",
       "185            286\n",
       "A185F          285\n",
       "PA-22-150      281\n",
       "PA-31-350      280\n",
       "PA28           279\n",
       "7GCBC          279\n",
       "R22            273\n",
       "7ECA           267\n",
       "182Q           266\n",
       "150F           264\n",
       "PA-25-235      261\n",
       "210            260\n",
       "369D           252\n",
       "58             252\n",
       "Name: Model, dtype: int64"
      ]
     },
     "execution_count": 454,
     "metadata": {},
     "output_type": "execute_result"
    }
   ],
   "source": [
    "cleaned_av_data['Model'].value_counts().head(53)"
   ]
  },
  {
   "cell_type": "code",
   "execution_count": 455,
   "id": "7ff8fae3",
   "metadata": {},
   "outputs": [
    {
     "data": {
      "text/plain": [
       "49"
      ]
     },
     "execution_count": 455,
     "metadata": {},
     "output_type": "execute_result"
    }
   ],
   "source": [
    "#Get the sum of no. of missing values in the 'Model' column\n",
    "cleaned_av_data['Model'].isnull().sum()"
   ]
  },
  {
   "cell_type": "code",
   "execution_count": 456,
   "id": "ef57c49e",
   "metadata": {},
   "outputs": [],
   "source": [
    "# Drop rows without missing model data\n",
    "cleaned_av_data = cleaned_av_data.dropna(axis=0, subset=['Model'])"
   ]
  },
  {
   "cell_type": "code",
   "execution_count": 457,
   "id": "dcd8ddbb",
   "metadata": {},
   "outputs": [
    {
     "data": {
      "text/plain": [
       "0"
      ]
     },
     "execution_count": 457,
     "metadata": {},
     "output_type": "execute_result"
    }
   ],
   "source": [
    "#Confirm that rows with no model have been dropped\n",
    "cleaned_av_data['Model'].isnull().sum()"
   ]
  },
  {
   "cell_type": "markdown",
   "id": "02a9a0c0",
   "metadata": {},
   "source": [
    "Further data exploration..."
   ]
  },
  {
   "cell_type": "code",
   "execution_count": 458,
   "id": "b007e2d1",
   "metadata": {},
   "outputs": [
    {
     "data": {
      "text/plain": [
       "array(['Accident', 'Incident'], dtype=object)"
      ]
     },
     "execution_count": 458,
     "metadata": {},
     "output_type": "execute_result"
    }
   ],
   "source": [
    "#Further Data Exploration of Investigation.Type column\n",
    "cleaned_av_data['Investigation.Type'].unique()"
   ]
  },
  {
   "cell_type": "code",
   "execution_count": 459,
   "id": "c7e6c1dc",
   "metadata": {},
   "outputs": [
    {
     "data": {
      "text/plain": [
       "Accident    84937\n",
       "Incident     3840\n",
       "Name: Investigation.Type, dtype: int64"
      ]
     },
     "execution_count": 459,
     "metadata": {},
     "output_type": "execute_result"
    }
   ],
   "source": [
    "cleaned_av_data['Investigation.Type'].value_counts()"
   ]
  },
  {
   "cell_type": "code",
   "execution_count": 460,
   "id": "4816b402",
   "metadata": {},
   "outputs": [
    {
     "data": {
      "text/plain": [
       "array([nan, 'Airplane', 'Helicopter', 'Glider', 'Balloon', 'Gyrocraft',\n",
       "       'Ultralight', 'Unknown', 'Blimp', 'Powered-Lift', 'Weight-Shift',\n",
       "       'Powered Parachute', 'Rocket', 'WSFT', 'UNK', 'ULTR'], dtype=object)"
      ]
     },
     "execution_count": 460,
     "metadata": {},
     "output_type": "execute_result"
    }
   ],
   "source": [
    "#Further data exploration of the Aircraft.Category column\n",
    "cleaned_av_data['Aircraft.Category'].unique()"
   ]
  },
  {
   "cell_type": "code",
   "execution_count": 461,
   "id": "99fbe26d",
   "metadata": {},
   "outputs": [
    {
     "data": {
      "text/plain": [
       "Airplane             27580\n",
       "Helicopter            3435\n",
       "Glider                 508\n",
       "Balloon                231\n",
       "Gyrocraft              173\n",
       "Weight-Shift           161\n",
       "Powered Parachute       91\n",
       "Ultralight              30\n",
       "Unknown                 14\n",
       "WSFT                     9\n",
       "Powered-Lift             5\n",
       "Blimp                    4\n",
       "UNK                      2\n",
       "ULTR                     1\n",
       "Rocket                   1\n",
       "Name: Aircraft.Category, dtype: int64"
      ]
     },
     "execution_count": 461,
     "metadata": {},
     "output_type": "execute_result"
    }
   ],
   "source": [
    "cleaned_av_data['Aircraft.Category'].value_counts()"
   ]
  },
  {
   "cell_type": "code",
   "execution_count": 462,
   "id": "f6c4502f",
   "metadata": {},
   "outputs": [
    {
     "data": {
      "text/plain": [
       "32245"
      ]
     },
     "execution_count": 462,
     "metadata": {},
     "output_type": "execute_result"
    }
   ],
   "source": [
    "cleaned_av_data['Aircraft.Category'].value_counts().sum()"
   ]
  },
  {
   "cell_type": "code",
   "execution_count": 463,
   "id": "4a91fc20",
   "metadata": {},
   "outputs": [
    {
     "data": {
      "text/plain": [
       "56532"
      ]
     },
     "execution_count": 463,
     "metadata": {},
     "output_type": "execute_result"
    }
   ],
   "source": [
    "cleaned_av_data['Aircraft.Category'].isnull().sum()"
   ]
  },
  {
   "cell_type": "markdown",
   "id": "8fd65171",
   "metadata": {},
   "source": [
    "\n",
    "\n",
    "The categorisation is important when understanding the different aircraft make and models, their safety and \n",
    "linking the aircraft to the target market any proposed business endeavour.\n",
    "\n",
    "From the above further exploration, we find that the 'Aircraft.Category' column has 14 'Unknown' entries and 2 'UNK' entries.\n",
    "\n",
    "However, when we look at the high number of null values in addition to unknown values, \n",
    "we realise that we cannot drop these without irrevocably altering the data.\n",
    "We can however impute using data from the make and model column\n",
    "\n"
   ]
  },
  {
   "cell_type": "markdown",
   "id": "e21a416c",
   "metadata": {},
   "source": [
    "c. Check the injury columns\n",
    "\n",
    "'Total.Fatal.Injuries', Total.Serious.Injuries', 'Total.Minor.Injuries' and 'Total.Uninjured'."
   ]
  },
  {
   "cell_type": "code",
   "execution_count": 464,
   "id": "8a5a78bf",
   "metadata": {},
   "outputs": [
    {
     "name": "stdout",
     "output_type": "stream",
     "text": [
      "No. of Null values in 'Total.Fatal.Injuries' column are: 11386\n",
      "No. of Null values in 'Total.Serious.Injuries' column are: 12490\n",
      "No. of Null values in 'Total.Minor.Injuries' column are: 11914\n",
      "No. of Null values in 'Total.Uninjured' column are: 5897\n"
     ]
    }
   ],
   "source": [
    "#Find the no. of missing values in the injury columns\n",
    "#'Total.Fatal.Injuries', 'Total.Serious.Injuries', 'Total.Minor.Injuries', 'Total.Uninjured'\n",
    "print(f\"No. of Null values in 'Total.Fatal.Injuries' column are: {cleaned_av_data['Total.Fatal.Injuries'].isnull().sum()}\")\n",
    "print(f\"No. of Null values in 'Total.Serious.Injuries' column are: {cleaned_av_data['Total.Serious.Injuries'].isnull().sum()}\")\n",
    "print(f\"No. of Null values in 'Total.Minor.Injuries' column are: {cleaned_av_data['Total.Minor.Injuries'].isnull().sum()}\")\n",
    "print(f\"No. of Null values in 'Total.Uninjured' column are: {cleaned_av_data['Total.Uninjured'].isnull().sum()}\")"
   ]
  },
  {
   "cell_type": "markdown",
   "id": "a7d950c1",
   "metadata": {},
   "source": [
    "\n",
    "The null values above likely indicate that there were no occurences of injury rather than that there are missing values.\n",
    "We can therefore replace this with (0) especially if we later choose to sum the injury columns per row.\n",
    "\n"
   ]
  },
  {
   "cell_type": "code",
   "execution_count": 465,
   "id": "e06b3f14",
   "metadata": {},
   "outputs": [],
   "source": [
    "#Replace the missing values in respective injury columns with 0\n",
    "cleaned_av_data['Total.Fatal.Injuries'] = cleaned_av_data['Total.Fatal.Injuries'].fillna(0)\n",
    "cleaned_av_data['Total.Serious.Injuries'] = cleaned_av_data['Total.Serious.Injuries'].fillna(0)\n",
    "cleaned_av_data['Total.Minor.Injuries'] = cleaned_av_data['Total.Minor.Injuries'].fillna(0)\n",
    "cleaned_av_data['Total.Uninjured'] = cleaned_av_data['Total.Uninjured'].fillna(0)"
   ]
  },
  {
   "cell_type": "code",
   "execution_count": 466,
   "id": "3aedb62a",
   "metadata": {},
   "outputs": [
    {
     "name": "stdout",
     "output_type": "stream",
     "text": [
      "0\n",
      "0\n",
      "0\n",
      "0\n"
     ]
    }
   ],
   "source": [
    "#Confirm that there are no more missing values in respective columns\n",
    "print(cleaned_av_data['Total.Fatal.Injuries'].isnull().sum())\n",
    "print(cleaned_av_data['Total.Serious.Injuries'].isnull().sum())\n",
    "print(cleaned_av_data['Total.Minor.Injuries'].isnull().sum())\n",
    "print(cleaned_av_data['Total.Uninjured'].isnull().sum())"
   ]
  },
  {
   "cell_type": "markdown",
   "id": "91e3b741",
   "metadata": {},
   "source": [
    "The injury columns now have no missing values"
   ]
  },
  {
   "cell_type": "code",
   "execution_count": 467,
   "id": "b4364588",
   "metadata": {},
   "outputs": [
    {
     "name": "stdout",
     "output_type": "stream",
     "text": [
      "<class 'pandas.core.frame.DataFrame'>\n",
      "Int64Index: 88777 entries, 0 to 90347\n",
      "Data columns (total 31 columns):\n",
      " #   Column                  Non-Null Count  Dtype  \n",
      "---  ------                  --------------  -----  \n",
      " 0   Event.Id                88777 non-null  object \n",
      " 1   Investigation.Type      88777 non-null  object \n",
      " 2   Accident.Number         88777 non-null  object \n",
      " 3   Event.Date              88777 non-null  object \n",
      " 4   Location                88725 non-null  object \n",
      " 5   Country                 88552 non-null  object \n",
      " 6   Latitude                34347 non-null  object \n",
      " 7   Longitude               34338 non-null  object \n",
      " 8   Airport.Code            50213 non-null  object \n",
      " 9   Airport.Name            52746 non-null  object \n",
      " 10  Injury.Severity         87798 non-null  object \n",
      " 11  Aircraft.damage         85605 non-null  object \n",
      " 12  Aircraft.Category       32245 non-null  object \n",
      " 13  Registration.Number     87502 non-null  object \n",
      " 14  Make                    88777 non-null  object \n",
      " 15  Model                   88777 non-null  object \n",
      " 16  Amateur.Built           88678 non-null  object \n",
      " 17  Number.of.Engines       82754 non-null  float64\n",
      " 18  Engine.Type             81771 non-null  object \n",
      " 19  FAR.Description         31936 non-null  object \n",
      " 20  Schedule                12532 non-null  object \n",
      " 21  Purpose.of.flight       82639 non-null  object \n",
      " 22  Air.carrier             16609 non-null  object \n",
      " 23  Total.Fatal.Injuries    88777 non-null  float64\n",
      " 24  Total.Serious.Injuries  88777 non-null  float64\n",
      " 25  Total.Minor.Injuries    88777 non-null  float64\n",
      " 26  Total.Uninjured         88777 non-null  float64\n",
      " 27  Weather.Condition       84338 non-null  object \n",
      " 28  Broad.phase.of.flight   61683 non-null  object \n",
      " 29  Report.Status           82442 non-null  object \n",
      " 30  Publication.Date        73553 non-null  object \n",
      "dtypes: float64(5), object(26)\n",
      "memory usage: 21.7+ MB\n"
     ]
    }
   ],
   "source": [
    "cleaned_av_data.info()"
   ]
  },
  {
   "cell_type": "code",
   "execution_count": 468,
   "id": "13564abb",
   "metadata": {},
   "outputs": [
    {
     "data": {
      "text/plain": [
       "array(['Reciprocating', nan, 'Turbo Fan', 'Turbo Shaft', 'Unknown',\n",
       "       'Turbo Prop', 'Turbo Jet', 'None', 'Electric', 'Hybrid Rocket',\n",
       "       'Geared Turbofan', 'LR', 'NONE', 'UNK'], dtype=object)"
      ]
     },
     "execution_count": 468,
     "metadata": {},
     "output_type": "execute_result"
    }
   ],
   "source": [
    "cleaned_av_data['Engine.Type'].unique()"
   ]
  },
  {
   "cell_type": "code",
   "execution_count": 469,
   "metadata": {},
   "outputs": [
    {
     "data": {
      "text/plain": [
       "array(['Fatal(2)', 'Fatal(4)', 'Fatal(3)', 'Fatal(1)', 'Non-Fatal',\n",
       "       'Incident', 'Fatal(8)', 'Fatal(78)', 'Fatal(7)', 'Fatal(6)',\n",
       "       'Fatal(5)', 'Fatal(153)', 'Fatal(12)', 'Fatal(14)', 'Fatal(23)',\n",
       "       'Fatal(10)', 'Fatal(11)', 'Fatal(9)', 'Fatal(17)', 'Fatal(13)',\n",
       "       'Fatal(29)', 'Fatal(70)', 'Unavailable', 'Fatal(135)', 'Fatal(31)',\n",
       "       'Fatal(256)', 'Fatal(25)', 'Fatal(82)', 'Fatal(156)', 'Fatal(28)',\n",
       "       'Fatal(18)', 'Fatal(43)', 'Fatal(15)', 'Fatal(270)', 'Fatal(144)',\n",
       "       'Fatal(174)', 'Fatal(111)', 'Fatal(131)', 'Fatal(20)', 'Fatal(73)',\n",
       "       'Fatal(27)', 'Fatal(34)', 'Fatal(87)', 'Fatal(30)', 'Fatal(16)',\n",
       "       'Fatal(47)', 'Fatal(56)', 'Fatal(37)', 'Fatal(132)', 'Fatal(68)',\n",
       "       'Fatal(54)', 'Fatal(52)', 'Fatal(65)', 'Fatal(72)', 'Fatal(160)',\n",
       "       'Fatal(189)', 'Fatal(123)', 'Fatal(33)', 'Fatal(110)',\n",
       "       'Fatal(230)', 'Fatal(97)', 'Fatal(349)', 'Fatal(125)', 'Fatal(35)',\n",
       "       'Fatal(228)', 'Fatal(75)', 'Fatal(104)', 'Fatal(229)', 'Fatal(80)',\n",
       "       'Fatal(217)', 'Fatal(169)', 'Fatal(88)', 'Fatal(19)', 'Fatal(60)',\n",
       "       'Fatal(113)', 'Fatal(143)', 'Fatal(83)', 'Fatal(24)', 'Fatal(44)',\n",
       "       'Fatal(64)', 'Fatal(92)', 'Fatal(118)', 'Fatal(265)', 'Fatal(26)',\n",
       "       'Fatal(138)', 'Fatal(206)', 'Fatal(71)', 'Fatal(21)', 'Fatal(46)',\n",
       "       'Fatal(102)', 'Fatal(115)', 'Fatal(141)', 'Fatal(55)',\n",
       "       'Fatal(121)', 'Fatal(45)', 'Fatal(145)', 'Fatal(117)',\n",
       "       'Fatal(107)', 'Fatal(124)', 'Fatal(49)', 'Fatal(154)', 'Fatal(96)',\n",
       "       'Fatal(114)', 'Fatal(199)', 'Fatal(89)', 'Fatal(57)', 'Fatal', nan,\n",
       "       'Minor', 'Serious'], dtype=object)"
      ]
     },
     "execution_count": 469,
     "metadata": {},
     "output_type": "execute_result"
    }
   ],
   "source": [
    "cleaned_av_data['Injury.Severity'].unique()"
   ]
  },
  {
   "cell_type": "code",
   "execution_count": 470,
   "id": "77d9b251",
   "metadata": {},
   "outputs": [
    {
     "data": {
      "text/plain": [
       "Non-Fatal     67305\n",
       "Fatal(1)       6159\n",
       "Fatal          5248\n",
       "Fatal(2)       3703\n",
       "Incident       2214\n",
       "              ...  \n",
       "Fatal(35)         1\n",
       "Fatal(55)         1\n",
       "Fatal(83)         1\n",
       "Fatal(124)        1\n",
       "Fatal(78)         1\n",
       "Name: Injury.Severity, Length: 109, dtype: int64"
      ]
     },
     "execution_count": 470,
     "metadata": {},
     "output_type": "execute_result"
    }
   ],
   "source": [
    "cleaned_av_data['Injury.Severity'].value_counts()"
   ]
  },
  {
   "cell_type": "code",
   "execution_count": 471,
   "id": "351bdf0e",
   "metadata": {},
   "outputs": [
    {
     "data": {
      "text/plain": [
       "87798"
      ]
     },
     "execution_count": 471,
     "metadata": {},
     "output_type": "execute_result"
    }
   ],
   "source": [
    "cleaned_av_data['Injury.Severity'].value_counts().sum()"
   ]
  },
  {
   "cell_type": "code",
   "execution_count": 472,
   "id": "1c06ab7c",
   "metadata": {},
   "outputs": [
    {
     "data": {
      "text/plain": [
       "979"
      ]
     },
     "execution_count": 472,
     "metadata": {},
     "output_type": "execute_result"
    }
   ],
   "source": [
    "cleaned_av_data['Injury.Severity'].isnull().sum()"
   ]
  },
  {
   "cell_type": "markdown",
   "id": "93d9a093",
   "metadata": {},
   "source": [
    "There are 2459 null values, unavailable, nan in this column.\n",
    "However, rather than dropping the rows with null values, we can impute these from the injury data."
   ]
  },
  {
   "cell_type": "code",
   "execution_count": 473,
   "id": "094a01ea",
   "metadata": {},
   "outputs": [
    {
     "data": {
      "text/plain": [
       "Index(['Event.Id', 'Investigation.Type', 'Accident.Number', 'Event.Date',\n",
       "       'Location', 'Country', 'Latitude', 'Longitude', 'Airport.Code',\n",
       "       'Airport.Name', 'Injury.Severity', 'Aircraft.damage',\n",
       "       'Aircraft.Category', 'Registration.Number', 'Make', 'Model',\n",
       "       'Amateur.Built', 'Number.of.Engines', 'Engine.Type', 'FAR.Description',\n",
       "       'Schedule', 'Purpose.of.flight', 'Air.carrier', 'Total.Fatal.Injuries',\n",
       "       'Total.Serious.Injuries', 'Total.Minor.Injuries', 'Total.Uninjured',\n",
       "       'Weather.Condition', 'Broad.phase.of.flight', 'Report.Status',\n",
       "       'Publication.Date'],\n",
       "      dtype='object')"
      ]
     },
     "execution_count": 473,
     "metadata": {},
     "output_type": "execute_result"
    }
   ],
   "source": [
    "cleaned_av_data.columns"
   ]
  },
  {
   "cell_type": "markdown",
   "id": "350c82f6",
   "metadata": {},
   "source": [
    "d. Check the Number.of.Engines column\n",
    "\n",
    "As information on operating the aircraft is part of the objectives, we need to clean the column on Number of engines and Engine type as this relates to ability to operate the aircraft."
   ]
  },
  {
   "cell_type": "code",
   "execution_count": 474,
   "id": "cc3b9dc2",
   "metadata": {},
   "outputs": [
    {
     "data": {
      "text/plain": [
       "1.0    69538\n",
       "2.0    11072\n",
       "0.0     1226\n",
       "3.0      483\n",
       "4.0      431\n",
       "8.0        3\n",
       "6.0        1\n",
       "Name: Number.of.Engines, dtype: int64"
      ]
     },
     "execution_count": 474,
     "metadata": {},
     "output_type": "execute_result"
    }
   ],
   "source": [
    "cleaned_av_data['Number.of.Engines'].value_counts()"
   ]
  },
  {
   "cell_type": "code",
   "execution_count": 475,
   "id": "59acc575",
   "metadata": {},
   "outputs": [
    {
     "data": {
      "text/plain": [
       "82754"
      ]
     },
     "execution_count": 475,
     "metadata": {},
     "output_type": "execute_result"
    }
   ],
   "source": [
    "cleaned_av_data['Number.of.Engines'].value_counts().sum()"
   ]
  },
  {
   "cell_type": "code",
   "execution_count": 476,
   "id": "bd46f829",
   "metadata": {},
   "outputs": [
    {
     "data": {
      "text/plain": [
       "6023"
      ]
     },
     "execution_count": 476,
     "metadata": {},
     "output_type": "execute_result"
    }
   ],
   "source": [
    "cleaned_av_data['Number.of.Engines'].isnull().sum()"
   ]
  },
  {
   "cell_type": "code",
   "execution_count": 477,
   "id": "40132f9d",
   "metadata": {},
   "outputs": [
    {
     "data": {
      "text/plain": [
       "Reciprocating      69496\n",
       "Turbo Shaft         3609\n",
       "Turbo Prop          3390\n",
       "Turbo Fan           2478\n",
       "Unknown             2048\n",
       "Turbo Jet            703\n",
       "None                  19\n",
       "Geared Turbofan       12\n",
       "Electric              10\n",
       "LR                     2\n",
       "NONE                   2\n",
       "UNK                    1\n",
       "Hybrid Rocket          1\n",
       "Name: Engine.Type, dtype: int64"
      ]
     },
     "execution_count": 477,
     "metadata": {},
     "output_type": "execute_result"
    }
   ],
   "source": [
    "cleaned_av_data['Engine.Type'].value_counts()"
   ]
  },
  {
   "cell_type": "code",
   "execution_count": 478,
   "id": "619d45fd",
   "metadata": {},
   "outputs": [
    {
     "data": {
      "text/plain": [
       "81771"
      ]
     },
     "execution_count": 478,
     "metadata": {},
     "output_type": "execute_result"
    }
   ],
   "source": [
    "cleaned_av_data['Engine.Type'].value_counts().sum()"
   ]
  },
  {
   "cell_type": "code",
   "execution_count": 479,
   "id": "af68647c",
   "metadata": {},
   "outputs": [
    {
     "data": {
      "text/plain": [
       "7006"
      ]
     },
     "execution_count": 479,
     "metadata": {},
     "output_type": "execute_result"
    }
   ],
   "source": [
    "cleaned_av_data['Engine.Type'].isnull().sum()"
   ]
  },
  {
   "cell_type": "markdown",
   "id": "39e5a02a",
   "metadata": {},
   "source": [
    "e. Drop columns that are not relevant to our objectives\n"
   ]
  },
  {
   "cell_type": "code",
   "execution_count": 480,
   "id": "d7208923",
   "metadata": {},
   "outputs": [
    {
     "data": {
      "text/plain": [
       "Index(['Event.Id', 'Investigation.Type', 'Accident.Number', 'Event.Date',\n",
       "       'Location', 'Country', 'Latitude', 'Longitude', 'Airport.Code',\n",
       "       'Airport.Name', 'Injury.Severity', 'Aircraft.damage',\n",
       "       'Aircraft.Category', 'Registration.Number', 'Make', 'Model',\n",
       "       'Amateur.Built', 'Number.of.Engines', 'Engine.Type', 'FAR.Description',\n",
       "       'Schedule', 'Purpose.of.flight', 'Air.carrier', 'Total.Fatal.Injuries',\n",
       "       'Total.Serious.Injuries', 'Total.Minor.Injuries', 'Total.Uninjured',\n",
       "       'Weather.Condition', 'Broad.phase.of.flight', 'Report.Status',\n",
       "       'Publication.Date'],\n",
       "      dtype='object')"
      ]
     },
     "execution_count": 480,
     "metadata": {},
     "output_type": "execute_result"
    }
   ],
   "source": [
    "cleaned_av_data.columns"
   ]
  },
  {
   "cell_type": "markdown",
   "id": "c956a264",
   "metadata": {},
   "source": [
    "\n",
    "The following columns are not relevant to our analysis based on the given objectives: \n",
    "       'Location', 'Country', 'Latitude', 'Longitude', 'Airport.Code', 'Airport.Name', 'Aircraft.damage', 'Registration.Number', 'FAR.Description', 'Schedule', 'Purpose.of.flight', 'Air.carrier', 'Weather.Condition', 'Broad.phase.of.flight', 'Report.Status', 'Publication.Date'"
   ]
  },
  {
   "cell_type": "code",
   "execution_count": 481,
   "id": "cc703a1e",
   "metadata": {},
   "outputs": [],
   "source": [
    "columns_to_drop = ['Event.Id', 'Investigation.Type', 'Accident.Number', 'Location', 'Country', 'Latitude', 'Longitude', 'Airport.Code', 'Airport.Name', 'Aircraft.damage', 'Registration.Number', 'FAR.Description', 'Schedule', 'Purpose.of.flight', 'Air.carrier', 'Weather.Condition', 'Broad.phase.of.flight', 'Report.Status', 'Publication.Date']"
   ]
  },
  {
   "cell_type": "code",
   "execution_count": 482,
   "id": "b7ab89b0",
   "metadata": {},
   "outputs": [],
   "source": [
    "rel_av_data = cleaned_av_data.drop(columns=columns_to_drop)"
   ]
  },
  {
   "cell_type": "code",
   "execution_count": 483,
   "id": "bedfbcec",
   "metadata": {},
   "outputs": [
    {
     "data": {
      "text/plain": [
       "Index(['Event.Date', 'Injury.Severity', 'Aircraft.Category', 'Make', 'Model',\n",
       "       'Amateur.Built', 'Number.of.Engines', 'Engine.Type',\n",
       "       'Total.Fatal.Injuries', 'Total.Serious.Injuries',\n",
       "       'Total.Minor.Injuries', 'Total.Uninjured'],\n",
       "      dtype='object')"
      ]
     },
     "execution_count": 483,
     "metadata": {},
     "output_type": "execute_result"
    }
   ],
   "source": [
    "rel_av_data.columns"
   ]
  },
  {
   "cell_type": "code",
   "execution_count": 484,
   "id": "8e2672c7",
   "metadata": {},
   "outputs": [
    {
     "data": {
      "text/plain": [
       "Event.Date                88777\n",
       "Injury.Severity           87798\n",
       "Aircraft.Category         32245\n",
       "Make                      88777\n",
       "Model                     88777\n",
       "Amateur.Built             88678\n",
       "Number.of.Engines         82754\n",
       "Engine.Type               81771\n",
       "Total.Fatal.Injuries      88777\n",
       "Total.Serious.Injuries    88777\n",
       "Total.Minor.Injuries      88777\n",
       "Total.Uninjured           88777\n",
       "dtype: int64"
      ]
     },
     "execution_count": 484,
     "metadata": {},
     "output_type": "execute_result"
    }
   ],
   "source": [
    "rel_av_data.count()"
   ]
  },
  {
   "cell_type": "code",
   "execution_count": null,
   "id": "539fc918",
   "metadata": {},
   "outputs": [
    {
     "data": {
      "text/plain": [
       "337"
      ]
     },
     "execution_count": 485,
     "metadata": {},
     "output_type": "execute_result"
    }
   ],
   "source": [
    "#Check for duplicates in new data set\n",
    "rel_av_data.duplicated().sum()"
   ]
  },
  {
   "cell_type": "code",
   "execution_count": 506,
   "id": "5761d210",
   "metadata": {},
   "outputs": [
    {
     "data": {
      "text/plain": [
       "0"
      ]
     },
     "execution_count": 506,
     "metadata": {},
     "output_type": "execute_result"
    }
   ],
   "source": [
    "# Drop duplicates and check if successful\n",
    "rel_av_data = rel_av_data.drop_duplicates()\n",
    "rel_av_data.duplicated().sum()"
   ]
  },
  {
   "cell_type": "code",
   "execution_count": 509,
   "id": "d22ab122",
   "metadata": {},
   "outputs": [],
   "source": [
    "#Remove unnecessary spacing and make all to be title case\n",
    "rel_av_data['Make'] = rel_av_data['Make'].str.strip().str.title()\n",
    "rel_av_data['Model'] = rel_av_data['Model'].str.strip().str.title()"
   ]
  },
  {
   "cell_type": "markdown",
   "id": "4e32ae50",
   "metadata": {},
   "source": [
    "## 2. Collate and Group data \n",
    "\n",
    "After initially exploring the data set and initial cleaning, we can now group it based on columns to further understand the data."
   ]
  },
  {
   "cell_type": "code",
   "execution_count": 510,
   "id": "2bfedc48",
   "metadata": {},
   "outputs": [
    {
     "data": {
      "text/html": [
       "<div>\n",
       "<style scoped>\n",
       "    .dataframe tbody tr th:only-of-type {\n",
       "        vertical-align: middle;\n",
       "    }\n",
       "\n",
       "    .dataframe tbody tr th {\n",
       "        vertical-align: top;\n",
       "    }\n",
       "\n",
       "    .dataframe thead th {\n",
       "        text-align: right;\n",
       "    }\n",
       "</style>\n",
       "<table border=\"1\" class=\"dataframe\">\n",
       "  <thead>\n",
       "    <tr style=\"text-align: right;\">\n",
       "      <th></th>\n",
       "      <th>Make</th>\n",
       "      <th>Model</th>\n",
       "      <th>Total.Fatal.Injuries</th>\n",
       "      <th>Total.Serious.Injuries</th>\n",
       "      <th>Total.Minor.Injuries</th>\n",
       "      <th>Total.Uninjured</th>\n",
       "    </tr>\n",
       "  </thead>\n",
       "  <tbody>\n",
       "    <tr>\n",
       "      <th>0</th>\n",
       "      <td>Stinson</td>\n",
       "      <td>108-3</td>\n",
       "      <td>2.0</td>\n",
       "      <td>0.0</td>\n",
       "      <td>0.0</td>\n",
       "      <td>0.0</td>\n",
       "    </tr>\n",
       "    <tr>\n",
       "      <th>1</th>\n",
       "      <td>Piper</td>\n",
       "      <td>Pa24-180</td>\n",
       "      <td>4.0</td>\n",
       "      <td>0.0</td>\n",
       "      <td>0.0</td>\n",
       "      <td>0.0</td>\n",
       "    </tr>\n",
       "    <tr>\n",
       "      <th>2</th>\n",
       "      <td>Cessna</td>\n",
       "      <td>172M</td>\n",
       "      <td>3.0</td>\n",
       "      <td>0.0</td>\n",
       "      <td>0.0</td>\n",
       "      <td>0.0</td>\n",
       "    </tr>\n",
       "    <tr>\n",
       "      <th>3</th>\n",
       "      <td>Rockwell</td>\n",
       "      <td>112</td>\n",
       "      <td>2.0</td>\n",
       "      <td>0.0</td>\n",
       "      <td>0.0</td>\n",
       "      <td>0.0</td>\n",
       "    </tr>\n",
       "    <tr>\n",
       "      <th>4</th>\n",
       "      <td>Cessna</td>\n",
       "      <td>501</td>\n",
       "      <td>1.0</td>\n",
       "      <td>2.0</td>\n",
       "      <td>0.0</td>\n",
       "      <td>0.0</td>\n",
       "    </tr>\n",
       "  </tbody>\n",
       "</table>\n",
       "</div>"
      ],
      "text/plain": [
       "       Make     Model  Total.Fatal.Injuries  Total.Serious.Injuries  \\\n",
       "0   Stinson     108-3                   2.0                     0.0   \n",
       "1     Piper  Pa24-180                   4.0                     0.0   \n",
       "2    Cessna      172M                   3.0                     0.0   \n",
       "3  Rockwell       112                   2.0                     0.0   \n",
       "4    Cessna       501                   1.0                     2.0   \n",
       "\n",
       "   Total.Minor.Injuries  Total.Uninjured  \n",
       "0                   0.0              0.0  \n",
       "1                   0.0              0.0  \n",
       "2                   0.0              0.0  \n",
       "3                   0.0              0.0  \n",
       "4                   0.0              0.0  "
      ]
     },
     "execution_count": 510,
     "metadata": {},
     "output_type": "execute_result"
    }
   ],
   "source": [
    "# Collate data on injuries by make_model\n",
    "injury_data = rel_av_data[['Make', 'Model', 'Total.Fatal.Injuries', \n",
    "                           'Total.Serious.Injuries', 'Total.Minor.Injuries', \n",
    "                           'Total.Uninjured']]\n",
    "\n",
    "injury_data.head()"
   ]
  },
  {
   "cell_type": "code",
   "execution_count": 511,
   "id": "3bb6f1a9",
   "metadata": {},
   "outputs": [],
   "source": [
    "injury_data = injury_data.copy()"
   ]
  },
  {
   "cell_type": "code",
   "execution_count": 512,
   "id": "209b851c",
   "metadata": {},
   "outputs": [
    {
     "data": {
      "text/html": [
       "<div>\n",
       "<style scoped>\n",
       "    .dataframe tbody tr th:only-of-type {\n",
       "        vertical-align: middle;\n",
       "    }\n",
       "\n",
       "    .dataframe tbody tr th {\n",
       "        vertical-align: top;\n",
       "    }\n",
       "\n",
       "    .dataframe thead th {\n",
       "        text-align: right;\n",
       "    }\n",
       "</style>\n",
       "<table border=\"1\" class=\"dataframe\">\n",
       "  <thead>\n",
       "    <tr style=\"text-align: right;\">\n",
       "      <th></th>\n",
       "      <th>Make</th>\n",
       "      <th>Model</th>\n",
       "      <th>Total.Fatal.Injuries</th>\n",
       "      <th>Total.Serious.Injuries</th>\n",
       "      <th>Total.Minor.Injuries</th>\n",
       "      <th>Total.Uninjured</th>\n",
       "      <th>Total.Injuries</th>\n",
       "    </tr>\n",
       "  </thead>\n",
       "  <tbody>\n",
       "    <tr>\n",
       "      <th>0</th>\n",
       "      <td>Stinson</td>\n",
       "      <td>108-3</td>\n",
       "      <td>2.0</td>\n",
       "      <td>0.0</td>\n",
       "      <td>0.0</td>\n",
       "      <td>0.0</td>\n",
       "      <td>2.0</td>\n",
       "    </tr>\n",
       "    <tr>\n",
       "      <th>1</th>\n",
       "      <td>Piper</td>\n",
       "      <td>Pa24-180</td>\n",
       "      <td>4.0</td>\n",
       "      <td>0.0</td>\n",
       "      <td>0.0</td>\n",
       "      <td>0.0</td>\n",
       "      <td>4.0</td>\n",
       "    </tr>\n",
       "    <tr>\n",
       "      <th>2</th>\n",
       "      <td>Cessna</td>\n",
       "      <td>172M</td>\n",
       "      <td>3.0</td>\n",
       "      <td>0.0</td>\n",
       "      <td>0.0</td>\n",
       "      <td>0.0</td>\n",
       "      <td>3.0</td>\n",
       "    </tr>\n",
       "    <tr>\n",
       "      <th>3</th>\n",
       "      <td>Rockwell</td>\n",
       "      <td>112</td>\n",
       "      <td>2.0</td>\n",
       "      <td>0.0</td>\n",
       "      <td>0.0</td>\n",
       "      <td>0.0</td>\n",
       "      <td>2.0</td>\n",
       "    </tr>\n",
       "    <tr>\n",
       "      <th>4</th>\n",
       "      <td>Cessna</td>\n",
       "      <td>501</td>\n",
       "      <td>1.0</td>\n",
       "      <td>2.0</td>\n",
       "      <td>0.0</td>\n",
       "      <td>0.0</td>\n",
       "      <td>3.0</td>\n",
       "    </tr>\n",
       "    <tr>\n",
       "      <th>5</th>\n",
       "      <td>Mcdonnell Douglas</td>\n",
       "      <td>Dc9</td>\n",
       "      <td>0.0</td>\n",
       "      <td>0.0</td>\n",
       "      <td>1.0</td>\n",
       "      <td>44.0</td>\n",
       "      <td>1.0</td>\n",
       "    </tr>\n",
       "    <tr>\n",
       "      <th>6</th>\n",
       "      <td>Cessna</td>\n",
       "      <td>180</td>\n",
       "      <td>4.0</td>\n",
       "      <td>0.0</td>\n",
       "      <td>0.0</td>\n",
       "      <td>0.0</td>\n",
       "      <td>4.0</td>\n",
       "    </tr>\n",
       "    <tr>\n",
       "      <th>7</th>\n",
       "      <td>Cessna</td>\n",
       "      <td>140</td>\n",
       "      <td>0.0</td>\n",
       "      <td>0.0</td>\n",
       "      <td>0.0</td>\n",
       "      <td>2.0</td>\n",
       "      <td>0.0</td>\n",
       "    </tr>\n",
       "    <tr>\n",
       "      <th>8</th>\n",
       "      <td>Cessna</td>\n",
       "      <td>401B</td>\n",
       "      <td>0.0</td>\n",
       "      <td>0.0</td>\n",
       "      <td>0.0</td>\n",
       "      <td>2.0</td>\n",
       "      <td>0.0</td>\n",
       "    </tr>\n",
       "    <tr>\n",
       "      <th>9</th>\n",
       "      <td>North American</td>\n",
       "      <td>Navion L-17B</td>\n",
       "      <td>0.0</td>\n",
       "      <td>0.0</td>\n",
       "      <td>3.0</td>\n",
       "      <td>0.0</td>\n",
       "      <td>3.0</td>\n",
       "    </tr>\n",
       "  </tbody>\n",
       "</table>\n",
       "</div>"
      ],
      "text/plain": [
       "                Make         Model  Total.Fatal.Injuries  \\\n",
       "0            Stinson         108-3                   2.0   \n",
       "1              Piper      Pa24-180                   4.0   \n",
       "2             Cessna          172M                   3.0   \n",
       "3           Rockwell           112                   2.0   \n",
       "4             Cessna           501                   1.0   \n",
       "5  Mcdonnell Douglas           Dc9                   0.0   \n",
       "6             Cessna           180                   4.0   \n",
       "7             Cessna           140                   0.0   \n",
       "8             Cessna          401B                   0.0   \n",
       "9     North American  Navion L-17B                   0.0   \n",
       "\n",
       "   Total.Serious.Injuries  Total.Minor.Injuries  Total.Uninjured  \\\n",
       "0                     0.0                   0.0              0.0   \n",
       "1                     0.0                   0.0              0.0   \n",
       "2                     0.0                   0.0              0.0   \n",
       "3                     0.0                   0.0              0.0   \n",
       "4                     2.0                   0.0              0.0   \n",
       "5                     0.0                   1.0             44.0   \n",
       "6                     0.0                   0.0              0.0   \n",
       "7                     0.0                   0.0              2.0   \n",
       "8                     0.0                   0.0              2.0   \n",
       "9                     0.0                   3.0              0.0   \n",
       "\n",
       "   Total.Injuries  \n",
       "0             2.0  \n",
       "1             4.0  \n",
       "2             3.0  \n",
       "3             2.0  \n",
       "4             3.0  \n",
       "5             1.0  \n",
       "6             4.0  \n",
       "7             0.0  \n",
       "8             0.0  \n",
       "9             3.0  "
      ]
     },
     "execution_count": 512,
     "metadata": {},
     "output_type": "execute_result"
    }
   ],
   "source": [
    "#Add column that contains the total injuries per aircraft\n",
    "\n",
    "injury_data['Total.Injuries'] = injury_data[['Total.Fatal.Injuries',\n",
    "                                             'Total.Serious.Injuries',\n",
    "                                             'Total.Minor.Injuries']].sum(axis=1)\n",
    "\n",
    "injury_data.head(10)"
   ]
  },
  {
   "cell_type": "code",
   "execution_count": 513,
   "id": "86b2cf2d",
   "metadata": {},
   "outputs": [
    {
     "data": {
      "text/html": [
       "<div>\n",
       "<style scoped>\n",
       "    .dataframe tbody tr th:only-of-type {\n",
       "        vertical-align: middle;\n",
       "    }\n",
       "\n",
       "    .dataframe tbody tr th {\n",
       "        vertical-align: top;\n",
       "    }\n",
       "\n",
       "    .dataframe thead th {\n",
       "        text-align: right;\n",
       "    }\n",
       "</style>\n",
       "<table border=\"1\" class=\"dataframe\">\n",
       "  <thead>\n",
       "    <tr style=\"text-align: right;\">\n",
       "      <th></th>\n",
       "      <th>Make</th>\n",
       "      <th>Model</th>\n",
       "      <th>Total.Injuries</th>\n",
       "    </tr>\n",
       "  </thead>\n",
       "  <tbody>\n",
       "    <tr>\n",
       "      <th>0</th>\n",
       "      <td>107.5 Flying Corporation</td>\n",
       "      <td>One Design Dr 107</td>\n",
       "      <td>1.0</td>\n",
       "    </tr>\n",
       "    <tr>\n",
       "      <th>1</th>\n",
       "      <td>1200</td>\n",
       "      <td>G103</td>\n",
       "      <td>1.0</td>\n",
       "    </tr>\n",
       "    <tr>\n",
       "      <th>2</th>\n",
       "      <td>177Mf Llc</td>\n",
       "      <td>Pitts Model 12</td>\n",
       "      <td>2.0</td>\n",
       "    </tr>\n",
       "    <tr>\n",
       "      <th>3</th>\n",
       "      <td>1977 Colfer-Chan</td>\n",
       "      <td>Steen Skybolt</td>\n",
       "      <td>1.0</td>\n",
       "    </tr>\n",
       "    <tr>\n",
       "      <th>4</th>\n",
       "      <td>1St Ftr Gp</td>\n",
       "      <td>Focke-Wulf 190</td>\n",
       "      <td>1.0</td>\n",
       "    </tr>\n",
       "    <tr>\n",
       "      <th>...</th>\n",
       "      <td>...</td>\n",
       "      <td>...</td>\n",
       "      <td>...</td>\n",
       "    </tr>\n",
       "    <tr>\n",
       "      <th>95</th>\n",
       "      <td>Aero Commander</td>\n",
       "      <td>1121</td>\n",
       "      <td>6.0</td>\n",
       "    </tr>\n",
       "    <tr>\n",
       "      <th>96</th>\n",
       "      <td>Aero Commander</td>\n",
       "      <td>112A</td>\n",
       "      <td>2.0</td>\n",
       "    </tr>\n",
       "    <tr>\n",
       "      <th>97</th>\n",
       "      <td>Aero Commander</td>\n",
       "      <td>112Tc</td>\n",
       "      <td>0.0</td>\n",
       "    </tr>\n",
       "    <tr>\n",
       "      <th>98</th>\n",
       "      <td>Aero Commander</td>\n",
       "      <td>114-B</td>\n",
       "      <td>1.0</td>\n",
       "    </tr>\n",
       "    <tr>\n",
       "      <th>99</th>\n",
       "      <td>Aero Commander</td>\n",
       "      <td>114B</td>\n",
       "      <td>3.0</td>\n",
       "    </tr>\n",
       "  </tbody>\n",
       "</table>\n",
       "<p>100 rows × 3 columns</p>\n",
       "</div>"
      ],
      "text/plain": [
       "                        Make              Model  Total.Injuries\n",
       "0   107.5 Flying Corporation  One Design Dr 107             1.0\n",
       "1                       1200               G103             1.0\n",
       "2                  177Mf Llc     Pitts Model 12             2.0\n",
       "3           1977 Colfer-Chan      Steen Skybolt             1.0\n",
       "4                 1St Ftr Gp     Focke-Wulf 190             1.0\n",
       "..                       ...                ...             ...\n",
       "95            Aero Commander               1121             6.0\n",
       "96            Aero Commander               112A             2.0\n",
       "97            Aero Commander              112Tc             0.0\n",
       "98            Aero Commander              114-B             1.0\n",
       "99            Aero Commander               114B             3.0\n",
       "\n",
       "[100 rows x 3 columns]"
      ]
     },
     "execution_count": 513,
     "metadata": {},
     "output_type": "execute_result"
    }
   ],
   "source": [
    "Make_Model_grp = injury_data.groupby(['Make', 'Model'])['Total.Injuries'].sum().reset_index()\n",
    "\n",
    "Make_Model_grp.head(100)"
   ]
  },
  {
   "cell_type": "code",
   "execution_count": 514,
   "id": "93832c83",
   "metadata": {},
   "outputs": [
    {
     "name": "stdout",
     "output_type": "stream",
     "text": [
      "<class 'pandas.core.frame.DataFrame'>\n",
      "RangeIndex: 18246 entries, 0 to 18245\n",
      "Data columns (total 3 columns):\n",
      " #   Column          Non-Null Count  Dtype  \n",
      "---  ------          --------------  -----  \n",
      " 0   Make            18246 non-null  object \n",
      " 1   Model           18246 non-null  object \n",
      " 2   Total.Injuries  18246 non-null  float64\n",
      "dtypes: float64(1), object(2)\n",
      "memory usage: 427.8+ KB\n"
     ]
    }
   ],
   "source": [
    "Make_Model_grp.info()"
   ]
  },
  {
   "cell_type": "code",
   "execution_count": 517,
   "id": "a84e905f",
   "metadata": {},
   "outputs": [
    {
     "data": {
      "text/plain": [
       "\"107.5 Flying Corporation1200177Mf Llc1977 Colfer-Chan1St Ftr Gp2000 Mccoy2001 Mcgirl2003 Nash2007 Savage Air Llc2021Fx3 Llc3Xtrim5 Rivers Llc67 Flying Dutchman737777781569 Inc85 ManistaA Pair Of JacksA. H. GettingsA. Le FrancoisA. Schleicher Gmbh & Co.Aaa Aircraft LeasingAaa Aircraft LlcAardema Robert JohnAb Sportine AviacijaAbbett GerryAbbey VictorAbbottAbcAbernathyAbraham J G Ii/Erickson KAbramsAbrams/NudingAbruzzoAc Mfg & Dev'T CoAces HighAckertAckland Jeffrey DeanAcroAcro SportAcrodusterAdamsAdams BalloonAdams Balloons LlcAdams Dennis AllenAdams Donald LAdams John R JrAdams William CAdkinsAdlerAdolfsonAdolphsonAdrian DavisAdrian George WAdvance AviationAdvanced AcftAdvanced AviationAdvanced TechnologyAdventuraAdvertising Mgmt & ConsultingAegerter, SimonAerial Productions Intl. Inc.AermacchiAero AdventureAero At Sp ZooAero BristellAero CommanderAero Comp IncAero Design ElevenAero DesignsAero Eli ServiziAero Falcon Intl., Inc.Aero Mercantil S.A.Aero MirageAero Partners One LlcAero Smart Solutions IncAero Sp Z O OAero Sp Z O O (Gobosh)Aero Tek Inc.Aero Tek, Inc.Aero VodochodyAero Vodochody Aero WorksAero Vodochody Aero. WorksAero WorksAero-AceAerodynamics .AerodyneAerofabAerofab IncAerofab Inc.Aerofab, Inc.AeroliteAeromotAeroncaAeronca Aircraft CorporationAeronca ChampAeronca ChampionAeronca-Bubeck IrvingAeronca/BubeckAeropraktAeroprakt Manufacturing Sp ZooAeropro CzAeropro Cz S R OAerosAeros LtdAeros Ltd/Skyranger AircraftAerospaceAerospace Tech. Of AustraliaAerospatialeAerospatiale AleniaAerospatiale/SocataAerospoolAerosportAerosport LtdAerosports ConnectionAerostarAerostar Acft Corp Of TexasAerostar Aircraft CorporationAerostar InternationalAerostar International IncAerostar International Inc.Aerostar International, Inc.Aerostar S AAerostar, S.AAerostar-RavenAerotechnikAerotekAerotek IncAerotek-PittsAerotrekAerotrikeAerovodochodyAficionadoAg-Cat CorporationAgetonAgin Jeffrey TAgustaAgusta Aerospace CorpAgusta BellAgusta SpaAgusta-BellAgusta/WestlandAgustadwestlandAgustawestlandAgustawestland PhiladelphiaAgustawestland Philadelphia CoAgustawestland SpaAhrens Gerd HAinsworthAirAir & SpaceAir & Space.Air Borne Windsports Pty. Ltd.Air CommandAir Command International, IncAir CreationAir Creation Usa LlcAir Creation/Sides Rick AAir CreationsAir Gulfstream Airlines IncAir TractorAir Tractor IncAir Tractor Inc.Air Tractor, Inc.Air Trans. IncAir TrikesAirborneAirborne (Australia)Airborne AmericaAirborne AustraliaAirborne Extreme LlcAirborne WindsportAirborne WindsportsAirborne Windsports LtdAirborne Windsports Pty LtdAirbusAirbus HelicopterAirbus HelicoptersAirbus Helicopters (EurocopteAirbus Helicopters DeutschlandAirbus Helicopters IncAirbus IndustrieAirbus IndustriesAirbus/EurocopterAircoupeAircraft Industries A.S.Aircraft Mfg & Design LlcAircraft Mfg & Dev. Co.Aircraft Mfg & Dev. Co. (Amd)Aircraft Mfg & Development CoAircraft Mfg & Development Co.Aircraft Mfg & Dvlpmt CoAircraft Parts & Dev. CorpAirframes UnlimitedAirgyroAirgyro Aviation LlcAirindusAirmassAirmateAirmax Construcoes AeronauticaAirnew, Inc.Airparts Nz LtdAirplane FactoryAirplane Factory (Pty) LtdAirplane Factory (Pty) Ltd TheAirship IndustriesAirtimeAirtime Aircraft IncAirvanAkers DouglasAkinsAkro Tech Aviation Inc. GilesAl WhiteAlan WilsonAlaskan Air Adventures LlcAlbrechtAlbright StanAlderferAlesonAlex Michael Bantum/Tercel UsaAlexanderAlexander Duane AAlexander SchleicherAlexander Schleicher Gmbh & CoAlexander Thomas PAlexander VagnerAlexander VolksplaneAlfredAlfred F. DibernardinoAlfred StevensAlgimantas JonusasAliev BulentAlisportAlisport SrlAlkireAllan G PixleyAllan R. GoldmanAllardyce MichaelAllegroAllenAllen D. PottsAllen Jan AAllen Raymond HAllen RobertAllen W InksAllen-CharlesAllen-Wayne PittsAllenbergAllensworthAllevaAlliantAlliant AviationAllied Ag Cat ProductionsAllied Ag Cat Productions, IncAllisonAllstar PzlAllstar Pzl GliderAlonAlon AircoupeAlonsoAlpi AviationAlson G. SilerAlthouseAlvarez Marvin RAlvin D. CampbellAlvin R. KemmetAmateur BuiltAmateur Built AircraftAmateur ConstructionAmatoAmature BuiltAmdAmenAmer. AerolightAmericanAmerican AerolightsAmerican Air RacingAmerican Air Racing LtdAmerican AircraftAmerican AutogyroAmerican AviationAmerican Aviation Corp. (Aac)American BlimpAmerican Blimp Corp.American Blimp CorporationAmerican ChampionAmerican Champion (Acac)American Champion AircraftAmerican Champion Aircraft CorAmerican EagleAmerican EurocopterAmerican Eurocopter CorpAmerican Eurocopter LlcAmerican General Acft CorpAmerican General AircraftAmerican Legand AircraftAmerican LegendAmerican Legend Aircraft CoAmerican Legend Aircraft Co.American Legend Aircraft CompaAmerican Longevity CorpAmerican YankeeAmes Angier MAmirkhanian Shahram CharlAmmeterAmordeAms FlightAms-Flight D.O.O.Amstutz Curtis JAnatra Bart TAndelin (Pitts)AnderasAndersonAnderson Aircraft Corp.Anderson AndreasAnderson Darrell LAnderson John HAnderson PittsAnderson R E/Abromavich L JAnderson RotorwayAnderson, GreenwoodAnderson-TuckerAndreAndre KostrzewaAndrew D. MooreAndrew HaroldAndrew MckimmonAndrewsAndrisAngAngelAngel Aircraft CorporationAngel Elbert S JrAnglinAngus WattAnkenbruckAnkerman, Donald L.Ankerstar Bradley DAnkestar, Bradley D.AnnisAntaresAntares - BalabanAntares UsAntenor VelazcoAnthony J. BencivengaAnthony MattioliAntonovAntonovich Anton BApcoApex AircraftApolloApollo Aircraft IncApollo North America IncAppelApplebayApplebay SailplanesApplebyApplegateArado-Flugzeugwerke GmbhArbaugh EvansArbc IncArbc Inc Dba LindstrandArcherArcticArctic AircraftArctic Aircraft Co IncArctic Aircraft Co. Inc.Arctic Aircraft CompanyArctic Aircraft Company IncArctic Aircraft Corp.Ardovino MariucciArganbrightArgenceArgence Enas A.ArgoArgus AviationArimaArionArion Aircraft LlcArion Skys Open Sport AviationAriosto James JArlingtonArmbrusterArmpriestArnerArnet PereyraArnet Pereyra AeroArnoldArnold ForestArnold J/Jones D LArnsAronsonArrow Aircraft Co.Arrow Falcon ExportersArrow Falcon Exporters IncArrow Falcon Exporters Inc.Arrow Falcon Exporters, Inc.Arrow-Falcon Exporters, Inc.Art Lee DelanoArterArter WarrenArthurArthur Alan BlindArthur ChaseArthur Lee BeerArthur P. MatthewsArtic Aircraft Corp.Arvold Jordon RAs+ (Russia)As+ LtdAs+ Ltd.AscherAshcraftAsherAsmusAspenAsselynAstaAstarAston KinseyAtecAtkinsAtkins JohnAtkinsonAtrAttaway Robert HAttebery-StainbrookAubreyAudenriedAugustaAugustawestlandAugustine David LAuman JlAuneAurandtAuroraAusethAusterAustinAustraliteAutogyroAutogyro GmbhAutogyro Usa LlcAuton - DunhamAutraAuxier Herschel A Jr.Ave StephenAveko SroAventuraAveryAvery Jack HAverytAves Douglas JamesAvia StroitelAviamilanoAvianAvian BalloonAviastroitelAviastrottelAviatAviat AircraftAviat Aircraft IncAviat Aircraft Inc.Aviat Aircraft, Inc.Aviat IncAviateAviation Adv.Aviation International RotorsAviation Specialties UnlimitedAvidAvid AircraftAvid Flyer Inc.Aviocar CasaAvions FaireyAvions Marcel DassaultAvions Max HolsteAvions MudryAvions Mudry CieAvions Mudry Et CieAvions RobinAvres Corp.AvroAxell Charles LAxell, CharlesAyersAyresAyres CorpAyres CorporationAyres ThrushB??LkowBabcockBabenco Henry D.Baby BirdBacBac-AerospatialeBachBach Joseph EBachmanBack Forty DevelopmentsBackovich George CBaconBadeauxBaeBae SystemsBae Systems (Operations) LimitBaggarleyBaggettBagley Curtis LynnBagnall Harold EBaileyBailey N MoyesBailey RobertBailey-Moyes MicrolightsBainbridgeBair Helicopters, Inc.Bakeman-ChapmanBakengBakerBaker Bobby JBaker Eugene LBaker Victor RBaker WayneBaker, TimithyBaker/Santiago PittsBakingBal-Air Inc/Wayne John KBalcomb Kenneth C IiiBaldwinBalkemaBalkema/BovenBallBallhagen/ShyrockBallonbau Worner GmbhBalloon WorksBalloon Works IncBalony Kubicek SpolBalony Kubicek Spol SroBambrickBanghamBanks/MongBannwartBantingBar/CurtissBarackman VansBarberBarber John ABarber Robert LBarber Warren DBarcheBarclay/VincentBardoucheBareiss David ABarger Jerry LBarger Steve MBarkerBarker A EBarklageBarlowBarnardBarnard/StancilBarnesBarnes Richard B/Howe MichaelBarnes Steven DBarnes Thomas ABarnessBarnettBarnett Allen SBarneyBarney Oldfield Aircraft CoBarnhartBarnstormerBaronBarrBarrettBarrett BensenBarrigarBarrigerBarronBarrowBarrow Ted ABarrowsBarry MaggioBarry ZielinskiBartelsBartholomewBartholomew KolbBartleBartonBarton, Robert A.BasinskiBassBastianBatallerBatesBates, Frank LBauerBauer Thomas GBauer'S Mitchell WingBaugh-HubertBaughmanBaxter-WilsonBayer OscarBayliss Milton A IiiBd 4- FranciscoBeach Baby AceBeachnerBeagleBeagle AircraftBeam-WalterBeamontBeanBean R E/R B Weld IncBeardBearden BiplaneBearhawkBeasley, Gerald L.BeatonBeattyBeauchesne/WellsBeaudry PhillipBeaupre ElferingBeausoleilBeaverBecerraBeckBeckerBecker Elmer LBecker Wag AeroBeckert Bruce ABeckhamBeckloffBecknerBedeBede AircraftBedecorp LlcBedeellBeebe, Dale G.BeechBeech AircraftBeech Aircraft Co.Beech Aircraft CorpBeech Aircraft CorporationBeechcraftBeechcraft CorporationBeecherBeemerBeersBeggsBehneBeierleBelairBelcherBelcher William B IiBelcher, Gerald CBelew Marshall D IiBelieverBelisle Thomas JBellBell 47G-3BBell BillBell HelicopterBell Helicopter CoBell Helicopter TextronBell Helicopter Textron CanadaBell Helicopter Textron IncBell Shelby AeroBell Textron Canada LtdBell-CampbellBell-CarsonBell-Cont 42GBell-Continental CoptersBell-K CopterBell-Kitz KoptersBell-MooreBell-Olympic Helicopters, Inc.Bell-TellijohnBell-TransworldBell-Transworld Helicopter CorBell-Transworld HelicoptersBell-WatsonBell-WorldBell/GarlickBell/MasonBell/SoloyBell/TextronBell/TsirahBellahBellancaBellanca Aircraft CorporationBellanca CitabriaBellanceBellerBellet James JBeltramBelyBen TravisBenderBender JosephBeneteauBengtsonBenhamBenjaminBenjamin Harold EBennertBennetBennettBennett Ra OliverBennetter-StevensBensenBensen Aircraft Corp.Bensen-JansenBensonBenson-CallawayBenson/Ambrocini/WentzelBentleyBentlyBenton Fred DBereznakBergBerger Bernard MBerger Michael ABergmannBeriev Aircraft CompanyBerkeyBerkshireBerkshire Mfg.BernardBernard DarmstadtBernard W. ResnikBernhardBerrickBerrieBerryBerry DeanBert N NorrisBertagna JohnBertoneBertram William JBertrand/WarnerBerwinBesarickBest OffBetchanBetter Burn Llc/Startube DivBettsBevilacqua Jeffrey LBeyersBezinqueBhi H60 Helicopters LlcBiagi, Arthur R.BibbBibbeeBiceBice David EBielawaBiesemeier David IBihnBilgriBill DarlingBill MccarleyBill ParsonBillings/HumbyrdBillings/WhiteBilly AmersonBingelisBingham ChuckBinkley RichardBinsBins TomBirchler BoydBirdBirdman EnterprisesBirdman Enterprises, Inc.BirtchBirxBischoffBishopBishop Thomas WBishop-ChristianBitontiBitton/Sport Flight AviationBiuro Projektowe B Bogumil BerBkfBlackBlack ChristopherBlack DonaldBlackburn John D. Jr.BlackmoreBlackmun, LarryBlackshapeBlackwellBlaine LauxBlairBlair-AmericanBlaiseBlake D BarrymoreBlancBlancoBlanikBlantonBlatter-PittsBlevens GaryBlevins KamronBliss CorbinBlondinBloodworthBlucherBlue DenneyBlue Oak Llc.Blue Side Up IncBlum MatthewBlumerBlytheBoamBoam LarryBoard James ABoatright WaylonBob FrederickBob SandlinBob WhiteBobbi BoucherBobby MartinBobby Wayne WatkinsBobo Christopher JBoccherBoehlke Kevin PBoeingBoeing (Stearman)Boeing - Canada (De Havilland)Boeing 777-306ErBoeing Commercial Airplane GroBoeing CompanyBoeing Company, Long Beach DivBoeing Helicopters Div.Boeing Of Canada/Dehav DivBoeing StearmanBoeing VertolBoeing-BrownBoeing-StearmanBoeing-VertolBoeve EarlBogle Absey CBognuda LivioBohnerBohnkerBokBolandBoland/PoeBolenbaugh Phillip WilliamBolger ScottBolkowBollingerBollinger Robert LBolstridge Wallace RBolton Ricky DBombardierBombardier Aerospace, Inc.Bombardier CanadairBombardier IncBombardier Learjet Corp.Bombardier, Inc.BombergerBond Neal OBondeBonds & BungeyBonyBooneBordelonBordelon BruceBordiukBorgaesBorgmanBoring Robert BurtonBorne Charles A IiiBornhofenBoromBorom Marcus PBorresonBosco DonBosickBosko Wr/Bosko CeBosonBosonettoBostBoswell John JBotteronBoucherBoughnerBourgeois-Avid FlyerBourque ExperimentalBowen Christopher WBowen-PowellBowerBowermasterBowersBowers Fly BabyBowers FlybabyBowie RichardBowlesBowles ChrisBowles/IrwinBowleyBowlinBowmanBoyd BruceBoyd DanBoyd Kenneth CBoyd YoungBoykinBoykin B JBoykin Stephen VanceBoyle Black EagleBoyle Joseph EBoylesBozemanBr Legend LlcBrabandtBrackenBrackett And PeltzBrad J BatesBradeyBradfordBradford HainesBradford PietenpolBradleyBradley Roderick WBradshawBradshaw / MccauleyBraeggerBrand, RichardBrandon EvansBrandtBrandt Leroy EBranhamBrantleyBrantlyBrantly HelicopterBrantly-HynesBrashearsBraswellBrattonBratton Experimental HomebuiltBrauchBraultBrault GlasairBraunschmidtBray Verle G JrBrecher RotorwayBredlBreezer AircraftBreezyBreezy RluBreitBreiterBrenholt Larry RBrennanBrent W. BrownBrewerBrewer James MBrewsterBrewster FleetBrian P NorthBrian TurnerBriansBriceBrice RonBrickmanBridgesBrieglebBriegleb Amature BuiltBriggsBrinker / GarnerBrinkerhuff Gerald GBrisbinBrisendineBristellBristolBristowBritish AerospaceBritish Aerospace Civil AircrBritish Aircraft CorpBritish Aircraft Corp.British Aircraft Corp. (Bac)Britten NormanBritten-NormanBrm AeroBrm Aero SroBrochetti LouisBrockBrock SteinerBrockman William ABrokawBrokaw Bergon FBromleyBronislausBronnerBrookBrook Aaron DBrooksBroseBroussardBrownBrown Floyd LBrown James WBrown JosephBrown Joseph B JrBrown MarkBrown MichaelBrown MitchBrown Narcisse ABrown Robert KBrown Thomas EBrown, R. M. Jr.Brown/MorrisonBrowning Gregory SBrownsBroyill-Cowan-MurrayBroylesBrubakerBruceBruce E. HotzBruce M BarrettBruce MckinneyBruce MooreBruce R ProuseBruce TifftBruct J MyersBrumbaugh B/Kasowski LBrumbaugh David RBrumbaugh/HubinBrumwellBrungerBrunnemerBrunzlick Larry RBrupbacher ChrisBryanBryan C L/Labrash R DBryan Jerry RBryan S HappellBryantBryant C CrosbyBryant Frederick MBryant RowlandBryant/RhodusBryce DusterBryk Steven LBubel, John A.BuccaneerBuchananBuchmannBuckerBucker FlugzeugbauBucker JungmannBucker JungmeisterBucker-JungmannBuckeyeBuckeye AviationBuckeye Aviation IncBuckeye IndustriesBuckeye Industries IncBuckeye Powered Parachutes IncBuckmanBuddBudde CassuttBuehlmann PeterBuesingBuhlBuhlmann HowardBulfer James GBullBulmerBulskyBumfordBumford-RoyerBumgarnerBumgartner/HirtBunchBunch Eaa BiplaneBunkerBunn, Richard B.Burak Stanley ABurchBurchfieldBurchinalBurdetteBurg Frederick SBurgessBurkBurke-ParkerBurkenBurkesBurkhart GrobBurkhart Grob FlugzeugbahBurkhart Grob FlugzeugbauBurkhart-GrobBurkholderBurkholder Jimmy CBurleighBurnettBurnett, Jerry D.BurnhamBurnsBurns BurnBurrBurr Andrew E XivBurrill Steven EBursonBurtner Charles WBurtonBurton Dennis WBurton/BoytonBusbyBuschmann Robert EBuschmann/VanzeeBush Caddy UsaBushbyBushby AircraftBushmasterBushmaster AircraftBussBusseyButcher Russell AButlerButler Aircraft CompanyButler John RButler RaymondButler ToolButterhofButterhof Anthony JButtlesButzbachBuxbaum Mark EdwardBylerByrdByron J. MooreByron/SorrellC A S AC A Tecnam SrlC M Stuhrenberg/P C PoleteC&J SontheimerC. EffC.B. WithunC.W CraneC.W. SmithCa Tecnam SrlCable-BreiglerCabriCabrinha/Free SpiritCadyCalcote Clarence ECaldwellCalhounCalkinsCallahanCallairCalstar 1CalvartCalvin Nate HCamairCamair Aircraft Corp.CameronCameron BallonCameron BalloonCameron BalloonsCameron Balloons U SCameron Balloons UsCamillo AnnaloroCampbellCampbell DavidCampbell Earl S JrCampbell JohnCampbell W/Smiley JCanadairCanadair LtdCanadian Car & FoundryCanadian Light Acft Sales &SvcCanard, Inc.Canion Michael WCannonCanoCano DaveCantlonCantonCantrell LwCanupCapCapellaCapella Aircraft Corporation (CapesCapetown BuildersCapital Holdings 226 LlcCapra, Salvatore OCaproni Vizzola Cos. Aero.CapstaffCarbonCarey GlassairCarillon John CCarlesimoCarlisleCarlo RobertCarlsonCarlson AircraftCarlstromCarlton M. CadwellCarnesCaronCarothersCarpenterCarpenter Bj/Carpenter SaCarrCarr B LCarr BryanCarriereCarrisCarrison-SeimanCarrithers Carl LCarsonCarterCarter Richard LCarter-JonesCartercopterCartercopter LlcCartercoptersCartwright H Jr/Cottrell MCarverCasaCase Richard LCashenCashmer Philip MCasler ScottCassuitCassult RacerCassuttCastenCastleCatchotCatchot AngusCathawayCattoCaughran TerryCavalierCavalier Aircraft Corp.CawoodCaywoodCcx-2000-0081 LlcCecilCecil, Richard C.Cedric LewellenCelier AviationCenter Charles CCentrairCentral CoptersCentral Missouri State UnivCentral Ohio Dragonfly ClubCentral Ohio Dragonfly ClubllcCeridonoCesnaCessnaCessna AircraftCessna Aircraft CoCessna Aircraft Co.Cessna Aircraft CompanyCessna EctorCessna ReemsCessna ReimsCessna RobertsonCessna Skyhawk IiCessna SoloyCessna WrenCessna/Air Repair IncCessna/WeaverCgsCgs AviationCgs Aviation LlcChad LewisChadwickChallengerChallenger IiChamberlainChamberlain GeraldChamberlin Victor WayneChambersChampionChance VoughtChancey Gerry MChangChapel Robert BChapmanChapman Mark AChappelChapuisChardCharlandCharlesCharles A BrazilCharles C Menger JrCharles C. GillisCharles D WalkerCharles HolmesCharles J NorrisCharles J. KeuthanCharles MaxtedCharles PeetCharles R KyleCharles Raucci, Jr.Charles RaymondCharles S.HatchetteCharles T. BrietigamChatham Robert MChaudoin George SChech Aircraft Works Spol SroChekCheneyCherkasCherryChesterCheung David SChevrier, ArmandChiccoChicco Miguel EChildsChilds Michael  AChilianChinese A/F Aero Ind Dev CtrChinook Plus 2ChistovChomoChr InternationalChrapczynskiChris MitchellChris W KleenChristaviaChristenChristen EagleChristen IndustriesChristen Industries IncChristen Industries Inc.Christen Industries, Inc.Christen/WalterChristensen SteveChristerChristianChristian Ind.Christiansen Don E DoChristopherChristopher CoatsChristopher D. BrownChristopher John PChristopher Jon BrownChristopher LordChristopher NorrisChristopher P GageChristopher TomChumsaeCianchetteCierniaCirrusCirrus DesignCirrus Design CorpCirrus Design Corp.Cirrus Design CorporationCirrus KlappmeierCismowskiCitabriaClabaugh Robert RClamar Floats IncClancyClappClarence F. CallahanClarkClark James TClark/LokenClarkeClarke ColinClarke Colin AClarks Pitt SpecialClassic Aircraft CorpClassic Aircraft Corp.Classic Fighter IndustriesClatanoffClattiClaude E. MerrinClaus Rodney LClaxtonClayholdClaypoolClayton Gerald HClearwatersClebergClem William B IiiClementClement-KazmierczakClevelandCleveland Allan BCleveland OrsonClevenger Jimmie BCliffCliffordClifford E MasseyCliftonClifton DixonClopton Aero LlcCloseCloudCloud Jeffrey FerrellCloud-Wag AeroCloutierClunisClutton EricClyde K CarrierClyde L. KingCo ZCo-Z Development CorpCobalt Aircraft Industries IncCobb InternationalCobb IntlCocchiCocchiarellaCocksCodding/FlunoCody HawkinsCoelhoCoenCohenColburnCole Paul BColemanColgate, Henry A.CollardColletteCollianderCollierCollin CampbellCollinsCollins Charles ACollins Robert SColmanColonialColson/GoodbreadColt BalloonsColtrinColumbiaColumbia AircraftColumbia Aircraft MfgColumbia Aircraft Mfg.Columbia HelicoptersColvinColyaer SlCombenCombs Dale BCombs Earl WComco IkarusComeauComeauxCommanderCommander AircraftCommander Aircraft CoCommander Aircraft CompanyCommensCommingsCommonwealthComp AirComp Air Inc. (Plambeck)Composite Aircraft Mfg Co.Concannon MiltonConceptCondorCondor AircraftCondor IiCondor Southern Powered ParachConeCone James AConkey/WapelhorstConnConnellConnerConner LeroyConover'SConradConrad MenzelConrad Theodore JConsolidated  Aeronautics Inc.Consolidated AeroConsolidated AeronauticsConsolidated Aeronautics IncConsolidated Aeronautics Inc.Consolidated Aeronautics, IncConsolidated Aeronautics, Inc.Consolidated VulteeConsolidated-VulteeConstrucciones AeronauticasConstrucciones Aeronauticas SaContinentalContinental CoptersContinental Copters IncContinental Copters Inc.Continental Mk5AConvairConvair Div. Of Gen. DynamicsConway Philip JCookCookeCooleyCooperCooper Michael CCooper, David W.CoopriderCootCoraCorbeil ShawnCorbenCorben Baby AceCorbinCorbin/KingCorbus/WintersCoreyCorken/GuilletCorlett-BeahmCorleyCorley HubertCorneliusCornell W F/Sahakian J A JrCornett Steven MCornford Craig HCornwellCorporate Jets LimitedCorsarioCortesy, John ECorvusCosentino Garey ACosmosCosmos Phase IiCostaCostruzioni AeronauticheCostruzioni Aeronautiche TecnaCostruzioni AeronautichetecnamCote JamesCotterCotton Galen MCoudenCougarCoughlinCoulter Hugh ClarkeCourseyCoutzCouvillionCovell Kevin ScottCoveyCoxCox Clyde HCox John WileyCox ThorpeCox William MCox/PittsCoyoteCozyCrabtreeCraigCraig A ReedCraig A. GordonCraig C WallsCraig D CarterCraig MoreheadCraig N. MoenCraig R. MerrillCraig W ShermanCraigheadCrain Jac ACraneCravenCraven'S QuickieCrawfordCrawford Alan RCrawford James RCrawford-GordonCreech JerryCreedCreek Michel WCreekmoreCreitz, Robert DCremerCresapCresawn PittsCrescenziCressCrimminsCriquet Aviation Bogota ColumbCrisenberyCrismanCroft Robert CCrokeCromanCroman CorporationCromwell/PittsCrookCrosbyCrosettiCrosleyCross David LCross-CappsCrouchCrowCrowderCrowder Michael HCrowley/ZenairCrowserCroyCrozierCruiserCrumpCrusenberryCruzCryderCsp Leasing LlcCub CrafterCub CraftersCub Crafters IncCub Crafters Inc.Cub Crafters, Inc.CubcrafterCubcraftersCubcrafters IncCubcrafters, IncCuevas, Orlando SCuevas, Orlando S.CulbertsonCullen/RothCullisCulp John SCulverCulver GlennCulver, Aurther L.Culver-RevolutionCumberlandCumberland-Pitts SpecialCummings QuickieCunninghamCupaioleCurlCurnutt Elton ECurrentCurryCurt HoffstadCurtisCurtis John PCurtis LundCurtis-Travel AirCurtis-WrightCurtissCurtiss MosesCurtiss WrightCurtiss-WrightCushingCustom Aerotech, Inc.CutlerCzechCzech Aircraft WorksCzech Aircraft Works Spol SroCzech SportCzech Sport AircraftCzech Sport Aircraft A SCzech Sport Aircraft A.S.Czech Sport Aircraft AsCzech Sportplanes SroD & D AircraftD & K AviationD'AmicoD'ApuzzoD-FlyD. Wayne SmithD.W. OwensDaceyDaffron, Harold C.Dafoe Gerald WDaherDahlmanDahlman-DowerDahlstrom - Piel EmeraudeDaigneaultDakotaDale BerkbiglerDale ConoverDalin Ronald KDallmeyerDammannDan JelinekDan T. ZelazoDana A. MooreDanbrookDangremondDanielDaniel A. ShapiroDaniel Anthony ProctorDaniel J. LeeDaniel J. ZoerbDaniel L PatrickDaniel La LeeDaniel M. DentDaniel R. LloydDaniel S. TaylorDaniel SquireDanielsDaniels Alan LDankelman Peter GDanny M DamronDanny W. SadekDantonioDantzer Lawrence LDarlingtonDarneyDarrellDarrell D. DuggerDarrell W. Mc MoranDarren M. VinelliDarrow StephenDarrow Stephen ADarstDartDaryl BakerDassaultDassault AviationDassault FalconDassault-BreguetDassault/SudDaubDaughtersDauntlessDave RonnebergDavenportDavenport (Van'S)David B. RobertsonDavid C. BockDavid CadoretteDavid FitzgeraldDavid G. HolmesDavid GordonDavid JarrettDavid K. MaxwellDavid L ThompsonDavid LoweDavid McelhannonDavid NielsonDavid S MeekDavid S RobbinsDavid ShellDavid ShotwellDavid W OakesDavidsonDavidson, Ronald A.Davidson-ThorpeDavisDavis BennyDavis Dan BDavis Daniel TDavis Donald MDavis Frank RDavis JohnDavis MarkDavis Michael JDavis StarshipDavis-ZenairDavis/CleaverDavis/CrouchDavisonDaweDayDay William LDayonDaytonDayton A BabcockDayton A DabbsDayton-WrightDe HavillandDe MalignonDeanDean BartelDean David EDean Leslie NDean Patrick GDean R. FellowsDeangeloDearingerDearmond ClintDeatonDebarry/StardusterDebayDeberryDebus J / Mountain S / Bowes EDebus/Mountain/BowesDedeaux Gary GDeer/ReffaltDefeliciDegairDegeliaDegrawDehaanDehavillandDehavilland CanadaDeitzDejagerDekkingaDelbridgeDelconte Emidio JDeleeuwDeley StardusterDelf TimDell LawrenceDellickerDelongDelts Wing KitesDeluca-OwlDelwyn SchmidtDemeterDemick James ADemmerDempseyDempsey Daniel MDenightDenilDenisDenisar Richard ADenmarkDenneyDenney AerocraftDenney Aircraft BehnDennis L ZumbaltDennis L. FettersDennis L. LongDennis M. DurginDennis P. McgurkDennis PointerDenny AerocraftDenzerDeregoDerosierDerousseDerrDesalvatore AlDesimoneDesousaDestinyDestiny Powered ParachutesDestiny Powered Parachutes LlcDetrick Donald GDeussen Alexander IiDevaughnDevendorfDevenportDeverDevereuxDevoeDevorDevore SunbirdDevriesDevries Wm HDeweeseDewitt, Richard A.Dewsnup DaveDfl Holdings Inc.DgDg FlugzeugbauDg Flugzeugbau GmbhDg-Flugzeugbau GmbhDgflugzeugbauDial David LDial-ThorpDiamondDiamond Aicraft Industries IncDiamond AircraftDiamond Aircraft Ind GmbhDiamond Aircraft Ind IncDiamond Aircraft IndustriesDiamond Aircraft Industries InDiamond Aircraft Industry IncDickensonDickeyDickinsonDickmannDicksonDickson Vans AircraftDidier Siffer (E-Ab)DiehlDiehl William ADiemert/RotorwayDieterich Robert ADietrichDietrich RyanDietzDigimasDilleyDillingerDimariaDinkel-Brook CorpDirks GlaserDistar Cz AsDitommasso-KeminskiDittenber Thomas JDiven RobertDivis S L/Waltrip A JDixDixonDjiDoan Vernon DDobbsDobbs GeorgeDoddDoellefeldDoerr Raymond RDofka, Martin F.Doggett JackDoktor FiberglasDomailleDombroski FrankDomeierDominiakDon G. KayeDon JackmanDon ShowalterDon W GuiceDonald A ChiassonDonald Bernard HiggsDonald E. BradshawDonald E. CrockerDonald E. KovolDonald E. SamuelsDonald G StokesDonald K StovallDonald L. BetchanDonald L. HedemanDonald R. CasperDonald R. LeeDonald RhodesDonald W DevineDonald W. SorrelsDonald WhiteDonegan BentonDonham Timothy JDonner PittsDonner/PartonDonovanDooleyDooley, James MDoppelt Fredric FDorfman,William A.Dormaier Monte RDormanDormoyDornbosDornierDornier GmbhDoshier Wilbert ADosser Dale ADotsonDotson William PDouble D EnterprisesDoubleday DonaldDouglasDouglas A. PohlDouglas Brian GDouglas C. CampbellDouglas D. TurnerDouglas K ThompsonDouglas MaselinkDouglas SwanningsonDouglas/BaslerDova AircraftDova Aircraft SroDowell VaughnDownerDowner Aircraft IndustriesDoyleDoyle James EDoyle-MichaelDragon Fly AviationDrakeDrake Ronald ADralle (Van'S Aircraft)DraperDratbe Shmiel AmirDresbachDressenDressen Donald LDreyerDreyer-StardusterDriggers Quillan EDriverDrlikDrochakDromaderDroneDrone Paul EDruckmanDruineDryerDrzymalaDta SariDubisDuboisDuce ProjectDuciDuci'S VansDuenasDufault Mark VDuffDuffyDuffy Russell ADuffy/WagnerDuke PaulDuke, Clarence E.DuncanDunn DavidDurbinDurfee FredDurkotaDurling JamesDurrDurrwachterDusenberryDusenberry Mark JDuskinDusseauDuttonDwayne SmithDwight LohrDwyer Michael DDyarDyeDykasE NewtonE Tn Plts StardusterE. E. SchillingE. J. HumphreyE.C TrynkaE.E. ShillingE.J. NovotnyE.L. CraigE.L. EricksonE.L. GriggsE.R. HutsonE.T. Meredith IiiEaaEaa BiplaneEaa Chapter 163Eaa Chapter 229Eaa Chapter 40EachonEads Pzl WarszaEads SocataEagleEagle (Ultralight)Eagle Aircraft CoEagle Aircraft Co.Eagle BalloonsEagle Balloons Corp.Eagle R&D IncEagle RndEagleston John HEakle R Grandin JrEaland CharlesEamesEarl AllenEarl F. FolsomEarnestEarnstEarthstar AircraftEasler KellyEasleyEastabrooks John TEaster William CEastern UltralightEasterwood Mark WEastonEasy RiserEatonEberleEberle John SEbershoffEbersoleEcckerEccker, Donald E.Eckenrode Carl JEckerEcksteinEclipseEclipse Aerospace IncEclipse AviationEclipse Aviation CorpEclipse Aviation CorporationEctor Aircraft CompanyEd BergreenEddie A. SmithEdgeEdgerlyEdra AeronauticaEdra/McdermittEdson Robert WEdwardEdward A. AlderferEdward M Van MorlanEdward R. MerknerEdward R. SuggEdward W GrayEdwardsEdwards Douglas LEdwin J. EstensonEellsEfawEggleston DanielEhlersEiben TheodoreEichblattEichhorn Gary LEichmanEickmeierEilandEippen AircraftEipperEipper FormanceEipper Formance IncEipper QuicksilverEipper Quicksiver EEipper-FormanceEiriavion OyEkinsEklundEkornaas, FredEkstrom-FarringtonElamElanElan Glaser DirksElan/Glaser DirksEldredgeEldridge GeorgeElemdorfElkind BruceElkinsEllefsonEllenberger/WernerEllerElliotElliottElliott CirrusElliott Quad City UltralightEllisEllsbergEllsworthEllumax Leasing LlcElmwoodElvesElvin Jack R JrElvin N. KierElyEmairEmbraerEmbraer AircraftEmbraer Executive Aircraft IncEmbraer S AEmbraer S.A.Embraer SaEmbraer-Empresa Brasileira DeEmbreeEmeraudeEmersonEmery MarkEmigh AircraftEmmertEmmet SmithEmory B. WoodEmory W. Greer, Jr.EmpsonEmroth EmairEmroth-EmairEnbody FrankEndler Glasair/Glasair 1-TdEndless Skies Aviation Inc.EngelEngineering & ResearchEngineering And ResearchEngle DavidEnglemanEnglishEnglish Electric LightningEnseyEnstromEnstrom Helicopter CorpEntwicklungsgemeinschaftEpigErcoErcoupeErcoupe (Eng & Research Corp.)Eric A MunzerErick Magno & Assoc PaEricksonErickson (Glasair)Erickson Air CraneErickson Air-Crane, Inc.Erickson Larry DErik K. Van Der KaayEris E. ErvinErnest T ChristleyErnstErosErtz Mark GErvinErvin Rex HErwinEsbenshadeEskildsenEslinger C W/Eslinger S MEspinalEsselstyn ChuckEugene BoosEugene ClementsEugene HughesEugene L. CapozziEugene M. VerasEugene N. RauschEugene WellsEurocopterEurocopter DeutschEurocopter DeutschlandEurocopter Deutschland GmbhEurocopter FranceEuropaEuropa Aviation IncEuropro CzEvans AircraftEvans James JayEvans Robert W SrEvansonEvarts Aviation Inc.EvektorEvektor AerotechnicEvektor AerotechnikEvektor Aerotechnik AsEvektor-AerotechnikEvektor-Aerotechnik A.S.Evektor-Aerotechnik AsEvensEvenson Roger JEverettEverett VidrineEversonEvo13 LlcEvolutionEvolution 19Evolution Air LlcEvolution Aircraft IncEvolution TrikesEwertzExcalibur AircraftExcel JetExp Acft Assn Wi Chapter 60ExperimentalExperimental Amat BuiltExperimental Amateur BuiltExplorer Aeronautique Inc.Explorer Post 51ExpressExpress AircraftExtraExtra FlugzeugbauExtra Flugzeugbau GmbhExtra Flugzeugproduktions-GmbhExtra Flugzeugproduktions-UndExtra Flugzeugrau GmbhEzekielFabreFacebook Uk LtdFaganFagerbergFahey William JFailing/Rand-RobinsonFainFairchildFairchild DornierFairchild FunkFairchild Heli-PorterFairchild HillerFairchild IndustriesFairchild MerlinFairchild SwearingenFairchild(Howard)Fairchild-HeliporterFairchild/SwearingenFairley GoochFalcoFalcon Safety Craft IncFalcon SpecialFalenFalkFalkenthalFallFall MartinFallbeckFaltin John RFantasy AirFantasy Air SroFantasy Sky PromotionsFarace Thomas ScottFarhatFarlandFarmer R BFarrandFarrellFarringtonFarthing James W IiFaunceFawcettFayFdr601 LlcFeatherstonFechtnerFedersen WalterFehlner-SheltonFeilFennellFentonFeraca Edward MFerdonFerenceFerence John WFergusonFerguson AircraftFerguson William CFerkinFernandes Dale RFernandezFerranFerreeFerrieFerrisFessenden AlfredFetherolfFetterman Lanny RFiebich Paul DeanFieldFieldsFields MikeFieseler FlugzeugbauFifeFighter Escort Wings LtdFighter RebuildersFinamoreFingerhut RevolutionFink, Charles H.FinkeFinn A. ArnoldFinney ThorpFireflyFirefly Balloon, Inc.Firefly BalloonsFirefly Balloons 2010 IncFirefly Balloons IncFirefly Balloons, IncFirmFirst StrikeFischerFishFisherFisher AeroFisher Flying ProductsFisher Harold RFisher Michael EFisher Michael HFithianFittFitzFk LightplanesFlaggFlaglorFlaglor TomFlahertyFlakeFleetFleetwood JackFlemingFleming Eldridge EFletcherFlight DesignFlight Design General Avn GmbhFlight Design GmbhFlight Design UsaFlight StarFlightstarFlightstar IncFlightstar SportplanesFlightworks CorpFlitecraftFlobackFlohr David JFloroskiFlournoy Martin RFlower Roger PFloydFloyd Joseph BFloyd R.HarrisFlug-Und Fahrzeugwerke (Ffa)FlugzeugbauFlugzeugproduktions-Und VertriFlurryFly BabyFly By Sea CoFly Hard Trike IncFlying K EnterprisesFlynn VanFlynn WilliamFobesFocke-WulfFogarty PittsFogerson Richard DFoggFoglioFokkerFoley JamesFolke WulfFollandFolland Aircraft Co LtdFollmerFolsomFonesFonvilleFooteForbesForbes-Wolfram SpecialForbingFordFord Stephen LForeitForest RipleyForisch EdwardFormhalsFornaireForneyForrest HaynesForsterForthFortunaFortuna DaveFosterFoster JohnFoster William DFoster/HilsmanFougaFoulkeFound AcftFound Acft Canada IncFound Aircraft CanadaFound Aircraft Canada IncFour Seasons AviationsFournier AviationFowlerFoxFox Aircraft Corp.Fox AlFox Alfred C.Fox Jack GFoxair LlcFoxfly IncFoxworthy Rick AFoxworthy RoyFpnaFpna LlcFrakerFrancisFrancis GirouxFrandsenFrankFrank D. AmadorFrank FitzgeraldFrank H MarchettiFrank M. KopeckyFrank TurbenFrank WareFranke Harry CFranke RolandFranke Russell JFranklinFranklin-Sullivan TechnologiesFranzFranzrebFratusFrazierFrazier Robert LFred B. StencelFred WilliamsFredenburgFrederickFrederick Hays-RothFrederick R GoenneFrederick SweetFrederickson Charles AFreemanFreeman H EastonFreeman Heritage CollectionFreijeFrennanceFreundFrewFreyFrickFriddleFrilingFriling/CothernFrimelt Werner MoniFrisbyFrithFritzFritz NeumeyerFrobergFroehlichFroelichFrom Here To There Pdq IncFronsmanFrostFudoldFuesleinFuhrmann-Super EmeraudeFujiFullanaFuller Neil HFuller Van LFuller/FindlayFunkFunk Aircraft Co.Funk RalphFunk, D.D. Aviation Co.Furche-BielskoFureyFurgason James EFurlongFurru Donald JeffreyG Elwin HalvorsenG&C HelicoptersG-Dawg LlcG.D.I.E.GableGadboisGadbois Eugene WGadburyGaddis MichaelGageGalaxyGalaxy Balloons, Inc.GalbraithGalbreathGallager John CGallagherGallobGallowayGalloway/WardGambleGanjoo AmitGannGansheimerGarcia BenignoGardanGardnerGardner Douglas PGarlandGarlickGarlick Helicipters Inc.Garlick Helicopters IncGarlick Helicopters Inc.Garlick/GuppyGarnerGarnett-RobertGarnissGarramone Mike AGarratt Mansfield WGarre Leo JGarrettGarrett Gerald PGarrisonGarrison Ronald LGarroGary A JamiesonGary E. WilsonGary James LailGary L. ZeiglerGary W BettisGary WilliamsGary WilsonGarzaGaskinsGaston Thomas DGaston/LakesGates Lear JetGates Lear Jet Corp.Gates LearjetGates Learjet CorpGates Learjet Corp.Gates Learjet CorporationGatzemeyer 88GauchatGavilanGayGaynor Donald JGearn Geary DGeddesGeertzGefa-Flug GmbhGeideGeigerGeilingGeist Donald RGelasiGeldermann Bert EGemini Int'L.General AtomicsGeneral BalloonGeneral Balloon Corp.General DynamicsGeneral MotorsGensenGentryGentry John KGeoffrionGeorga L. AtwoodGeorgeGeorge A ChaffeeGeorge A. ThielGeorge AdrianGeorge E Heide, Jr.George EvensonGeorge Matthew WagonerGeorge R. LoseyGeorge W. FelixGeraGerald BarkerGerald Dan CoppockGerald DonovanGerald G. HollandGerald JonesGerald NelsonGerdts Mark EGerlachGermany WetherellGernerGetten Marvin TGettigGettis H. HudsonGhilesGhiles Philippe/American GaGiackinoGiackino Donald WGibbGibbsGiboneyGibson MarkGickGideonGier Travis HGiertzGiffordGiftGiger Frank RGilbertGilbert L. HoustonGilbert Thomas JeffreyGilbertsonGilchristGildersleeveGilesGill CraigGillespieGillespie/PittsGilletGilletteGillmoreGillonGilpatrickGingerich Alton & Slagel DeanGingras MichelGinnGiorgio Anthony JGippsaero Pty LtdGippslandGirardGirgenGirouxGisclairGladstoneGlaeserGlasairGlasair Aviation LlcGlasair Aviation Usa LlcGlasair IiiGlaser DirksGlaser-DirksGlaser-Dirks FlugzeugbauGlaser-Dirks-FlugzeubauGlasflugelGlass Roy LGlassairGlassflugelGlassic CompositesGleasonGlen A. SenecalGlen DavisGlennGlenn H Curtiss MuseumGlenn L SmithGlenn Timothy CGlimnGlinesGlines KennethGlobeGlobe SwiftGlos Wallis Richard JrGloverGluff, AlanGmk Ventures LlcGn-1 AircamperGoansGobleGodboutGoddard Dick SimGodkeyGodwinGodwin Jeff EGodwin, David PGoehringGoertz BushbyGoetzGoffGoiden CircleGoinsGoldenGolden CircleGolden Circle AirGolden Circle Air IncGolden Circle Air, Inc.Golden EagleGoldmanGoldwingGoliasGolightlyGolightly, Robert B.GomoryGonzalez Manuel AGoodGoodacreGoodeGoodlettGoodman Robert BruceGoodsell Lynn AGoodwinGoodyearGoodyear AerospaceGordonGordon E. BrownGordon PriceGordon R SmithGordon Scot AGordorn PriceGossGossard Ronald FGosselin CharlesGothardGottelt Herbert RGottschalk John RGoudieGough-HerrmanGovernment Aircraft Fact (Gaf)GowanGraceGraff Wilbur CGraftonGrahamGrahn J/Grahn GGraichenGrandmanGranger Michael DGrauGravesGraves Bryon SGrayGray JackGray JerryGray Jim RobertGray MiniplaneGrazhopperGrazierGreat LakesGreat Lakes AdamsGreat Lakes Aircraft CompanyGrecoGreco BrunoGreenGreen CastleGreen Gary EGreen L/Gilner DGreen-FowlerGreene R/Greene SGreenhaw, WilliamGreenleafGreerGreg ConnellGreg GrouleffGreg HobbsGreg MillerGreg SmithGreggGregg OrigerGregory NewmanGregory S MillerGremmingerGremminger GregGrenierGrenier RaymondGrethGriboshGriceGriemeGriffGriffinGriffin Trane Inc.Griffin, ThomasGriffith E/Boyd W EGriffith-BoydGriffiths James SydneyGrigg/BowersGrimesGrimes Barry RGrimmGrinerGritterGrobGrob Aircraft AgGrob-WerkeGroceGroenGroomGroomsGroschGrossGross Michael EGrosvenorGroteGroveGroverGrovesGruberGrubertGrum AmerGrummanGrumman Acft EngGrumman Acft Eng CorGrumman Acft Eng Cor-SchweizerGrumman AircraftGrumman Aircraft Cor-SchweizerGrumman Aircraft Eng CorpGrumman AmericanGrumman American AviationGrumman American Aviation CorpGrumman American Avn. CorpGrumman American Avn. Corp.Grumman American CorporationGrumman SchweizerGrumman-SchweizerGrunskaGrunska Earl JGt UltralightsGuarinoGuevremontGuimbalGuisinger Gary GGulfstreamGulfstream AerospaceGulfstream Aerospace CorpGulfstream Aerospace Corp.Gulfstream Aerospace LpGulfstream Am Corp Comm DivGulfstream AmericanGulfstream American CorpGulfstream American Corp.Gulfstream Schweizer A/C CorpGulfstream-SchweizerGulfstream-Schweizer A/C CorpGundersonGunnoeGuscottGustafsonGutierrez PablinoGuyGuy WhisenantGuzzino, P.A.GyakiGyrocopterGyroflugH. PreissH. RaymondH.S. MosleyHaasHachem Zachery SHackettHackett/MckownHackneyHadallerHaddanHaddow William HHadleyHadwiseHaeckerHaering Avid FlyerHaesslerHaeussler RayHagaman PittsHager Clinton RayHagertyHaggHaggenmacherHahnHainesHaines Joseph EHalHalbert James HHalbrookHalderman, Floyd G.HaleHaleyHalfacreHalfpapHallHall Christen EagleHall Don HHall JeffreyHall Steven CHall Terrence / Hall CathieHall Thomas KHall, Wendall WHall-CavalierHalladay RoyHallamHallbauerHallburgHallendorf TomHallettHalley KftHallquistHallstromHalsmerHalsteadHalstedHaltomHamHamburger Flugzeugbau (Hfb)HamerHamiltonHamilton StoddardHamlin John DHammackHammerHammondHampsonHancockHancock- HarrisHandy James LHanekHaneyHaney John F BHankins/DickersonHanksHannahHansenHansen David DanielHansen Ib CHansonHanson GeraldHanson LonnHanson Robert HHaphey Bruce FredericHarbaugh John THarbinHardHardenHardesty/HaysHardesty/Hays QuickieHardieHardie James DHardinHardingHardyHareHargettHargroveHaring ClayHarkness, Richard W.HarlemanHarlowHarmelHarmonHarmon/LanceHarmsHarms Robert MHarold J. EagenHarold VanderHarold W BruceHarperHarper, Jack M.Harper/CricriHarpsterHarralHarrimanHarrisHarris PierceHarris-HafenHarris-RunyanHarrisonHarrison Robert J.Harrison VolmerHarrity William VHarrop BlakeHarry Crosby (Vans)Harry D. MillerHarry L. WeberHarry OasHarry TomlinsonHarshbarger W/ReedHartHart-ThorpHarterHartlineHartline J BonHartmanHartter Lenny JHartunian RobertHartz PaulHartzellHartzlerHarvardHarveyHarvey J BrockHarvey PattenHarwell/GardnerHarwood KennethHaschHaseloh, D. W.HaskinsHastingsHastings Thomas GHatcherHatcher Roderick RHatleHatzHauckHaugenHauser U/Hauser JHauser, William C.HavirHawkHawkerHawker Aircraft LtdHawker Aircraft Ltd.Hawker BeechHawker BeechcraftHawker Beechcraft CorpHawker Beechcraft Corp.Hawker Beechcraft CorporationHawker SiddeleyHawker SiddelyHawker-BeechcraftHawker-Beechcraft CorporationHawkins & PowersHawkins August EHawkins WilliamHawley RichardHaxtonHaycraftHayesHayes/PietenpolHazelrigeHazelwood Michael SHazenHeadHead Balloons IncHead Balloons Inc.Head Balloons, Inc.HeadburgHeadrickHealHealyHeardHeard Alan EHebbHeberlein RonaldHebertHebert Peter JHeckelHedemanHedgeHeekinHefner PittsHeftyHegstedHeibelHeilig-ReadingHeinHeindenreichHeinemannHeinlein GeorgeHeinrichsHeinzHeiser Robert C JrHeislerHeldeberg DesignHelferHelfrich-LeonardHeli-Eagle Inc.Helicopteres GuimbalHelicopters & Airplanes, Inc.Helicycle/Morrisey RrHelieHelioHelio Aircraft LtdHeliotechHelmerHelmetagHelo WerksHelpling Helen CHeltonHemingwayHemmerHemp TimothyHencken WilliamHendersonHenderson Clifford SHenderson Michael EHenderson W A/Johnson W LHendricks George David JrHendricksonHendrixHendryx Steve/Wiley RossHenesHenleyHenney Michael AHenrie RaymondHenryHenry J. CamachoHenry L Berrier JrHenry SlosingHenry Steven JHenry VickersHepperlenHerb SixHerbert O. KellermanHerbert W. RossHerdeHerder MichaelHeremHerink H R/Herink R WHermanHermann BjornHernandezHernandez ChallengerHeronimus Kevin AHerpstHerrick David AHerrifordHerrinHerringHerronHerzog AviationHeslerHessHess John LHesterleeHeveronHewittHi-MaxHibbard Norman EHickeyHickhamHickmanHickox AndyHicks/MervinHier James AHiggensHigginsHiggins John H/Williams John DHigh CraftHighcraftHigher Class AviationHighsmithHight SmaragdHildebrandHildebrandtHildebrantHilderson OswaldHillHill Group LlcHillamHillam Scott LHillard Charlie RHillbergHillerHiller-OsbornHiller-Rogerson HelicopterHiller-SoloyHiller-Tri-Plex Ind.Inc.Hillery W. GriceHilliardHillyerHilvetyHilyardHimmeroeder HansgeorgHimsl Vincent SHine T L/Johnson RHingHinshaw, Keith T.HintonHinton Paul MHiperlightHirn Associates LtdHirschHispano AviacionHisserich Nicholas SHistorical Aircraft Corp.HitchcockHitchensHoac AustriaHoac-AustriaHoaglandHockenburyHockerHodgeHodgesHodges Samuel JHodre-Buull-KolbHodsonHoffius StoweHoffmanHoffman David JHoffman David KHoffman, Wolf, FlugzeugbauHoffmannHoffmeyerHoganHogartyHoke Bobby FHoldenHolden Frank JosephHolderHolimanHollandHolland MikeHolley Carol LHollier B CHollmanHolloman L B/Holloman E MHollowayHolm Michael JHolman/SearsHolmesHolmes Arthur OrmanHolmes Gary DonHolmes William EHolmes-Salley/Starduster TooHolmgreenHolmgreen John BHolmgrenHolmlund Victor PHolscherHolsclawHolsclaw Francis EHolst Lawrence EHoltHolt Herbert LHomebuiltHomerHomer DavisHondaHonda AircraftHonda Aircraft Co LlcHonda JetHoodHood John SidneyHookHookerHooper James AHoopesHooverHoover DavidHoover FrankHopkinsHopkins Buckeye IndustriesHopkins, R. And M.HordemannHornbeckHorneHorner-RyanHortonHorvathHoskinsHoskins CraigHoskins Lonnie FHoskins Samuel RHostein K/Hostein SHoster/VolmerHoukHoustonHoutsHowardHoward AircraftHoward Aircraft Corp.Howard E. LeeHoward HarderHoward M. ShepherdHoward Steven CHoward W. DuttonHoward WhyteHoward William CHoweHowe/WilmerHowellHowell BobHowesHowlettHoyeHoyleHoytHph LtdHph Spol SroHph, Spol. S.R.O.Hrosik GeneHrubyHubbardHubbard William HHubbellHuberHuber HartmutHucke, Ronald L.Huddleston-BellHuddleston/BecktoldHudsonHudson HiperbipeHudspeth Shawn DHuebbeHuebnerHueneHuffHuffaherHuffmanHugglesHughesHughes AeroHughes Aero CorpHughes CassuttHughes Charles RHughes Helicopters IncHughes J/Hughes JHughes/Helicopter Assocs IncHughlettHuizengaHulleHullibergerHumerHummel / FinbergHummelbirdHummerHumphreysHundereHundley Michael JHunsbergerHuntHunterHunter GeorgeHunthropHuntingtonHuntleyHunzikerHurd/DrifterHurleyHurley Richard AHuston Charles DHutchinsHutchinson Kenneth AHutsonHuttonHutton Rand RobinsonHy-TekHydeHyde William RHélicoptères GuimbalI.C.A. BrasovI.C.A. Brasov - RomaniaI.C.A.-BrasovI.C.A.-Brasov (Romania)IaiIar BrasovIar Sa BrasovIca BrasovIcard, Claude M.IconIcon Aircraft IncIcpIcp SrlIlliIlyushinInavIndependent Technologies IncIndonesian AerospaceIndusIndus AviationIndus Aviation IncIndus Aviation Inc.Indy Aircraft LtdInfinityInfinity Power ParachutesInfinity Power Parachutes LlcIngrahamInhofe/ DavisIniziativeIniziative Industriali ItalianInmanInman J DInnovatorInnovator TechnologiesInsuaInteraviaIntermountain Mfg. (Imco)InterplaneInterplane LlcInterplane S R OInterplane SroInterstateIntl UltralightIreneuszIrlbeck Thomas HIrvin Stephen DIrving SiewertIrwinIsaacsonIsaak Paul GIsemanIsgriggIsmariIson AircraftIsrael Aerospace IndustriesltdIsrael Aircraft IndustriesIssittIssoire SirenIssoire-AviationIstenesIstvanickItec IncIv Inc.Ivan LangstonIversenIverslieIvesIzattJ And JJ&J UltralightsJ. E. DouglasJ. RobertsJ. SchillingJ.A.MullanJ.D. Calhoun, Inc.Jabat, Inc.JabiruJabiru AircraftJabiru Aircraft Pty LtdJabiru Usa Sport AircraftJabiru Usa Sport Aircraft LlcJabiru Usa Sport Aircraft, LlcJacaninJack A FrohbieterJack BoldtJack FehlingJack L. BighamJack McdanielJack ThomasJackieJackmanJackovichJacksonJackson DennisJackson Fred MJackson Jeremiah DJacob TusselJacobsJacobsonJacques J. MistrotJacquneaux Glen RJaegerJaggerJahnke Lionel GJahnsJakelJaksJal R DennisJamesJames A GrayJames A NelsonJames B. EdwardsJames B. TaplinJames BrowningJames BrutonJames C GeymanJames ChisumJames CoteJames D RiggsJames D. BierlyJames D. RiehmJames D. SmithJames DaytonJames Donald BakerJames E CauseyJames EgglestonJames F HakeJames GressJames H BerardJames HoustonJames J. DeanJames KilroyJames L. StringfellowJames M RaulersonJames O'BertJames OlivierJames PostlewaitJames R DernovsekJames R. PrideauxJames SchwarzmanJames SnyderJames WalterJames WiebeJames/VikingJannakos Gregory PJans RobertJansenJantzenJaquishJarrellJasperJauchJavelin AircraftJavronJavron ExperimentalJdtJdt Mini-Max LlcJeff JardineJeff PiersonJeffairJeffery D TuttleJeffkoJeffrey WilsonJeffsJenkinsJenkins JackJenksJenningsJennings John CJerald F. HuffmanJere L. RosserJeremiah JacksonJeromeJerome A BaakJerome D FischerJerome DodgeJerome WellsJerrellJerry BerryJerry CoxJerry D. FishJerry GarrisonJeskaJess LlcJesse KnightJesse Saint/Troy Townsend/EthaJetprop Dlx PiperJetson'S Aviation LlcJetstreamJettJewettJewett BrandonJihlavanJihlavan Airplanes SroJilek-Smith MiniplaneJim BraddockJim ElliottJim GarrisonJim GreenJim MckinstryJim PriceJim RiggsJim WesemanJimenezJimenez ReymundoJimi YoungbloodJimmy HillJiranJm KempJoachim HoehneJobJobe'SJoby Aero IncJodelJodel-BernierJodellJoe AlmonJoe L. HarrJoe SalomoneJoe UnderwoodJoel A BowkerJoel H JohnsonJoel K. SenterJohannes-RobertJohansenJohansen/ThiessenJohn A BrewerJohn D. LueckJohn D. WilliamsJohn GoodmanJohn GreenleeJohn H. HeiringJohn H. Korb Jr.John H. LoganJohn H. Mc Clain, Jr.John HubbardJohn K. Groff Jr.John L. KleinJohn LauerJohn M CornealJohn MitchellJohn MurphyJohn Patrick ColemanJohn R JonesJohn RoscoeJohn S. EberleJohn S. HickeyJohn S. HolzemerJohn SampleJohn SchackelJohn ShufflebargerJohn Steven CaturiaJohn T. GarrettJohn T. SimpsonJohn ThomasJohn ThomasonJohn TylendaJohn V Rawson JrJohn W UptonJohn W. CulpJohnny F AndersonJohnsonJohnson Barron TJohnson David EarlJohnson Garret WJohnson GaryJohnson GeraldJohnson Glenn LJohnson JerryJohnson Joel HJohnson KennethJohnson Kenneth RJohnson Kenneth WJohnson Leonard GJohnson Walter AJohnson, Douglas L.Johnson-MooreJohnson-RandJohnson-Whittman TailwindJohnstonJohnston Coyt EJohnston Douglas SJohnston William Alfred JrJollyJonasJonesJones Kent CJones Peter MJones Ralph DJones Rodney VJones Ronald CJonkerJonker SailplanesJonker Sailplanes (Pty) LtdJonker Sailplanes CcJonssonJoplinJordanJordan Bruce CJordan Don RJordan Henry JJordan JohnJordan Valley LlcJordi, Ronald H.JorgensenJorritsma Jerrold SJoseph A. GrimaudJoseph A. MullanJoseph BenderJoseph C. Andrews, Jr.Joseph E. CrosbyJoseph P. FrascaJoseph R. SirgoJoseph W. HillbrandJosephsonJoyJoy Aviation LtdJr. AceJsh Air Llc IiJuddJude Mike CJudgeJudr Zdenek PrazdnyJuneau (Zenith Aircraft Co)Junior AceJurcaJurcanJurkaJurmuJustJust AircraftJust Aircraft LlcJustice Frank KJuve Richard GK CoptersK. A. CovingtonK. Davey And B. DaveyK. W. JeffersKaasKadeKai EngstadKainesKainzKakeldey Ronald OKaldor Gregory NKallansrud/PittsKalman GeorgeKamanKaman Aerospace CorpKaminskasKaminskiKamtzKamtz Russell HKaneKaribian HurantKarl & Dot, Inc.KarmyKarnsKarpayev Vladyslav VKarrKashan MichaelKashpureffKateKauffmanKaufmannKawasakiKawasaki Heavy Industries Ltd.Kaylor J E/Strahlmann R LKeaggy-DavidKearnKearneyKearnsKearsleyKeatingKecskesKeeley/TiddKeenKeenerKeeslerKeilKeithKeith A SmithKeith KindenKeithley Thomas EKellerKelleyKelley Derrick/LezaKellumsKellyKelmKelm DavidKeloskyKemmeyerKempKen BrockKen Brock Mfg. CoKen OlsonKen SerightKendall W R/Mclaughlin JKendall, BlairKendall/MckaughlinKenetic AviationKennedyKennedy Michael MKennesonKenneth A BergerKenneth B HinesKenneth K KnowlesKenneth M FranzKenneth MillerKenneth ParmerterKenneth PatschKenneth RoebuckKenneth SavidgeKenneth WestKenneyKennyKenny DewardKenoyerKeppleKerlinKermit WeeksKernerKerns Kenneth HKerrKerr GeraldKerr John AKerr MatthewKerteszKessinger Roger LKestersonKetonenKeuthanKeuthan Aircraft CorpKeuthan, Charles J.Kevin D. YarnevichKevin EldredgeKevin LeueKevin LippertKevin MetzlerKevin NaserKevin P StolhammerKevin WilkinsonKewleyKibiukKibler-BedeKidd ChrisKieselKiesel EasyKilishekKilishek George TKillgoreKillianKilpatrickKimbalKimball Enterprises IncKincaid WadeKindigKingKing John E JrKingery Michael CKinkade E.5KinnerKinney KevinKinnsonKinsler Arthur PaulKirbyKirbybilt AircraftKircherKirchnerKirk Ellis WendellKirkpatrickKirnerKirst Allen JKit Built (Rotorway)Kit FoxKitchenKitchensKiteKitfoxKitfox IvKitfox Ten, IncKittlesonKitty HawkKjonaasKjostad Jorgen AKlaas Development IncKlapp Peter AKlasingKlemme William HKlemp Gregory JKlienKlineKlingberg MiniplaneKlob-GordonKlotzKna,Ken,Dac,WelKnab-DouglasKnappKnapple/Wray LancairKnaufKnellKnightKnoepfleinKnoll-BensenKnospKnott Vernon WKnowlesKnoxKnox Marion LKociemba Robert HKodiakKoen LancairKohlesKojima, Jun LewisKokengeKokesKolbKolb Aircraft CoKolb Aircraft IncKolb CompanyKolb Twin StarKolenoKollierKoons Donald HKoons-DonaldKoopsenKopeKoppKopp Robert EKorrison TomKorschKory G. CornumKorzepKoschKoskellaKosterKostrazewa AndreKoth LarryKoutzKovalKovars Gary DKowtunKraetznerKraftKragnesKralKrallKramerKramer Clemens EKreatzKrejciKrelingKrepsKretsingerKripsKrips Jack E JrKrotjeKrowellKruegerKruerKrueterKrugKruglerKrusmark David HomerKubassek DavidKubicekKuckiKucklickKuhnKumhyr David BKuncKundelKuntzKurtz Jay BKurzenburger StukaKusterKuykendall CharlesKwechKyle M Sward / Larry W SwardL GoldnerL-Bird LlcLa MoutteLabargeLabarreLabhartLaceyLachLacourLaddLaferriereLafrance V-WittLagatoreLairdLaisterLakeLake John KLakeland Ultralites Inc.LambLamb (Vans)Lamb-RobinLamb/StardusterLambert John GLaminarLammers Sjef JLamontLampertLampmanLancairLancair CompanyLance M HooleyLanceairLandes/Karich/SchmidtLandollLandrum Kelly TLandryLane Progressive Aerodyne, IncLanfordLange Flugzeugbau GmbhLangefordLangerudLangleyLangston, Frederick LLanhamLanierLanier James ALankenauLanny RundellLansdorfLanshe AerospaceLantzLantzair Flyers IncLaporteLardasLark (I.C.A.)Lark AviationLarkinLarocque, Raymond E.Larry E. MedlinLarry GrooverLarry H SligarLarry J. CookLarry KetterlingLarry R. KinseyLarry RobbinsLarry SchindlerLarry WoodsLarsLarsenLarsen Charles BennettLarsonLarson Ken WLarson Roger HLarson Smith MiniplaneLarson, C.H.LaseureLassiterLathamLatham AlcoLathrop Steven ALatterLattimore-DwyerLaurel Aero ClubLaurent A. CloutierLaurienzo Gabriel ALauritsen Ralph MLaux PittsLavender Alan PLavia ArgentinaLavia Argentina S.A.LavignaLawLawing Thomas RLawrenceLawrence H. MaceyLawrence O NolteLawson J/Bowie R/Smith MLawson RonLawson Ronald SLawson SpecialLawwill TedLaycockLayson Stanley BLazairLazariniLazear John TLciv LlcLeach MichaelLeagueLearjetLearjet IncLeatherman Karl LLeblancLeder John ALeeLee Harold SwarthoutLee KolbLee M. BrownLee Oscar D IiiLee PaulLee S. HarvardLee StevensLee, DavidLefever Paul MLefever-PaulLeffler/McfarlaneLegacyLegrandLehman/JerrellLeibertLeiderLeighLeineke Walter LLemoineLemoine Marvin J. Jr.LemondLemuel MayLenartLennox Kenneth JLeon E EverettLeonardLeonard TrudyLeonard WaltersLeonardoLeonardo SpaLeoneLepow David ALerchLerilleLerohlLeroux John FLeroy LakeyLerstangLesemannLeslieLeslie BriggsLeslie J. RoyalLesselLester F.W. WestLester Robert ELetLet Np KinoviceLetecky ZavodyLettLett R/Campbell KLeveckLevickLevitskyLevy Adam VLewisLewis Brandon ScottLewis JenningsLewis Keith OLewis-PextonLewis-StardusterLeza LockwoodLgs Aviation, Inc.LibersatLibertyLiberty AerospaceLiberty Aerospace Inc.Liberty Aerospace IncorporateLiberty Aerospace IncorporatedLiberty Aerospace, Inc.LidgardLidsterLienLight Aero,Inc. (Ashley)LightcapLighthizer, Richard E.Lightning Avion Eab LlcLimaLimesLiming Louis LLindbergLindgren EvansLindsay DavisLindstrandLindstrand BalloonsLindstrand Balloons UsaLingwallLinkLink-Johnson-ChessmanLinkeLinstrandLinwood R. LawrenceLipscombLitchfordLite FlightLiteflite Pty LtdLithuanian Factory Of AviationLittleLittle EagleLivpt IncLlewellyn, Warwinc WLloyd FearyLo-N-Slo Airsports Inc.Lobb KennethLockamyLockheedLockheed-MartinLockwoodLockwood Aircraft CorpLocolce/BlackwellLodgeLoehleLoehle Aircraft CorpLoehle Ent.Loehle-AviaLoehr Thomas HLoflinLoganLogan Jerry LLogan, B.A.LogstonLombard DilleyLon J. McknightLongLong E-Z-ELong PittsLong-EzLongjevLongrenLongtinLonnie JohnsonLonnie W. RatliffLoofbourrow John WLoomisLopez LancairLopez PhillipLorah Elden ALoral Corp.LorangerLorelloLorentzenLorenz StephenLouis AmatoLouis EdmondsonLouksLounsberyLouttitLove, Sanford W.LovernLowderLoweLowe/BensenLowe/LawLowerre Bruce TLowtherLsa America IncLtvLtv Aerospace IndustriesLucas D E/ Lucas K ALucianiLuciano EdisonLuckettLuckeyLuckyLudemanLudwig Larry ELueckLuhnauLuncefordLundLundak RobertLunn (Vans)LuscombeLuscombe Silvaire Aircraft Co.Luters Arnis VLutesLutkeLuttenbacher KurtLuttrell-LackyLutzLuy WaymanLycanLydickLydon Patrick FLyman Randall/Scott DavidLynch StardusterLynn PerryLyonLyonsLyons RobertLyons StueckleLyoyd ThompsonM SquaredM-SquaredM-Squared AircraftM. C. ThomasM.C. ThomasM2M7 AerospaceM7 Aerospace LlcM7AeroMaarten H VersteegMacadamsMacdonald CraigMaceMace Justin IMacleodMacpheeMaderMaderaMadewellMadorinMadsenMadsen/RansMaggsMagnaghi Aeronautica SpaMagniMagnus Aircraft LlcMahanMahan HardawayMaher Daniel JMahlerMahon Paul DMahoneyMahreMain AirMakelaMalechekMalinowski Walter SMalkin Roy KMallianMallory Christopher LMaloneMalone Henry OMalottManarin/JohnsonManciniMandleyManiscalcoMankovichMannon-UnderwoodManoucherMantaManta ProductsMantell Allan TMantoothManvilleManweilerManweillerManzitto Michael AMapesMar-FliteMarcellusMarchettiMarconi Fred I JrMarcyMareik-BensenMargeson/HeidebrinkMaridonMarierMarinoMark C PaulsMark CobyMark DivitaMark EwartMark GibsonMark GoldbergMark StreitzMarksMarks Ca IiiMarks StevenMarkwoodMarland E DavisMarleyMarlinMarlmanMarlowMarlow HilyardMarlowe ThooftMarquartMarr/EckburgMarrek SmythMarrero AndresMarrinMarroneMarsh AviationMarsh-TurnerMarshallMarshall James JMartelMartinMartin Charles AMartin CompanyMartin CurtisMartin Edward HMartin-PittsMartin/HarrisMarvin A. SmithMarvin E. EubanksMarvin FaulkMarvin T EilandMary AlexanderMas EventsMasakMascariMascolaMaskoMasnicMasonMason Hal JMason RobertMason, Jack A.MassegeeMasselinkMasseyMaster Donald CMastopietroMateskonMateyMatheny Larry EMathew M. KerrMathewsMathias Linda BMathieuMathis Melvin RMatterMatthewsMatthews H ThomasMattieMattisonMattoMattsonMauckMauleMaule Air Inc.Maule Aircraft CorpMaupinMaurer Elmo AMax A Boesiger JrMaxairMaxair Aircraft Corp.Maxair DrifterMaxcy Christopher LMaxfieldMaxfly Inc/Mckay WmMaxson PhilMaya, JaimeMayalaMayersMayfieldMayoMaysMaysmikeMazurek Keith PMazzonMbbMbb-BolkowMc ArdleMcadam W EMcanallyMcarthurMcbrideMccaaMccainMccallMccanMccannMccartyMccauley Gene EMcclanahanMcclaryMccleadMccleeryMcclellan J. GroteMcclintic-PiercieMcclintockMcclishMcclungMcclure B JMccluskeyMccombMcconnellMccorkle Robert BMccormickMccowan Steve AMccoyMccoy Robert-MichaelMccrary Bobby C JrMcculley RonaldMccullochMcculloch JerryMcculloughMccurdyMccurryMccurry Charles PMccutchanMcdanielMcdaniel James DMcdanielsMcdonaldMcdonald DouglasMcdonald Howard BrianMcdonald Lynn BMcdonnell DouglasMcdonnell Douglas Aircraft CoMcdonnell Douglas CorporationMcdonnell Douglas Heli CoMcdonnell Douglas HelicopterMcdonnell Douglas Helicopter CMcdonnell Douglas HelicoptersMcdonnell-DouglasMcdougallMcenteeMcewen DickMcfarlandMcfarland BillMcfarland Wm HMcfaul, Daniel D.McglashanMcglaughlin RichardMcgrath Robert FMcguireMchargueMchenry George B JrMchollandMcholland C LMchugh TonyMcilraithMcinroyMcintoshMcintosh Donald WMckay GeneMckeanMckeehan James FMckennaMckenna Glen RMckenna James EMckenzieMckenzie Douglas EMckenzie John PMckibbenMckinley EaaMckinney Charles RMckinnisMclachlanMclaneMclartyMclaughlinMcleod AlanMcmichael Elmer LMcmillanMcmillan Joel LMcmillinMcmurray David CMcmurtrieMcnabbMcnearMcnicholasMcnultyMcnulty John SMcphersonMcpherson John GMcquenMcraeMcreynoldsMcswainMcwhorterMd HelicopterMd Helicopter IncMd Helicopter Inc.Md HelicoptersMd Helicopters IncMd Helicopters Inc.Md Helicopters, Inc.MdhiMds Fying LlcMeadMeadorMeadowsMeans Rober CMedwayMeekerMeesterMeeuwsenMeeuwsen GordonMejiaMelborn Joe BMelenykMellemaMeltonMelvin K CallenMendenhallMenear PittsMeneesMenefeeMenziesMenzimer Gary RayMercerMerchantMercuryMerian Richard FMerit Aviation LlcMeriwether JonMerkelMerle MussonMerlinMerrell StephenMerrittMerritt Leslie RMerwinMeschler Gary RMeshko ZenairMesserschmittMesserschmitt-Boelkow-BlohmMesserschmitt-Bolkow-BlohmMessing RoyMestas Felix RMetcalfe Robert BMeuer MarkMeyerMeyer Clair OMeyer Fred JMeyer Geoffrey AMeyer RobertMeyeres F L/Meyeres M MMeyersMeyers Aircraft Co.Meyers Industries IncMicalizioMicco Aircraft CompanyMichael A HowardMichael A. WatsonMichael AdamczykMichael Allen BrownMichael BurtonMichael C. QuigleyMichael CansMichael ConnerMichael D. MansfieldMichael Dean GrissomMichael E. NourseMichael J RobbinsMichael J. KohoutMichael L. LuckeyMichael L. ThibaultMichael MoneyhanMichael MuratoreMichael R AlexanderMichael S. LoganMichael S/Michael KMichael V CranfordMichael W MorganMichael W. CampbellMichael WilsonMichaelianMichaudMichel Paul JohnMickelsonMicketMickler Larry JMicrolites PtyltdMid State Ultra LightMid-South Custom Craft IncMidgetMidget MustangMidwest Microlites -MiehlMielecMigasMignetMihlebachMike ReedMike SmileeMike StoneMikowskiMikoyanMikoyan GurevichMikoyan MigMilMil Design BureauMilentzMiles AtwoodMileskiMilhollandMillerMiller Air SportsMiller Charles WMiller Gregory SMiller Gregory ScottMiller J KirtleyMiller Raymond AMiller RogerMiller Steven MMiller, JohnMiller, Terry W.Miller-ThorpMiller/BellMiller/CulpepperMillhouse D ScottMillikenMillsMills Gregory TMills MichaelMillsap DennisMilner, Dick GMiltenbergerMinceMinerMingess-BennettMini AceMini MaxMini-MaxMinicabMinklerMinoMintzMirsepasyMischankoMischkeMistrettaMitchellMitchell Aircraft CorpMitchell David NMitchell Derryle VMitchell HarveyMitchell Ronald AMitchell/BedeMitsubishiMitteerMize DonaldMk IiMkii CorporationMobi-LightMocklerMockrudMocockModrowMoe-PietenpolMoeckelMoffitt Oscar/ Kit Prostar A/CMoffitt, William A.MohrMolino OyMonaghanMonardMoncriefMoneraiMonettMonett-KeatingMongMong SportMoniMonkeMonnetMonnettMonnett - LarsenMonnett John T JrMonocoupeMonocoupe AircraftMonroe DennisMonroig Pedro JMontanaMonte ClarkMontgomeryMoodyMoody-SipleMoonMooneyMooney AircraftMooney Aircraft CorpMooney Aircraft Corp.Mooney Aircraft CorporationMooney Airplane Co IncMooney Airplane Company, Inc.Mooney International CorpMooney, DanMooreMoore BellMoore Byron JMoore DavidMoore Edward RMoore GlennMoore Joseph OMoore SammieMoore Thomas OMoore-VanMoranMorane-SaulnierMoravanMoreheadMorelliMorganMorgan James EMorgan T. MeltonMorgan, Marvin R.Moriarty MarvinMorkMorleyMormile Francis WMorphewMorrisMorris B. StephensMorris GeorgeMorris Thomas LeeMorriseyMorrisonMorrison JosephMorrison Marvin E JrMorrison Rocky VMorrison, Marvin E.Morrison-KeitelMorrowMorseMorse Frank LMorse, Frank L.MortensenMortonMorton S. DismukeMoselerMoseley/ScorpionMoser GeorgMoses Tim CMosherMosier Robert SMosley High SchoolMosley HsMosquitoMoss Timothy CMossman Michael DMotley Gary WMotley VansMotorized GlidersMottierMoulton Howard WellsMoyesMoyes B/Bailey BMoyes BaileyMoynahanMoynihan Richard DMrazekMrotekMudge RayMudryMuellerMueller Michael WalterMuffettMulec Frank AMulhollandMulholland Robert AMulliganMullinaxMulloy CharlesMummMunsonMunson Roger JMurawskiMurchMurdockMurdock/Gates/FieldMurpheyMurphyMurphy AircraftMurphy Aircraft Mfg, Ltd.Murphy-CharlesMurrayMurray Blair LMurray Frank HMurray R. GardnerMurray Richard FMurrayairMurrin Frederick LMuseMusickMusick/TerratornMussoMustangMustariMuxlowMx Aircraft LlcMxr TechnologiesMxr Technologies IncMyersMyers Donald EMyron OlesonN126C LlcNaNaaman HarenNaboleNadig Paul KNagelNakajimaNalisNallNanchangNanchang ChinaNapperNappi Tito CNarrin-WhittmanNarzinskiNasa Ames Research CenterNasdallaNash Cassutt RacerNational BalloonNational BallooningNational Ballooning LtdNationsNauerNaval Aircraft FactoryNavickasNavionNavyNbb IncNealNeal AndersonNebertNeedhamNeefjesNeely B DNeffNeivaNeland Richard LNelsen Lynn HNelsen-DavidNelsonNelson Dan HNelson Larry LNelson MilesNelson Steven PaulNelson SydneyNelson Sydney/Nelson DiannNelson/NelsonNephew Alan HNerstrom-TailwindNesmithNetzNeumann-EverettNewNew GlasairNew Kolb Aircraft CoNew Kolb Aircraft Co LlcNew PiperNew Piper Aircraft IncNew Piper Aircraft, Inc.New StandardNewbergNewboldNewcomerNewellNewell ThomasNewgardNewgent, BarryNewkirk Thomas RayNewmann Edward WNeyman-PietenpolNicelyNicholsNichols Rans, Inc.NicholsonNicholson David FNickelNickelson MartinNicksNicolas BeaselyNicolosiNicosonNiedzielskiNielsen Martin MNiemannNihonNiquetteNivaNixNixonNo American/Rogers B LNoakes B JNobleNoeNokes MatthewNolanNolenNoles Vance LNolinNolleyNoonanNoorduynNoorduyn AviationNorcuttNordNord (Sncan)Nord AviationNordquist Richard ANormanNorman NegusNorrisNorth AmericanNorth American Aviation Div.North American RockwellNorth American Rockwell Corp.North American-Aero ClassicsNorth American-BareneNorth American-KenneyNorth American-MaslonNorth American-MedoreNorth American/Aero ClassicsNorth American/SchwammNorth American/Victoria Mnt LtNorth WingNorth Wing DesignNorth Wing Uum IncNorth Wing Uum Inc.NorthamNorthland Aviation LlcNorthropNorthwingNorthwing DesignNortonNorton Claude CNorton/CloerenNotemanNtbkNunleyNunnNusbaumNuse GeorgeNyeO LoughlinO'ConnellO'ConnorO'DayO'DellO'Dell, Herbert L.O'DonnellO'Hara BobO'NeilOakesOarOasObryonOconnellOconnor Paul AOden Weldon PatOehlingOestreichOffchiss Edward ROffordOfriaOgden Aubrey DOgg Richard AOhlemeier/StrattonOhlgrenOhlgren Brent EOldfieldOliverOliver A BruceOliver JosephOliver Lawrence ROlmsted Charles AOlree RobertOlsenOlsen-GordonOlsonOlson Kenneth H TOlson Perry DOmacOmfOmlin Robert GOneilOntario Avia. Hist. Soc.Oo-CulleyOostdikOppermanOpus Motorsports LlcOregon HelicoptersOrlando Heli Air Inc.OrlicanOrlican S R OOrrOrtiz G/Saint JOrtmayer/ParsonOsborneOspreyOsprey 2Ostertag Walter GOtero-PittsOtisOtis G. LyonsOttOtterbackOtterback Nicholas JOuzts RodneyOverossOvertonOwenOwen Kingsley BOwen Robert ROwensOwens/RichburgOwens/SmythP Z L -Warszawa-CnpslP&M AviationP&M Aviation LtdP&M Aviation Ltd.P. D. ChambersPacPacePachecoPacific Aerospace CorpPacific Aerospace Corp LtdPacific Aerospace LtdPacific Aviation CompositesPackard/SquirePackwoodPadeltPaganPagePage Joseph EPage Russell LPahnke Vernon APaiementPaigePaintonPalenPalermoPalmerPalmer/WilgusPalulis JohnPanaplanePankPanzlPapa 51 Ltd., Co.Paquin Michael APara-SailParachute IcarusParadise Aircraft Usa LlcParadise Usa LlcParkParkerParker WarrenParkmanParksParks J L/Dreffin DParks Jerry RParks Richard AParkwood Enterprises, IncParlette Robert LParriginParrishParrish, PaulParsonParsonsPartenaviaPartenavia S.P.A.Partenavia SpaPascucciPasporello, J.F.Passadori NormanPassonnoPatalivoPatch Dan FPatePatinPatrick F. BowersPatrick HenryPatton PittsPaulPaul B. JohnsonPaul E. ConnerPaul Gaywood EPaul M. F. WalkerPaul PajakPaul R SeiptPaul S. KerrPaulbickePaulickPaulistinha  56-C1PavelPavel VagnerPavligaPaxhiaPaxtonPaynePayne FosterPayne Steven RPayne/FosterPazmanyPdps Pzl-BielskoPearsonPearson Jon MPeayPecchioPeckPeck Norman OPedersen Bjarne MartinPedersonPeebles/Lancair 360PeecherPeet CharlesPegasusPegasus AviationPekola James WPeltPenell Mark APennington-Eaa BiplanePensingerPenskaPepperd Greg JPereiraPeresPereyraPerformerPergersonPerkinsPerlickPerner/PittsPerrucci Randall JPersonPerth AmboyPeryera ArnetPestesPeter A LandPeter A. GeiserPeter A. YargerPeter ClarkPeter W StevensPetersPetersonPeterson Allen LPeterson LancairPeterson-Feder-SplinterPetraccaPetrikPetrus David WaynePetsche KitfoxPettigrew, RichardPetzPezetelPezoldPf Cub Flyers LlcPfeiflerPflugradtPfouts Alfred LPhaneufPhantomPhantom AeronauticsPhantom Aircraft CoPhantom Sport AirplanePhelpsPhilip D AndersonPhillip B RollsPhillipsPhillips Ralph WPhillips William LPhoenix AirPhoenix Air SroPiaggioPiaggio Aero Industries S.P.A.Piaggio Aero Industries SpaPiaggio IndustriePiasecki Acft. Corp.Piasecki/PikePicard Roy JPiccardPickelPielPiel EmeraudePiercePierce, HenryPiersonPietenpalPietenpolPietenpol-GregaPietersePietonpol-ImriePietschPiggottPiggott John HPikPilatusPilatus AircraftPilatus Aircraft LtdPilatus Britten-NormanPilgrimPilgrim Samuel W JrPincincePinickPinkhamPinkston Randy TPioneerPiontkowskiPiotrowskiPiperPiper / LaudemanPiper AerostarPiper AircraftPiper Aircraft CorporationPiper Aircraft IncPiper Aircraft, Inc.Piper Cub CraftersPiper PawneePiper-AerostarPiper-HarrisPiper/Cub CraftersPiper/StevensPiper/Wally'S Flyers IncPipistrelPipistrel D O OPipistrel Doo AjdovscinaPipistrel Italia S R LPipistrel Italia SrlPippertPitcairnPitcherPitenpol AircamperPitroloPittman Eddie GPittsPitts AerobaticsPitts SpecialPitts Spl.PlantePlavcanPlaymatePlocherPloof Progressive Aerodyne'SPlummerPobereznyPoe G L/Poe S YPoehlsPohlPohlman/PohlmanPohoskiPokorney SmithPolarisPolaris MotorsPolcynPolingPolitPollackPollard & HuntleyPolliwagenPolliwagen Inc.PolsgrovePolstraPondPongracz John MPoolPoole Robert C JrPoor Boys Toys IncPopehn Arthur J.PopelkaPoppenhagenPoratPorbeck John MPorrata Luis GPorterPorter GlenPorter James GrantPorterfieldPortmanPoserPoskusPostPotez-Air FougaPottsPoulin L/Cullen DPowellPowerchutePowerchute LlcPowersPowrachutePowrachute CorpPowrachute Corp.Powrachute LlcPphu EkolotPrairie FlyersPraker ThorpPrattPratt-ReadPravecek LawrencePreceptor AircraftPrecision Helicopters LlcPreecePreissPreiss VansPrellPrendergastPrendergast John/VansPrescot E. WilkiePrescott AeronauticalPresleyPrestPrevattPricePrichard KevinPridmorePrillPringlePrizioPro StarPro-Built AviationProbstProgress Aero R&DProgressive AerodyneProgressive Aerodyne IncProgressive Aerodyne Inc.ProspectorProsserProutPrudhommePrue Irving OwenPrue StandardPruss Richard SPteradactylPterodactylPterodactyl/LambertPughPuhlPulsar Aircraft Corp.PulsePurdyPurtee Kevin MPurvisPurvis/ThorpePushkarPyka IncPyramidPzlPzl BielskoPzl MielecPzl OkeciePzl SwidnikPzl Warszawa-OkeciePzl Warzawa-CnpslPzl Warzawa-OkeciePzl-BielskoPzl-MielecPzl-OkeciePzl-SwidnikQ-BerryQacQuad CityQuad City AircraftQuad City Aircraft CorpQuad City UltralightQuad City Ultralight Acft CorpQuad City Ultralight AircraftQuad City Ultralight CorpQuad City Ultralight, LlcQuad City UltralightsQuadcityQuallineQuarnoccioQuartz Mountain AerospaceQuartz Mountain Aerospace IncQuasar Acft Co LlcQuestQuest Aircraft CompanyQuest Aircraft Company LlcQuest Ii Walsh Ltd.QuestairQuestair IncQuestair, Inc.QuestaireQuick SilverQuickieQuickie AircraftQuickie-MyersQuicksilverQuicksilver AircraftQuicksilver Aircraft CoQuicksilver Aircraft NortheastQuicksilver Eipper Acft IncQuicksilver Enterprises IncQuicksilver IiQuicksilver ManufacturingQuicksilver Manufacturing IncQuicksilver MfgQuiksilverQuinnQuinn AviationQuinn Aviation Inc.QuistQuitzau, CarlR&K SpecialR. I. WoodsR. J. McnaulR. James ThorneR. W. SwitzerR.D. Bell/PietenpolR.M. BishopR.O. And D.O HewittR.P. WilliamsR.W. ShermanRaddatz SteveRaderRadfordRadford Darrel FRadley VincentRafRagleRagonese TimRainbow Aircraft (Pty) LtdRainbow Aircraft Pty LtdRainbow Sky ReachRainbow Sky Reach (Pty) LtdRaineyRajhamsaRalleyRallisonRally RotecRalphRalph C KimballRalph LegateRalph SandersRalph TaylorRambowRamesbothamRammel Thomas WRamsayRamseyRamseyerRandRand EngineeringRand Kr1Rand RobinsonRand Robinson EngineeringRand/RobinsonRandal C ReimerRandall AmandaRandall Marvin LRandall W GrandpreRandolph FlaggRandolph R.ClarkRandy StanleyRandy TredoRandy Wayne MaloneyRankinRansRans AircraftRans CompanyRans Designs IncRans Employee Flying ClubRans IncRans Inc.Rans S-12Rans S-12 AiraileRans, Inc.Rans/HineRansomeRappRardin William IRare AircraftRarschRaserRashRasmussenRatcliffe John ARatheon Aircraft CompanyRatliffRatte JamesRauchRaudenbush ErnieRaumRavenRaven Aircraft CorpprationRaven IndustriesRaven Industries IncRaviraj MohilRawdonRawdon Bros. AircraftRay Aerial SprayingRay E RobertsRay Earl DRay EdmistonnRayanRaymon A. KingRaymondRaymond BristowRaymond C. VoegeleRaymond Z BrownRayneRaytheonRaytheon Aircraft CompanyRaytheon CoRaytheon CompanyRaytheon Corporate JetsRaytheon Corporate Jets IncRaz-MutReadReamerRearwinReayRebholzRedd TomRedding DavidRederRedgateRedsellReedReed MikeReed RoderickReed William AReed-MadsenReevesReflingReher, Kent O.RehlerRehnReichReichelReicherReichertReidReifReifferReileyReillyReilly Charles WReimsReims AviationReims Aviation CessnaReims Aviation S.A.Reims Aviation SaReims-CessnaReimusReinboldt Richard AReindlReinhartReinholdReisingerReitzRemosRemos Acft Gmbh FlugzeugbauRemos Aircraft GmbhRemos Aircraft Gmbh FlugzeugbaRemote SensingRempeRenderRennicke Midget MustaRenningerRenquistReplicaRepliea 78 RalReplogleRepublicResneyRettbergReupert MarkRevellReviereRevolutionRevolution HelicopterRewey William MReyReynoldsRgj Aviation LlcRheaRhinehartRhoadesRhoadsRhoads, Larry ERicardo LopezRiceRice Leo BRichRich Harry ARichardRichard A. BrownRichard A. DenisarRichard A. WhiteRichard B CarpenterRichard C. BallowRichard CheneyRichard E. RowlandRichard F. SheldonRichard FuistRichard LacourseRichard N. BurnsRichard O. MiddlenRichard RankRichard RileyRichard S CarpenterRichard S DuncanRichard S. AndersonRichard ShafferRichard SilvaRichard YoungRichardsRichards HeavyliftRichards Heavylift Helo IncRichards LancairRichardsonRichardson Andrew PRichesRichmondRichmond Jim RRick CampbellRiddellRiddell (Lancair)RiderRider-CharlesRidge Lowell HRidgwayRiekkenenRieslandRietmanRiffel Jerris LRiggsRiggs Kenneth WRileyRiley, DonaldRingsdorf-McconnellRisher Jimmy ERistineRittalRittal Alfred TimothyRitterRitter John IRitzRivers Lindsey LeeRivers William JRjb AviationRoach NeilRobbinsRobert A MillerRobert B. BostonRobert BresslerRobert C. CampbellRobert C. HansonRobert D Carr JrRobert D. CampbellRobert D. WaldronRobert D. WoodRobert E BoundsRobert E. BeanRobert EckleyRobert EggebrechtRobert Eldon IdlerRobert FittsRobert FrisbeyRobert GoldingRobert GriffithsRobert H. LowRobert HamblinRobert J ReimboldRobert J. GoodyearRobert J. JacksonRobert J. LabonteRobert JuddRobert L CoonsRobert L. KennedyRobert L. RiceRobert M. JonesRobert McdonnellRobert MilesRobert N. GilmoreRobert O. ElyRobert R. CallahanRobert R. ReilandRobert SnyderRobert ThibodeauRobert TremblyRobert Van ScoyocRobert W. FerrellRobert WoodRoberto P. GarciaRobertsRoberts Alan WRoberts Bruce WRobertsonRobertson James FRobidoux LionelRobinRobin, Avions PierreRobinetteRobinsonRobinson HelicopterRobinson Helicopter CoRobinson Helicopter Co IncRobinson Helicopter Co.Robinson Helicopter CompanyRobinson HelicoptersRobinson Michael ERobinson Stewart JRoblRocci MartignoniRochetteRocket FlyersRockwellRockwell ComdrRockwell CommanderRockwell Int'TRockwell InternationalRockwell IntlRockwell Intl.Rocky MountainRoddieRodgersRodgers/GaustRoe CleoRoe-WayneRoe/PietenpolRoebuckRoetman Ryland K JrRoger A DalkeRoger A HansenRoger G WhiteRoger M AllenRoger MannRoger NelsonRoger W. StigenRoger WarnellRogersRogers George TRogers Homer/Rogers SheilaRogers Kenneth JRogers-GibsonRogerson Hiller Corp.RoggioRohdecap/ThorpRoisum TeamRolandoRolladen SchneiderRolladen Schneider OhgRolladen-SchneiderRolladen-Schneider GmbhRolladen-Schneider OhgRollinsRollins-BowersRomanRomeoRomeroRomigRomingerRon BurleighRonald C. RenderRonald D. CothernRonald D. MurrayRonald HoukRonald J BenderRonald LeveeRonald R RussellRonald V WhiteRonneberg/MurphyRonnie BakerRonsransRoofRootRoot, Arthur T.Roscher FrederickRoseRose Herbert DRose RhinehartRose WesleyRose-RhinehartRosenRosenbargerRosenbaumRosenmayerRosenvallRosnerRossRoss Alfred K/Oneill TerrenceRoss H/Herriott MRoss JonathanRoss/StonecipherRossi PittsRotaryRotary Air Force MarketingRotecRotec Engineering, Inc.Rotec/BotsfordRotherwickRotherwick HrRothrockRotor Flight DynamicsRotor Flight Dynamics, Inc.Rotorcraft Developement Corp.Rotorcraft Development CorpRotorcraft Development CorporaRotordyneRotorsport UkRotorsport Uk LtdRotorwayRotorway Aircraft, Inc.Rotorway ExecutiveRotoway InternationalRotzRouseRovey Jason HRoweRowe Dennis ARowlandRowleyRoyRoy ReyRoyseRoyse DavidRoyse Ralph LRozendaalRudberg Todd WRudder Dwight KRudolphRudolph Ralph MonroeRudolph ZellerRudyRuehleRuiz ERumble/Williams/BoomhowerRuminskiRupeRuppRupperchtRuschkeRushtonRuskRussellRussell E ObergRussell HeynRussell PostRussell St. ArnoldRussmanRussom Roy GRutanRutan Aircraft FactoryRutgersRutherfordRutledgeRutten Phil JRutterRutter Herbert GRyanRyan AeronauticalRyan AeronauticsRyan John SteffeyRyan W GrossRyan, Robert R.Ryan-NavionRyggRyskampRyskamp Bruce AS C Aerostar S .A.S C Aerostar S AS D MartinS M & T AircraftS M A NS. Fl. Ultralights, Inc.S. Piccolotto/Dave MorssS.A. CentrairS.A.N.S.C. Aerostar S.A.S.I. BriggsS.N.I.A.SS.N.I.A.S.S.O.C.A.T.A.S.Z.D.Sa300SaabSaab-FairchildSaab-ScaniaSaab-Scania AbSaab-Scania Ab (Saab)SaabyeSabelinoSaber   TrikeSaberwingSabianSabreSabre TrikeSabreliner Corp.SabrenaSaccio Thomas ASachse StephanSackettSackmanSacrey W MichaelSadlerSadler TerrySadler Terry ASafariSagerserSaint LouisSaladinoSaldairiagaSalerno Kenneth G JrSalibaSalmonSaloffSam HaleSam R PeacheySam R. CrowellSamsonSamual G. DasilvaSamuel R. HoskinsSan Joaquin HelicoptersSanclementeSandall Evan RSandellSandersSanders Ben G IiiSandersonSanderson Herbert HSandridgeSandsSands Thomas ESanfordSanta Fe Aircraft LlcSantanaSantschi Chris ASapp Larry ESargentSargent JonathanSasser Allen LSaterSatterleeSattlerSauderSauerSaumureSaundersSavageSavage Air LlcSaville HummerSawby ScottSawyerSayer, Trevor A.Sc Aerostar SaSc Iar Sa BrasovScaled CompositesScanScandinavian Aero IndustryScarboroSchabacker Konrad JSchaeferSchaferSchafer Rick WSchafferSchaffer Gary WSchaffer-ProvencherSchaknowskiScharnhorstScharschmidtSchauer William A JrScheel Stanley KScheibeScheibe FlugzeugbauScheicherScheineman-Van BurenSchellSchempp HirthSchempp Hirth Flugzeugbau GmbhSchempp-HirthSchempp-Hirth FlugzeugbauSchempp-Hirth Flugzeugbau GmbhSchempp-Hirth K GSchempp-Hirth K.G.SchendlSchenfieldScheperleSchererSchewizerSchicoraSchiffererSchilleciSchippersSchlagenhaufSchlappiSchleiSchleicherSchleicher AlexanderSchleicher Alexander GmbhSchleicher Alexander Gmbh & CoSchlichtmanSchlitterSchlitter Randy JSchmahlSchmanskiSchmidtSchmidt Albert DSchmidt Donald LSchmidt Randall MSchmittSchmitt (Rotorway)SchneiderSchneider John WSchneider K/Cook CSchneider Richard JSchneider, Edmund, Pty.Schneider/BrashearSchneidhorstSchnitzSchoepflinSchooleySchoonover John DSchosanski John HSchrackSchrader, EdwardSchrammSchrederSchreiber-StittsSchrieber Robert LSchroder DavidSchroederSchubertSchuchartSchuetz MiniplaneSchulerSchulkeSchulmanSchultzSchultz/BowersSchulzeSchumacherSchumannSchuning/TeratornSchupp Edward WSchutteSchwartzSchwarzSchwarzlerSchweitzerSchweizerSchweizer 300CbiSchweizer Aircraft CorpSchweizer Aircraft Corp.Schweizer SgsSchweizer(Hughes)Schweizer(Hughes)Aircraft CorpSchweizer, N36289Scoda Aeronautica LtdaScoda AeronauticalScorpionScottScott A. George Jr.Scott MillsScott TaylorScott Terry GScott ValdezScottishScottish AviationScotts-Bell 47 IncScotts-Bell 47, Inc.ScovilSea & Air SalesSea & Sky IncSea & Sky Inc Dba Krucker AcftSeabase (Avid)Seabourn Scott RSeace David ASealesSeamax AircraftSeattle AerotechSebly Amateur BuiltSederbergSeela Gerald LSeeleSegarra Lucas JrSego ToolSeguinSeguineSeherSeibert Robert MSelby DeanSellorsSelstadSemcoSempleSenft/Anderson/SalmonSenior Aero SportSenior Aerosport/PaetSeno Louis C SrSergent Great LakesSesinSessi Midget MustangSevdy Pitts SpecialSewell William KSeymourSeymour Robert MShaferShafferShaffer DonaldShaffer William CShaffstallShamgaughShankShanklinShanks V RogerShanks/BeckerShannonShannon James A JrShannon KevinShannon WilliamShapleyShapowalSharkSharpSharp Ralph RSharpe William LShaubShawShaw Douglas WayneSheaSheahen Dane EShearSheatsSheelSheelySheetsSheldrick John HShell JohnShelton Joseph GShempp-HirthShepardShepard Jimmy D JrShepherdSheppardShermanSherman Craig WSherman HolieSherman John, HSherman PowellShewmakerShilt Jerry CShimerShindlerShindler-SmileyShinerShirey David AShirlan DickeyShirley CarlShiverShniderman Ervin StanleyShoafShoemakerShoemaker James BShookShorethoseShorey Timothy AShortShort BrosShort Bros.Short Bros. & HarlandShort BrothersShort Brothers & Harland Ltd.Short Brothers PlcShoup Ronald RShowalterShpakow ThomasShueyShultz Jeffrey DShuttSiai MarchettiSiai-MarchettiSibilaSibleySichenederSid ChampionSidler MikeSidneySiebelSieber Paul PSiebertSiefertSiegelSiegel GeraldSiemensSiemer James HSierraSigersSiggi'S Airplane WorksSigmon Harvey ESikesSikorskySikorsky Aircraft CorpSikorsky Aircraft CorporationSikorsky/OrlandoSilenceSiler Ronald ESilfvastSill/ThomasSillimanSilvaSilvaggioSilvaireSilveira Jonathan ASilverSilverlight AviationSilverlight Aviation LlcSilviusSimcoxSimmonsSimmons Gary FSimmons NoelSimmons William ESimoneauSimonsSimpkinsSimpsonSims - BassetSinclairSingerSino-SwearingenSirocco Flying ClubSiskSix ChuterSix Chuter IncSix Chuter West LlcSix Chuter, IncSix ChutterSix Chutter, Inc.Six-ChuterSix/HuberSjostrandSkaggs Ronnie LynnSkeeterSkeltonSkiles Kenneth CSkillingSkillmanSkistmas GeorgeSkov-PapworthSkurichSkwira Matthew JSky International, Inc.Sky StarSkyboltSkygearSkykitsSkykits CorpSkykits CorporationSkykits Usa CorpSkypowerSkyraiderSkyrangerSkyrunnerSkystarSkystar Aircraft CorpSkytekSkytrails LsaSlade H. HolmesSlagleSlaterSlaughter MikeSlaybaughSlepcevSlingsbySlingsby Aviation PlcSlip StreamSlipstreamSloanSloan Roger DSlySmartSmeestersSmelkoSmelserSmiley James ESmithSmith & R. MathewsSmith AerostarSmith Albert FSmith AllenSmith Arthur FoxSmith Bret BSmith CapellaSmith Carter ASmith Dennis PSmith Douglas J.Smith Edward ISmith MiniplaneSmith Richard D JrSmith VilasSmith Wylie JaySmith, Ted AerostarSmith-PostonSmith/DavisSmithgall Pitts SpecialSmithwick/TreidelSmitrovichSmitrvich StardusterSmuzSmysor KevinSmythSmyth SidewinderSmythe Donald FSnellingSniderSnobirdSnodgrassSnowSnowbirdSnydedSnyderSnyder Todd WSocataSocata-Groupe AerospatialeSoftex Invest LlcSokoSolemSollarsSolo WingsSomerton David JSommerauerSoneraiSoneralSoneriaSonexSonex / John D. MccarterSonex AircraftSonex LimitedSons MustangSontonastasoSopwithSorensenSorensen DannySorensen Danny SSorensonSorrelSorrellSorrell AircraftSours/Midget MustangSouth Mississippi Light AircraSoutherlandSouthernSouthern AeroSouthern Airmotive Corp SacSouthern Airmotive Corp.Southern Powered ParachuteSouthern Powered ParachutesSouthwest Florida AviationSouthworthSowardSpackmanSpagnolettiSpaneSpangenbergSpani Wayne MSpannagelSpark/AcrodusterSparkeSparksSparks Ralph ASparks-SchrederSparrow HawkSparrowhawkSpartanSpauldingSpaulding ErrolSpaur CharlesSpearmanSpearsSpectrumSpectrum Aeronautical LlcSpegeleSpencerSperlingSperling Richard GSpeyerSpezioSpezio SportSpiker RotorwaySpink Robert MSpirangamSpitfireSpittlerSport FlightSport Flight InternationalSport Plane Dynamics LlcSportavia PutzerSportavia-PutzerSportflight International LlcSportine AviacijaSportsmanSpragueSpreuerSpringerSproulSproul Keith ASpurgeonSqueglia R/Wheeler WSquierSt ClairSt Clair David LSt. ClaireStaddenStaffordStafford Wayne HStahl-AmeterStainbrookStallingsStampeStampe Et RenardStampe RenardStamperStamstaStan G. HallamStanekStanfordStangerStanleyStanley Arthur FreemanStanley B EStanley Ernie SigurdStanley, Davey LStantonStar DusterStar Duster TooStar-LiteStar-Lite Engineering LtdStarckStardusterStarduster IiStarduster TooStarfireStarflightStark RandStarkeStarmanStarnesStarrStart & FlugStatzStaudacherStaudacher Aircraft IncStaudacher Aircraft, Inc.Staudacher HydroplanesStaudacher JonStaudaucherStearmanStearman AircraftStearnsSteel/VansSteeleSteele  John JSteele Ralph BruceSteele Samuel DSteenSteen Aero LabSteen SkyboltSteensSteevesSteinStein SkyboltSteinbaumSteinkeSteinman Mark ESteinorthStellyStembridgeStemmeStemme Gmbh & CoStephenStephen F. GravesStephen J HoffmanStephen L KruerStephensStephens William EStephensonStepplingSternSternerSternsStetson Norman BSteve HillSteven A. JonesSteven Bornstein/Thomas WhittaSteven G GoonenSteven HardieSteven KurtisSteven R McneeseSteven R. JacksonSteven SoperSteven UlrichSteven W. JonesStevensStevens R P/Mccright D WStevensonStewardSteward RockyStewartStewart 51 Inc.Stewart Mw/Stewart JdStick & Rag Flying ClubStiegelmeyer John RStilesStill Michael JStinsonStiritzStirlingStitsStits AircraftStits Flut-R-BugStits PlayboyStits-ItrichStittsStockStoddard HamiltonStoddard-HamiltonStoecklerStokesStolStol AircraftStol Aircraft CorpStol LlcStolpStolp StardusterStolp Starduster Corp.Stolp-AdamsStolp-Starduster TooStoltStolt-AdamsStolteStoltzfusStoneStone James RStoopinStorchStorch Aviation Australia PtyStoreyStormStorm FuryStory Charles BradStoutStout Garry VStout GordonStracener ExperimentalStrategie Ballloon Co.StrattonStrawStreifthauStriblingStribling James LStriplinStriplin Aircraft CorporationStrisselStrongStropki PaulStrotherStroudStroup RobertStrout FrankStuartStuart J. CarterStuart/WagnerStubbe-KitfoxStublerStucker GaryStucker Virgil AStucky Steven DStugartStuhlmiller RobertStulpStumpStump BradleyStump Great LakesSturgesStutesman Charles LeeStysSud AviationSud Aviation/EurocopterSui Ry, Laurinen Janne, KääriäSukaneSukhoiSullivanSuminskiSuminski Walter MSummerfeldtSummersSummitSunburstSundt Daniel NSungkwon KimSunrise UltralightSuper 18 LlcSuperiorSupermarineSupinski Mark RSurlineSutphinSutphin John ESuttonSutton TailwindSutton William JSvenssonSwainSwalley Mark HSwann Lynn JSwanningsonSwansonSwanson/BensenSwantSwartz GeneSwearingenSwearingen T R/Masters WSwedenerSweeneySweeney Timothy JSweet Wayne ASweet-HouseSwensenSwertfegerSwezey T/Molnar DSwichSwiezySwiftSwift Museum Foundation, Inc.SwingSwing Brian SSymphony Aircraft Ind IncSyracuseSyracuse V F/Syracuse C DSyreiniSzdSzybowcowy Zaklad DoT BirdT Bird Golden Circle Air IncT&T Aviation IncT.R. BristolT51 Inc.TaberTacchi Torello FTackaburyTaft, Malcolm J SrTail Feather LlcTailwindTakemotoTalagoTalbottTallent, Chris M.Talmadge ScottTamarack Helicopters IncTandemTankeTankerTankersleyTannerTapaszyTaplinTappen ChrisTarantolaTarantola LeonardTateTatelman-PittsTatkovsky James GTaylorTaylor Air CommandTaylor LonsdaleTaylor SmithTaylor TitchTaylorcraftTaylorcraft AviationTaylorcraft Aviation CorpTaylorcraft Aviation Corp.Taylorcraft CorpTaylorcraft CorporationTbm, SaTeagueTealTeal Harry HTeamTeam IncTeam RocketTeam Rocket F-1Techno AviaTecnamTed SmithTedfordTemanTemcoTemco LuscombeTemple BenjaminTennessee Engineering & ManfTennyson HowardTeratonTeratornTeratorn Acft Inc.Teratorn Aircraft, Inc.TeratronTerminellaTerningTerpstraTerrell CaragolTerrence A. SackTerrioTerryTerry E. MorrisTerry F KingTerry G. OlsonTerry TevisTerry W. ThayerTeschendorfTesmer GlassairTesoriTessierTestTetrault RonadTeunisTew William PTexas Air Ventures IncTexas HelicopterTexas Helicopter CorpTexas Helicopter Corp.Texas Helicopter CorporationTextron AviationTextron Aviation IncThackerThalmanTharp S RichardThatcherThe Boeing CompanyThe Old Hen CrowTheisTheordore JankowskiTherrien RogerThibault Michael LThiessenThockerThomasThomas A SiminskiThomas B McgrathThomas C SikesThomas C. PiperThomas Craig EThomas D. ParkesThomas David WThomas E HudzinskiThomas E. GeorgesThomas G ParkhurstThomas J HankampThomas J MurrayThomas J. DorseyThomas LeeThomas LongThomas R WadeThomas ScottThomas StephenThomas Wayne LThomas WildThompsonThompson Bruce DThompson DavidThompson HowardThompson Tommy WThompson William AThomsenThomsen, HorstThomsonThornhillThornleyThorntonThorpThorp Aero, Inc.ThorpeThrockmorton Matthew EThrushThrush Aircraft IncThrush Aircraft Inc.Thrush Aircraft LlcThrush Aircraft, Inc.Thunder & ColtThunder & Colt Airborne AmerThunder & Colt LtdThunder And ColtThunder Balloons, Ltd.Thunder MustangThunderbird AviationThurmondThurstonTibertTichacekTidd WesleyTierraTierra IiTifftTifft-VTiger Aircraft LlcTilbertTillmanTimmTimothy C WilliamsTimothy J BrownTimothy J CowperTimothy WingateTingleTinsmanTitanTitan Aerospace Holdings IncTitan AircraftTjerrildTl UltralightTl Ultralight SroTocholkeToddTodd FoleyTodd GoudeauToerner BobToevsToland S/Thornburgh JTolbert Robert RTolleTolsma Tony GTom KilgoreTomanToman Jack JrTomashTomblingson-LeathersTomcatTomeiTomishinTomisin Thomas JTomlinsonTomlinson Tracy LTompkinsTomschinTony DubeanskyToomeyTop DogTopdog UltralightsTornoToussaint/Quad CityTownerTownsendTownsend, H.L.Townsend-SnyderTownsonTracyTragerTrammelTrammellTravel AirTravis C. ElmoreTraxler John NTreidel Mark/R F DTrellaTrendakTrentiTriad International TechnologyTriceTrick TrikesTrickleTrikeTrikesTrinidadTriple S Aero IncTrohoskiTrom WayneTromsness Enterprises IncTroutmanTroyTroy A. WoodlandTroy BellahTroyerTruckee MeadowsTrudelTrue Flight Holdings LlcTruitt PeterTrustyTruthanTschidaTtx Air LlcTubbTubbsTubbs S/PerformanceTubbs S/Performance Air IncTubervilleTuckerTucker Mitchel CTucker Timothy ETucker-HurniTuk GregoryTukanTullisTumbling Goose LlcTundermann VenneTupolevTupta-Smith MiniplaneTurbine Cubs Of Wyoming LlcTurbo ThrushTurck G L/Duflo J TTurcotte Jr Robert LTurkanTurnbloomTurnerTurpenTuthTuttleTuttle Bruce CTuttle CassuttTwenteTwenty Second Street LlcTwibellTwibell Richard DaleTwin Commander Acft. Corp.TwitchellTyler IvesU-Fly-ItUetz, WalterUfmUhley-MasonUlfeldtUllmanUllrichUlrich ChristenUltimateUltra Flight LlcUltra MagicUltraclassicsUltraflightUltralightUltralight AmericaUltralight EngineeringUltralight FlightUltralight Flight, Inc.Ultralight SoaringUltralight UfmUltralite SroUltramagicUltramagic S AUltramagic SaUltravia Aero Int', Inc.Ultravia Aero Int'LUnanderUnderland/Grothe/FinstromUnderwoodUngerechtUnited Consultant Corp.United ConsultantsUnivairUnivair Aircraft CorporationUnivarUniversalUniversal Aircraft IndustriesUniversal GlobeUniversal Moulded Pdts.Universal StinsonUniversity Of AlabamaUniversity Of KansasUnknownUnregisteredUnreinUpchurchUprightUptonUrban AirUrban Air SroUrbanczyk MiroslawUs Light Aircraft CorpUs/LtaUskoskiUtterbackUtvaUvifyVaceyVadenVailValentinValentin Gmb HValenzaValldejuli John AValley Adventurers, Inc.Valloric Carl StephenVampireVanVan Arsdell/Brent,M.Van B AnthonyVan Dusen John MVan DykeVan GrouwVan HeeswykVan Hoomissen Gerald JVan HornVan Kalker John EVan Lehn Richard GlennVan WormerVan ZwollVan'S AircraftVan'S Aircraft, IncVan'S Aircraft, Inc.Van'S/FishVanattaVanbenthuysen JohnVance RenegadeVance-HammVandenbos/ThorpVandenburgVanderarkVanderbeekVanderhoof SteveVanekVanek JimVangilderVangordenVangrunsvenVanhoose/ScorpioVansVans AircraftVans Aircraft IncVans Aircraft, Inc.Vans-RupertVanwinkleVargaVarga Aircraft Corp.VariVariezeVarner David LVashon AircraftVaughanVaughan Gerald RVaughnVavra, Martin A.VeatchVeazieVectorVehafricVeithVeldhuizenVelline'SVelocityVelocity IncVeltmanVeltman, RobertVenables ZenithVenturaVenusVerbeekVere EzeVermeysVernonVernon D. PittsVernon L. CoxVersteegVertical Aviation TechnologiesVertical Concepts Inc.Vertical Unlimited LlcVestalVia IncVic TatelmanVicariVickersVickers SlingsbyVickers-SlingsbyVictor E. NigroVictor M CorderoVictor MarshVigneauViguie G/Viguie MVikingViking (Clarke)Viking Air LimitedVillarubiaVilleneuveVilline'SVining John KVink Robert DVioletVirgil D. HawksVirgil LarsonVirginia AviationVogelVogtVolaircraftVolinVolksplaneVollenweider R/Hurst R FVollmersVolmerVolmer AircraftVon BergVon Claparede ClemenVortecVoughtVulcanairVulteeVuncannonVuncannon RotorwayW. E. Simmons Max AirW. R. MathisW.H. HunnicuttW.S. Bowers, Jr.WacoWaco Classic AircraftWaco Classic Aircraft CorpWaco Classic Aircraft Corp.Wag AeroWag-A-Bond TravellerWag-AeroWag-Aero, Inc.WagaeroWaggonnerWagnerWahlWainscottWakelyWakewoodWalden A. CooperWaldronWalentineWalkerWalker Edgar EWalker J CWalker KennethWalker Louie HWalker PhilWallaceWaller Charles RWallingWalls Craig CWalsh Philip JWalstonWalter C SmytheWalter ChandlerWalter D. BurlesonWalter D. CourtneyWalter HudsonWalter J CollieWalter R. PenneyWalter S Johnson IiiWalter TachikiWalter W. BellWaltermireWaltersWaltman Theodore JWaltonWalton Daniel JWaltzWampachWampoleWar ReplicasWardWard Christopher BarryWard RcWare Jerry LWare TeenieWarfieldWarkentinWarner AerocraftWarner LewisWarner, David B.WarnkeWarrenWarren-ThomasWarren/Keleher/LarkWarringtonWarth Dennis JWarwickWasielakWaspairWaspair TomcatWasson LoehleWaszak Arthur BWatersWaters Peter TWaterwings, IncWatkinsWatkins/MonnettWatsonWatson David EWattierWattsWaxenfelterWayland John HWayne D. TeelWayne HooksWayne IsonWayne K. GilesWayne MathewsWayne MillerWayne O RobinsonWdlWeatherhead Peter LWeatherlyWeatherly Aviation Co IncWeatherly Aviation Company IncWeaverWeaver David AWeaver Stanley R/Robinson ScotWeaver, David AWebbWeberWeber-Mustang IiWeddingtonWeedhopperWeeksWehrlenWeinbergWeinzierlWeissWeiss DenisWeiss-HaynesWejebe JoseWelbornWelchWelch Floyd LWelch ThomasWellesWellsWells Elgin MWells John L JrWells TerryWells/RandWenteWermlingWernegaWernerWesleyWesselWestWest-HeckmanWestcottWesteWester/SteigerWesterhout/GagnierWestern InternationalWestern International Avia IncWestholmWestlandWestland HelicoptersWestonWeston JamesWeyertsWheatWheelerWheeler Acft. Co.Wheeler C / Wheeler KWheeler Technology, Inc.WhetzelWhighamWhistleWhiteWhite Lightning Aircraft Corp.WhiteheadWhithingtonWhitlockWhitmanWhittakerWhitten RobinsonWhittmanWhittman TailwindWhittridge Richard DWhittyWhitty, Philip J.WichawkWicksWicks Air Center LlcWidnerWiedemannWieltWigginsWightWight Albert AWilbur D. BatmanWilburnWild GooseWilde Daniel LWilde MickeyWilderoderWildmanWilesWileyWiley C WWilford J. TolmanWilhelmWilkinson Daniel VWilkinson Lorin LWillbirdWillertonWilleyWilli/BensenWilliam A. WaasWilliam AllenWilliam BovardWilliam C. KeilingWilliam D DurkeeWilliam D Telfair/Zia Z TelfaiWilliam D. WeeksWilliam E. FurrWilliam F. LairWilliam FreemanWilliam G. CloaningerWilliam J. KnowlesWilliam Jay KinneyWilliam John SchulzWilliam K. CrawfordWilliam L BellWilliam M OprendekWilliam M. BurgeWilliam Mc GlumphyWilliam P. BoudaWilliam P. CrowellWilliam SargentWilliam StevensWilliam T. HodgesWilliam WrightWilliamsWilliams BellWilliams Christopher TWilliams GlennWilliams HelicopterWilliams Helicopter CorpWilliams JohnWilliams Myron GWilliams YakovlevWilliams, Robert G.WilliamsonWilliamson/WilliamsonWillieWillie BennettWillingham, Dave L.WillisWillkins-WayneWilloughby Pete AWilsonWilson Michael AWilson QuicksilverWilson William MWim J HuismanWinchesterWindecker ResearchWinder Robert SWindlerWindwardWingWing AircraftWing Aircraft Co.Wing HaroldWing John RWingoWingren NormanWings An Things IncWingtip To Wingtip LlcWingtip To Wingtip, LlcWinnWinship Kent SWinston W WalkerWinter J.T/JohnsonWintersWipplerWirthWisconsin State PrisonWiseWishonWitlockWittmanWittman D R/Wittman D MWittman TailwindWittman, S.J.Witts & ChurchWitzelWizardWm. D. Butterill MustangWoehrleWogenstahl Wallace LWohaska JohnWohlersWohnoutka Steven MWolfWolfeWolseley Motors, Inc.WolterWonderWonder Michael SWondrasekWoodWood-OldfieldWood/ThorpeWoodleyWoodrow Larry WWoodrow S.A.Woodrow Stolp-AdamsWoodruff LancairWoodsWoods Rufus IiiWoodstockWoodward Harold LWoodyWoolley John AWoolseyWoolston Glenn EWootersWootton, JohnWorcester EverettWorgullWorld Aircraft CoWorld HelicoptersWorld Wide IndustriesWorldwide Aero CorpWorldwide AerosWorley DennisWormleyWornerWorner Balloon WorksWorthingtonWorthington Donald WayneWragg GeorgeWrayWrb Associates, Llc.Wren Ronnie DWrightWright B Flyer IncWright Bruce MWright Daniel JWright Redux AssociationWroblewskiWskWsk PzlWsk Pzl KrosnoWsk Pzl MielecWsk Pzl SwidnikWsk Pzl Warzawa-OkecieWsk Pzl-KrosnoWsk-MielecWsk-Pzl MeilecWsk-Pzl MielecWsk-Pzl MielicWsk-Pzl Warzawa-OkecieWsk-Pzl WarzawaokecieWsl PzlWychenWyder Robert GWymanX-Air LlcXtremeair GmbhYadonYakovlevYakovlev/ChinneryYakovlev/DayYamokoskiYamokoski WilliamYaple, Robert G.YarnellYaseckoYatesYates Mike EYates W/Lazar MYeager Inc.YoakleyYoderYonchakYorkYork Ronald JYost Edwin SYothmentYoukeyYoungYoung Dee CYoung John EYoung Robert HermanYoung-LoseyYoung-OwensYoungs William DYounkin J RYowellYuneecZ-Hi-MaxZach VansZachariusZankZappia Gabriel JZaverton ElmerZawadaZbacnickZdybelZeidlerZeidmanZeiglerZeilerZempZenairZenair LtdZenair ZodiacZengelZenithZenith Acft CoZenith Aircraft CoZhuhai Helicopter Co.ZidekZielkeZiermannZilzZimmermanZitoZivkoZivko AeronauticsZivko Aeronautics IncZivko Aeronautics Inc.ZlinZlin AviationZlin Aviation S.R.O.ZodiacZornZs Delta-Bielsko WroclawZubair S KhanZuber Thomas PZukowskiZwartZwicker Murray R\""
      ]
     },
     "execution_count": 517,
     "metadata": {},
     "output_type": "execute_result"
    }
   ],
   "source": [
    "Make_Model_grp['Make'].unique().sum()"
   ]
  },
  {
   "cell_type": "code",
   "execution_count": null,
   "id": "101008cf",
   "metadata": {},
   "outputs": [],
   "source": []
  }
 ],
 "metadata": {
  "kernelspec": {
   "display_name": "learn-env",
   "language": "python",
   "name": "python3"
  },
  "language_info": {
   "codemirror_mode": {
    "name": "ipython",
    "version": 3
   },
   "file_extension": ".py",
   "mimetype": "text/x-python",
   "name": "python",
   "nbconvert_exporter": "python",
   "pygments_lexer": "ipython3",
   "version": "3.8.5"
  }
 },
 "nbformat": 4,
 "nbformat_minor": 5
}
